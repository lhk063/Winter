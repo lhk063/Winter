{
 "metadata": {
  "language_info": {
   "codemirror_mode": {
    "name": "ipython",
    "version": 3
   },
   "file_extension": ".py",
   "mimetype": "text/x-python",
   "name": "python",
   "nbconvert_exporter": "python",
   "pygments_lexer": "ipython3",
   "version": "3.7.6-final"
  },
  "orig_nbformat": 2,
  "kernelspec": {
   "name": "python_defaultSpec_1599483142049",
   "display_name": "Python 3.7.6 64-bit ('base': conda)"
  }
 },
 "nbformat": 4,
 "nbformat_minor": 2,
 "cells": [
  {
   "cell_type": "code",
   "execution_count": 2,
   "metadata": {},
   "outputs": [],
   "source": [
    "import sys \n",
    "import pandas as pd\n",
    "import numpy as np"
   ]
  },
  {
   "cell_type": "code",
   "execution_count": 4,
   "metadata": {},
   "outputs": [],
   "source": [
    "mod = sys.modules[__name__]\n",
    "\n",
    "# 2007년부터 2020년까지의 매매기록을\n",
    "# sales_2007 ~ sales_2020 까지의 데이터프레임으로 각각 저장\n",
    "for i in range(2007, 2021):\n",
    "    filename = 'data/APT[SEOUL]매매/%d.csv' % i\n",
    "    setattr(mod, 'sales_{}'.format(i),\n",
    "            pd.read_csv(filename, encoding='cp949', header=15))\n",
    "\n",
    "real_estate = pd.concat([\n",
    "    sales_2007, sales_2008, sales_2009, sales_2010, sales_2011, sales_2012,\n",
    "    sales_2013, sales_2014, sales_2015, sales_2016, sales_2017, sales_2018,\n",
    "    sales_2019, sales_2020\n",
    "],\n",
    "                   ignore_index=True)\n",
    "real_estate = real_estate.query(\"도로명 != ' '\") # 도로명 주소 미보유 삭제"
   ]
  },
  {
   "cell_type": "code",
   "execution_count": 5,
   "metadata": {},
   "outputs": [
    {
     "output_type": "execute_result",
     "data": {
      "text/plain": "                   시군구      번지   본번  부번             단지명  전용면적(㎡)    계약년월  계약일  \\\n0        서울특별시 강남구 개포동   655-2  655   2  개포2차현대아파트(220)    77.75  200606    1   \n1        서울특별시 강남구 개포동   655-2  655   2  개포2차현대아파트(220)    77.75  200610   20   \n2        서울특별시 강남구 개포동   655-2  655   2  개포2차현대아파트(220)    77.75  200610   30   \n3        서울특별시 강남구 개포동   655-2  655   2  개포2차현대아파트(220)    77.75  200612    9   \n4        서울특별시 강남구 개포동   658-1  658   1  개포6차우성아파트1동~8동    79.97  200605    9   \n...                ...     ...  ...  ..             ...      ...     ...  ...   \n1082712  서울특별시 중랑구 중화동  274-75  274  75         한영(102)    58.87  202003   17   \n1082713  서울특별시 중랑구 중화동  274-77  274  77         한영(104)    70.96  202001   28   \n1082714  서울특별시 중랑구 중화동  274-77  274  77         한영(104)    66.24  202002    3   \n1082715  서울특별시 중랑구 중화동  274-77  274  77         한영(104)   106.21  202003   11   \n1082716  서울특별시 중랑구 중화동    11-7   11   7     현대휴앤미(102동)    64.48  201907   15   \n\n        거래금액(만원)  층  건축년도          도로명  \n0         60,000  4  1988      언주로 103  \n1         72,250  5  1988      언주로 103  \n2         73,500  8  1988      언주로 103  \n3         76,500  5  1988      언주로 103  \n4         88,000  3  1987        언주로 3  \n...          ... ..   ...          ...  \n1082712   28,800  6  2003   동일로144길 74  \n1082713   31,200  4  2003   동일로144길 74  \n1082714   28,500  5  2003   동일로144길 74  \n1082715   45,400  6  2003   동일로144길 74  \n1082716   32,800  3  2007  봉화산로27가길 19  \n\n[1080782 rows x 12 columns]",
      "text/html": "<div>\n<style scoped>\n    .dataframe tbody tr th:only-of-type {\n        vertical-align: middle;\n    }\n\n    .dataframe tbody tr th {\n        vertical-align: top;\n    }\n\n    .dataframe thead th {\n        text-align: right;\n    }\n</style>\n<table border=\"1\" class=\"dataframe\">\n  <thead>\n    <tr style=\"text-align: right;\">\n      <th></th>\n      <th>시군구</th>\n      <th>번지</th>\n      <th>본번</th>\n      <th>부번</th>\n      <th>단지명</th>\n      <th>전용면적(㎡)</th>\n      <th>계약년월</th>\n      <th>계약일</th>\n      <th>거래금액(만원)</th>\n      <th>층</th>\n      <th>건축년도</th>\n      <th>도로명</th>\n    </tr>\n  </thead>\n  <tbody>\n    <tr>\n      <th>0</th>\n      <td>서울특별시 강남구 개포동</td>\n      <td>655-2</td>\n      <td>655</td>\n      <td>2</td>\n      <td>개포2차현대아파트(220)</td>\n      <td>77.75</td>\n      <td>200606</td>\n      <td>1</td>\n      <td>60,000</td>\n      <td>4</td>\n      <td>1988</td>\n      <td>언주로 103</td>\n    </tr>\n    <tr>\n      <th>1</th>\n      <td>서울특별시 강남구 개포동</td>\n      <td>655-2</td>\n      <td>655</td>\n      <td>2</td>\n      <td>개포2차현대아파트(220)</td>\n      <td>77.75</td>\n      <td>200610</td>\n      <td>20</td>\n      <td>72,250</td>\n      <td>5</td>\n      <td>1988</td>\n      <td>언주로 103</td>\n    </tr>\n    <tr>\n      <th>2</th>\n      <td>서울특별시 강남구 개포동</td>\n      <td>655-2</td>\n      <td>655</td>\n      <td>2</td>\n      <td>개포2차현대아파트(220)</td>\n      <td>77.75</td>\n      <td>200610</td>\n      <td>30</td>\n      <td>73,500</td>\n      <td>8</td>\n      <td>1988</td>\n      <td>언주로 103</td>\n    </tr>\n    <tr>\n      <th>3</th>\n      <td>서울특별시 강남구 개포동</td>\n      <td>655-2</td>\n      <td>655</td>\n      <td>2</td>\n      <td>개포2차현대아파트(220)</td>\n      <td>77.75</td>\n      <td>200612</td>\n      <td>9</td>\n      <td>76,500</td>\n      <td>5</td>\n      <td>1988</td>\n      <td>언주로 103</td>\n    </tr>\n    <tr>\n      <th>4</th>\n      <td>서울특별시 강남구 개포동</td>\n      <td>658-1</td>\n      <td>658</td>\n      <td>1</td>\n      <td>개포6차우성아파트1동~8동</td>\n      <td>79.97</td>\n      <td>200605</td>\n      <td>9</td>\n      <td>88,000</td>\n      <td>3</td>\n      <td>1987</td>\n      <td>언주로 3</td>\n    </tr>\n    <tr>\n      <th>...</th>\n      <td>...</td>\n      <td>...</td>\n      <td>...</td>\n      <td>...</td>\n      <td>...</td>\n      <td>...</td>\n      <td>...</td>\n      <td>...</td>\n      <td>...</td>\n      <td>...</td>\n      <td>...</td>\n      <td>...</td>\n    </tr>\n    <tr>\n      <th>1082712</th>\n      <td>서울특별시 중랑구 중화동</td>\n      <td>274-75</td>\n      <td>274</td>\n      <td>75</td>\n      <td>한영(102)</td>\n      <td>58.87</td>\n      <td>202003</td>\n      <td>17</td>\n      <td>28,800</td>\n      <td>6</td>\n      <td>2003</td>\n      <td>동일로144길 74</td>\n    </tr>\n    <tr>\n      <th>1082713</th>\n      <td>서울특별시 중랑구 중화동</td>\n      <td>274-77</td>\n      <td>274</td>\n      <td>77</td>\n      <td>한영(104)</td>\n      <td>70.96</td>\n      <td>202001</td>\n      <td>28</td>\n      <td>31,200</td>\n      <td>4</td>\n      <td>2003</td>\n      <td>동일로144길 74</td>\n    </tr>\n    <tr>\n      <th>1082714</th>\n      <td>서울특별시 중랑구 중화동</td>\n      <td>274-77</td>\n      <td>274</td>\n      <td>77</td>\n      <td>한영(104)</td>\n      <td>66.24</td>\n      <td>202002</td>\n      <td>3</td>\n      <td>28,500</td>\n      <td>5</td>\n      <td>2003</td>\n      <td>동일로144길 74</td>\n    </tr>\n    <tr>\n      <th>1082715</th>\n      <td>서울특별시 중랑구 중화동</td>\n      <td>274-77</td>\n      <td>274</td>\n      <td>77</td>\n      <td>한영(104)</td>\n      <td>106.21</td>\n      <td>202003</td>\n      <td>11</td>\n      <td>45,400</td>\n      <td>6</td>\n      <td>2003</td>\n      <td>동일로144길 74</td>\n    </tr>\n    <tr>\n      <th>1082716</th>\n      <td>서울특별시 중랑구 중화동</td>\n      <td>11-7</td>\n      <td>11</td>\n      <td>7</td>\n      <td>현대휴앤미(102동)</td>\n      <td>64.48</td>\n      <td>201907</td>\n      <td>15</td>\n      <td>32,800</td>\n      <td>3</td>\n      <td>2007</td>\n      <td>봉화산로27가길 19</td>\n    </tr>\n  </tbody>\n</table>\n<p>1080782 rows × 12 columns</p>\n</div>"
     },
     "metadata": {},
     "execution_count": 5
    }
   ],
   "source": [
    "real_estate"
   ]
  },
  {
   "cell_type": "code",
   "execution_count": null,
   "metadata": {},
   "outputs": [],
   "source": [
    "### 아파트의 위도,경도를 구해주는 코드(카카오) ###\n",
    "import requests; from urllib.parse import urlparse; import json\n",
    "\n",
    "# 빈 리스트 생성\n",
    "\n",
    "apt_lat = []\n",
    "apt_lng = []\n",
    "apt_address = duple_real_estate.시군구 + \" \" + duple_real_estate.도로명\n",
    "for addr in apt_address:\n",
    "    url = 'https://dapi.kakao.com/v2/local/search/address.json?query=' + addr\n",
    "    headers = {\"Authorization\": \"KakaoAK 7ff520ce7fc46439d58b8c4fc9eb0c7c\"} # Rest API Key\n",
    "    result = json.loads(str(requests.get(url, headers=headers).text))\n",
    "\n",
    "    # 주소지를 제대로 못찾을 경우 0으로 입력후 계속 도중에 멈춤 방지\n",
    "    if len(result['documents']) == 0 or result['documents'][0]['address'] == None : # or 영어로 써야만 적용 \n",
    "        apt_lat.append(0)\n",
    "        apt_lng.append(0)\n",
    "        continue\n",
    "\n",
    "    match_first = result['documents'][0]['address']\n",
    "    apt_lat.append(float(match_first['y']))\n",
    "    apt_lng.append(float(match_first['x']))\n",
    "\n",
    "\n",
    "index = real_estate.index\n",
    "for i in range(len(duple_real_estate)):\n",
    "    duple_real_estate.at[idx[i], '위도'] = apt_lat[i]\n",
    "    duple_real_estate.at[idx[i], '경도'] = apt_lng[i]\n"
   ]
  }
 ]
}