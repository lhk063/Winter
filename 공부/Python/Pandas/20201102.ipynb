{
 "metadata": {
  "language_info": {
   "codemirror_mode": {
    "name": "ipython",
    "version": 3
   },
   "file_extension": ".py",
   "mimetype": "text/x-python",
   "name": "python",
   "nbconvert_exporter": "python",
   "pygments_lexer": "ipython3",
   "version": "3.7.6-final"
  },
  "orig_nbformat": 2,
  "kernelspec": {
   "name": "tf2.0-gpu",
   "display_name": "tf-gpu"
  }
 },
 "nbformat": 4,
 "nbformat_minor": 2,
 "cells": [
  {
   "cell_type": "code",
   "execution_count": 24,
   "metadata": {},
   "outputs": [],
   "source": [
    "import pandas as pd\n",
    "import numpy as np\n",
    "import matplotlib.pyplot as plt\n",
    "sp500 = pd.read_csv('data/sp500.csv', index_col='Symbol', usecols= [0, 2, 3, 7])"
   ]
  },
  {
   "cell_type": "code",
   "execution_count": 6,
   "metadata": {},
   "outputs": [
    {
     "output_type": "execute_result",
     "data": {
      "text/plain": [
       "        foo  key\n",
       "0  0.126970  100\n",
       "1  0.966718  101\n",
       "2  0.260476  102\n",
       "3  0.897237  103\n",
       "4  0.376750  104"
      ],
      "text/html": "<div>\n<style scoped>\n    .dataframe tbody tr th:only-of-type {\n        vertical-align: middle;\n    }\n\n    .dataframe tbody tr th {\n        vertical-align: top;\n    }\n\n    .dataframe thead th {\n        text-align: right;\n    }\n</style>\n<table border=\"1\" class=\"dataframe\">\n  <thead>\n    <tr style=\"text-align: right;\">\n      <th></th>\n      <th>foo</th>\n      <th>key</th>\n    </tr>\n  </thead>\n  <tbody>\n    <tr>\n      <th>0</th>\n      <td>0.126970</td>\n      <td>100</td>\n    </tr>\n    <tr>\n      <th>1</th>\n      <td>0.966718</td>\n      <td>101</td>\n    </tr>\n    <tr>\n      <th>2</th>\n      <td>0.260476</td>\n      <td>102</td>\n    </tr>\n    <tr>\n      <th>3</th>\n      <td>0.897237</td>\n      <td>103</td>\n    </tr>\n    <tr>\n      <th>4</th>\n      <td>0.376750</td>\n      <td>104</td>\n    </tr>\n  </tbody>\n</table>\n</div>"
     },
     "metadata": {},
     "execution_count": 6
    }
   ],
   "source": [
    "np.random.seed(123456)\n",
    "df = pd.DataFrame({'foo' : np.random.random(10000), 'key' : range(100, 10100)})\n",
    "df[:5]"
   ]
  },
  {
   "cell_type": "code",
   "execution_count": 7,
   "metadata": {},
   "outputs": [
    {
     "output_type": "execute_result",
     "data": {
      "text/plain": [
       "           foo    key\n",
       "9999  0.272283  10099"
      ],
      "text/html": "<div>\n<style scoped>\n    .dataframe tbody tr th:only-of-type {\n        vertical-align: middle;\n    }\n\n    .dataframe tbody tr th {\n        vertical-align: top;\n    }\n\n    .dataframe thead th {\n        text-align: right;\n    }\n</style>\n<table border=\"1\" class=\"dataframe\">\n  <thead>\n    <tr style=\"text-align: right;\">\n      <th></th>\n      <th>foo</th>\n      <th>key</th>\n    </tr>\n  </thead>\n  <tbody>\n    <tr>\n      <th>9999</th>\n      <td>0.272283</td>\n      <td>10099</td>\n    </tr>\n  </tbody>\n</table>\n</div>"
     },
     "metadata": {},
     "execution_count": 7
    }
   ],
   "source": [
    "df[df.key == 10099]"
   ]
  },
  {
   "cell_type": "code",
   "execution_count": 8,
   "metadata": {},
   "outputs": [
    {
     "output_type": "stream",
     "name": "stdout",
     "text": [
      "397 µs ± 2.44 µs per loop (mean ± std. dev. of 7 runs, 1000 loops each)\n"
     ]
    }
   ],
   "source": [
    "%timeit df[df.key==10099]"
   ]
  },
  {
   "cell_type": "code",
   "execution_count": 9,
   "metadata": {},
   "outputs": [
    {
     "output_type": "execute_result",
     "data": {
      "text/plain": [
       "          foo\n",
       "key          \n",
       "100  0.126970\n",
       "101  0.966718\n",
       "102  0.260476\n",
       "103  0.897237\n",
       "104  0.376750"
      ],
      "text/html": "<div>\n<style scoped>\n    .dataframe tbody tr th:only-of-type {\n        vertical-align: middle;\n    }\n\n    .dataframe tbody tr th {\n        vertical-align: top;\n    }\n\n    .dataframe thead th {\n        text-align: right;\n    }\n</style>\n<table border=\"1\" class=\"dataframe\">\n  <thead>\n    <tr style=\"text-align: right;\">\n      <th></th>\n      <th>foo</th>\n    </tr>\n    <tr>\n      <th>key</th>\n      <th></th>\n    </tr>\n  </thead>\n  <tbody>\n    <tr>\n      <th>100</th>\n      <td>0.126970</td>\n    </tr>\n    <tr>\n      <th>101</th>\n      <td>0.966718</td>\n    </tr>\n    <tr>\n      <th>102</th>\n      <td>0.260476</td>\n    </tr>\n    <tr>\n      <th>103</th>\n      <td>0.897237</td>\n    </tr>\n    <tr>\n      <th>104</th>\n      <td>0.376750</td>\n    </tr>\n  </tbody>\n</table>\n</div>"
     },
     "metadata": {},
     "execution_count": 9
    }
   ],
   "source": [
    "df_with_index = df.set_index(['key'])\n",
    "df_with_index[:5]"
   ]
  },
  {
   "cell_type": "code",
   "execution_count": 10,
   "metadata": {},
   "outputs": [
    {
     "output_type": "execute_result",
     "data": {
      "text/plain": [
       "foo    0.272283\n",
       "Name: 10099, dtype: float64"
      ]
     },
     "metadata": {},
     "execution_count": 10
    }
   ],
   "source": [
    "df_with_index.loc[10099]"
   ]
  },
  {
   "cell_type": "code",
   "execution_count": 11,
   "metadata": {},
   "outputs": [
    {
     "output_type": "stream",
     "name": "stdout",
     "text": [
      "82.2 µs ± 595 ns per loop (mean ± std. dev. of 7 runs, 10000 loops each)\n"
     ]
    }
   ],
   "source": [
    "# 이 결과를 봤을때 인덱스를 사용한 검색이 대략 5배는 빠르다.\n",
    "%timeit df_with_index.loc[10099]"
   ]
  },
  {
   "cell_type": "code",
   "execution_count": 12,
   "metadata": {},
   "outputs": [
    {
     "output_type": "execute_result",
     "data": {
      "text/plain": [
       "           City  Temperature\n",
       "0      Missoula           70\n",
       "1  Philadelphia           80"
      ],
      "text/html": "<div>\n<style scoped>\n    .dataframe tbody tr th:only-of-type {\n        vertical-align: middle;\n    }\n\n    .dataframe tbody tr th {\n        vertical-align: top;\n    }\n\n    .dataframe thead th {\n        text-align: right;\n    }\n</style>\n<table border=\"1\" class=\"dataframe\">\n  <thead>\n    <tr style=\"text-align: right;\">\n      <th></th>\n      <th>City</th>\n      <th>Temperature</th>\n    </tr>\n  </thead>\n  <tbody>\n    <tr>\n      <th>0</th>\n      <td>Missoula</td>\n      <td>70</td>\n    </tr>\n    <tr>\n      <th>1</th>\n      <td>Philadelphia</td>\n      <td>80</td>\n    </tr>\n  </tbody>\n</table>\n</div>"
     },
     "metadata": {},
     "execution_count": 12
    }
   ],
   "source": [
    "temps = pd.DataFrame({'City' : ['Missoula' , 'Philadelphia'], 'Temperature' : [70, 80]})\n",
    "temps"
   ]
  },
  {
   "cell_type": "code",
   "execution_count": 13,
   "metadata": {},
   "outputs": [
    {
     "output_type": "execute_result",
     "data": {
      "text/plain": [
       "Index(['City', 'Temperature'], dtype='object')"
      ]
     },
     "metadata": {},
     "execution_count": 13
    }
   ],
   "source": [
    "temps.columns"
   ]
  },
  {
   "cell_type": "code",
   "execution_count": 14,
   "metadata": {},
   "outputs": [
    {
     "output_type": "execute_result",
     "data": {
      "text/plain": [
       "    0\n",
       "0  10\n",
       "1  11\n",
       "2  12\n",
       "3  13\n",
       "4  14\n",
       "5  15\n",
       "6  16\n",
       "7  17\n",
       "8  18\n",
       "9  19"
      ],
      "text/html": "<div>\n<style scoped>\n    .dataframe tbody tr th:only-of-type {\n        vertical-align: middle;\n    }\n\n    .dataframe tbody tr th {\n        vertical-align: top;\n    }\n\n    .dataframe thead th {\n        text-align: right;\n    }\n</style>\n<table border=\"1\" class=\"dataframe\">\n  <thead>\n    <tr style=\"text-align: right;\">\n      <th></th>\n      <th>0</th>\n    </tr>\n  </thead>\n  <tbody>\n    <tr>\n      <th>0</th>\n      <td>10</td>\n    </tr>\n    <tr>\n      <th>1</th>\n      <td>11</td>\n    </tr>\n    <tr>\n      <th>2</th>\n      <td>12</td>\n    </tr>\n    <tr>\n      <th>3</th>\n      <td>13</td>\n    </tr>\n    <tr>\n      <th>4</th>\n      <td>14</td>\n    </tr>\n    <tr>\n      <th>5</th>\n      <td>15</td>\n    </tr>\n    <tr>\n      <th>6</th>\n      <td>16</td>\n    </tr>\n    <tr>\n      <th>7</th>\n      <td>17</td>\n    </tr>\n    <tr>\n      <th>8</th>\n      <td>18</td>\n    </tr>\n    <tr>\n      <th>9</th>\n      <td>19</td>\n    </tr>\n  </tbody>\n</table>\n</div>"
     },
     "metadata": {},
     "execution_count": 14
    }
   ],
   "source": [
    "df_164 = pd.DataFrame(np.arange(10, 20), index = np.arange(0, 10))\n",
    "df_164"
   ]
  },
  {
   "cell_type": "code",
   "execution_count": 16,
   "metadata": {},
   "outputs": [
    {
     "output_type": "execute_result",
     "data": {
      "text/plain": [
       "    0\n",
       "0  10\n",
       "1  11\n",
       "2  12\n",
       "3  13\n",
       "4  14"
      ],
      "text/html": "<div>\n<style scoped>\n    .dataframe tbody tr th:only-of-type {\n        vertical-align: middle;\n    }\n\n    .dataframe tbody tr th {\n        vertical-align: top;\n    }\n\n    .dataframe thead th {\n        text-align: right;\n    }\n</style>\n<table border=\"1\" class=\"dataframe\">\n  <thead>\n    <tr style=\"text-align: right;\">\n      <th></th>\n      <th>0</th>\n    </tr>\n  </thead>\n  <tbody>\n    <tr>\n      <th>0</th>\n      <td>10</td>\n    </tr>\n    <tr>\n      <th>1</th>\n      <td>11</td>\n    </tr>\n    <tr>\n      <th>2</th>\n      <td>12</td>\n    </tr>\n    <tr>\n      <th>3</th>\n      <td>13</td>\n    </tr>\n    <tr>\n      <th>4</th>\n      <td>14</td>\n    </tr>\n  </tbody>\n</table>\n</div>"
     },
     "metadata": {},
     "execution_count": 16
    }
   ],
   "source": [
    "df_range = pd.DataFrame(np.arange(10, 15))\n",
    "df_range.head()"
   ]
  },
  {
   "cell_type": "code",
   "execution_count": 18,
   "metadata": {},
   "outputs": [
    {
     "output_type": "execute_result",
     "data": {
      "text/plain": [
       "RangeIndex(start=0, stop=5, step=1)"
      ]
     },
     "metadata": {},
     "execution_count": 18
    }
   ],
   "source": [
    "df_range.index"
   ]
  },
  {
   "cell_type": "code",
   "execution_count": 19,
   "metadata": {},
   "outputs": [
    {
     "output_type": "execute_result",
     "data": {
      "text/plain": [
       "      0\n",
       "0.0   0\n",
       "0.5   5\n",
       "1.0  10\n",
       "1.5  15\n",
       "2.0  20"
      ],
      "text/html": "<div>\n<style scoped>\n    .dataframe tbody tr th:only-of-type {\n        vertical-align: middle;\n    }\n\n    .dataframe tbody tr th {\n        vertical-align: top;\n    }\n\n    .dataframe thead th {\n        text-align: right;\n    }\n</style>\n<table border=\"1\" class=\"dataframe\">\n  <thead>\n    <tr style=\"text-align: right;\">\n      <th></th>\n      <th>0</th>\n    </tr>\n  </thead>\n  <tbody>\n    <tr>\n      <th>0.0</th>\n      <td>0</td>\n    </tr>\n    <tr>\n      <th>0.5</th>\n      <td>5</td>\n    </tr>\n    <tr>\n      <th>1.0</th>\n      <td>10</td>\n    </tr>\n    <tr>\n      <th>1.5</th>\n      <td>15</td>\n    </tr>\n    <tr>\n      <th>2.0</th>\n      <td>20</td>\n    </tr>\n  </tbody>\n</table>\n</div>"
     },
     "metadata": {},
     "execution_count": 19
    }
   ],
   "source": [
    "df_f64 = pd.DataFrame(np.arange(0, 1000, 5), np.arange(0.0, 100.0, 0.5))\n",
    "df_f64.head()"
   ]
  },
  {
   "cell_type": "code",
   "execution_count": 20,
   "metadata": {},
   "outputs": [
    {
     "output_type": "execute_result",
     "data": {
      "text/plain": [
       "Float64Index([ 0.0,  0.5,  1.0,  1.5,  2.0,  2.5,  3.0,  3.5,  4.0,  4.5,\n",
       "              ...\n",
       "              95.0, 95.5, 96.0, 96.5, 97.0, 97.5, 98.0, 98.5, 99.0, 99.5],\n",
       "             dtype='float64', length=200)"
      ]
     },
     "metadata": {},
     "execution_count": 20
    }
   ],
   "source": [
    "df_f64.index"
   ]
  },
  {
   "cell_type": "code",
   "execution_count": 21,
   "metadata": {},
   "outputs": [
    {
     "output_type": "execute_result",
     "data": {
      "text/plain": [
       "            A\n",
       "(0.0, 0.5]  1\n",
       "(0.5, 1.0]  2\n",
       "(1.0, 1.5]  3\n",
       "(1.5, 2.0]  4"
      ],
      "text/html": "<div>\n<style scoped>\n    .dataframe tbody tr th:only-of-type {\n        vertical-align: middle;\n    }\n\n    .dataframe tbody tr th {\n        vertical-align: top;\n    }\n\n    .dataframe thead th {\n        text-align: right;\n    }\n</style>\n<table border=\"1\" class=\"dataframe\">\n  <thead>\n    <tr style=\"text-align: right;\">\n      <th></th>\n      <th>A</th>\n    </tr>\n  </thead>\n  <tbody>\n    <tr>\n      <th>(0.0, 0.5]</th>\n      <td>1</td>\n    </tr>\n    <tr>\n      <th>(0.5, 1.0]</th>\n      <td>2</td>\n    </tr>\n    <tr>\n      <th>(1.0, 1.5]</th>\n      <td>3</td>\n    </tr>\n    <tr>\n      <th>(1.5, 2.0]</th>\n      <td>4</td>\n    </tr>\n  </tbody>\n</table>\n</div>"
     },
     "metadata": {},
     "execution_count": 21
    }
   ],
   "source": [
    "df_interval = pd.DataFrame({ 'A': [1, 2, 3, 4]}, index = pd.IntervalIndex.from_breaks([0, 0.5, 1.0, 1.5, 2.0]))\n",
    "df_interval"
   ]
  },
  {
   "cell_type": "code",
   "execution_count": 31,
   "metadata": {},
   "outputs": [
    {
     "output_type": "execute_result",
     "data": {
      "text/plain": [
       "Index(['a', 'a', 'b', 'b', 'c', 'a'], dtype='object', name='B')"
      ]
     },
     "metadata": {},
     "execution_count": 31
    }
   ],
   "source": [
    "# df_categorial = pd.DataFrame({'A' : np.arange(6), 'B' : list('aabbca')})\n",
    "# df_categorial['B'] = df_categorial['B'].astype('category', categories=list('cab'))\n",
    "df_categorial = df_categorial.set_index('B')\n",
    "df_categorial.index"
   ]
  },
  {
   "cell_type": "code",
   "execution_count": 32,
   "metadata": {},
   "outputs": [
    {
     "output_type": "execute_result",
     "data": {
      "text/plain": [
       "   A\n",
       "B   \n",
       "a  0\n",
       "a  1\n",
       "a  5"
      ],
      "text/html": "<div>\n<style scoped>\n    .dataframe tbody tr th:only-of-type {\n        vertical-align: middle;\n    }\n\n    .dataframe tbody tr th {\n        vertical-align: top;\n    }\n\n    .dataframe thead th {\n        text-align: right;\n    }\n</style>\n<table border=\"1\" class=\"dataframe\">\n  <thead>\n    <tr style=\"text-align: right;\">\n      <th></th>\n      <th>A</th>\n    </tr>\n    <tr>\n      <th>B</th>\n      <th></th>\n    </tr>\n  </thead>\n  <tbody>\n    <tr>\n      <th>a</th>\n      <td>0</td>\n    </tr>\n    <tr>\n      <th>a</th>\n      <td>1</td>\n    </tr>\n    <tr>\n      <th>a</th>\n      <td>5</td>\n    </tr>\n  </tbody>\n</table>\n</div>"
     },
     "metadata": {},
     "execution_count": 32
    }
   ],
   "source": [
    "df_categorial.loc['a']"
   ]
  },
  {
   "cell_type": "code",
   "execution_count": 3,
   "metadata": {},
   "outputs": [
    {
     "output_type": "execute_result",
     "data": {
      "text/plain": [
       "2017-05-01 00:00:00    0.688096\n",
       "2017-05-01 01:00:00   -0.742108\n",
       "2017-05-01 02:00:00    0.606819\n",
       "2017-05-01 03:00:00    0.330280\n",
       "2017-05-01 04:00:00   -0.255339\n",
       "Freq: H, dtype: float64"
      ]
     },
     "metadata": {},
     "execution_count": 3
    }
   ],
   "source": [
    "rng = pd.date_range('5/1/2017', periods = 5, freq='H')\n",
    "ts = pd.Series(np.random.randn(len(rng)), index = rng)\n",
    "ts"
   ]
  },
  {
   "cell_type": "code",
   "execution_count": 4,
   "metadata": {},
   "outputs": [
    {
     "output_type": "execute_result",
     "data": {
      "text/plain": [
       "DatetimeIndex(['2017-05-01 00:00:00', '2017-05-01 01:00:00',\n",
       "               '2017-05-01 02:00:00', '2017-05-01 03:00:00',\n",
       "               '2017-05-01 04:00:00'],\n",
       "              dtype='datetime64[ns]', freq='H')"
      ]
     },
     "metadata": {},
     "execution_count": 4
    }
   ],
   "source": [
    "ts.index"
   ]
  },
  {
   "cell_type": "code",
   "execution_count": 5,
   "metadata": {},
   "outputs": [
    {
     "output_type": "execute_result",
     "data": {
      "text/plain": [
       "PeriodIndex(['2017-01', '2017-02', '2017-03'], dtype='period[M]', freq='M')"
      ]
     },
     "metadata": {},
     "execution_count": 5
    }
   ],
   "source": [
    "periods = pd.PeriodIndex(['2017-1', '2017-2', '2017-3'], freq = 'M')\n",
    "periods"
   ]
  },
  {
   "cell_type": "code",
   "execution_count": 7,
   "metadata": {},
   "outputs": [
    {
     "output_type": "execute_result",
     "data": {
      "text/plain": [
       "2017-01    1.095441\n",
       "2017-02   -1.247358\n",
       "2017-03   -0.733901\n",
       "Freq: M, dtype: float64"
      ]
     },
     "metadata": {},
     "execution_count": 7
    }
   ],
   "source": [
    "period_series = pd.Series(np.random.randn(len(periods)), index = periods)\n",
    "period_series"
   ]
  },
  {
   "cell_type": "code",
   "execution_count": 10,
   "metadata": {},
   "outputs": [
    {
     "output_type": "execute_result",
     "data": {
      "text/plain": [
       "DatetimeIndex(['2017-05-01 00:00:00', '2017-05-01 01:00:00',\n",
       "               '2017-05-01 02:00:00', '2017-05-01 03:00:00',\n",
       "               '2017-05-01 04:00:00'],\n",
       "              dtype='datetime64[ns]', freq='H')"
      ]
     },
     "metadata": {},
     "execution_count": 10
    }
   ],
   "source": [
    "date_times = pd.DatetimeIndex(pd.date_range('5/1/2017', periods = 5, freq='H'))\n",
    "date_times"
   ]
  },
  {
   "cell_type": "code",
   "execution_count": 12,
   "metadata": {},
   "outputs": [
    {
     "output_type": "execute_result",
     "data": {
      "text/plain": [
       "                     0\n",
       "2017-05-01 00:00:00  0\n",
       "2017-05-01 01:00:00  1\n",
       "2017-05-01 02:00:00  2\n",
       "2017-05-01 03:00:00  3\n",
       "2017-05-01 04:00:00  4"
      ],
      "text/html": "<div>\n<style scoped>\n    .dataframe tbody tr th:only-of-type {\n        vertical-align: middle;\n    }\n\n    .dataframe tbody tr th {\n        vertical-align: top;\n    }\n\n    .dataframe thead th {\n        text-align: right;\n    }\n</style>\n<table border=\"1\" class=\"dataframe\">\n  <thead>\n    <tr style=\"text-align: right;\">\n      <th></th>\n      <th>0</th>\n    </tr>\n  </thead>\n  <tbody>\n    <tr>\n      <th>2017-05-01 00:00:00</th>\n      <td>0</td>\n    </tr>\n    <tr>\n      <th>2017-05-01 01:00:00</th>\n      <td>1</td>\n    </tr>\n    <tr>\n      <th>2017-05-01 02:00:00</th>\n      <td>2</td>\n    </tr>\n    <tr>\n      <th>2017-05-01 03:00:00</th>\n      <td>3</td>\n    </tr>\n    <tr>\n      <th>2017-05-01 04:00:00</th>\n      <td>4</td>\n    </tr>\n  </tbody>\n</table>\n</div>"
     },
     "metadata": {},
     "execution_count": 12
    }
   ],
   "source": [
    "df_date_times = pd.DataFrame(np.arange(0, len(date_times)), index=date_times)\n",
    "df_date_times"
   ]
  },
  {
   "cell_type": "code",
   "execution_count": 13,
   "metadata": {},
   "outputs": [
    {
     "output_type": "execute_result",
     "data": {
      "text/plain": [
       "                     0\n",
       "2017-06-01 00:00:00  0\n",
       "2017-06-01 01:00:00  1\n",
       "2017-06-01 02:00:00  2\n",
       "2017-06-01 03:00:00  3\n",
       "2017-06-01 04:00:00  4"
      ],
      "text/html": "<div>\n<style scoped>\n    .dataframe tbody tr th:only-of-type {\n        vertical-align: middle;\n    }\n\n    .dataframe tbody tr th {\n        vertical-align: top;\n    }\n\n    .dataframe thead th {\n        text-align: right;\n    }\n</style>\n<table border=\"1\" class=\"dataframe\">\n  <thead>\n    <tr style=\"text-align: right;\">\n      <th></th>\n      <th>0</th>\n    </tr>\n  </thead>\n  <tbody>\n    <tr>\n      <th>2017-06-01 00:00:00</th>\n      <td>0</td>\n    </tr>\n    <tr>\n      <th>2017-06-01 01:00:00</th>\n      <td>1</td>\n    </tr>\n    <tr>\n      <th>2017-06-01 02:00:00</th>\n      <td>2</td>\n    </tr>\n    <tr>\n      <th>2017-06-01 03:00:00</th>\n      <td>3</td>\n    </tr>\n    <tr>\n      <th>2017-06-01 04:00:00</th>\n      <td>4</td>\n    </tr>\n  </tbody>\n</table>\n</div>"
     },
     "metadata": {},
     "execution_count": 13
    }
   ],
   "source": [
    "df_date_times.index = pd.DatetimeIndex(pd.date_range('6/1/2017', periods= 5, freq='H'))\n",
    "df_date_times"
   ]
  },
  {
   "cell_type": "code",
   "execution_count": 15,
   "metadata": {},
   "outputs": [
    {
     "output_type": "execute_result",
     "data": {
      "text/plain": [
       "a    0\n",
       "b    1\n",
       "c    2\n",
       "d    3\n",
       "e    4\n",
       "dtype: int32"
      ]
     },
     "metadata": {},
     "execution_count": 15
    }
   ],
   "source": [
    "s = pd.Series(np.arange(0, 5), index = list('abcde'))\n",
    "s"
   ]
  },
  {
   "cell_type": "code",
   "execution_count": 16,
   "metadata": {},
   "outputs": [
    {
     "output_type": "execute_result",
     "data": {
      "text/plain": [
       "1"
      ]
     },
     "metadata": {},
     "execution_count": 16
    }
   ],
   "source": [
    "s['b']"
   ]
  },
  {
   "cell_type": "code",
   "execution_count": 17,
   "metadata": {},
   "outputs": [
    {
     "output_type": "execute_result",
     "data": {
      "text/plain": [
       "1"
      ]
     },
     "metadata": {},
     "execution_count": 17
    }
   ],
   "source": [
    "s.loc['b']"
   ]
  },
  {
   "cell_type": "code",
   "execution_count": 18,
   "metadata": {},
   "outputs": [
    {
     "output_type": "execute_result",
     "data": {
      "text/plain": [
       "    a   b\n",
       "v  10  11\n",
       "w  12  13"
      ],
      "text/html": "<div>\n<style scoped>\n    .dataframe tbody tr th:only-of-type {\n        vertical-align: middle;\n    }\n\n    .dataframe tbody tr th {\n        vertical-align: top;\n    }\n\n    .dataframe thead th {\n        text-align: right;\n    }\n</style>\n<table border=\"1\" class=\"dataframe\">\n  <thead>\n    <tr style=\"text-align: right;\">\n      <th></th>\n      <th>a</th>\n      <th>b</th>\n    </tr>\n  </thead>\n  <tbody>\n    <tr>\n      <th>v</th>\n      <td>10</td>\n      <td>11</td>\n    </tr>\n    <tr>\n      <th>w</th>\n      <td>12</td>\n      <td>13</td>\n    </tr>\n  </tbody>\n</table>\n</div>"
     },
     "metadata": {},
     "execution_count": 18
    }
   ],
   "source": [
    "df = pd.DataFrame([np.arange(10, 12), np.arange(12, 14)], columns=list('ab'), index = list('vw'))\n",
    "df"
   ]
  },
  {
   "cell_type": "code",
   "execution_count": 19,
   "metadata": {},
   "outputs": [
    {
     "output_type": "execute_result",
     "data": {
      "text/plain": [
       "v    10\n",
       "w    12\n",
       "Name: a, dtype: int64"
      ]
     },
     "metadata": {},
     "execution_count": 19
    }
   ],
   "source": [
    "df['a']"
   ]
  },
  {
   "cell_type": "code",
   "execution_count": 20,
   "metadata": {},
   "outputs": [
    {
     "output_type": "execute_result",
     "data": {
      "text/plain": [
       "a    12\n",
       "b    13\n",
       "Name: w, dtype: int64"
      ]
     },
     "metadata": {},
     "execution_count": 20
    }
   ],
   "source": [
    "df.loc['w']"
   ]
  },
  {
   "cell_type": "code",
   "execution_count": 21,
   "metadata": {},
   "outputs": [
    {
     "output_type": "execute_result",
     "data": {
      "text/plain": [
       "b    1\n",
       "c    2\n",
       "d    3\n",
       "dtype: int32"
      ]
     },
     "metadata": {},
     "execution_count": 21
    }
   ],
   "source": [
    "s['b':'d']"
   ]
  },
  {
   "cell_type": "code",
   "execution_count": 22,
   "metadata": {},
   "outputs": [
    {
     "output_type": "execute_result",
     "data": {
      "text/plain": [
       "b    1\n",
       "c    2\n",
       "d    3\n",
       "dtype: int32"
      ]
     },
     "metadata": {},
     "execution_count": 22
    }
   ],
   "source": [
    "s.loc['b':'d']"
   ]
  },
  {
   "cell_type": "code",
   "execution_count": 23,
   "metadata": {},
   "outputs": [
    {
     "output_type": "execute_result",
     "data": {
      "text/plain": [
       "a    0\n",
       "c    2\n",
       "e    4\n",
       "dtype: int32"
      ]
     },
     "metadata": {},
     "execution_count": 23
    }
   ],
   "source": [
    "s.loc[['a', 'c', 'e']]"
   ]
  },
  {
   "cell_type": "code",
   "execution_count": 25,
   "metadata": {},
   "outputs": [
    {
     "output_type": "execute_result",
     "data": {
      "text/plain": [
       "                        Sector   Price  Book Value\n",
       "Symbol                                            \n",
       "MMM                Industrials  141.14      26.668\n",
       "ABT                Health Care   39.60      15.573\n",
       "ABBV               Health Care   53.95       2.954\n",
       "ACN     Information Technology   79.79       8.326\n",
       "ACE                 Financials  102.91      86.897"
      ],
      "text/html": "<div>\n<style scoped>\n    .dataframe tbody tr th:only-of-type {\n        vertical-align: middle;\n    }\n\n    .dataframe tbody tr th {\n        vertical-align: top;\n    }\n\n    .dataframe thead th {\n        text-align: right;\n    }\n</style>\n<table border=\"1\" class=\"dataframe\">\n  <thead>\n    <tr style=\"text-align: right;\">\n      <th></th>\n      <th>Sector</th>\n      <th>Price</th>\n      <th>Book Value</th>\n    </tr>\n    <tr>\n      <th>Symbol</th>\n      <th></th>\n      <th></th>\n      <th></th>\n    </tr>\n  </thead>\n  <tbody>\n    <tr>\n      <th>MMM</th>\n      <td>Industrials</td>\n      <td>141.14</td>\n      <td>26.668</td>\n    </tr>\n    <tr>\n      <th>ABT</th>\n      <td>Health Care</td>\n      <td>39.60</td>\n      <td>15.573</td>\n    </tr>\n    <tr>\n      <th>ABBV</th>\n      <td>Health Care</td>\n      <td>53.95</td>\n      <td>2.954</td>\n    </tr>\n    <tr>\n      <th>ACN</th>\n      <td>Information Technology</td>\n      <td>79.79</td>\n      <td>8.326</td>\n    </tr>\n    <tr>\n      <th>ACE</th>\n      <td>Financials</td>\n      <td>102.91</td>\n      <td>86.897</td>\n    </tr>\n  </tbody>\n</table>\n</div>"
     },
     "metadata": {},
     "execution_count": 25
    }
   ],
   "source": [
    "sp500[:5]"
   ]
  },
  {
   "cell_type": "code",
   "execution_count": 26,
   "metadata": {},
   "outputs": [
    {
     "output_type": "execute_result",
     "data": {
      "text/plain": [
       "    Symbol                  Sector   Price  Book Value\n",
       "0      MMM             Industrials  141.14      26.668\n",
       "1      ABT             Health Care   39.60      15.573\n",
       "2     ABBV             Health Care   53.95       2.954\n",
       "3      ACN  Information Technology   79.79       8.326\n",
       "4      ACE              Financials  102.91      86.897\n",
       "..     ...                     ...     ...         ...\n",
       "495   YHOO  Information Technology   35.02      12.768\n",
       "496    YUM  Consumer Discretionary   74.77       5.147\n",
       "497    ZMH             Health Care  101.84      37.181\n",
       "498   ZION              Financials   28.43      30.191\n",
       "499    ZTS             Health Care   30.53       2.150\n",
       "\n",
       "[500 rows x 4 columns]"
      ],
      "text/html": "<div>\n<style scoped>\n    .dataframe tbody tr th:only-of-type {\n        vertical-align: middle;\n    }\n\n    .dataframe tbody tr th {\n        vertical-align: top;\n    }\n\n    .dataframe thead th {\n        text-align: right;\n    }\n</style>\n<table border=\"1\" class=\"dataframe\">\n  <thead>\n    <tr style=\"text-align: right;\">\n      <th></th>\n      <th>Symbol</th>\n      <th>Sector</th>\n      <th>Price</th>\n      <th>Book Value</th>\n    </tr>\n  </thead>\n  <tbody>\n    <tr>\n      <th>0</th>\n      <td>MMM</td>\n      <td>Industrials</td>\n      <td>141.14</td>\n      <td>26.668</td>\n    </tr>\n    <tr>\n      <th>1</th>\n      <td>ABT</td>\n      <td>Health Care</td>\n      <td>39.60</td>\n      <td>15.573</td>\n    </tr>\n    <tr>\n      <th>2</th>\n      <td>ABBV</td>\n      <td>Health Care</td>\n      <td>53.95</td>\n      <td>2.954</td>\n    </tr>\n    <tr>\n      <th>3</th>\n      <td>ACN</td>\n      <td>Information Technology</td>\n      <td>79.79</td>\n      <td>8.326</td>\n    </tr>\n    <tr>\n      <th>4</th>\n      <td>ACE</td>\n      <td>Financials</td>\n      <td>102.91</td>\n      <td>86.897</td>\n    </tr>\n    <tr>\n      <th>...</th>\n      <td>...</td>\n      <td>...</td>\n      <td>...</td>\n      <td>...</td>\n    </tr>\n    <tr>\n      <th>495</th>\n      <td>YHOO</td>\n      <td>Information Technology</td>\n      <td>35.02</td>\n      <td>12.768</td>\n    </tr>\n    <tr>\n      <th>496</th>\n      <td>YUM</td>\n      <td>Consumer Discretionary</td>\n      <td>74.77</td>\n      <td>5.147</td>\n    </tr>\n    <tr>\n      <th>497</th>\n      <td>ZMH</td>\n      <td>Health Care</td>\n      <td>101.84</td>\n      <td>37.181</td>\n    </tr>\n    <tr>\n      <th>498</th>\n      <td>ZION</td>\n      <td>Financials</td>\n      <td>28.43</td>\n      <td>30.191</td>\n    </tr>\n    <tr>\n      <th>499</th>\n      <td>ZTS</td>\n      <td>Health Care</td>\n      <td>30.53</td>\n      <td>2.150</td>\n    </tr>\n  </tbody>\n</table>\n<p>500 rows × 4 columns</p>\n</div>"
     },
     "metadata": {},
     "execution_count": 26
    }
   ],
   "source": [
    "index_moved_to_col = sp500.reset_index()\n",
    "index_moved_to_col"
   ]
  },
  {
   "cell_type": "code",
   "execution_count": 27,
   "metadata": {},
   "outputs": [
    {
     "output_type": "execute_result",
     "data": {
      "text/plain": [
       "                       Symbol   Price  Book Value\n",
       "Sector                                           \n",
       "Industrials               MMM  141.14      26.668\n",
       "Health Care               ABT   39.60      15.573\n",
       "Health Care              ABBV   53.95       2.954\n",
       "Information Technology    ACN   79.79       8.326\n",
       "Financials                ACE  102.91      86.897"
      ],
      "text/html": "<div>\n<style scoped>\n    .dataframe tbody tr th:only-of-type {\n        vertical-align: middle;\n    }\n\n    .dataframe tbody tr th {\n        vertical-align: top;\n    }\n\n    .dataframe thead th {\n        text-align: right;\n    }\n</style>\n<table border=\"1\" class=\"dataframe\">\n  <thead>\n    <tr style=\"text-align: right;\">\n      <th></th>\n      <th>Symbol</th>\n      <th>Price</th>\n      <th>Book Value</th>\n    </tr>\n    <tr>\n      <th>Sector</th>\n      <th></th>\n      <th></th>\n      <th></th>\n    </tr>\n  </thead>\n  <tbody>\n    <tr>\n      <th>Industrials</th>\n      <td>MMM</td>\n      <td>141.14</td>\n      <td>26.668</td>\n    </tr>\n    <tr>\n      <th>Health Care</th>\n      <td>ABT</td>\n      <td>39.60</td>\n      <td>15.573</td>\n    </tr>\n    <tr>\n      <th>Health Care</th>\n      <td>ABBV</td>\n      <td>53.95</td>\n      <td>2.954</td>\n    </tr>\n    <tr>\n      <th>Information Technology</th>\n      <td>ACN</td>\n      <td>79.79</td>\n      <td>8.326</td>\n    </tr>\n    <tr>\n      <th>Financials</th>\n      <td>ACE</td>\n      <td>102.91</td>\n      <td>86.897</td>\n    </tr>\n  </tbody>\n</table>\n</div>"
     },
     "metadata": {},
     "execution_count": 27
    }
   ],
   "source": [
    "index_moved_to_col.set_index('Sector').head()"
   ]
  },
  {
   "cell_type": "code",
   "execution_count": 29,
   "metadata": {},
   "outputs": [
    {
     "output_type": "execute_result",
     "data": {
      "text/plain": [
       "             Sector   Price  Book Value\n",
       "Symbol                                 \n",
       "MMM     Industrials  141.14      26.668\n",
       "ABBV    Health Care   53.95       2.954\n",
       "FOO             NaN     NaN         NaN"
      ],
      "text/html": "<div>\n<style scoped>\n    .dataframe tbody tr th:only-of-type {\n        vertical-align: middle;\n    }\n\n    .dataframe tbody tr th {\n        vertical-align: top;\n    }\n\n    .dataframe thead th {\n        text-align: right;\n    }\n</style>\n<table border=\"1\" class=\"dataframe\">\n  <thead>\n    <tr style=\"text-align: right;\">\n      <th></th>\n      <th>Sector</th>\n      <th>Price</th>\n      <th>Book Value</th>\n    </tr>\n    <tr>\n      <th>Symbol</th>\n      <th></th>\n      <th></th>\n      <th></th>\n    </tr>\n  </thead>\n  <tbody>\n    <tr>\n      <th>MMM</th>\n      <td>Industrials</td>\n      <td>141.14</td>\n      <td>26.668</td>\n    </tr>\n    <tr>\n      <th>ABBV</th>\n      <td>Health Care</td>\n      <td>53.95</td>\n      <td>2.954</td>\n    </tr>\n    <tr>\n      <th>FOO</th>\n      <td>NaN</td>\n      <td>NaN</td>\n      <td>NaN</td>\n    </tr>\n  </tbody>\n</table>\n</div>"
     },
     "metadata": {},
     "execution_count": 29
    }
   ],
   "source": [
    "reindexed = sp500.reindex(index = ['MMM', 'ABBV', 'FOO'])\n",
    "reindexed"
   ]
  },
  {
   "cell_type": "code",
   "execution_count": 30,
   "metadata": {},
   "outputs": [
    {
     "output_type": "execute_result",
     "data": {
      "text/plain": [
       "         Price  Book Value  NewCol\n",
       "Symbol                            \n",
       "MMM     141.14      26.668     NaN\n",
       "ABT      39.60      15.573     NaN\n",
       "ABBV     53.95       2.954     NaN\n",
       "ACN      79.79       8.326     NaN\n",
       "ACE     102.91      86.897     NaN"
      ],
      "text/html": "<div>\n<style scoped>\n    .dataframe tbody tr th:only-of-type {\n        vertical-align: middle;\n    }\n\n    .dataframe tbody tr th {\n        vertical-align: top;\n    }\n\n    .dataframe thead th {\n        text-align: right;\n    }\n</style>\n<table border=\"1\" class=\"dataframe\">\n  <thead>\n    <tr style=\"text-align: right;\">\n      <th></th>\n      <th>Price</th>\n      <th>Book Value</th>\n      <th>NewCol</th>\n    </tr>\n    <tr>\n      <th>Symbol</th>\n      <th></th>\n      <th></th>\n      <th></th>\n    </tr>\n  </thead>\n  <tbody>\n    <tr>\n      <th>MMM</th>\n      <td>141.14</td>\n      <td>26.668</td>\n      <td>NaN</td>\n    </tr>\n    <tr>\n      <th>ABT</th>\n      <td>39.60</td>\n      <td>15.573</td>\n      <td>NaN</td>\n    </tr>\n    <tr>\n      <th>ABBV</th>\n      <td>53.95</td>\n      <td>2.954</td>\n      <td>NaN</td>\n    </tr>\n    <tr>\n      <th>ACN</th>\n      <td>79.79</td>\n      <td>8.326</td>\n      <td>NaN</td>\n    </tr>\n    <tr>\n      <th>ACE</th>\n      <td>102.91</td>\n      <td>86.897</td>\n      <td>NaN</td>\n    </tr>\n  </tbody>\n</table>\n</div>"
     },
     "metadata": {},
     "execution_count": 30
    }
   ],
   "source": [
    "sp500.reindex(columns=['Price', 'Book Value', 'NewCol']).head()"
   ]
  },
  {
   "cell_type": "code",
   "execution_count": 31,
   "metadata": {},
   "outputs": [
    {
     "output_type": "execute_result",
     "data": {
      "text/plain": [
       "    Symbol                  Sector   Price  Book Value\n",
       "0      MMM             Industrials  141.14      26.668\n",
       "1      ABT             Health Care   39.60      15.573\n",
       "2     ABBV             Health Care   53.95       2.954\n",
       "3      ACN  Information Technology   79.79       8.326\n",
       "4      ACE              Financials  102.91      86.897\n",
       "..     ...                     ...     ...         ...\n",
       "495   YHOO  Information Technology   35.02      12.768\n",
       "496    YUM  Consumer Discretionary   74.77       5.147\n",
       "497    ZMH             Health Care  101.84      37.181\n",
       "498   ZION              Financials   28.43      30.191\n",
       "499    ZTS             Health Care   30.53       2.150\n",
       "\n",
       "[500 rows x 4 columns]"
      ],
      "text/html": "<div>\n<style scoped>\n    .dataframe tbody tr th:only-of-type {\n        vertical-align: middle;\n    }\n\n    .dataframe tbody tr th {\n        vertical-align: top;\n    }\n\n    .dataframe thead th {\n        text-align: right;\n    }\n</style>\n<table border=\"1\" class=\"dataframe\">\n  <thead>\n    <tr style=\"text-align: right;\">\n      <th></th>\n      <th>Symbol</th>\n      <th>Sector</th>\n      <th>Price</th>\n      <th>Book Value</th>\n    </tr>\n  </thead>\n  <tbody>\n    <tr>\n      <th>0</th>\n      <td>MMM</td>\n      <td>Industrials</td>\n      <td>141.14</td>\n      <td>26.668</td>\n    </tr>\n    <tr>\n      <th>1</th>\n      <td>ABT</td>\n      <td>Health Care</td>\n      <td>39.60</td>\n      <td>15.573</td>\n    </tr>\n    <tr>\n      <th>2</th>\n      <td>ABBV</td>\n      <td>Health Care</td>\n      <td>53.95</td>\n      <td>2.954</td>\n    </tr>\n    <tr>\n      <th>3</th>\n      <td>ACN</td>\n      <td>Information Technology</td>\n      <td>79.79</td>\n      <td>8.326</td>\n    </tr>\n    <tr>\n      <th>4</th>\n      <td>ACE</td>\n      <td>Financials</td>\n      <td>102.91</td>\n      <td>86.897</td>\n    </tr>\n    <tr>\n      <th>...</th>\n      <td>...</td>\n      <td>...</td>\n      <td>...</td>\n      <td>...</td>\n    </tr>\n    <tr>\n      <th>495</th>\n      <td>YHOO</td>\n      <td>Information Technology</td>\n      <td>35.02</td>\n      <td>12.768</td>\n    </tr>\n    <tr>\n      <th>496</th>\n      <td>YUM</td>\n      <td>Consumer Discretionary</td>\n      <td>74.77</td>\n      <td>5.147</td>\n    </tr>\n    <tr>\n      <th>497</th>\n      <td>ZMH</td>\n      <td>Health Care</td>\n      <td>101.84</td>\n      <td>37.181</td>\n    </tr>\n    <tr>\n      <th>498</th>\n      <td>ZION</td>\n      <td>Financials</td>\n      <td>28.43</td>\n      <td>30.191</td>\n    </tr>\n    <tr>\n      <th>499</th>\n      <td>ZTS</td>\n      <td>Health Care</td>\n      <td>30.53</td>\n      <td>2.150</td>\n    </tr>\n  </tbody>\n</table>\n<p>500 rows × 4 columns</p>\n</div>"
     },
     "metadata": {},
     "execution_count": 31
    }
   ],
   "source": [
    "reindexed = sp500.reset_index()\n",
    "reindexed"
   ]
  },
  {
   "cell_type": "code",
   "execution_count": 32,
   "metadata": {},
   "outputs": [
    {
     "output_type": "execute_result",
     "data": {
      "text/plain": [
       "                                Price  Book Value\n",
       "Sector                 Symbol                    \n",
       "Industrials            MMM     141.14      26.668\n",
       "Health Care            ABT      39.60      15.573\n",
       "                       ABBV     53.95       2.954\n",
       "Information Technology ACN      79.79       8.326\n",
       "Financials             ACE     102.91      86.897\n",
       "...                               ...         ...\n",
       "Information Technology YHOO     35.02      12.768\n",
       "Consumer Discretionary YUM      74.77       5.147\n",
       "Health Care            ZMH     101.84      37.181\n",
       "Financials             ZION     28.43      30.191\n",
       "Health Care            ZTS      30.53       2.150\n",
       "\n",
       "[500 rows x 2 columns]"
      ],
      "text/html": "<div>\n<style scoped>\n    .dataframe tbody tr th:only-of-type {\n        vertical-align: middle;\n    }\n\n    .dataframe tbody tr th {\n        vertical-align: top;\n    }\n\n    .dataframe thead th {\n        text-align: right;\n    }\n</style>\n<table border=\"1\" class=\"dataframe\">\n  <thead>\n    <tr style=\"text-align: right;\">\n      <th></th>\n      <th></th>\n      <th>Price</th>\n      <th>Book Value</th>\n    </tr>\n    <tr>\n      <th>Sector</th>\n      <th>Symbol</th>\n      <th></th>\n      <th></th>\n    </tr>\n  </thead>\n  <tbody>\n    <tr>\n      <th>Industrials</th>\n      <th>MMM</th>\n      <td>141.14</td>\n      <td>26.668</td>\n    </tr>\n    <tr>\n      <th rowspan=\"2\" valign=\"top\">Health Care</th>\n      <th>ABT</th>\n      <td>39.60</td>\n      <td>15.573</td>\n    </tr>\n    <tr>\n      <th>ABBV</th>\n      <td>53.95</td>\n      <td>2.954</td>\n    </tr>\n    <tr>\n      <th>Information Technology</th>\n      <th>ACN</th>\n      <td>79.79</td>\n      <td>8.326</td>\n    </tr>\n    <tr>\n      <th>Financials</th>\n      <th>ACE</th>\n      <td>102.91</td>\n      <td>86.897</td>\n    </tr>\n    <tr>\n      <th>...</th>\n      <th>...</th>\n      <td>...</td>\n      <td>...</td>\n    </tr>\n    <tr>\n      <th>Information Technology</th>\n      <th>YHOO</th>\n      <td>35.02</td>\n      <td>12.768</td>\n    </tr>\n    <tr>\n      <th>Consumer Discretionary</th>\n      <th>YUM</th>\n      <td>74.77</td>\n      <td>5.147</td>\n    </tr>\n    <tr>\n      <th>Health Care</th>\n      <th>ZMH</th>\n      <td>101.84</td>\n      <td>37.181</td>\n    </tr>\n    <tr>\n      <th>Financials</th>\n      <th>ZION</th>\n      <td>28.43</td>\n      <td>30.191</td>\n    </tr>\n    <tr>\n      <th>Health Care</th>\n      <th>ZTS</th>\n      <td>30.53</td>\n      <td>2.150</td>\n    </tr>\n  </tbody>\n</table>\n<p>500 rows × 2 columns</p>\n</div>"
     },
     "metadata": {},
     "execution_count": 32
    }
   ],
   "source": [
    "multi_fi = reindexed.set_index(['Sector', 'Symbol'])\n",
    "multi_fi"
   ]
  },
  {
   "cell_type": "code",
   "execution_count": 33,
   "metadata": {},
   "outputs": [
    {
     "output_type": "execute_result",
     "data": {
      "text/plain": [
       "pandas.core.indexes.multi.MultiIndex"
      ]
     },
     "metadata": {},
     "execution_count": 33
    }
   ],
   "source": [
    "type(multi_fi.index)"
   ]
  },
  {
   "cell_type": "code",
   "execution_count": 34,
   "metadata": {},
   "outputs": [
    {
     "output_type": "execute_result",
     "data": {
      "text/plain": [
       "2"
      ]
     },
     "metadata": {},
     "execution_count": 34
    }
   ],
   "source": [
    "len(multi_fi.index.levels)"
   ]
  },
  {
   "cell_type": "code",
   "execution_count": 35,
   "metadata": {},
   "outputs": [
    {
     "output_type": "execute_result",
     "data": {
      "text/plain": [
       "Index(['Consumer Discretionary', 'Consumer Discretionary ', 'Consumer Staples',\n",
       "       'Consumer Staples ', 'Energy', 'Financials', 'Health Care',\n",
       "       'Industrials', 'Industries', 'Information Technology', 'Materials',\n",
       "       'Telecommunications Services', 'Utilities'],\n",
       "      dtype='object', name='Sector')"
      ]
     },
     "metadata": {},
     "execution_count": 35
    }
   ],
   "source": [
    "multi_fi.index.levels[0]"
   ]
  },
  {
   "cell_type": "code",
   "execution_count": 36,
   "metadata": {},
   "outputs": [
    {
     "output_type": "execute_result",
     "data": {
      "text/plain": [
       "Index(['A', 'AA', 'AAPL', 'ABBV', 'ABC', 'ABT', 'ACE', 'ACN', 'ACT', 'ADBE',\n",
       "       ...\n",
       "       'XLNX', 'XOM', 'XRAY', 'XRX', 'XYL', 'YHOO', 'YUM', 'ZION', 'ZMH',\n",
       "       'ZTS'],\n",
       "      dtype='object', name='Symbol', length=500)"
      ]
     },
     "metadata": {},
     "execution_count": 36
    }
   ],
   "source": [
    "multi_fi.index.levels[1]"
   ]
  },
  {
   "cell_type": "code",
   "execution_count": 38,
   "metadata": {},
   "outputs": [
    {
     "output_type": "execute_result",
     "data": {
      "text/plain": [
       "Index(['Industrials', 'Health Care', 'Health Care', 'Information Technology',\n",
       "       'Financials', 'Health Care', 'Information Technology', 'Utilities',\n",
       "       'Health Care', 'Financials',\n",
       "       ...\n",
       "       'Utilities', 'Information Technology', 'Information Technology',\n",
       "       'Financials', 'Industrials', 'Information Technology',\n",
       "       'Consumer Discretionary', 'Health Care', 'Financials', 'Health Care'],\n",
       "      dtype='object', name='Sector', length=500)"
      ]
     },
     "metadata": {},
     "execution_count": 38
    }
   ],
   "source": [
    "multi_fi.index.get_level_values(0)"
   ]
  },
  {
   "cell_type": "code",
   "execution_count": 39,
   "metadata": {},
   "outputs": [
    {
     "output_type": "execute_result",
     "data": {
      "text/plain": [
       "         Price  Book Value\n",
       "Symbol                    \n",
       "MMM     141.14      26.668\n",
       "ALLE     52.46       0.000\n",
       "APH      95.71      18.315\n",
       "AVY      48.20      15.616\n",
       "BA      132.41      19.870\n",
       "...        ...         ...\n",
       "UNP     196.26      46.957\n",
       "UPS     102.73       6.790\n",
       "UTX     115.54      35.252\n",
       "WM       43.37      12.330\n",
       "XYL      38.42      12.127\n",
       "\n",
       "[64 rows x 2 columns]"
      ],
      "text/html": "<div>\n<style scoped>\n    .dataframe tbody tr th:only-of-type {\n        vertical-align: middle;\n    }\n\n    .dataframe tbody tr th {\n        vertical-align: top;\n    }\n\n    .dataframe thead th {\n        text-align: right;\n    }\n</style>\n<table border=\"1\" class=\"dataframe\">\n  <thead>\n    <tr style=\"text-align: right;\">\n      <th></th>\n      <th>Price</th>\n      <th>Book Value</th>\n    </tr>\n    <tr>\n      <th>Symbol</th>\n      <th></th>\n      <th></th>\n    </tr>\n  </thead>\n  <tbody>\n    <tr>\n      <th>MMM</th>\n      <td>141.14</td>\n      <td>26.668</td>\n    </tr>\n    <tr>\n      <th>ALLE</th>\n      <td>52.46</td>\n      <td>0.000</td>\n    </tr>\n    <tr>\n      <th>APH</th>\n      <td>95.71</td>\n      <td>18.315</td>\n    </tr>\n    <tr>\n      <th>AVY</th>\n      <td>48.20</td>\n      <td>15.616</td>\n    </tr>\n    <tr>\n      <th>BA</th>\n      <td>132.41</td>\n      <td>19.870</td>\n    </tr>\n    <tr>\n      <th>...</th>\n      <td>...</td>\n      <td>...</td>\n    </tr>\n    <tr>\n      <th>UNP</th>\n      <td>196.26</td>\n      <td>46.957</td>\n    </tr>\n    <tr>\n      <th>UPS</th>\n      <td>102.73</td>\n      <td>6.790</td>\n    </tr>\n    <tr>\n      <th>UTX</th>\n      <td>115.54</td>\n      <td>35.252</td>\n    </tr>\n    <tr>\n      <th>WM</th>\n      <td>43.37</td>\n      <td>12.330</td>\n    </tr>\n    <tr>\n      <th>XYL</th>\n      <td>38.42</td>\n      <td>12.127</td>\n    </tr>\n  </tbody>\n</table>\n<p>64 rows × 2 columns</p>\n</div>"
     },
     "metadata": {},
     "execution_count": 39
    }
   ],
   "source": [
    "multi_fi.xs('Industrials')"
   ]
  },
  {
   "cell_type": "code",
   "execution_count": 42,
   "metadata": {},
   "outputs": [
    {
     "output_type": "execute_result",
     "data": {
      "text/plain": [
       "             Price  Book Value\n",
       "Sector                        \n",
       "Industrials  52.46         0.0"
      ],
      "text/html": "<div>\n<style scoped>\n    .dataframe tbody tr th:only-of-type {\n        vertical-align: middle;\n    }\n\n    .dataframe tbody tr th {\n        vertical-align: top;\n    }\n\n    .dataframe thead th {\n        text-align: right;\n    }\n</style>\n<table border=\"1\" class=\"dataframe\">\n  <thead>\n    <tr style=\"text-align: right;\">\n      <th></th>\n      <th>Price</th>\n      <th>Book Value</th>\n    </tr>\n    <tr>\n      <th>Sector</th>\n      <th></th>\n      <th></th>\n    </tr>\n  </thead>\n  <tbody>\n    <tr>\n      <th>Industrials</th>\n      <td>52.46</td>\n      <td>0.0</td>\n    </tr>\n  </tbody>\n</table>\n</div>"
     },
     "metadata": {},
     "execution_count": 42
    }
   ],
   "source": [
    "multi_fi.xs('ALLE', level=1)"
   ]
  },
  {
   "cell_type": "code",
   "execution_count": 43,
   "metadata": {},
   "outputs": [
    {
     "output_type": "execute_result",
     "data": {
      "text/plain": [
       "                     Price  Book Value\n",
       "Sector      Symbol                    \n",
       "Industrials MMM     141.14      26.668\n",
       "            ALLE     52.46       0.000\n",
       "            APH      95.71      18.315\n",
       "            AVY      48.20      15.616\n",
       "            BA      132.41      19.870\n",
       "...                    ...         ...\n",
       "            UNP     196.26      46.957\n",
       "            UPS     102.73       6.790\n",
       "            UTX     115.54      35.252\n",
       "            WM       43.37      12.330\n",
       "            XYL      38.42      12.127\n",
       "\n",
       "[64 rows x 2 columns]"
      ],
      "text/html": "<div>\n<style scoped>\n    .dataframe tbody tr th:only-of-type {\n        vertical-align: middle;\n    }\n\n    .dataframe tbody tr th {\n        vertical-align: top;\n    }\n\n    .dataframe thead th {\n        text-align: right;\n    }\n</style>\n<table border=\"1\" class=\"dataframe\">\n  <thead>\n    <tr style=\"text-align: right;\">\n      <th></th>\n      <th></th>\n      <th>Price</th>\n      <th>Book Value</th>\n    </tr>\n    <tr>\n      <th>Sector</th>\n      <th>Symbol</th>\n      <th></th>\n      <th></th>\n    </tr>\n  </thead>\n  <tbody>\n    <tr>\n      <th rowspan=\"11\" valign=\"top\">Industrials</th>\n      <th>MMM</th>\n      <td>141.14</td>\n      <td>26.668</td>\n    </tr>\n    <tr>\n      <th>ALLE</th>\n      <td>52.46</td>\n      <td>0.000</td>\n    </tr>\n    <tr>\n      <th>APH</th>\n      <td>95.71</td>\n      <td>18.315</td>\n    </tr>\n    <tr>\n      <th>AVY</th>\n      <td>48.20</td>\n      <td>15.616</td>\n    </tr>\n    <tr>\n      <th>BA</th>\n      <td>132.41</td>\n      <td>19.870</td>\n    </tr>\n    <tr>\n      <th>...</th>\n      <td>...</td>\n      <td>...</td>\n    </tr>\n    <tr>\n      <th>UNP</th>\n      <td>196.26</td>\n      <td>46.957</td>\n    </tr>\n    <tr>\n      <th>UPS</th>\n      <td>102.73</td>\n      <td>6.790</td>\n    </tr>\n    <tr>\n      <th>UTX</th>\n      <td>115.54</td>\n      <td>35.252</td>\n    </tr>\n    <tr>\n      <th>WM</th>\n      <td>43.37</td>\n      <td>12.330</td>\n    </tr>\n    <tr>\n      <th>XYL</th>\n      <td>38.42</td>\n      <td>12.127</td>\n    </tr>\n  </tbody>\n</table>\n<p>64 rows × 2 columns</p>\n</div>"
     },
     "metadata": {},
     "execution_count": 43
    }
   ],
   "source": [
    "multi_fi.xs('Industrials', drop_level=False)"
   ]
  },
  {
   "cell_type": "code",
   "execution_count": 44,
   "metadata": {},
   "outputs": [
    {
     "output_type": "execute_result",
     "data": {
      "text/plain": [
       "Price         102.73\n",
       "Book Value      6.79\n",
       "Name: UPS, dtype: float64"
      ]
     },
     "metadata": {},
     "execution_count": 44
    }
   ],
   "source": [
    "multi_fi.xs('Industrials').xs('UPS')"
   ]
  },
  {
   "cell_type": "code",
   "execution_count": 45,
   "metadata": {},
   "outputs": [
    {
     "output_type": "execute_result",
     "data": {
      "text/plain": [
       "Price         102.73\n",
       "Book Value      6.79\n",
       "Name: (Industrials, UPS), dtype: float64"
      ]
     },
     "metadata": {},
     "execution_count": 45
    }
   ],
   "source": [
    "multi_fi.xs(('Industrials', 'UPS'))"
   ]
  },
  {
   "cell_type": "code",
   "execution_count": null,
   "metadata": {},
   "outputs": [],
   "source": []
  }
 ]
}