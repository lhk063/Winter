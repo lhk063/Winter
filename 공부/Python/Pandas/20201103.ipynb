{
 "metadata": {
  "language_info": {
   "codemirror_mode": {
    "name": "ipython",
    "version": 3
   },
   "file_extension": ".py",
   "mimetype": "text/x-python",
   "name": "python",
   "nbconvert_exporter": "python",
   "pygments_lexer": "ipython3",
   "version": "3.7.6-final"
  },
  "orig_nbformat": 2,
  "kernelspec": {
   "name": "tf2.0-gpu",
   "display_name": "tf-gpu"
  }
 },
 "nbformat": 4,
 "nbformat_minor": 2,
 "cells": [
  {
   "cell_type": "code",
   "execution_count": 2,
   "metadata": {},
   "outputs": [],
   "source": [
    "import pandas as pd\n",
    "import numpy as np\n",
    "import datetime\n",
    "from datetime import datetime, date\n",
    "import matplotlib.pyplot as plt"
   ]
  },
  {
   "cell_type": "code",
   "execution_count": 3,
   "metadata": {},
   "outputs": [
    {
     "output_type": "execute_result",
     "data": {
      "text/plain": [
       "[low, high, medium, medium, high]\n",
       "Categories (3, object): [high, low, medium]"
      ]
     },
     "metadata": {},
     "execution_count": 3
    }
   ],
   "source": [
    "lmh_values = ['low', 'high', 'medium', 'medium', 'high']\n",
    "lmh_cat = pd.Categorical(lmh_values)\n",
    "lmh_cat"
   ]
  },
  {
   "cell_type": "code",
   "execution_count": 4,
   "metadata": {},
   "outputs": [
    {
     "output_type": "execute_result",
     "data": {
      "text/plain": [
       "Index(['high', 'low', 'medium'], dtype='object')"
      ]
     },
     "metadata": {},
     "execution_count": 4
    }
   ],
   "source": [
    "lmh_cat.categories"
   ]
  },
  {
   "cell_type": "code",
   "execution_count": 5,
   "metadata": {},
   "outputs": [
    {
     "output_type": "execute_result",
     "data": {
      "text/plain": [
       "array(['low', 'high', 'medium', 'medium', 'high'], dtype=object)"
      ]
     },
     "metadata": {},
     "execution_count": 5
    }
   ],
   "source": [
    "lmh_cat.to_numpy()"
   ]
  },
  {
   "cell_type": "code",
   "execution_count": 6,
   "metadata": {},
   "outputs": [
    {
     "output_type": "execute_result",
     "data": {
      "text/plain": [
       "array([1, 0, 2, 2, 0], dtype=int8)"
      ]
     },
     "metadata": {},
     "execution_count": 6
    }
   ],
   "source": [
    "lmh_cat.codes"
   ]
  },
  {
   "cell_type": "code",
   "execution_count": 7,
   "metadata": {},
   "outputs": [
    {
     "output_type": "execute_result",
     "data": {
      "text/plain": [
       "[low, high, medium, medium, high]\n",
       "Categories (3, object): [low, medium, high]"
      ]
     },
     "metadata": {},
     "execution_count": 7
    }
   ],
   "source": [
    "lmh_cat = pd.Categorical(lmh_values, categories=['low', 'medium', 'high'])\n",
    "lmh_cat"
   ]
  },
  {
   "cell_type": "code",
   "execution_count": 8,
   "metadata": {},
   "outputs": [
    {
     "output_type": "execute_result",
     "data": {
      "text/plain": [
       "array([0, 2, 1, 1, 2], dtype=int8)"
      ]
     },
     "metadata": {},
     "execution_count": 8
    }
   ],
   "source": [
    "lmh_cat.codes"
   ]
  },
  {
   "cell_type": "code",
   "execution_count": 9,
   "metadata": {},
   "outputs": [
    {
     "output_type": "execute_result",
     "data": {
      "text/plain": [
       "[low, medium, medium, high, high]\n",
       "Categories (3, object): [low, medium, high]"
      ]
     },
     "metadata": {},
     "execution_count": 9
    }
   ],
   "source": [
    "lmh_cat.sort_values()"
   ]
  },
  {
   "cell_type": "code",
   "execution_count": 10,
   "metadata": {},
   "outputs": [
    {
     "output_type": "execute_result",
     "data": {
      "text/plain": [
       "0       low\n",
       "1      high\n",
       "2    medium\n",
       "3    medium\n",
       "4      high\n",
       "dtype: category\n",
       "Categories (3, object): [high, low, medium]"
      ]
     },
     "metadata": {},
     "execution_count": 10
    }
   ],
   "source": [
    "cat_series = pd.Series(lmh_values, dtype='category')\n",
    "cat_series"
   ]
  },
  {
   "cell_type": "code",
   "execution_count": 11,
   "metadata": {},
   "outputs": [
    {
     "output_type": "execute_result",
     "data": {
      "text/plain": [
       "0       low\n",
       "1      high\n",
       "2    medium\n",
       "3    medium\n",
       "4      high\n",
       "dtype: category\n",
       "Categories (3, object): [high, low, medium]"
      ]
     },
     "metadata": {},
     "execution_count": 11
    }
   ],
   "source": [
    "s = pd.Series(lmh_values)\n",
    "as_cat = s.astype('category')\n",
    "cat_series"
   ]
  },
  {
   "cell_type": "code",
   "execution_count": 12,
   "metadata": {},
   "outputs": [
    {
     "output_type": "execute_result",
     "data": {
      "text/plain": [
       "<pandas.core.arrays.categorical.CategoricalAccessor object at 0x000001129A9D39C8>"
      ]
     },
     "metadata": {},
     "execution_count": 12
    }
   ],
   "source": [
    "cat_series.cat"
   ]
  },
  {
   "cell_type": "code",
   "execution_count": 13,
   "metadata": {},
   "outputs": [
    {
     "output_type": "execute_result",
     "data": {
      "text/plain": [
       "Index(['high', 'low', 'medium'], dtype='object')"
      ]
     },
     "metadata": {},
     "execution_count": 13
    }
   ],
   "source": [
    "cat_series.cat.categories"
   ]
  },
  {
   "cell_type": "code",
   "execution_count": 14,
   "metadata": {},
   "outputs": [
    {
     "output_type": "execute_result",
     "data": {
      "text/plain": [
       "   values\n",
       "0      65\n",
       "1      49\n",
       "2      56\n",
       "3      43\n",
       "4      43"
      ],
      "text/html": "<div>\n<style scoped>\n    .dataframe tbody tr th:only-of-type {\n        vertical-align: middle;\n    }\n\n    .dataframe tbody tr th {\n        vertical-align: top;\n    }\n\n    .dataframe thead th {\n        text-align: right;\n    }\n</style>\n<table border=\"1\" class=\"dataframe\">\n  <thead>\n    <tr style=\"text-align: right;\">\n      <th></th>\n      <th>values</th>\n    </tr>\n  </thead>\n  <tbody>\n    <tr>\n      <th>0</th>\n      <td>65</td>\n    </tr>\n    <tr>\n      <th>1</th>\n      <td>49</td>\n    </tr>\n    <tr>\n      <th>2</th>\n      <td>56</td>\n    </tr>\n    <tr>\n      <th>3</th>\n      <td>43</td>\n    </tr>\n    <tr>\n      <th>4</th>\n      <td>43</td>\n    </tr>\n  </tbody>\n</table>\n</div>"
     },
     "metadata": {},
     "execution_count": 14
    }
   ],
   "source": [
    "np.random.seed(123456)\n",
    "values = np.random.randint(0, 100, 5)\n",
    "bins = pd.DataFrame({'values' : values})\n",
    "bins"
   ]
  },
  {
   "cell_type": "code",
   "execution_count": 15,
   "metadata": {},
   "outputs": [
    {
     "output_type": "execute_result",
     "data": {
      "text/plain": [
       "   values     Group\n",
       "0      65  (60, 70]\n",
       "1      49  (40, 50]\n",
       "2      56  (50, 60]\n",
       "3      43  (40, 50]\n",
       "4      43  (40, 50]"
      ],
      "text/html": "<div>\n<style scoped>\n    .dataframe tbody tr th:only-of-type {\n        vertical-align: middle;\n    }\n\n    .dataframe tbody tr th {\n        vertical-align: top;\n    }\n\n    .dataframe thead th {\n        text-align: right;\n    }\n</style>\n<table border=\"1\" class=\"dataframe\">\n  <thead>\n    <tr style=\"text-align: right;\">\n      <th></th>\n      <th>values</th>\n      <th>Group</th>\n    </tr>\n  </thead>\n  <tbody>\n    <tr>\n      <th>0</th>\n      <td>65</td>\n      <td>(60, 70]</td>\n    </tr>\n    <tr>\n      <th>1</th>\n      <td>49</td>\n      <td>(40, 50]</td>\n    </tr>\n    <tr>\n      <th>2</th>\n      <td>56</td>\n      <td>(50, 60]</td>\n    </tr>\n    <tr>\n      <th>3</th>\n      <td>43</td>\n      <td>(40, 50]</td>\n    </tr>\n    <tr>\n      <th>4</th>\n      <td>43</td>\n      <td>(40, 50]</td>\n    </tr>\n  </tbody>\n</table>\n</div>"
     },
     "metadata": {},
     "execution_count": 15
    }
   ],
   "source": [
    "bins['Group'] = pd.cut(values, range(0, 101, 10))\n",
    "bins"
   ]
  },
  {
   "cell_type": "code",
   "execution_count": 16,
   "metadata": {},
   "outputs": [
    {
     "output_type": "execute_result",
     "data": {
      "text/plain": [
       "0    (60, 70]\n",
       "1    (40, 50]\n",
       "2    (50, 60]\n",
       "3    (40, 50]\n",
       "4    (40, 50]\n",
       "Name: Group, dtype: category\n",
       "Categories (10, interval[int64]): [(0, 10] < (10, 20] < (20, 30] < (30, 40] ... (60, 70] < (70, 80] < (80, 90] < (90, 100]]"
      ]
     },
     "metadata": {},
     "execution_count": 16
    }
   ],
   "source": [
    "bins.Group"
   ]
  },
  {
   "cell_type": "code",
   "execution_count": 17,
   "metadata": {},
   "outputs": [
    {
     "output_type": "execute_result",
     "data": {
      "text/plain": [
       "[bronze, gold, silver, bronze]\n",
       "Categories (3, object): [bronze < silver < gold]"
      ]
     },
     "metadata": {},
     "execution_count": 17
    }
   ],
   "source": [
    "metal_values = ['bronze', 'gold', 'silver', 'bronze']\n",
    "metal_categories = ['bronze', 'silver', 'gold']\n",
    "metals = pd.Categorical(metal_values, categories = metal_categories, ordered= True)\n",
    "metals"
   ]
  },
  {
   "cell_type": "code",
   "execution_count": 18,
   "metadata": {},
   "outputs": [
    {
     "output_type": "execute_result",
     "data": {
      "text/plain": [
       "[bronze, silver, gold, bronze]\n",
       "Categories (3, object): [bronze < silver < gold]"
      ]
     },
     "metadata": {},
     "execution_count": 18
    }
   ],
   "source": [
    "metal_reversed_values = pd.Categorical(metals.to_numpy()[::-1], categories= metals.categories, ordered=True)\n",
    "metal_reversed_values"
   ]
  },
  {
   "cell_type": "code",
   "execution_count": 19,
   "metadata": {},
   "outputs": [
    {
     "output_type": "execute_result",
     "data": {
      "text/plain": [
       "array([ True, False,  True,  True])"
      ]
     },
     "metadata": {},
     "execution_count": 19
    }
   ],
   "source": [
    "metals <= metal_reversed_values"
   ]
  },
  {
   "cell_type": "code",
   "execution_count": 20,
   "metadata": {},
   "outputs": [
    {
     "output_type": "execute_result",
     "data": {
      "text/plain": [
       "array([0, 2, 1, 0], dtype=int8)"
      ]
     },
     "metadata": {},
     "execution_count": 20
    }
   ],
   "source": [
    "metals.codes"
   ]
  },
  {
   "cell_type": "code",
   "execution_count": 21,
   "metadata": {},
   "outputs": [
    {
     "output_type": "execute_result",
     "data": {
      "text/plain": [
       "array([0, 1, 2, 0], dtype=int8)"
      ]
     },
     "metadata": {},
     "execution_count": 21
    }
   ],
   "source": [
    "metal_reversed_values.codes"
   ]
  },
  {
   "cell_type": "code",
   "execution_count": 22,
   "metadata": {},
   "outputs": [
    {
     "output_type": "execute_result",
     "data": {
      "text/plain": [
       "[bronze, NaN]\n",
       "Categories (3, object): [bronze, silver, gold]"
      ]
     },
     "metadata": {},
     "execution_count": 22
    }
   ],
   "source": [
    "pd.Categorical(['bronze', 'copper'], categories=metal_categories)"
   ]
  },
  {
   "cell_type": "code",
   "execution_count": 23,
   "metadata": {},
   "outputs": [
    {
     "output_type": "execute_result",
     "data": {
      "text/plain": [
       "[a, b, c, a]\n",
       "Categories (3, object): [a, b, c]"
      ]
     },
     "metadata": {},
     "execution_count": 23
    }
   ],
   "source": [
    "cat = pd.Categorical(['a', 'b', 'c', 'a'], categories=['a', 'b', 'c'])\n",
    "cat"
   ]
  },
  {
   "cell_type": "code",
   "execution_count": 24,
   "metadata": {},
   "outputs": [
    {
     "output_type": "execute_result",
     "data": {
      "text/plain": [
       "[bronze, silver, gold, bronze]\n",
       "Categories (3, object): [bronze, silver, gold]"
      ]
     },
     "metadata": {},
     "execution_count": 24
    }
   ],
   "source": [
    "cat.categories = ['bronze', 'silver', 'gold']\n",
    "cat"
   ]
  },
  {
   "cell_type": "code",
   "execution_count": 25,
   "metadata": {},
   "outputs": [
    {
     "output_type": "execute_result",
     "data": {
      "text/plain": [
       "[x, y, z, x]\n",
       "Categories (3, object): [x, y, z]"
      ]
     },
     "metadata": {},
     "execution_count": 25
    }
   ],
   "source": [
    "cat.rename_categories(['x', 'y', 'z'])"
   ]
  },
  {
   "cell_type": "code",
   "execution_count": 26,
   "metadata": {},
   "outputs": [
    {
     "output_type": "execute_result",
     "data": {
      "text/plain": [
       "[bronze, silver, gold, bronze]\n",
       "Categories (3, object): [bronze, silver, gold]"
      ]
     },
     "metadata": {},
     "execution_count": 26
    }
   ],
   "source": [
    "cat"
   ]
  },
  {
   "cell_type": "code",
   "execution_count": 27,
   "metadata": {},
   "outputs": [
    {
     "output_type": "execute_result",
     "data": {
      "text/plain": [
       "[bronze, gold, silver, bronze]\n",
       "Categories (4, object): [bronze < silver < gold < platinum]"
      ]
     },
     "metadata": {},
     "execution_count": 27
    }
   ],
   "source": [
    "with_platinum = metals.add_categories(['platinum'])\n",
    "with_platinum"
   ]
  },
  {
   "cell_type": "code",
   "execution_count": 28,
   "metadata": {},
   "outputs": [
    {
     "output_type": "execute_result",
     "data": {
      "text/plain": [
       "[NaN, gold, silver, NaN]\n",
       "Categories (2, object): [silver < gold]"
      ]
     },
     "metadata": {},
     "execution_count": 28
    }
   ],
   "source": [
    "no_bronze = metals.remove_categories(['bronze'])\n",
    "no_bronze"
   ]
  },
  {
   "cell_type": "code",
   "execution_count": 29,
   "metadata": {},
   "outputs": [
    {
     "output_type": "execute_result",
     "data": {
      "text/plain": [
       "[bronze, gold, silver, bronze]\n",
       "Categories (3, object): [bronze < silver < gold]"
      ]
     },
     "metadata": {},
     "execution_count": 29
    }
   ],
   "source": [
    "with_platinum.remove_unused_categories()"
   ]
  },
  {
   "cell_type": "code",
   "execution_count": 30,
   "metadata": {},
   "outputs": [
    {
     "output_type": "execute_result",
     "data": {
      "text/plain": [
       "0     one\n",
       "1     two\n",
       "2    four\n",
       "3    five\n",
       "dtype: category\n",
       "Categories (4, object): [five, four, one, two]"
      ]
     },
     "metadata": {},
     "execution_count": 30
    }
   ],
   "source": [
    "s = pd.Series(['one', 'two', 'four', 'five'], dtype = 'category')\n",
    "s"
   ]
  },
  {
   "cell_type": "code",
   "execution_count": 31,
   "metadata": {},
   "outputs": [
    {
     "output_type": "execute_result",
     "data": {
      "text/plain": [
       "0     one\n",
       "1     NaN\n",
       "2    four\n",
       "3     NaN\n",
       "dtype: category\n",
       "Categories (2, object): [one, four]"
      ]
     },
     "metadata": {},
     "execution_count": 31
    }
   ],
   "source": [
    "s = s.cat.set_categories(['one', 'four'])\n",
    "s"
   ]
  },
  {
   "cell_type": "code",
   "execution_count": 32,
   "metadata": {},
   "outputs": [
    {
     "output_type": "execute_result",
     "data": {
      "text/plain": [
       "            counts  freqs\n",
       "categories               \n",
       "bronze           2   0.50\n",
       "silver           1   0.25\n",
       "gold             1   0.25"
      ],
      "text/html": "<div>\n<style scoped>\n    .dataframe tbody tr th:only-of-type {\n        vertical-align: middle;\n    }\n\n    .dataframe tbody tr th {\n        vertical-align: top;\n    }\n\n    .dataframe thead th {\n        text-align: right;\n    }\n</style>\n<table border=\"1\" class=\"dataframe\">\n  <thead>\n    <tr style=\"text-align: right;\">\n      <th></th>\n      <th>counts</th>\n      <th>freqs</th>\n    </tr>\n    <tr>\n      <th>categories</th>\n      <th></th>\n      <th></th>\n    </tr>\n  </thead>\n  <tbody>\n    <tr>\n      <th>bronze</th>\n      <td>2</td>\n      <td>0.50</td>\n    </tr>\n    <tr>\n      <th>silver</th>\n      <td>1</td>\n      <td>0.25</td>\n    </tr>\n    <tr>\n      <th>gold</th>\n      <td>1</td>\n      <td>0.25</td>\n    </tr>\n  </tbody>\n</table>\n</div>"
     },
     "metadata": {},
     "execution_count": 32
    }
   ],
   "source": [
    "metals.describe()"
   ]
  },
  {
   "cell_type": "code",
   "execution_count": 33,
   "metadata": {},
   "outputs": [
    {
     "output_type": "execute_result",
     "data": {
      "text/plain": [
       "bronze    2\n",
       "silver    1\n",
       "gold      1\n",
       "dtype: int64"
      ]
     },
     "metadata": {},
     "execution_count": 33
    }
   ],
   "source": [
    "metals.value_counts()"
   ]
  },
  {
   "cell_type": "code",
   "execution_count": 34,
   "metadata": {},
   "outputs": [
    {
     "output_type": "execute_result",
     "data": {
      "text/plain": [
       "('bronze',\n",
       " 'gold',\n",
       " [bronze]\n",
       " Categories (3, object): [bronze < silver < gold])"
      ]
     },
     "metadata": {},
     "execution_count": 34
    }
   ],
   "source": [
    "(metals.min(), metals.max(), metals.mode())"
   ]
  },
  {
   "cell_type": "code",
   "execution_count": 35,
   "metadata": {},
   "outputs": [
    {
     "output_type": "execute_result",
     "data": {
      "text/plain": [
       "     Name  Grade\n",
       "0   Ivana     51\n",
       "1  Norris     92\n",
       "2    Ruth    100\n",
       "3    Lane     99\n",
       "4    Skye     93\n",
       "5     Sol     97\n",
       "6   Dylan     93\n",
       "7  Katina     77\n",
       "8  Alissa     82\n",
       "9    Marc     73"
      ],
      "text/html": "<div>\n<style scoped>\n    .dataframe tbody tr th:only-of-type {\n        vertical-align: middle;\n    }\n\n    .dataframe tbody tr th {\n        vertical-align: top;\n    }\n\n    .dataframe thead th {\n        text-align: right;\n    }\n</style>\n<table border=\"1\" class=\"dataframe\">\n  <thead>\n    <tr style=\"text-align: right;\">\n      <th></th>\n      <th>Name</th>\n      <th>Grade</th>\n    </tr>\n  </thead>\n  <tbody>\n    <tr>\n      <th>0</th>\n      <td>Ivana</td>\n      <td>51</td>\n    </tr>\n    <tr>\n      <th>1</th>\n      <td>Norris</td>\n      <td>92</td>\n    </tr>\n    <tr>\n      <th>2</th>\n      <td>Ruth</td>\n      <td>100</td>\n    </tr>\n    <tr>\n      <th>3</th>\n      <td>Lane</td>\n      <td>99</td>\n    </tr>\n    <tr>\n      <th>4</th>\n      <td>Skye</td>\n      <td>93</td>\n    </tr>\n    <tr>\n      <th>5</th>\n      <td>Sol</td>\n      <td>97</td>\n    </tr>\n    <tr>\n      <th>6</th>\n      <td>Dylan</td>\n      <td>93</td>\n    </tr>\n    <tr>\n      <th>7</th>\n      <td>Katina</td>\n      <td>77</td>\n    </tr>\n    <tr>\n      <th>8</th>\n      <td>Alissa</td>\n      <td>82</td>\n    </tr>\n    <tr>\n      <th>9</th>\n      <td>Marc</td>\n      <td>73</td>\n    </tr>\n  </tbody>\n</table>\n</div>"
     },
     "metadata": {},
     "execution_count": 35
    }
   ],
   "source": [
    "np.random.seed(123456)\n",
    "names = ['Ivana', 'Norris', 'Ruth', 'Lane', 'Skye', 'Sol', 'Dylan', 'Katina', 'Alissa', 'Marc']\n",
    "grades = np.random.randint(50, 101, len(names))\n",
    "scores = pd.DataFrame({'Name' : names, 'Grade' : grades})\n",
    "scores"
   ]
  },
  {
   "cell_type": "code",
   "execution_count": 36,
   "metadata": {},
   "outputs": [],
   "source": [
    "score_bins = [0, 59, 62, 66, 69, 72, 76, 79, 82, 86, 89, 92, 99, 100]\n",
    "letter_grades = ['F', 'D-', 'D', 'D+', 'C-', 'C', 'C+', 'B-', 'B', 'B+', 'A-', 'A', 'A+']"
   ]
  },
  {
   "cell_type": "code",
   "execution_count": 38,
   "metadata": {},
   "outputs": [
    {
     "output_type": "execute_result",
     "data": {
      "text/plain": [
       "     Name  Grade Letter\n",
       "0   Ivana     51      F\n",
       "1  Norris     92     A-\n",
       "2    Ruth    100     A+\n",
       "3    Lane     99      A\n",
       "4    Skye     93      A\n",
       "5     Sol     97      A\n",
       "6   Dylan     93      A\n",
       "7  Katina     77     C+\n",
       "8  Alissa     82     B-\n",
       "9    Marc     73      C"
      ],
      "text/html": "<div>\n<style scoped>\n    .dataframe tbody tr th:only-of-type {\n        vertical-align: middle;\n    }\n\n    .dataframe tbody tr th {\n        vertical-align: top;\n    }\n\n    .dataframe thead th {\n        text-align: right;\n    }\n</style>\n<table border=\"1\" class=\"dataframe\">\n  <thead>\n    <tr style=\"text-align: right;\">\n      <th></th>\n      <th>Name</th>\n      <th>Grade</th>\n      <th>Letter</th>\n    </tr>\n  </thead>\n  <tbody>\n    <tr>\n      <th>0</th>\n      <td>Ivana</td>\n      <td>51</td>\n      <td>F</td>\n    </tr>\n    <tr>\n      <th>1</th>\n      <td>Norris</td>\n      <td>92</td>\n      <td>A-</td>\n    </tr>\n    <tr>\n      <th>2</th>\n      <td>Ruth</td>\n      <td>100</td>\n      <td>A+</td>\n    </tr>\n    <tr>\n      <th>3</th>\n      <td>Lane</td>\n      <td>99</td>\n      <td>A</td>\n    </tr>\n    <tr>\n      <th>4</th>\n      <td>Skye</td>\n      <td>93</td>\n      <td>A</td>\n    </tr>\n    <tr>\n      <th>5</th>\n      <td>Sol</td>\n      <td>97</td>\n      <td>A</td>\n    </tr>\n    <tr>\n      <th>6</th>\n      <td>Dylan</td>\n      <td>93</td>\n      <td>A</td>\n    </tr>\n    <tr>\n      <th>7</th>\n      <td>Katina</td>\n      <td>77</td>\n      <td>C+</td>\n    </tr>\n    <tr>\n      <th>8</th>\n      <td>Alissa</td>\n      <td>82</td>\n      <td>B-</td>\n    </tr>\n    <tr>\n      <th>9</th>\n      <td>Marc</td>\n      <td>73</td>\n      <td>C</td>\n    </tr>\n  </tbody>\n</table>\n</div>"
     },
     "metadata": {},
     "execution_count": 38
    }
   ],
   "source": [
    "letter_cats = pd.cut(scores.Grade, score_bins, labels = letter_grades)\n",
    "scores['Letter'] = letter_cats\n",
    "scores"
   ]
  },
  {
   "cell_type": "code",
   "execution_count": 39,
   "metadata": {},
   "outputs": [
    {
     "output_type": "execute_result",
     "data": {
      "text/plain": [
       "0     F\n",
       "1    A-\n",
       "2    A+\n",
       "3     A\n",
       "4     A\n",
       "5     A\n",
       "6     A\n",
       "7    C+\n",
       "8    B-\n",
       "9     C\n",
       "Name: Grade, dtype: category\n",
       "Categories (13, object): [F < D- < D < D+ ... B+ < A- < A < A+]"
      ]
     },
     "metadata": {},
     "execution_count": 39
    }
   ],
   "source": [
    "letter_cats"
   ]
  },
  {
   "cell_type": "code",
   "execution_count": 40,
   "metadata": {},
   "outputs": [
    {
     "output_type": "execute_result",
     "data": {
      "text/plain": [
       "A     4\n",
       "A+    1\n",
       "A-    1\n",
       "B-    1\n",
       "C+    1\n",
       "C     1\n",
       "F     1\n",
       "B+    0\n",
       "B     0\n",
       "C-    0\n",
       "D+    0\n",
       "D     0\n",
       "D-    0\n",
       "Name: Letter, dtype: int64"
      ]
     },
     "metadata": {},
     "execution_count": 40
    }
   ],
   "source": [
    "scores.Letter.value_counts()"
   ]
  },
  {
   "cell_type": "code",
   "execution_count": 41,
   "metadata": {},
   "outputs": [
    {
     "output_type": "execute_result",
     "data": {
      "text/plain": [
       "     Name  Grade Letter\n",
       "2    Ruth    100     A+\n",
       "3    Lane     99      A\n",
       "4    Skye     93      A\n",
       "5     Sol     97      A\n",
       "6   Dylan     93      A\n",
       "1  Norris     92     A-\n",
       "8  Alissa     82     B-\n",
       "7  Katina     77     C+\n",
       "9    Marc     73      C\n",
       "0   Ivana     51      F"
      ],
      "text/html": "<div>\n<style scoped>\n    .dataframe tbody tr th:only-of-type {\n        vertical-align: middle;\n    }\n\n    .dataframe tbody tr th {\n        vertical-align: top;\n    }\n\n    .dataframe thead th {\n        text-align: right;\n    }\n</style>\n<table border=\"1\" class=\"dataframe\">\n  <thead>\n    <tr style=\"text-align: right;\">\n      <th></th>\n      <th>Name</th>\n      <th>Grade</th>\n      <th>Letter</th>\n    </tr>\n  </thead>\n  <tbody>\n    <tr>\n      <th>2</th>\n      <td>Ruth</td>\n      <td>100</td>\n      <td>A+</td>\n    </tr>\n    <tr>\n      <th>3</th>\n      <td>Lane</td>\n      <td>99</td>\n      <td>A</td>\n    </tr>\n    <tr>\n      <th>4</th>\n      <td>Skye</td>\n      <td>93</td>\n      <td>A</td>\n    </tr>\n    <tr>\n      <th>5</th>\n      <td>Sol</td>\n      <td>97</td>\n      <td>A</td>\n    </tr>\n    <tr>\n      <th>6</th>\n      <td>Dylan</td>\n      <td>93</td>\n      <td>A</td>\n    </tr>\n    <tr>\n      <th>1</th>\n      <td>Norris</td>\n      <td>92</td>\n      <td>A-</td>\n    </tr>\n    <tr>\n      <th>8</th>\n      <td>Alissa</td>\n      <td>82</td>\n      <td>B-</td>\n    </tr>\n    <tr>\n      <th>7</th>\n      <td>Katina</td>\n      <td>77</td>\n      <td>C+</td>\n    </tr>\n    <tr>\n      <th>9</th>\n      <td>Marc</td>\n      <td>73</td>\n      <td>C</td>\n    </tr>\n    <tr>\n      <th>0</th>\n      <td>Ivana</td>\n      <td>51</td>\n      <td>F</td>\n    </tr>\n  </tbody>\n</table>\n</div>"
     },
     "metadata": {},
     "execution_count": 41
    }
   ],
   "source": [
    "scores.sort_values(by=['Letter'], ascending=False)"
   ]
  },
  {
   "cell_type": "code",
   "execution_count": null,
   "metadata": {},
   "outputs": [],
   "source": []
  }
 ]
}