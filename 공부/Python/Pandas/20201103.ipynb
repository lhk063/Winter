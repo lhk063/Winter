{
 "metadata": {
  "language_info": {
   "codemirror_mode": {
    "name": "ipython",
    "version": 3
   },
   "file_extension": ".py",
   "mimetype": "text/x-python",
   "name": "python",
   "nbconvert_exporter": "python",
   "pygments_lexer": "ipython3",
   "version": "3.7.6-final"
  },
  "orig_nbformat": 2,
  "kernelspec": {
   "name": "tf2.0-gpu",
   "display_name": "tf-gpu"
  }
 },
 "nbformat": 4,
 "nbformat_minor": 2,
 "cells": [
  {
   "cell_type": "code",
   "execution_count": 6,
   "metadata": {},
   "outputs": [],
   "source": [
    "import pandas as pd\n",
    "import numpy as np\n",
    "import datetime\n",
    "from datetime import datetime, date\n",
    "import matplotlib.pyplot as plt"
   ]
  },
  {
   "cell_type": "code",
   "execution_count": 7,
   "metadata": {},
   "outputs": [
    {
     "output_type": "execute_result",
     "data": {
      "text/plain": [
       "[low, high, medium, medium, high]\n",
       "Categories (3, object): [high, low, medium]"
      ]
     },
     "metadata": {},
     "execution_count": 7
    }
   ],
   "source": [
    "lmh_values = ['low', 'high', 'medium', 'medium', 'high']\n",
    "lmh_cat = pd.Categorical(lmh_values)\n",
    "lmh_cat"
   ]
  },
  {
   "cell_type": "code",
   "execution_count": 8,
   "metadata": {},
   "outputs": [
    {
     "output_type": "execute_result",
     "data": {
      "text/plain": [
       "Index(['high', 'low', 'medium'], dtype='object')"
      ]
     },
     "metadata": {},
     "execution_count": 8
    }
   ],
   "source": [
    "lmh_cat.categories"
   ]
  },
  {
   "cell_type": "code",
   "execution_count": 11,
   "metadata": {},
   "outputs": [
    {
     "output_type": "execute_result",
     "data": {
      "text/plain": [
       "array(['low', 'high', 'medium', 'medium', 'high'], dtype=object)"
      ]
     },
     "metadata": {},
     "execution_count": 11
    }
   ],
   "source": [
    "lmh_cat.to_numpy()"
   ]
  },
  {
   "cell_type": "code",
   "execution_count": 12,
   "metadata": {},
   "outputs": [
    {
     "output_type": "execute_result",
     "data": {
      "text/plain": [
       "array([1, 0, 2, 2, 0], dtype=int8)"
      ]
     },
     "metadata": {},
     "execution_count": 12
    }
   ],
   "source": [
    "lmh_cat.codes"
   ]
  },
  {
   "cell_type": "code",
   "execution_count": 13,
   "metadata": {},
   "outputs": [
    {
     "output_type": "execute_result",
     "data": {
      "text/plain": [
       "[low, high, medium, medium, high]\n",
       "Categories (3, object): [low, medium, high]"
      ]
     },
     "metadata": {},
     "execution_count": 13
    }
   ],
   "source": [
    "lmh_cat = pd.Categorical(lmh_values, categories=['low', 'medium', 'high'])\n",
    "lmh_cat"
   ]
  },
  {
   "cell_type": "code",
   "execution_count": 14,
   "metadata": {},
   "outputs": [
    {
     "output_type": "execute_result",
     "data": {
      "text/plain": [
       "array([0, 2, 1, 1, 2], dtype=int8)"
      ]
     },
     "metadata": {},
     "execution_count": 14
    }
   ],
   "source": [
    "lmh_cat.codes"
   ]
  },
  {
   "cell_type": "code",
   "execution_count": 15,
   "metadata": {},
   "outputs": [
    {
     "output_type": "execute_result",
     "data": {
      "text/plain": [
       "[low, medium, medium, high, high]\n",
       "Categories (3, object): [low, medium, high]"
      ]
     },
     "metadata": {},
     "execution_count": 15
    }
   ],
   "source": [
    "lmh_cat.sort_values()"
   ]
  },
  {
   "cell_type": "code",
   "execution_count": 16,
   "metadata": {},
   "outputs": [
    {
     "output_type": "execute_result",
     "data": {
      "text/plain": [
       "0       low\n",
       "1      high\n",
       "2    medium\n",
       "3    medium\n",
       "4      high\n",
       "dtype: category\n",
       "Categories (3, object): [high, low, medium]"
      ]
     },
     "metadata": {},
     "execution_count": 16
    }
   ],
   "source": [
    "cat_series = pd.Series(lmh_values, dtype='category')\n",
    "cat_series"
   ]
  },
  {
   "cell_type": "code",
   "execution_count": 17,
   "metadata": {},
   "outputs": [
    {
     "output_type": "execute_result",
     "data": {
      "text/plain": [
       "0       low\n",
       "1      high\n",
       "2    medium\n",
       "3    medium\n",
       "4      high\n",
       "dtype: category\n",
       "Categories (3, object): [high, low, medium]"
      ]
     },
     "metadata": {},
     "execution_count": 17
    }
   ],
   "source": [
    "s = pd.Series(lmh_values)\n",
    "as_cat = s.astype('category')\n",
    "cat_series"
   ]
  },
  {
   "cell_type": "code",
   "execution_count": 18,
   "metadata": {},
   "outputs": [
    {
     "output_type": "execute_result",
     "data": {
      "text/plain": [
       "<pandas.core.arrays.categorical.CategoricalAccessor object at 0x00000202CD688888>"
      ]
     },
     "metadata": {},
     "execution_count": 18
    }
   ],
   "source": [
    "cat_series.cat"
   ]
  },
  {
   "cell_type": "code",
   "execution_count": 19,
   "metadata": {},
   "outputs": [
    {
     "output_type": "execute_result",
     "data": {
      "text/plain": [
       "Index(['high', 'low', 'medium'], dtype='object')"
      ]
     },
     "metadata": {},
     "execution_count": 19
    }
   ],
   "source": [
    "cat_series.cat.categories"
   ]
  },
  {
   "cell_type": "code",
   "execution_count": 20,
   "metadata": {},
   "outputs": [
    {
     "output_type": "execute_result",
     "data": {
      "text/plain": [
       "   values\n",
       "0      65\n",
       "1      49\n",
       "2      56\n",
       "3      43\n",
       "4      43"
      ],
      "text/html": "<div>\n<style scoped>\n    .dataframe tbody tr th:only-of-type {\n        vertical-align: middle;\n    }\n\n    .dataframe tbody tr th {\n        vertical-align: top;\n    }\n\n    .dataframe thead th {\n        text-align: right;\n    }\n</style>\n<table border=\"1\" class=\"dataframe\">\n  <thead>\n    <tr style=\"text-align: right;\">\n      <th></th>\n      <th>values</th>\n    </tr>\n  </thead>\n  <tbody>\n    <tr>\n      <th>0</th>\n      <td>65</td>\n    </tr>\n    <tr>\n      <th>1</th>\n      <td>49</td>\n    </tr>\n    <tr>\n      <th>2</th>\n      <td>56</td>\n    </tr>\n    <tr>\n      <th>3</th>\n      <td>43</td>\n    </tr>\n    <tr>\n      <th>4</th>\n      <td>43</td>\n    </tr>\n  </tbody>\n</table>\n</div>"
     },
     "metadata": {},
     "execution_count": 20
    }
   ],
   "source": [
    "np.random.seed(123456)\n",
    "values = np.random.randint(0, 100, 5)\n",
    "bins = pd.DataFrame({'values' : values})\n",
    "bins"
   ]
  },
  {
   "cell_type": "code",
   "execution_count": 21,
   "metadata": {},
   "outputs": [
    {
     "output_type": "execute_result",
     "data": {
      "text/plain": [
       "   values     Group\n",
       "0      65  (60, 70]\n",
       "1      49  (40, 50]\n",
       "2      56  (50, 60]\n",
       "3      43  (40, 50]\n",
       "4      43  (40, 50]"
      ],
      "text/html": "<div>\n<style scoped>\n    .dataframe tbody tr th:only-of-type {\n        vertical-align: middle;\n    }\n\n    .dataframe tbody tr th {\n        vertical-align: top;\n    }\n\n    .dataframe thead th {\n        text-align: right;\n    }\n</style>\n<table border=\"1\" class=\"dataframe\">\n  <thead>\n    <tr style=\"text-align: right;\">\n      <th></th>\n      <th>values</th>\n      <th>Group</th>\n    </tr>\n  </thead>\n  <tbody>\n    <tr>\n      <th>0</th>\n      <td>65</td>\n      <td>(60, 70]</td>\n    </tr>\n    <tr>\n      <th>1</th>\n      <td>49</td>\n      <td>(40, 50]</td>\n    </tr>\n    <tr>\n      <th>2</th>\n      <td>56</td>\n      <td>(50, 60]</td>\n    </tr>\n    <tr>\n      <th>3</th>\n      <td>43</td>\n      <td>(40, 50]</td>\n    </tr>\n    <tr>\n      <th>4</th>\n      <td>43</td>\n      <td>(40, 50]</td>\n    </tr>\n  </tbody>\n</table>\n</div>"
     },
     "metadata": {},
     "execution_count": 21
    }
   ],
   "source": [
    "bins['Group'] = pd.cut(values, range(0, 101, 10))\n",
    "bins"
   ]
  },
  {
   "cell_type": "code",
   "execution_count": 22,
   "metadata": {},
   "outputs": [
    {
     "output_type": "execute_result",
     "data": {
      "text/plain": [
       "0    (60, 70]\n",
       "1    (40, 50]\n",
       "2    (50, 60]\n",
       "3    (40, 50]\n",
       "4    (40, 50]\n",
       "Name: Group, dtype: category\n",
       "Categories (10, interval[int64]): [(0, 10] < (10, 20] < (20, 30] < (30, 40] ... (60, 70] < (70, 80] < (80, 90] < (90, 100]]"
      ]
     },
     "metadata": {},
     "execution_count": 22
    }
   ],
   "source": [
    "bins.Group"
   ]
  },
  {
   "cell_type": "code",
   "execution_count": 23,
   "metadata": {},
   "outputs": [
    {
     "output_type": "execute_result",
     "data": {
      "text/plain": [
       "[bronze, gold, silver, bronze]\n",
       "Categories (3, object): [bronze < silver < gold]"
      ]
     },
     "metadata": {},
     "execution_count": 23
    }
   ],
   "source": [
    "metal_values = ['bronze', 'gold', 'silver', 'bronze']\n",
    "metal_categories = ['bronze', 'silver', 'gold']\n",
    "metals = pd.Categorical(metal_values, categories = metal_categories, ordered= True)\n",
    "metals"
   ]
  },
  {
   "cell_type": "code",
   "execution_count": 26,
   "metadata": {},
   "outputs": [
    {
     "output_type": "execute_result",
     "data": {
      "text/plain": [
       "[bronze, silver, gold, bronze]\n",
       "Categories (3, object): [bronze < silver < gold]"
      ]
     },
     "metadata": {},
     "execution_count": 26
    }
   ],
   "source": [
    "metal_reversed_values = pd.Categorical(metals.to_numpy()[::-1], categories= metals.categories, ordered=True)\n",
    "metal_reversed_values"
   ]
  },
  {
   "cell_type": "code",
   "execution_count": 27,
   "metadata": {},
   "outputs": [
    {
     "output_type": "execute_result",
     "data": {
      "text/plain": [
       "array([ True, False,  True,  True])"
      ]
     },
     "metadata": {},
     "execution_count": 27
    }
   ],
   "source": [
    "metals <= metal_reversed_values"
   ]
  },
  {
   "cell_type": "code",
   "execution_count": 28,
   "metadata": {},
   "outputs": [
    {
     "output_type": "execute_result",
     "data": {
      "text/plain": [
       "array([0, 2, 1, 0], dtype=int8)"
      ]
     },
     "metadata": {},
     "execution_count": 28
    }
   ],
   "source": [
    "metals.codes"
   ]
  },
  {
   "cell_type": "code",
   "execution_count": 29,
   "metadata": {},
   "outputs": [
    {
     "output_type": "execute_result",
     "data": {
      "text/plain": [
       "array([0, 1, 2, 0], dtype=int8)"
      ]
     },
     "metadata": {},
     "execution_count": 29
    }
   ],
   "source": [
    "metal_reversed_values.codes"
   ]
  },
  {
   "cell_type": "code",
   "execution_count": 30,
   "metadata": {},
   "outputs": [
    {
     "output_type": "execute_result",
     "data": {
      "text/plain": [
       "[bronze, NaN]\n",
       "Categories (3, object): [bronze, silver, gold]"
      ]
     },
     "metadata": {},
     "execution_count": 30
    }
   ],
   "source": [
    "pd.Categorical(['bronze', 'copper'], categories=metal_categories)"
   ]
  },
  {
   "cell_type": "code",
   "execution_count": 31,
   "metadata": {},
   "outputs": [
    {
     "output_type": "execute_result",
     "data": {
      "text/plain": [
       "[a, b, c, a]\n",
       "Categories (3, object): [a, b, c]"
      ]
     },
     "metadata": {},
     "execution_count": 31
    }
   ],
   "source": [
    "cat = pd.Categorical(['a', 'b', 'c', 'a'], categories=['a', 'b', 'c'])\n",
    "cat"
   ]
  },
  {
   "cell_type": "code",
   "execution_count": 32,
   "metadata": {},
   "outputs": [
    {
     "output_type": "execute_result",
     "data": {
      "text/plain": [
       "[bronze, silver, gold, bronze]\n",
       "Categories (3, object): [bronze, silver, gold]"
      ]
     },
     "metadata": {},
     "execution_count": 32
    }
   ],
   "source": [
    "cat.categories = ['bronze', 'silver', 'gold']\n",
    "cat"
   ]
  },
  {
   "cell_type": "code",
   "execution_count": null,
   "metadata": {},
   "outputs": [],
   "source": []
  }
 ]
}