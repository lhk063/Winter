{
 "metadata": {
  "language_info": {
   "codemirror_mode": {
    "name": "ipython",
    "version": 3
   },
   "file_extension": ".py",
   "mimetype": "text/x-python",
   "name": "python",
   "nbconvert_exporter": "python",
   "pygments_lexer": "ipython3",
   "version": "3.7.6-final"
  },
  "orig_nbformat": 2,
  "kernelspec": {
   "name": "python3",
   "display_name": "Python 3"
  }
 },
 "nbformat": 4,
 "nbformat_minor": 2,
 "cells": [
  {
   "cell_type": "code",
   "execution_count": 72,
   "metadata": {},
   "outputs": [],
   "source": [
    "import pandas as pd\n",
    "import numpy as np\n",
    "import matplotlib.pyplot as plt "
   ]
  },
  {
   "cell_type": "code",
   "execution_count": 2,
   "metadata": {},
   "outputs": [],
   "source": [
    "sp500 = pd.read_csv('data/sp500.csv', index_col='Symbol', usecols=[0, 2, 3, 7])\n",
    "omh = pd.read_csv('data/omh.csv')"
   ]
  },
  {
   "cell_type": "code",
   "execution_count": 4,
   "metadata": {},
   "outputs": [
    {
     "output_type": "execute_result",
     "data": {
      "text/plain": [
       "          A         B         C         D\n",
       "0  0.469112 -0.282863 -1.509059 -1.135632\n",
       "1  1.212112 -0.173215  0.119209 -1.044236\n",
       "2 -0.861849 -2.104569 -0.494929  1.071804\n",
       "3  0.721555 -0.706771 -1.039575  0.271860\n",
       "4 -0.424972  0.567020  0.276232 -1.087401"
      ],
      "text/html": "<div>\n<style scoped>\n    .dataframe tbody tr th:only-of-type {\n        vertical-align: middle;\n    }\n\n    .dataframe tbody tr th {\n        vertical-align: top;\n    }\n\n    .dataframe thead th {\n        text-align: right;\n    }\n</style>\n<table border=\"1\" class=\"dataframe\">\n  <thead>\n    <tr style=\"text-align: right;\">\n      <th></th>\n      <th>A</th>\n      <th>B</th>\n      <th>C</th>\n      <th>D</th>\n    </tr>\n  </thead>\n  <tbody>\n    <tr>\n      <th>0</th>\n      <td>0.469112</td>\n      <td>-0.282863</td>\n      <td>-1.509059</td>\n      <td>-1.135632</td>\n    </tr>\n    <tr>\n      <th>1</th>\n      <td>1.212112</td>\n      <td>-0.173215</td>\n      <td>0.119209</td>\n      <td>-1.044236</td>\n    </tr>\n    <tr>\n      <th>2</th>\n      <td>-0.861849</td>\n      <td>-2.104569</td>\n      <td>-0.494929</td>\n      <td>1.071804</td>\n    </tr>\n    <tr>\n      <th>3</th>\n      <td>0.721555</td>\n      <td>-0.706771</td>\n      <td>-1.039575</td>\n      <td>0.271860</td>\n    </tr>\n    <tr>\n      <th>4</th>\n      <td>-0.424972</td>\n      <td>0.567020</td>\n      <td>0.276232</td>\n      <td>-1.087401</td>\n    </tr>\n  </tbody>\n</table>\n</div>"
     },
     "metadata": {},
     "execution_count": 4
    }
   ],
   "source": [
    "np.random.seed(123456)\n",
    "df = pd.DataFrame(np.random.randn(5, 4), columns=['A', 'B', 'C', 'D'])\n",
    "df"
   ]
  },
  {
   "cell_type": "code",
   "execution_count": 5,
   "metadata": {},
   "outputs": [
    {
     "output_type": "execute_result",
     "data": {
      "text/plain": [
       "          A         B         C         D\n",
       "0  0.938225 -0.565727 -3.018117 -2.271265\n",
       "1  2.424224 -0.346429  0.238417 -2.088472\n",
       "2 -1.723698 -4.209138 -0.989859  2.143608\n",
       "3  1.443110 -1.413542 -2.079150  0.543720\n",
       "4 -0.849945  1.134041  0.552464 -2.174801"
      ],
      "text/html": "<div>\n<style scoped>\n    .dataframe tbody tr th:only-of-type {\n        vertical-align: middle;\n    }\n\n    .dataframe tbody tr th {\n        vertical-align: top;\n    }\n\n    .dataframe thead th {\n        text-align: right;\n    }\n</style>\n<table border=\"1\" class=\"dataframe\">\n  <thead>\n    <tr style=\"text-align: right;\">\n      <th></th>\n      <th>A</th>\n      <th>B</th>\n      <th>C</th>\n      <th>D</th>\n    </tr>\n  </thead>\n  <tbody>\n    <tr>\n      <th>0</th>\n      <td>0.938225</td>\n      <td>-0.565727</td>\n      <td>-3.018117</td>\n      <td>-2.271265</td>\n    </tr>\n    <tr>\n      <th>1</th>\n      <td>2.424224</td>\n      <td>-0.346429</td>\n      <td>0.238417</td>\n      <td>-2.088472</td>\n    </tr>\n    <tr>\n      <th>2</th>\n      <td>-1.723698</td>\n      <td>-4.209138</td>\n      <td>-0.989859</td>\n      <td>2.143608</td>\n    </tr>\n    <tr>\n      <th>3</th>\n      <td>1.443110</td>\n      <td>-1.413542</td>\n      <td>-2.079150</td>\n      <td>0.543720</td>\n    </tr>\n    <tr>\n      <th>4</th>\n      <td>-0.849945</td>\n      <td>1.134041</td>\n      <td>0.552464</td>\n      <td>-2.174801</td>\n    </tr>\n  </tbody>\n</table>\n</div>"
     },
     "metadata": {},
     "execution_count": 5
    }
   ],
   "source": [
    "df * 2"
   ]
  },
  {
   "cell_type": "code",
   "execution_count": 6,
   "metadata": {},
   "outputs": [
    {
     "output_type": "execute_result",
     "data": {
      "text/plain": [
       "          A         B         C         D\n",
       "0  0.000000  0.000000  0.000000  0.000000\n",
       "1  0.743000  0.109649  1.628267  0.091396\n",
       "2 -1.330961 -1.821706  1.014129  2.207436\n",
       "3  0.252443 -0.423908  0.469484  1.407492\n",
       "4 -0.894085  0.849884  1.785291  0.048232"
      ],
      "text/html": "<div>\n<style scoped>\n    .dataframe tbody tr th:only-of-type {\n        vertical-align: middle;\n    }\n\n    .dataframe tbody tr th {\n        vertical-align: top;\n    }\n\n    .dataframe thead th {\n        text-align: right;\n    }\n</style>\n<table border=\"1\" class=\"dataframe\">\n  <thead>\n    <tr style=\"text-align: right;\">\n      <th></th>\n      <th>A</th>\n      <th>B</th>\n      <th>C</th>\n      <th>D</th>\n    </tr>\n  </thead>\n  <tbody>\n    <tr>\n      <th>0</th>\n      <td>0.000000</td>\n      <td>0.000000</td>\n      <td>0.000000</td>\n      <td>0.000000</td>\n    </tr>\n    <tr>\n      <th>1</th>\n      <td>0.743000</td>\n      <td>0.109649</td>\n      <td>1.628267</td>\n      <td>0.091396</td>\n    </tr>\n    <tr>\n      <th>2</th>\n      <td>-1.330961</td>\n      <td>-1.821706</td>\n      <td>1.014129</td>\n      <td>2.207436</td>\n    </tr>\n    <tr>\n      <th>3</th>\n      <td>0.252443</td>\n      <td>-0.423908</td>\n      <td>0.469484</td>\n      <td>1.407492</td>\n    </tr>\n    <tr>\n      <th>4</th>\n      <td>-0.894085</td>\n      <td>0.849884</td>\n      <td>1.785291</td>\n      <td>0.048232</td>\n    </tr>\n  </tbody>\n</table>\n</div>"
     },
     "metadata": {},
     "execution_count": 6
    }
   ],
   "source": [
    "s = df.iloc[0]\n",
    "diff = df - s\n",
    "diff"
   ]
  },
  {
   "cell_type": "code",
   "execution_count": 8,
   "metadata": {},
   "outputs": [
    {
     "output_type": "execute_result",
     "data": {
      "text/plain": [
       "          A         B         C         D\n",
       "0  0.000000  0.000000  0.000000  0.000000\n",
       "1 -0.743000 -0.109649 -1.628267 -0.091396\n",
       "2  1.330961  1.821706 -1.014129 -2.207436\n",
       "3 -0.252443  0.423908 -0.469484 -1.407492\n",
       "4  0.894085 -0.849884 -1.785291 -0.048232"
      ],
      "text/html": "<div>\n<style scoped>\n    .dataframe tbody tr th:only-of-type {\n        vertical-align: middle;\n    }\n\n    .dataframe tbody tr th {\n        vertical-align: top;\n    }\n\n    .dataframe thead th {\n        text-align: right;\n    }\n</style>\n<table border=\"1\" class=\"dataframe\">\n  <thead>\n    <tr style=\"text-align: right;\">\n      <th></th>\n      <th>A</th>\n      <th>B</th>\n      <th>C</th>\n      <th>D</th>\n    </tr>\n  </thead>\n  <tbody>\n    <tr>\n      <th>0</th>\n      <td>0.000000</td>\n      <td>0.000000</td>\n      <td>0.000000</td>\n      <td>0.000000</td>\n    </tr>\n    <tr>\n      <th>1</th>\n      <td>-0.743000</td>\n      <td>-0.109649</td>\n      <td>-1.628267</td>\n      <td>-0.091396</td>\n    </tr>\n    <tr>\n      <th>2</th>\n      <td>1.330961</td>\n      <td>1.821706</td>\n      <td>-1.014129</td>\n      <td>-2.207436</td>\n    </tr>\n    <tr>\n      <th>3</th>\n      <td>-0.252443</td>\n      <td>0.423908</td>\n      <td>-0.469484</td>\n      <td>-1.407492</td>\n    </tr>\n    <tr>\n      <th>4</th>\n      <td>0.894085</td>\n      <td>-0.849884</td>\n      <td>-1.785291</td>\n      <td>-0.048232</td>\n    </tr>\n  </tbody>\n</table>\n</div>"
     },
     "metadata": {},
     "execution_count": 8
    }
   ],
   "source": [
    "diff2 = s - df\n",
    "diff2"
   ]
  },
  {
   "cell_type": "code",
   "execution_count": 9,
   "metadata": {},
   "outputs": [
    {
     "output_type": "execute_result",
     "data": {
      "text/plain": [
       "    A         B         C   D   E\n",
       "0 NaN -0.565727 -3.018117 NaN NaN\n",
       "1 NaN -0.456078 -1.389850 NaN NaN\n",
       "2 NaN -2.387433 -2.003988 NaN NaN\n",
       "3 NaN -0.989634 -2.548633 NaN NaN\n",
       "4 NaN  0.284157 -1.232826 NaN NaN"
      ],
      "text/html": "<div>\n<style scoped>\n    .dataframe tbody tr th:only-of-type {\n        vertical-align: middle;\n    }\n\n    .dataframe tbody tr th {\n        vertical-align: top;\n    }\n\n    .dataframe thead th {\n        text-align: right;\n    }\n</style>\n<table border=\"1\" class=\"dataframe\">\n  <thead>\n    <tr style=\"text-align: right;\">\n      <th></th>\n      <th>A</th>\n      <th>B</th>\n      <th>C</th>\n      <th>D</th>\n      <th>E</th>\n    </tr>\n  </thead>\n  <tbody>\n    <tr>\n      <th>0</th>\n      <td>NaN</td>\n      <td>-0.565727</td>\n      <td>-3.018117</td>\n      <td>NaN</td>\n      <td>NaN</td>\n    </tr>\n    <tr>\n      <th>1</th>\n      <td>NaN</td>\n      <td>-0.456078</td>\n      <td>-1.389850</td>\n      <td>NaN</td>\n      <td>NaN</td>\n    </tr>\n    <tr>\n      <th>2</th>\n      <td>NaN</td>\n      <td>-2.387433</td>\n      <td>-2.003988</td>\n      <td>NaN</td>\n      <td>NaN</td>\n    </tr>\n    <tr>\n      <th>3</th>\n      <td>NaN</td>\n      <td>-0.989634</td>\n      <td>-2.548633</td>\n      <td>NaN</td>\n      <td>NaN</td>\n    </tr>\n    <tr>\n      <th>4</th>\n      <td>NaN</td>\n      <td>0.284157</td>\n      <td>-1.232826</td>\n      <td>NaN</td>\n      <td>NaN</td>\n    </tr>\n  </tbody>\n</table>\n</div>"
     },
     "metadata": {},
     "execution_count": 9
    }
   ],
   "source": [
    "s2 = s[1:3]\n",
    "s2['E'] = 0\n",
    "df + s2"
   ]
  },
  {
   "cell_type": "code",
   "execution_count": 12,
   "metadata": {},
   "outputs": [
    {
     "output_type": "execute_result",
     "data": {
      "text/plain": [
       "          B         C\n",
       "1 -0.173215  0.119209\n",
       "2 -2.104569 -0.494929\n",
       "3 -0.706771 -1.039575"
      ],
      "text/html": "<div>\n<style scoped>\n    .dataframe tbody tr th:only-of-type {\n        vertical-align: middle;\n    }\n\n    .dataframe tbody tr th {\n        vertical-align: top;\n    }\n\n    .dataframe thead th {\n        text-align: right;\n    }\n</style>\n<table border=\"1\" class=\"dataframe\">\n  <thead>\n    <tr style=\"text-align: right;\">\n      <th></th>\n      <th>B</th>\n      <th>C</th>\n    </tr>\n  </thead>\n  <tbody>\n    <tr>\n      <th>1</th>\n      <td>-0.173215</td>\n      <td>0.119209</td>\n    </tr>\n    <tr>\n      <th>2</th>\n      <td>-2.104569</td>\n      <td>-0.494929</td>\n    </tr>\n    <tr>\n      <th>3</th>\n      <td>-0.706771</td>\n      <td>-1.039575</td>\n    </tr>\n  </tbody>\n</table>\n</div>"
     },
     "metadata": {},
     "execution_count": 12
    }
   ],
   "source": [
    "subframe = df[1:4][['B', 'C']]\n",
    "subframe"
   ]
  },
  {
   "cell_type": "code",
   "execution_count": 13,
   "metadata": {},
   "outputs": [
    {
     "output_type": "execute_result",
     "data": {
      "text/plain": [
       "    A    B    C   D\n",
       "0 NaN  NaN  NaN NaN\n",
       "1 NaN  0.0  0.0 NaN\n",
       "2 NaN  0.0  0.0 NaN\n",
       "3 NaN  0.0  0.0 NaN\n",
       "4 NaN  NaN  NaN NaN"
      ],
      "text/html": "<div>\n<style scoped>\n    .dataframe tbody tr th:only-of-type {\n        vertical-align: middle;\n    }\n\n    .dataframe tbody tr th {\n        vertical-align: top;\n    }\n\n    .dataframe thead th {\n        text-align: right;\n    }\n</style>\n<table border=\"1\" class=\"dataframe\">\n  <thead>\n    <tr style=\"text-align: right;\">\n      <th></th>\n      <th>A</th>\n      <th>B</th>\n      <th>C</th>\n      <th>D</th>\n    </tr>\n  </thead>\n  <tbody>\n    <tr>\n      <th>0</th>\n      <td>NaN</td>\n      <td>NaN</td>\n      <td>NaN</td>\n      <td>NaN</td>\n    </tr>\n    <tr>\n      <th>1</th>\n      <td>NaN</td>\n      <td>0.0</td>\n      <td>0.0</td>\n      <td>NaN</td>\n    </tr>\n    <tr>\n      <th>2</th>\n      <td>NaN</td>\n      <td>0.0</td>\n      <td>0.0</td>\n      <td>NaN</td>\n    </tr>\n    <tr>\n      <th>3</th>\n      <td>NaN</td>\n      <td>0.0</td>\n      <td>0.0</td>\n      <td>NaN</td>\n    </tr>\n    <tr>\n      <th>4</th>\n      <td>NaN</td>\n      <td>NaN</td>\n      <td>NaN</td>\n      <td>NaN</td>\n    </tr>\n  </tbody>\n</table>\n</div>"
     },
     "metadata": {},
     "execution_count": 13
    }
   ],
   "source": [
    "df - subframe"
   ]
  },
  {
   "cell_type": "code",
   "execution_count": 14,
   "metadata": {},
   "outputs": [
    {
     "output_type": "execute_result",
     "data": {
      "text/plain": [
       "     A         B         C         D\n",
       "0  0.0 -0.751976 -1.978171 -1.604745\n",
       "1  0.0 -1.385327 -1.092903 -2.256348\n",
       "2  0.0 -1.242720  0.366920  1.933653\n",
       "3  0.0 -1.428326 -1.761130 -0.449695\n",
       "4  0.0  0.991993  0.701204 -0.662428"
      ],
      "text/html": "<div>\n<style scoped>\n    .dataframe tbody tr th:only-of-type {\n        vertical-align: middle;\n    }\n\n    .dataframe tbody tr th {\n        vertical-align: top;\n    }\n\n    .dataframe thead th {\n        text-align: right;\n    }\n</style>\n<table border=\"1\" class=\"dataframe\">\n  <thead>\n    <tr style=\"text-align: right;\">\n      <th></th>\n      <th>A</th>\n      <th>B</th>\n      <th>C</th>\n      <th>D</th>\n    </tr>\n  </thead>\n  <tbody>\n    <tr>\n      <th>0</th>\n      <td>0.0</td>\n      <td>-0.751976</td>\n      <td>-1.978171</td>\n      <td>-1.604745</td>\n    </tr>\n    <tr>\n      <th>1</th>\n      <td>0.0</td>\n      <td>-1.385327</td>\n      <td>-1.092903</td>\n      <td>-2.256348</td>\n    </tr>\n    <tr>\n      <th>2</th>\n      <td>0.0</td>\n      <td>-1.242720</td>\n      <td>0.366920</td>\n      <td>1.933653</td>\n    </tr>\n    <tr>\n      <th>3</th>\n      <td>0.0</td>\n      <td>-1.428326</td>\n      <td>-1.761130</td>\n      <td>-0.449695</td>\n    </tr>\n    <tr>\n      <th>4</th>\n      <td>0.0</td>\n      <td>0.991993</td>\n      <td>0.701204</td>\n      <td>-0.662428</td>\n    </tr>\n  </tbody>\n</table>\n</div>"
     },
     "metadata": {},
     "execution_count": 14
    }
   ],
   "source": [
    "a_col = df['A']\n",
    "df.sub(a_col, axis = 0)"
   ]
  },
  {
   "cell_type": "code",
   "execution_count": 15,
   "metadata": {},
   "outputs": [
    {
     "output_type": "execute_result",
     "data": {
      "text/plain": [
       "4"
      ]
     },
     "metadata": {},
     "execution_count": 15
    }
   ],
   "source": [
    "s = pd.Series(['a', 'a', 'b', 'c', np.NaN])\n",
    "s.count()"
   ]
  },
  {
   "cell_type": "code",
   "execution_count": 19,
   "metadata": {},
   "outputs": [
    {
     "output_type": "execute_result",
     "data": {
      "text/plain": [
       "array(['a', 'b', 'c', nan], dtype=object)"
      ]
     },
     "metadata": {},
     "execution_count": 19
    }
   ],
   "source": [
    "s.unique()"
   ]
  },
  {
   "cell_type": "code",
   "execution_count": 21,
   "metadata": {},
   "outputs": [
    {
     "output_type": "execute_result",
     "data": {
      "text/plain": [
       "3"
      ]
     },
     "metadata": {},
     "execution_count": 21
    }
   ],
   "source": [
    "s.nunique()"
   ]
  },
  {
   "cell_type": "code",
   "execution_count": 22,
   "metadata": {},
   "outputs": [
    {
     "output_type": "execute_result",
     "data": {
      "text/plain": [
       "4"
      ]
     },
     "metadata": {},
     "execution_count": 22
    }
   ],
   "source": [
    "s.nunique(dropna=False)"
   ]
  },
  {
   "cell_type": "code",
   "execution_count": null,
   "metadata": {},
   "outputs": [],
   "source": [
    "s.value_counts(dropna=False)"
   ]
  },
  {
   "cell_type": "code",
   "execution_count": 23,
   "metadata": {},
   "outputs": [
    {
     "output_type": "execute_result",
     "data": {
      "text/plain": [
       "MSFT     45.16\n",
       "AAPL    106.75\n",
       "dtype: float64"
      ]
     },
     "metadata": {},
     "execution_count": 23
    }
   ],
   "source": [
    "omh[['MSFT', 'AAPL']].min()"
   ]
  },
  {
   "cell_type": "code",
   "execution_count": 25,
   "metadata": {},
   "outputs": [
    {
     "output_type": "execute_result",
     "data": {
      "text/plain": [
       "MSFT     48.84\n",
       "AAPL    115.93\n",
       "dtype: float64"
      ]
     },
     "metadata": {},
     "execution_count": 25
    }
   ],
   "source": [
    "omh[['MSFT', 'AAPL']].max()"
   ]
  },
  {
   "cell_type": "code",
   "execution_count": 26,
   "metadata": {},
   "outputs": [
    {
     "output_type": "execute_result",
     "data": {
      "text/plain": [
       "MSFT    11\n",
       "AAPL    11\n",
       "dtype: int64"
      ]
     },
     "metadata": {},
     "execution_count": 26
    }
   ],
   "source": [
    "omh[['MSFT', 'AAPL']].idxmin()"
   ]
  },
  {
   "cell_type": "code",
   "execution_count": 27,
   "metadata": {},
   "outputs": [
    {
     "output_type": "execute_result",
     "data": {
      "text/plain": [
       "MSFT    3\n",
       "AAPL    2\n",
       "dtype: int64"
      ]
     },
     "metadata": {},
     "execution_count": 27
    }
   ],
   "source": [
    "omh[['MSFT', 'AAPL']].idxmax()"
   ]
  },
  {
   "cell_type": "code",
   "execution_count": 31,
   "metadata": {},
   "outputs": [
    {
     "output_type": "execute_result",
     "data": {
      "text/plain": [
       "          Date   MSFT    AAPL\n",
       "11  2014-12-16  45.16  106.75\n",
       "12  2014-12-17  45.74  109.41\n",
       "21  2014-12-31  46.45  110.38\n",
       "10  2014-12-15  46.67  108.23"
      ],
      "text/html": "<div>\n<style scoped>\n    .dataframe tbody tr th:only-of-type {\n        vertical-align: middle;\n    }\n\n    .dataframe tbody tr th {\n        vertical-align: top;\n    }\n\n    .dataframe thead th {\n        text-align: right;\n    }\n</style>\n<table border=\"1\" class=\"dataframe\">\n  <thead>\n    <tr style=\"text-align: right;\">\n      <th></th>\n      <th>Date</th>\n      <th>MSFT</th>\n      <th>AAPL</th>\n    </tr>\n  </thead>\n  <tbody>\n    <tr>\n      <th>11</th>\n      <td>2014-12-16</td>\n      <td>45.16</td>\n      <td>106.75</td>\n    </tr>\n    <tr>\n      <th>12</th>\n      <td>2014-12-17</td>\n      <td>45.74</td>\n      <td>109.41</td>\n    </tr>\n    <tr>\n      <th>21</th>\n      <td>2014-12-31</td>\n      <td>46.45</td>\n      <td>110.38</td>\n    </tr>\n    <tr>\n      <th>10</th>\n      <td>2014-12-15</td>\n      <td>46.67</td>\n      <td>108.23</td>\n    </tr>\n  </tbody>\n</table>\n</div>"
     },
     "metadata": {},
     "execution_count": 31
    }
   ],
   "source": [
    "omh.nsmallest(4, ['MSFT'])\n",
    "# omh.nsmallest(4, ['MSFT'])['MSFT']"
   ]
  },
  {
   "cell_type": "code",
   "execution_count": 33,
   "metadata": {},
   "outputs": [
    {
     "output_type": "execute_result",
     "data": {
      "text/plain": [
       "          Date   MSFT    AAPL\n",
       "3   2014-12-04  48.84  115.49\n",
       "0   2014-12-01  48.62  115.07\n",
       "1   2014-12-02  48.46  114.63\n",
       "16  2014-12-23  48.45  112.54"
      ],
      "text/html": "<div>\n<style scoped>\n    .dataframe tbody tr th:only-of-type {\n        vertical-align: middle;\n    }\n\n    .dataframe tbody tr th {\n        vertical-align: top;\n    }\n\n    .dataframe thead th {\n        text-align: right;\n    }\n</style>\n<table border=\"1\" class=\"dataframe\">\n  <thead>\n    <tr style=\"text-align: right;\">\n      <th></th>\n      <th>Date</th>\n      <th>MSFT</th>\n      <th>AAPL</th>\n    </tr>\n  </thead>\n  <tbody>\n    <tr>\n      <th>3</th>\n      <td>2014-12-04</td>\n      <td>48.84</td>\n      <td>115.49</td>\n    </tr>\n    <tr>\n      <th>0</th>\n      <td>2014-12-01</td>\n      <td>48.62</td>\n      <td>115.07</td>\n    </tr>\n    <tr>\n      <th>1</th>\n      <td>2014-12-02</td>\n      <td>48.46</td>\n      <td>114.63</td>\n    </tr>\n    <tr>\n      <th>16</th>\n      <td>2014-12-23</td>\n      <td>48.45</td>\n      <td>112.54</td>\n    </tr>\n  </tbody>\n</table>\n</div>"
     },
     "metadata": {},
     "execution_count": 33
    }
   ],
   "source": [
    "omh.nlargest(4, ['MSFT'])\n",
    "# omh.nlargest(4, ['MSFT'])['MSFT']"
   ]
  },
  {
   "cell_type": "code",
   "execution_count": 35,
   "metadata": {},
   "outputs": [
    {
     "output_type": "execute_result",
     "data": {
      "text/plain": [
       "11    45.16\n",
       "12    45.74\n",
       "21    46.45\n",
       "10    46.67\n",
       "Name: MSFT, dtype: float64"
      ]
     },
     "metadata": {},
     "execution_count": 35
    }
   ],
   "source": [
    "# Series\n",
    "omh.MSFT.nsmallest(4)"
   ]
  },
  {
   "source": [
    "### 누적 값 계산"
   ],
   "cell_type": "markdown",
   "metadata": {}
  },
  {
   "cell_type": "code",
   "execution_count": 36,
   "metadata": {},
   "outputs": [
    {
     "output_type": "execute_result",
     "data": {
      "text/plain": [
       "0     1\n",
       "1     2\n",
       "2     6\n",
       "3    24\n",
       "dtype: int64"
      ]
     },
     "metadata": {},
     "execution_count": 36
    }
   ],
   "source": [
    "pd.Series([1, 2, 3, 4]).cumprod()"
   ]
  },
  {
   "cell_type": "code",
   "execution_count": 38,
   "metadata": {},
   "outputs": [
    {
     "output_type": "execute_result",
     "data": {
      "text/plain": [
       "0     1\n",
       "1     3\n",
       "2     6\n",
       "3    10\n",
       "4    15\n",
       "5    21\n",
       "6    28\n",
       "7    36\n",
       "8    45\n",
       "9    55\n",
       "dtype: int32"
      ]
     },
     "metadata": {},
     "execution_count": 38
    }
   ],
   "source": [
    "pd.Series(np.arange(1, 11)).cumsum()\n",
    "# pd.Series([1, 2, 3, 4]).cumsum()"
   ]
  },
  {
   "cell_type": "code",
   "execution_count": 39,
   "metadata": {},
   "outputs": [
    {
     "output_type": "execute_result",
     "data": {
      "text/plain": [
       "            MSFT        AAPL\n",
       "count  22.000000   22.000000\n",
       "mean   47.493182  112.411364\n",
       "std     0.933077    2.388772\n",
       "min    45.160000  106.750000\n",
       "25%    46.967500  111.660000\n",
       "50%    47.625000  112.530000\n",
       "75%    48.125000  114.087500\n",
       "max    48.840000  115.930000"
      ],
      "text/html": "<div>\n<style scoped>\n    .dataframe tbody tr th:only-of-type {\n        vertical-align: middle;\n    }\n\n    .dataframe tbody tr th {\n        vertical-align: top;\n    }\n\n    .dataframe thead th {\n        text-align: right;\n    }\n</style>\n<table border=\"1\" class=\"dataframe\">\n  <thead>\n    <tr style=\"text-align: right;\">\n      <th></th>\n      <th>MSFT</th>\n      <th>AAPL</th>\n    </tr>\n  </thead>\n  <tbody>\n    <tr>\n      <th>count</th>\n      <td>22.000000</td>\n      <td>22.000000</td>\n    </tr>\n    <tr>\n      <th>mean</th>\n      <td>47.493182</td>\n      <td>112.411364</td>\n    </tr>\n    <tr>\n      <th>std</th>\n      <td>0.933077</td>\n      <td>2.388772</td>\n    </tr>\n    <tr>\n      <th>min</th>\n      <td>45.160000</td>\n      <td>106.750000</td>\n    </tr>\n    <tr>\n      <th>25%</th>\n      <td>46.967500</td>\n      <td>111.660000</td>\n    </tr>\n    <tr>\n      <th>50%</th>\n      <td>47.625000</td>\n      <td>112.530000</td>\n    </tr>\n    <tr>\n      <th>75%</th>\n      <td>48.125000</td>\n      <td>114.087500</td>\n    </tr>\n    <tr>\n      <th>max</th>\n      <td>48.840000</td>\n      <td>115.930000</td>\n    </tr>\n  </tbody>\n</table>\n</div>"
     },
     "metadata": {},
     "execution_count": 39
    }
   ],
   "source": [
    "omh.describe()"
   ]
  },
  {
   "cell_type": "code",
   "execution_count": 40,
   "metadata": {},
   "outputs": [
    {
     "output_type": "execute_result",
     "data": {
      "text/plain": [
       "count    22.000000\n",
       "mean     47.493182\n",
       "std       0.933077\n",
       "min      45.160000\n",
       "25%      46.967500\n",
       "50%      47.625000\n",
       "75%      48.125000\n",
       "max      48.840000\n",
       "Name: MSFT, dtype: float64"
      ]
     },
     "metadata": {},
     "execution_count": 40
    }
   ],
   "source": [
    "omh.MSFT.describe()"
   ]
  },
  {
   "cell_type": "code",
   "execution_count": 41,
   "metadata": {},
   "outputs": [
    {
     "output_type": "execute_result",
     "data": {
      "text/plain": [
       "47.49318181818182"
      ]
     },
     "metadata": {},
     "execution_count": 41
    }
   ],
   "source": [
    "omh.MSFT.describe()['mean']"
   ]
  },
  {
   "cell_type": "code",
   "execution_count": 42,
   "metadata": {},
   "outputs": [
    {
     "output_type": "execute_result",
     "data": {
      "text/plain": [
       "count     4\n",
       "unique    3\n",
       "top       a\n",
       "freq      2\n",
       "dtype: object"
      ]
     },
     "metadata": {},
     "execution_count": 42
    }
   ],
   "source": [
    "s = pd.Series(['a', 'a', 'b', 'c', np.NaN])\n",
    "s.describe()"
   ]
  },
  {
   "cell_type": "code",
   "execution_count": 43,
   "metadata": {},
   "outputs": [
    {
     "output_type": "execute_result",
     "data": {
      "text/plain": [
       "MSFT     47.493182\n",
       "AAPL    112.411364\n",
       "dtype: float64"
      ]
     },
     "metadata": {},
     "execution_count": 43
    }
   ],
   "source": [
    "omh.mean()"
   ]
  },
  {
   "cell_type": "code",
   "execution_count": 44,
   "metadata": {},
   "outputs": [
    {
     "output_type": "execute_result",
     "data": {
      "text/plain": [
       "          Date   MSFT    AAPL\n",
       "0   2014-12-01  48.62  115.07\n",
       "1   2014-12-02  48.46  114.63\n",
       "2   2014-12-03  48.08  115.93\n",
       "3   2014-12-04  48.84  115.49\n",
       "4   2014-12-05  48.42  115.00\n",
       "5   2014-12-08  47.70  112.40\n",
       "6   2014-12-09  47.59  114.12\n",
       "7   2014-12-10  46.90  111.95\n",
       "8   2014-12-11  47.17  111.62\n",
       "9   2014-12-12  46.95  109.73\n",
       "10  2014-12-15  46.67  108.23\n",
       "11  2014-12-16  45.16  106.75\n",
       "12  2014-12-17  45.74  109.41\n",
       "13  2014-12-18  47.52  112.65\n",
       "14  2014-12-19  47.66  111.78\n",
       "15  2014-12-22  47.98  112.94\n",
       "16  2014-12-23  48.45  112.54\n",
       "17  2014-12-24  48.14  112.01\n",
       "18  2014-12-26  47.88  113.99\n",
       "19  2014-12-29  47.45  113.91\n",
       "20  2014-12-30  47.02  112.52\n",
       "21  2014-12-31  46.45  110.38"
      ],
      "text/html": "<div>\n<style scoped>\n    .dataframe tbody tr th:only-of-type {\n        vertical-align: middle;\n    }\n\n    .dataframe tbody tr th {\n        vertical-align: top;\n    }\n\n    .dataframe thead th {\n        text-align: right;\n    }\n</style>\n<table border=\"1\" class=\"dataframe\">\n  <thead>\n    <tr style=\"text-align: right;\">\n      <th></th>\n      <th>Date</th>\n      <th>MSFT</th>\n      <th>AAPL</th>\n    </tr>\n  </thead>\n  <tbody>\n    <tr>\n      <th>0</th>\n      <td>2014-12-01</td>\n      <td>48.62</td>\n      <td>115.07</td>\n    </tr>\n    <tr>\n      <th>1</th>\n      <td>2014-12-02</td>\n      <td>48.46</td>\n      <td>114.63</td>\n    </tr>\n    <tr>\n      <th>2</th>\n      <td>2014-12-03</td>\n      <td>48.08</td>\n      <td>115.93</td>\n    </tr>\n    <tr>\n      <th>3</th>\n      <td>2014-12-04</td>\n      <td>48.84</td>\n      <td>115.49</td>\n    </tr>\n    <tr>\n      <th>4</th>\n      <td>2014-12-05</td>\n      <td>48.42</td>\n      <td>115.00</td>\n    </tr>\n    <tr>\n      <th>5</th>\n      <td>2014-12-08</td>\n      <td>47.70</td>\n      <td>112.40</td>\n    </tr>\n    <tr>\n      <th>6</th>\n      <td>2014-12-09</td>\n      <td>47.59</td>\n      <td>114.12</td>\n    </tr>\n    <tr>\n      <th>7</th>\n      <td>2014-12-10</td>\n      <td>46.90</td>\n      <td>111.95</td>\n    </tr>\n    <tr>\n      <th>8</th>\n      <td>2014-12-11</td>\n      <td>47.17</td>\n      <td>111.62</td>\n    </tr>\n    <tr>\n      <th>9</th>\n      <td>2014-12-12</td>\n      <td>46.95</td>\n      <td>109.73</td>\n    </tr>\n    <tr>\n      <th>10</th>\n      <td>2014-12-15</td>\n      <td>46.67</td>\n      <td>108.23</td>\n    </tr>\n    <tr>\n      <th>11</th>\n      <td>2014-12-16</td>\n      <td>45.16</td>\n      <td>106.75</td>\n    </tr>\n    <tr>\n      <th>12</th>\n      <td>2014-12-17</td>\n      <td>45.74</td>\n      <td>109.41</td>\n    </tr>\n    <tr>\n      <th>13</th>\n      <td>2014-12-18</td>\n      <td>47.52</td>\n      <td>112.65</td>\n    </tr>\n    <tr>\n      <th>14</th>\n      <td>2014-12-19</td>\n      <td>47.66</td>\n      <td>111.78</td>\n    </tr>\n    <tr>\n      <th>15</th>\n      <td>2014-12-22</td>\n      <td>47.98</td>\n      <td>112.94</td>\n    </tr>\n    <tr>\n      <th>16</th>\n      <td>2014-12-23</td>\n      <td>48.45</td>\n      <td>112.54</td>\n    </tr>\n    <tr>\n      <th>17</th>\n      <td>2014-12-24</td>\n      <td>48.14</td>\n      <td>112.01</td>\n    </tr>\n    <tr>\n      <th>18</th>\n      <td>2014-12-26</td>\n      <td>47.88</td>\n      <td>113.99</td>\n    </tr>\n    <tr>\n      <th>19</th>\n      <td>2014-12-29</td>\n      <td>47.45</td>\n      <td>113.91</td>\n    </tr>\n    <tr>\n      <th>20</th>\n      <td>2014-12-30</td>\n      <td>47.02</td>\n      <td>112.52</td>\n    </tr>\n    <tr>\n      <th>21</th>\n      <td>2014-12-31</td>\n      <td>46.45</td>\n      <td>110.38</td>\n    </tr>\n  </tbody>\n</table>\n</div>"
     },
     "metadata": {},
     "execution_count": 44
    }
   ],
   "source": [
    "omh"
   ]
  },
  {
   "cell_type": "code",
   "execution_count": 47,
   "metadata": {},
   "outputs": [
    {
     "output_type": "execute_result",
     "data": {
      "text/plain": [
       "0    81.845\n",
       "1    81.545\n",
       "2    82.005\n",
       "3    82.165\n",
       "4    81.710\n",
       "dtype: float64"
      ]
     },
     "metadata": {},
     "execution_count": 47
    }
   ],
   "source": [
    "omh.mean(axis=1).head()"
   ]
  },
  {
   "cell_type": "code",
   "execution_count": 48,
   "metadata": {},
   "outputs": [
    {
     "output_type": "execute_result",
     "data": {
      "text/plain": [
       "MSFT     47.625\n",
       "AAPL    112.530\n",
       "dtype: float64"
      ]
     },
     "metadata": {},
     "execution_count": 48
    }
   ],
   "source": [
    "omh.median()"
   ]
  },
  {
   "cell_type": "code",
   "execution_count": 49,
   "metadata": {},
   "outputs": [
    {
     "output_type": "execute_result",
     "data": {
      "text/plain": [
       "0    3\n",
       "dtype: int64"
      ]
     },
     "metadata": {},
     "execution_count": 49
    }
   ],
   "source": [
    "s = pd.Series([1, 2, 3, 3, 5])\n",
    "s.mode()"
   ]
  },
  {
   "cell_type": "code",
   "execution_count": 50,
   "metadata": {},
   "outputs": [
    {
     "output_type": "execute_result",
     "data": {
      "text/plain": [
       "0    1\n",
       "1    3\n",
       "dtype: int64"
      ]
     },
     "metadata": {},
     "execution_count": 50
    }
   ],
   "source": [
    "s = pd.Series([1, 2, 3, 3, 5, 1])\n",
    "s.mode()"
   ]
  },
  {
   "cell_type": "code",
   "execution_count": 51,
   "metadata": {},
   "outputs": [
    {
     "output_type": "execute_result",
     "data": {
      "text/plain": [
       "MSFT    0.870632\n",
       "AAPL    5.706231\n",
       "dtype: float64"
      ]
     },
     "metadata": {},
     "execution_count": 51
    }
   ],
   "source": [
    "omh.var()"
   ]
  },
  {
   "cell_type": "code",
   "execution_count": 52,
   "metadata": {},
   "outputs": [
    {
     "output_type": "execute_result",
     "data": {
      "text/plain": [
       "MSFT    0.933077\n",
       "AAPL    2.388772\n",
       "dtype: float64"
      ]
     },
     "metadata": {},
     "execution_count": 52
    }
   ],
   "source": [
    "omh.std()"
   ]
  },
  {
   "cell_type": "code",
   "execution_count": 53,
   "metadata": {},
   "outputs": [
    {
     "output_type": "execute_result",
     "data": {
      "text/plain": [
       "1.9261240259740264"
      ]
     },
     "metadata": {},
     "execution_count": 53
    }
   ],
   "source": [
    "omh.MSFT.cov(omh.AAPL)"
   ]
  },
  {
   "cell_type": "code",
   "execution_count": 54,
   "metadata": {},
   "outputs": [
    {
     "output_type": "execute_result",
     "data": {
      "text/plain": [
       "0.8641560684381171"
      ]
     },
     "metadata": {},
     "execution_count": 54
    }
   ],
   "source": [
    "omh.MSFT.corr(omh.AAPL)"
   ]
  },
  {
   "cell_type": "code",
   "execution_count": 55,
   "metadata": {},
   "outputs": [
    {
     "output_type": "execute_result",
     "data": {
      "text/plain": [
       "array([ 0.4691123 , -0.28286334, -1.5090585 , ...,  0.26296448,\n",
       "       -0.83377412, -0.10418135])"
      ]
     },
     "metadata": {},
     "execution_count": 55
    }
   ],
   "source": [
    "np.random.seed(123456)\n",
    "dist = np.random.normal(size = 10000)\n",
    "dist"
   ]
  },
  {
   "cell_type": "code",
   "execution_count": 56,
   "metadata": {},
   "outputs": [
    {
     "output_type": "execute_result",
     "data": {
      "text/plain": [
       "(-0.002863324040906651, 1.008716203199891)"
      ]
     },
     "metadata": {},
     "execution_count": 56
    }
   ],
   "source": [
    "(dist.mean(), dist.std())"
   ]
  },
  {
   "cell_type": "code",
   "execution_count": 57,
   "metadata": {},
   "outputs": [
    {
     "output_type": "execute_result",
     "data": {
      "text/plain": [
       "[(-0.633, 0.81], (-0.633, 0.81], (-2.077, -0.633], (-2.077, -0.633], (0.81, 2.254], ..., (-2.077, -0.633], (-0.633, 0.81], (-0.633, 0.81], (-2.077, -0.633], (-0.633, 0.81]]\n",
       "Length: 10000\n",
       "Categories (5, interval[float64]): [(-3.528, -2.077] < (-2.077, -0.633] < (-0.633, 0.81] < (0.81, 2.254] < (2.254, 3.698]]"
      ]
     },
     "metadata": {},
     "execution_count": 57
    }
   ],
   "source": [
    "bins = pd.cut(dist, 5)\n",
    "bins"
   ]
  },
  {
   "cell_type": "code",
   "execution_count": 58,
   "metadata": {},
   "outputs": [
    {
     "output_type": "execute_result",
     "data": {
      "text/plain": [
       "array([ 7, 33, 38, 29, 42, 14, 16, 16, 18, 17, 26, 28, 44, 40, 20, 12,  8,\n",
       "       10, 36, 29, 26, 26, 11, 29, 42, 17, 41, 35, 22, 40, 24, 21, 38, 33,\n",
       "       26, 23, 16, 34, 26, 20, 18, 42, 27, 13, 37, 37, 10,  7, 10, 23])"
      ]
     },
     "metadata": {},
     "execution_count": 58
    }
   ],
   "source": [
    "np.random.seed(123456)\n",
    "ages = np.random.randint(6, 45, 50)\n",
    "ages"
   ]
  },
  {
   "cell_type": "code",
   "execution_count": 59,
   "metadata": {},
   "outputs": [
    {
     "output_type": "execute_result",
     "data": {
      "text/plain": [
       "            counts  freqs\n",
       "categories               \n",
       "(6, 12]          8   0.16\n",
       "(12, 18]         9   0.18\n",
       "(18, 35]        21   0.42\n",
       "(35, 50]        12   0.24"
      ],
      "text/html": "<div>\n<style scoped>\n    .dataframe tbody tr th:only-of-type {\n        vertical-align: middle;\n    }\n\n    .dataframe tbody tr th {\n        vertical-align: top;\n    }\n\n    .dataframe thead th {\n        text-align: right;\n    }\n</style>\n<table border=\"1\" class=\"dataframe\">\n  <thead>\n    <tr style=\"text-align: right;\">\n      <th></th>\n      <th>counts</th>\n      <th>freqs</th>\n    </tr>\n    <tr>\n      <th>categories</th>\n      <th></th>\n      <th></th>\n    </tr>\n  </thead>\n  <tbody>\n    <tr>\n      <th>(6, 12]</th>\n      <td>8</td>\n      <td>0.16</td>\n    </tr>\n    <tr>\n      <th>(12, 18]</th>\n      <td>9</td>\n      <td>0.18</td>\n    </tr>\n    <tr>\n      <th>(18, 35]</th>\n      <td>21</td>\n      <td>0.42</td>\n    </tr>\n    <tr>\n      <th>(35, 50]</th>\n      <td>12</td>\n      <td>0.24</td>\n    </tr>\n  </tbody>\n</table>\n</div>"
     },
     "metadata": {},
     "execution_count": 59
    }
   ],
   "source": [
    "ranges = [6, 12, 18, 35, 50]\n",
    "agebins = pd.cut(ages, ranges)\n",
    "agebins.describe()"
   ]
  },
  {
   "cell_type": "code",
   "execution_count": 61,
   "metadata": {},
   "outputs": [
    {
     "output_type": "execute_result",
     "data": {
      "text/plain": [
       "             counts  freqs\n",
       "categories                \n",
       "Youth             8   0.16\n",
       "Young Adult       9   0.18\n",
       "Adult            21   0.42\n",
       "Middle Aged      12   0.24"
      ],
      "text/html": "<div>\n<style scoped>\n    .dataframe tbody tr th:only-of-type {\n        vertical-align: middle;\n    }\n\n    .dataframe tbody tr th {\n        vertical-align: top;\n    }\n\n    .dataframe thead th {\n        text-align: right;\n    }\n</style>\n<table border=\"1\" class=\"dataframe\">\n  <thead>\n    <tr style=\"text-align: right;\">\n      <th></th>\n      <th>counts</th>\n      <th>freqs</th>\n    </tr>\n    <tr>\n      <th>categories</th>\n      <th></th>\n      <th></th>\n    </tr>\n  </thead>\n  <tbody>\n    <tr>\n      <th>Youth</th>\n      <td>8</td>\n      <td>0.16</td>\n    </tr>\n    <tr>\n      <th>Young Adult</th>\n      <td>9</td>\n      <td>0.18</td>\n    </tr>\n    <tr>\n      <th>Adult</th>\n      <td>21</td>\n      <td>0.42</td>\n    </tr>\n    <tr>\n      <th>Middle Aged</th>\n      <td>12</td>\n      <td>0.24</td>\n    </tr>\n  </tbody>\n</table>\n</div>"
     },
     "metadata": {},
     "execution_count": 61
    }
   ],
   "source": [
    "ranges = [6, 12, 18, 35, 50]\n",
    "labels = ['Youth', 'Young Adult', 'Adult', 'Middle Aged']\n",
    "agebins = pd.cut(ages, ranges, labels=labels)\n",
    "agebins.describe()"
   ]
  },
  {
   "cell_type": "code",
   "execution_count": 62,
   "metadata": {},
   "outputs": [
    {
     "output_type": "execute_result",
     "data": {
      "text/plain": [
       "array([ 0.4691123 , -0.28286334, -1.5090585 , ...,  0.26296448,\n",
       "       -0.83377412, -0.10418135])"
      ]
     },
     "metadata": {},
     "execution_count": 62
    }
   ],
   "source": [
    "dist"
   ]
  },
  {
   "cell_type": "code",
   "execution_count": 63,
   "metadata": {},
   "outputs": [
    {
     "output_type": "execute_result",
     "data": {
      "text/plain": [
       "                  counts  freqs\n",
       "categories                     \n",
       "(-3.522, -0.861]    2000    0.2\n",
       "(-0.861, -0.241]    2000    0.2\n",
       "(-0.241, 0.261]     2000    0.2\n",
       "(0.261, 0.866]      2000    0.2\n",
       "(0.866, 3.698]      2000    0.2"
      ],
      "text/html": "<div>\n<style scoped>\n    .dataframe tbody tr th:only-of-type {\n        vertical-align: middle;\n    }\n\n    .dataframe tbody tr th {\n        vertical-align: top;\n    }\n\n    .dataframe thead th {\n        text-align: right;\n    }\n</style>\n<table border=\"1\" class=\"dataframe\">\n  <thead>\n    <tr style=\"text-align: right;\">\n      <th></th>\n      <th>counts</th>\n      <th>freqs</th>\n    </tr>\n    <tr>\n      <th>categories</th>\n      <th></th>\n      <th></th>\n    </tr>\n  </thead>\n  <tbody>\n    <tr>\n      <th>(-3.522, -0.861]</th>\n      <td>2000</td>\n      <td>0.2</td>\n    </tr>\n    <tr>\n      <th>(-0.861, -0.241]</th>\n      <td>2000</td>\n      <td>0.2</td>\n    </tr>\n    <tr>\n      <th>(-0.241, 0.261]</th>\n      <td>2000</td>\n      <td>0.2</td>\n    </tr>\n    <tr>\n      <th>(0.261, 0.866]</th>\n      <td>2000</td>\n      <td>0.2</td>\n    </tr>\n    <tr>\n      <th>(0.866, 3.698]</th>\n      <td>2000</td>\n      <td>0.2</td>\n    </tr>\n  </tbody>\n</table>\n</div>"
     },
     "metadata": {},
     "execution_count": 63
    }
   ],
   "source": [
    "qbin = pd.qcut(dist, 5)\n",
    "qbin.describe()"
   ]
  },
  {
   "cell_type": "code",
   "execution_count": 64,
   "metadata": {},
   "outputs": [
    {
     "output_type": "execute_result",
     "data": {
      "text/plain": [
       "                    counts  freqs\n",
       "categories                       \n",
       "(-3.522, -3.131]        10  0.001\n",
       "(-3.131, -2.056]       200  0.020\n",
       "(-2.056, -1.033]      1380  0.138\n",
       "(-1.033, -0.00363]    3410  0.341\n",
       "(-0.00363, 1.011]     3410  0.341\n",
       "(1.011, 2.043]        1380  0.138\n",
       "(2.043, 3.062]         200  0.020\n",
       "(3.062, 3.698]          10  0.001"
      ],
      "text/html": "<div>\n<style scoped>\n    .dataframe tbody tr th:only-of-type {\n        vertical-align: middle;\n    }\n\n    .dataframe tbody tr th {\n        vertical-align: top;\n    }\n\n    .dataframe thead th {\n        text-align: right;\n    }\n</style>\n<table border=\"1\" class=\"dataframe\">\n  <thead>\n    <tr style=\"text-align: right;\">\n      <th></th>\n      <th>counts</th>\n      <th>freqs</th>\n    </tr>\n    <tr>\n      <th>categories</th>\n      <th></th>\n      <th></th>\n    </tr>\n  </thead>\n  <tbody>\n    <tr>\n      <th>(-3.522, -3.131]</th>\n      <td>10</td>\n      <td>0.001</td>\n    </tr>\n    <tr>\n      <th>(-3.131, -2.056]</th>\n      <td>200</td>\n      <td>0.020</td>\n    </tr>\n    <tr>\n      <th>(-2.056, -1.033]</th>\n      <td>1380</td>\n      <td>0.138</td>\n    </tr>\n    <tr>\n      <th>(-1.033, -0.00363]</th>\n      <td>3410</td>\n      <td>0.341</td>\n    </tr>\n    <tr>\n      <th>(-0.00363, 1.011]</th>\n      <td>3410</td>\n      <td>0.341</td>\n    </tr>\n    <tr>\n      <th>(1.011, 2.043]</th>\n      <td>1380</td>\n      <td>0.138</td>\n    </tr>\n    <tr>\n      <th>(2.043, 3.062]</th>\n      <td>200</td>\n      <td>0.020</td>\n    </tr>\n    <tr>\n      <th>(3.062, 3.698]</th>\n      <td>10</td>\n      <td>0.001</td>\n    </tr>\n  </tbody>\n</table>\n</div>"
     },
     "metadata": {},
     "execution_count": 64
    }
   ],
   "source": [
    "quantiles = [\n",
    "    0,\n",
    "    0.001,\n",
    "    0.021,\n",
    "    0.5-0.341,\n",
    "    0.5,\n",
    "    0.5+0.341,\n",
    "    1.0-0.021,\n",
    "    1.0-0.001,\n",
    "    1.0\n",
    "]\n",
    "qbin = pd.qcut(dist, quantiles)\n",
    "qbin.describe()"
   ]
  },
  {
   "cell_type": "code",
   "execution_count": 66,
   "metadata": {},
   "outputs": [
    {
     "output_type": "execute_result",
     "data": {
      "text/plain": [
       "a   -0.204708\n",
       "b    0.478943\n",
       "c   -0.519439\n",
       "d   -0.555730\n",
       "e    1.965781\n",
       "dtype: float64"
      ]
     },
     "metadata": {},
     "execution_count": 66
    }
   ],
   "source": [
    "np.random.seed(12345)\n",
    "s = pd.Series(np.random.randn(5), index = list('abcde'))\n",
    "s"
   ]
  },
  {
   "cell_type": "code",
   "execution_count": 67,
   "metadata": {},
   "outputs": [
    {
     "output_type": "execute_result",
     "data": {
      "text/plain": [
       "a    3.0\n",
       "b    4.0\n",
       "c    2.0\n",
       "d    1.0\n",
       "e    5.0\n",
       "dtype: float64"
      ]
     },
     "metadata": {},
     "execution_count": 67
    }
   ],
   "source": [
    "s.rank()"
   ]
  },
  {
   "cell_type": "code",
   "execution_count": 70,
   "metadata": {},
   "outputs": [
    {
     "output_type": "execute_result",
     "data": {
      "text/plain": [
       "        MSFT\n",
       "0        NaN\n",
       "1  -0.003291\n",
       "2  -0.007842\n",
       "3   0.015807\n",
       "4  -0.008600\n",
       "5  -0.014870\n",
       "6  -0.002306\n",
       "7  -0.014499\n",
       "8   0.005757\n",
       "9  -0.004664\n",
       "10 -0.005964\n",
       "11 -0.032355\n",
       "12  0.012843\n",
       "13  0.038916\n",
       "14  0.002946\n",
       "15  0.006714\n",
       "16  0.009796\n",
       "17 -0.006398\n",
       "18 -0.005401\n",
       "19 -0.008981\n",
       "20 -0.009062\n",
       "21 -0.012123"
      ],
      "text/html": "<div>\n<style scoped>\n    .dataframe tbody tr th:only-of-type {\n        vertical-align: middle;\n    }\n\n    .dataframe tbody tr th {\n        vertical-align: top;\n    }\n\n    .dataframe thead th {\n        text-align: right;\n    }\n</style>\n<table border=\"1\" class=\"dataframe\">\n  <thead>\n    <tr style=\"text-align: right;\">\n      <th></th>\n      <th>MSFT</th>\n    </tr>\n  </thead>\n  <tbody>\n    <tr>\n      <th>0</th>\n      <td>NaN</td>\n    </tr>\n    <tr>\n      <th>1</th>\n      <td>-0.003291</td>\n    </tr>\n    <tr>\n      <th>2</th>\n      <td>-0.007842</td>\n    </tr>\n    <tr>\n      <th>3</th>\n      <td>0.015807</td>\n    </tr>\n    <tr>\n      <th>4</th>\n      <td>-0.008600</td>\n    </tr>\n    <tr>\n      <th>5</th>\n      <td>-0.014870</td>\n    </tr>\n    <tr>\n      <th>6</th>\n      <td>-0.002306</td>\n    </tr>\n    <tr>\n      <th>7</th>\n      <td>-0.014499</td>\n    </tr>\n    <tr>\n      <th>8</th>\n      <td>0.005757</td>\n    </tr>\n    <tr>\n      <th>9</th>\n      <td>-0.004664</td>\n    </tr>\n    <tr>\n      <th>10</th>\n      <td>-0.005964</td>\n    </tr>\n    <tr>\n      <th>11</th>\n      <td>-0.032355</td>\n    </tr>\n    <tr>\n      <th>12</th>\n      <td>0.012843</td>\n    </tr>\n    <tr>\n      <th>13</th>\n      <td>0.038916</td>\n    </tr>\n    <tr>\n      <th>14</th>\n      <td>0.002946</td>\n    </tr>\n    <tr>\n      <th>15</th>\n      <td>0.006714</td>\n    </tr>\n    <tr>\n      <th>16</th>\n      <td>0.009796</td>\n    </tr>\n    <tr>\n      <th>17</th>\n      <td>-0.006398</td>\n    </tr>\n    <tr>\n      <th>18</th>\n      <td>-0.005401</td>\n    </tr>\n    <tr>\n      <th>19</th>\n      <td>-0.008981</td>\n    </tr>\n    <tr>\n      <th>20</th>\n      <td>-0.009062</td>\n    </tr>\n    <tr>\n      <th>21</th>\n      <td>-0.012123</td>\n    </tr>\n  </tbody>\n</table>\n</div>"
     },
     "metadata": {},
     "execution_count": 70
    }
   ],
   "source": [
    "omh[['MSFT']].pct_change()\n",
    "# omh[['MSFT']].pct_change().head()"
   ]
  },
  {
   "cell_type": "code",
   "execution_count": 71,
   "metadata": {},
   "outputs": [
    {
     "output_type": "execute_result",
     "data": {
      "text/plain": [
       "0    0.469112\n",
       "1    0.186249\n",
       "2   -1.322810\n",
       "3   -2.458442\n",
       "4   -1.246330\n",
       "dtype: float64"
      ]
     },
     "metadata": {},
     "execution_count": 71
    }
   ],
   "source": [
    "np.random.seed(123456)\n",
    "s = pd.Series(np.random.randn(1000)).cumsum()\n",
    "s[:5]"
   ]
  },
  {
   "cell_type": "code",
   "execution_count": 74,
   "metadata": {},
   "outputs": [
    {
     "output_type": "display_data",
     "data": {
      "text/plain": "<Figure size 432x288 with 1 Axes>",
      "image/svg+xml": "<?xml version=\"1.0\" encoding=\"utf-8\" standalone=\"no\"?>\r\n<!DOCTYPE svg PUBLIC \"-//W3C//DTD SVG 1.1//EN\"\r\n  \"http://www.w3.org/Graphics/SVG/1.1/DTD/svg11.dtd\">\r\n<!-- Created with matplotlib (https://matplotlib.org/) -->\r\n<svg height=\"248.518125pt\" version=\"1.1\" viewBox=\"0 0 377.304687 248.518125\" width=\"377.304687pt\" xmlns=\"http://www.w3.org/2000/svg\" xmlns:xlink=\"http://www.w3.org/1999/xlink\">\r\n <defs>\r\n  <style type=\"text/css\">\r\n*{stroke-linecap:butt;stroke-linejoin:round;}\r\n  </style>\r\n </defs>\r\n <g id=\"figure_1\">\r\n  <g id=\"patch_1\">\r\n   <path d=\"M 0 248.518125 \r\nL 377.304687 248.518125 \r\nL 377.304687 0 \r\nL 0 0 \r\nz\r\n\" style=\"fill:none;\"/>\r\n  </g>\r\n  <g id=\"axes_1\">\r\n   <g id=\"patch_2\">\r\n    <path d=\"M 35.304688 224.64 \r\nL 370.104688 224.64 \r\nL 370.104688 7.2 \r\nL 35.304688 7.2 \r\nz\r\n\" style=\"fill:#ffffff;\"/>\r\n   </g>\r\n   <g id=\"matplotlib.axis_1\">\r\n    <g id=\"xtick_1\">\r\n     <g id=\"line2d_1\">\r\n      <defs>\r\n       <path d=\"M 0 0 \r\nL 0 3.5 \r\n\" id=\"m2ba36fe2b1\" style=\"stroke:#000000;stroke-width:0.8;\"/>\r\n      </defs>\r\n      <g>\r\n       <use style=\"stroke:#000000;stroke-width:0.8;\" x=\"50.522869\" xlink:href=\"#m2ba36fe2b1\" y=\"224.64\"/>\r\n      </g>\r\n     </g>\r\n     <g id=\"text_1\">\r\n      <!-- 0 -->\r\n      <defs>\r\n       <path d=\"M 31.78125 66.40625 \r\nQ 24.171875 66.40625 20.328125 58.90625 \r\nQ 16.5 51.421875 16.5 36.375 \r\nQ 16.5 21.390625 20.328125 13.890625 \r\nQ 24.171875 6.390625 31.78125 6.390625 \r\nQ 39.453125 6.390625 43.28125 13.890625 \r\nQ 47.125 21.390625 47.125 36.375 \r\nQ 47.125 51.421875 43.28125 58.90625 \r\nQ 39.453125 66.40625 31.78125 66.40625 \r\nz\r\nM 31.78125 74.21875 \r\nQ 44.046875 74.21875 50.515625 64.515625 \r\nQ 56.984375 54.828125 56.984375 36.375 \r\nQ 56.984375 17.96875 50.515625 8.265625 \r\nQ 44.046875 -1.421875 31.78125 -1.421875 \r\nQ 19.53125 -1.421875 13.0625 8.265625 \r\nQ 6.59375 17.96875 6.59375 36.375 \r\nQ 6.59375 54.828125 13.0625 64.515625 \r\nQ 19.53125 74.21875 31.78125 74.21875 \r\nz\r\n\" id=\"DejaVuSans-48\"/>\r\n      </defs>\r\n      <g transform=\"translate(47.341619 239.238437)scale(0.1 -0.1)\">\r\n       <use xlink:href=\"#DejaVuSans-48\"/>\r\n      </g>\r\n     </g>\r\n    </g>\r\n    <g id=\"xtick_2\">\r\n     <g id=\"line2d_2\">\r\n      <g>\r\n       <use style=\"stroke:#000000;stroke-width:0.8;\" x=\"112.010473\" xlink:href=\"#m2ba36fe2b1\" y=\"224.64\"/>\r\n      </g>\r\n     </g>\r\n     <g id=\"text_2\">\r\n      <!-- 20 -->\r\n      <defs>\r\n       <path d=\"M 19.1875 8.296875 \r\nL 53.609375 8.296875 \r\nL 53.609375 0 \r\nL 7.328125 0 \r\nL 7.328125 8.296875 \r\nQ 12.9375 14.109375 22.625 23.890625 \r\nQ 32.328125 33.6875 34.8125 36.53125 \r\nQ 39.546875 41.84375 41.421875 45.53125 \r\nQ 43.3125 49.21875 43.3125 52.78125 \r\nQ 43.3125 58.59375 39.234375 62.25 \r\nQ 35.15625 65.921875 28.609375 65.921875 \r\nQ 23.96875 65.921875 18.8125 64.3125 \r\nQ 13.671875 62.703125 7.8125 59.421875 \r\nL 7.8125 69.390625 \r\nQ 13.765625 71.78125 18.9375 73 \r\nQ 24.125 74.21875 28.421875 74.21875 \r\nQ 39.75 74.21875 46.484375 68.546875 \r\nQ 53.21875 62.890625 53.21875 53.421875 \r\nQ 53.21875 48.921875 51.53125 44.890625 \r\nQ 49.859375 40.875 45.40625 35.40625 \r\nQ 44.1875 33.984375 37.640625 27.21875 \r\nQ 31.109375 20.453125 19.1875 8.296875 \r\nz\r\n\" id=\"DejaVuSans-50\"/>\r\n      </defs>\r\n      <g transform=\"translate(105.647973 239.238437)scale(0.1 -0.1)\">\r\n       <use xlink:href=\"#DejaVuSans-50\"/>\r\n       <use x=\"63.623047\" xlink:href=\"#DejaVuSans-48\"/>\r\n      </g>\r\n     </g>\r\n    </g>\r\n    <g id=\"xtick_3\">\r\n     <g id=\"line2d_3\">\r\n      <g>\r\n       <use style=\"stroke:#000000;stroke-width:0.8;\" x=\"173.498076\" xlink:href=\"#m2ba36fe2b1\" y=\"224.64\"/>\r\n      </g>\r\n     </g>\r\n     <g id=\"text_3\">\r\n      <!-- 40 -->\r\n      <defs>\r\n       <path d=\"M 37.796875 64.3125 \r\nL 12.890625 25.390625 \r\nL 37.796875 25.390625 \r\nz\r\nM 35.203125 72.90625 \r\nL 47.609375 72.90625 \r\nL 47.609375 25.390625 \r\nL 58.015625 25.390625 \r\nL 58.015625 17.1875 \r\nL 47.609375 17.1875 \r\nL 47.609375 0 \r\nL 37.796875 0 \r\nL 37.796875 17.1875 \r\nL 4.890625 17.1875 \r\nL 4.890625 26.703125 \r\nz\r\n\" id=\"DejaVuSans-52\"/>\r\n      </defs>\r\n      <g transform=\"translate(167.135576 239.238437)scale(0.1 -0.1)\">\r\n       <use xlink:href=\"#DejaVuSans-52\"/>\r\n       <use x=\"63.623047\" xlink:href=\"#DejaVuSans-48\"/>\r\n      </g>\r\n     </g>\r\n    </g>\r\n    <g id=\"xtick_4\">\r\n     <g id=\"line2d_4\">\r\n      <g>\r\n       <use style=\"stroke:#000000;stroke-width:0.8;\" x=\"234.985679\" xlink:href=\"#m2ba36fe2b1\" y=\"224.64\"/>\r\n      </g>\r\n     </g>\r\n     <g id=\"text_4\">\r\n      <!-- 60 -->\r\n      <defs>\r\n       <path d=\"M 33.015625 40.375 \r\nQ 26.375 40.375 22.484375 35.828125 \r\nQ 18.609375 31.296875 18.609375 23.390625 \r\nQ 18.609375 15.53125 22.484375 10.953125 \r\nQ 26.375 6.390625 33.015625 6.390625 \r\nQ 39.65625 6.390625 43.53125 10.953125 \r\nQ 47.40625 15.53125 47.40625 23.390625 \r\nQ 47.40625 31.296875 43.53125 35.828125 \r\nQ 39.65625 40.375 33.015625 40.375 \r\nz\r\nM 52.59375 71.296875 \r\nL 52.59375 62.3125 \r\nQ 48.875 64.0625 45.09375 64.984375 \r\nQ 41.3125 65.921875 37.59375 65.921875 \r\nQ 27.828125 65.921875 22.671875 59.328125 \r\nQ 17.53125 52.734375 16.796875 39.40625 \r\nQ 19.671875 43.65625 24.015625 45.921875 \r\nQ 28.375 48.1875 33.59375 48.1875 \r\nQ 44.578125 48.1875 50.953125 41.515625 \r\nQ 57.328125 34.859375 57.328125 23.390625 \r\nQ 57.328125 12.15625 50.6875 5.359375 \r\nQ 44.046875 -1.421875 33.015625 -1.421875 \r\nQ 20.359375 -1.421875 13.671875 8.265625 \r\nQ 6.984375 17.96875 6.984375 36.375 \r\nQ 6.984375 53.65625 15.1875 63.9375 \r\nQ 23.390625 74.21875 37.203125 74.21875 \r\nQ 40.921875 74.21875 44.703125 73.484375 \r\nQ 48.484375 72.75 52.59375 71.296875 \r\nz\r\n\" id=\"DejaVuSans-54\"/>\r\n      </defs>\r\n      <g transform=\"translate(228.623179 239.238437)scale(0.1 -0.1)\">\r\n       <use xlink:href=\"#DejaVuSans-54\"/>\r\n       <use x=\"63.623047\" xlink:href=\"#DejaVuSans-48\"/>\r\n      </g>\r\n     </g>\r\n    </g>\r\n    <g id=\"xtick_5\">\r\n     <g id=\"line2d_5\">\r\n      <g>\r\n       <use style=\"stroke:#000000;stroke-width:0.8;\" x=\"296.473283\" xlink:href=\"#m2ba36fe2b1\" y=\"224.64\"/>\r\n      </g>\r\n     </g>\r\n     <g id=\"text_5\">\r\n      <!-- 80 -->\r\n      <defs>\r\n       <path d=\"M 31.78125 34.625 \r\nQ 24.75 34.625 20.71875 30.859375 \r\nQ 16.703125 27.09375 16.703125 20.515625 \r\nQ 16.703125 13.921875 20.71875 10.15625 \r\nQ 24.75 6.390625 31.78125 6.390625 \r\nQ 38.8125 6.390625 42.859375 10.171875 \r\nQ 46.921875 13.96875 46.921875 20.515625 \r\nQ 46.921875 27.09375 42.890625 30.859375 \r\nQ 38.875 34.625 31.78125 34.625 \r\nz\r\nM 21.921875 38.8125 \r\nQ 15.578125 40.375 12.03125 44.71875 \r\nQ 8.5 49.078125 8.5 55.328125 \r\nQ 8.5 64.0625 14.71875 69.140625 \r\nQ 20.953125 74.21875 31.78125 74.21875 \r\nQ 42.671875 74.21875 48.875 69.140625 \r\nQ 55.078125 64.0625 55.078125 55.328125 \r\nQ 55.078125 49.078125 51.53125 44.71875 \r\nQ 48 40.375 41.703125 38.8125 \r\nQ 48.828125 37.15625 52.796875 32.3125 \r\nQ 56.78125 27.484375 56.78125 20.515625 \r\nQ 56.78125 9.90625 50.3125 4.234375 \r\nQ 43.84375 -1.421875 31.78125 -1.421875 \r\nQ 19.734375 -1.421875 13.25 4.234375 \r\nQ 6.78125 9.90625 6.78125 20.515625 \r\nQ 6.78125 27.484375 10.78125 32.3125 \r\nQ 14.796875 37.15625 21.921875 38.8125 \r\nz\r\nM 18.3125 54.390625 \r\nQ 18.3125 48.734375 21.84375 45.5625 \r\nQ 25.390625 42.390625 31.78125 42.390625 \r\nQ 38.140625 42.390625 41.71875 45.5625 \r\nQ 45.3125 48.734375 45.3125 54.390625 \r\nQ 45.3125 60.0625 41.71875 63.234375 \r\nQ 38.140625 66.40625 31.78125 66.40625 \r\nQ 25.390625 66.40625 21.84375 63.234375 \r\nQ 18.3125 60.0625 18.3125 54.390625 \r\nz\r\n\" id=\"DejaVuSans-56\"/>\r\n      </defs>\r\n      <g transform=\"translate(290.110783 239.238437)scale(0.1 -0.1)\">\r\n       <use xlink:href=\"#DejaVuSans-56\"/>\r\n       <use x=\"63.623047\" xlink:href=\"#DejaVuSans-48\"/>\r\n      </g>\r\n     </g>\r\n    </g>\r\n    <g id=\"xtick_6\">\r\n     <g id=\"line2d_6\">\r\n      <g>\r\n       <use style=\"stroke:#000000;stroke-width:0.8;\" x=\"357.960886\" xlink:href=\"#m2ba36fe2b1\" y=\"224.64\"/>\r\n      </g>\r\n     </g>\r\n     <g id=\"text_6\">\r\n      <!-- 100 -->\r\n      <defs>\r\n       <path d=\"M 12.40625 8.296875 \r\nL 28.515625 8.296875 \r\nL 28.515625 63.921875 \r\nL 10.984375 60.40625 \r\nL 10.984375 69.390625 \r\nL 28.421875 72.90625 \r\nL 38.28125 72.90625 \r\nL 38.28125 8.296875 \r\nL 54.390625 8.296875 \r\nL 54.390625 0 \r\nL 12.40625 0 \r\nz\r\n\" id=\"DejaVuSans-49\"/>\r\n      </defs>\r\n      <g transform=\"translate(348.417136 239.238437)scale(0.1 -0.1)\">\r\n       <use xlink:href=\"#DejaVuSans-49\"/>\r\n       <use x=\"63.623047\" xlink:href=\"#DejaVuSans-48\"/>\r\n       <use x=\"127.246094\" xlink:href=\"#DejaVuSans-48\"/>\r\n      </g>\r\n     </g>\r\n    </g>\r\n   </g>\r\n   <g id=\"matplotlib.axis_2\">\r\n    <g id=\"ytick_1\">\r\n     <g id=\"line2d_7\">\r\n      <defs>\r\n       <path d=\"M 0 0 \r\nL -3.5 0 \r\n\" id=\"mdf18a3c23d\" style=\"stroke:#000000;stroke-width:0.8;\"/>\r\n      </defs>\r\n      <g>\r\n       <use style=\"stroke:#000000;stroke-width:0.8;\" x=\"35.304688\" xlink:href=\"#mdf18a3c23d\" y=\"202.782341\"/>\r\n      </g>\r\n     </g>\r\n     <g id=\"text_7\">\r\n      <!-- −20 -->\r\n      <defs>\r\n       <path d=\"M 10.59375 35.5 \r\nL 73.1875 35.5 \r\nL 73.1875 27.203125 \r\nL 10.59375 27.203125 \r\nz\r\n\" id=\"DejaVuSans-8722\"/>\r\n      </defs>\r\n      <g transform=\"translate(7.2 206.581559)scale(0.1 -0.1)\">\r\n       <use xlink:href=\"#DejaVuSans-8722\"/>\r\n       <use x=\"83.789062\" xlink:href=\"#DejaVuSans-50\"/>\r\n       <use x=\"147.412109\" xlink:href=\"#DejaVuSans-48\"/>\r\n      </g>\r\n     </g>\r\n    </g>\r\n    <g id=\"ytick_2\">\r\n     <g id=\"line2d_8\">\r\n      <g>\r\n       <use style=\"stroke:#000000;stroke-width:0.8;\" x=\"35.304688\" xlink:href=\"#mdf18a3c23d\" y=\"157.421628\"/>\r\n      </g>\r\n     </g>\r\n     <g id=\"text_8\">\r\n      <!-- −15 -->\r\n      <defs>\r\n       <path d=\"M 10.796875 72.90625 \r\nL 49.515625 72.90625 \r\nL 49.515625 64.59375 \r\nL 19.828125 64.59375 \r\nL 19.828125 46.734375 \r\nQ 21.96875 47.46875 24.109375 47.828125 \r\nQ 26.265625 48.1875 28.421875 48.1875 \r\nQ 40.625 48.1875 47.75 41.5 \r\nQ 54.890625 34.8125 54.890625 23.390625 \r\nQ 54.890625 11.625 47.5625 5.09375 \r\nQ 40.234375 -1.421875 26.90625 -1.421875 \r\nQ 22.3125 -1.421875 17.546875 -0.640625 \r\nQ 12.796875 0.140625 7.71875 1.703125 \r\nL 7.71875 11.625 \r\nQ 12.109375 9.234375 16.796875 8.0625 \r\nQ 21.484375 6.890625 26.703125 6.890625 \r\nQ 35.15625 6.890625 40.078125 11.328125 \r\nQ 45.015625 15.765625 45.015625 23.390625 \r\nQ 45.015625 31 40.078125 35.4375 \r\nQ 35.15625 39.890625 26.703125 39.890625 \r\nQ 22.75 39.890625 18.8125 39.015625 \r\nQ 14.890625 38.140625 10.796875 36.28125 \r\nz\r\n\" id=\"DejaVuSans-53\"/>\r\n      </defs>\r\n      <g transform=\"translate(7.2 161.220847)scale(0.1 -0.1)\">\r\n       <use xlink:href=\"#DejaVuSans-8722\"/>\r\n       <use x=\"83.789062\" xlink:href=\"#DejaVuSans-49\"/>\r\n       <use x=\"147.412109\" xlink:href=\"#DejaVuSans-53\"/>\r\n      </g>\r\n     </g>\r\n    </g>\r\n    <g id=\"ytick_3\">\r\n     <g id=\"line2d_9\">\r\n      <g>\r\n       <use style=\"stroke:#000000;stroke-width:0.8;\" x=\"35.304688\" xlink:href=\"#mdf18a3c23d\" y=\"112.060915\"/>\r\n      </g>\r\n     </g>\r\n     <g id=\"text_9\">\r\n      <!-- −10 -->\r\n      <g transform=\"translate(7.2 115.860134)scale(0.1 -0.1)\">\r\n       <use xlink:href=\"#DejaVuSans-8722\"/>\r\n       <use x=\"83.789062\" xlink:href=\"#DejaVuSans-49\"/>\r\n       <use x=\"147.412109\" xlink:href=\"#DejaVuSans-48\"/>\r\n      </g>\r\n     </g>\r\n    </g>\r\n    <g id=\"ytick_4\">\r\n     <g id=\"line2d_10\">\r\n      <g>\r\n       <use style=\"stroke:#000000;stroke-width:0.8;\" x=\"35.304688\" xlink:href=\"#mdf18a3c23d\" y=\"66.700203\"/>\r\n      </g>\r\n     </g>\r\n     <g id=\"text_10\">\r\n      <!-- −5 -->\r\n      <g transform=\"translate(13.5625 70.499421)scale(0.1 -0.1)\">\r\n       <use xlink:href=\"#DejaVuSans-8722\"/>\r\n       <use x=\"83.789062\" xlink:href=\"#DejaVuSans-53\"/>\r\n      </g>\r\n     </g>\r\n    </g>\r\n    <g id=\"ytick_5\">\r\n     <g id=\"line2d_11\">\r\n      <g>\r\n       <use style=\"stroke:#000000;stroke-width:0.8;\" x=\"35.304688\" xlink:href=\"#mdf18a3c23d\" y=\"21.33949\"/>\r\n      </g>\r\n     </g>\r\n     <g id=\"text_11\">\r\n      <!-- 0 -->\r\n      <g transform=\"translate(21.942188 25.138709)scale(0.1 -0.1)\">\r\n       <use xlink:href=\"#DejaVuSans-48\"/>\r\n      </g>\r\n     </g>\r\n    </g>\r\n   </g>\r\n   <g id=\"line2d_12\">\r\n    <path clip-path=\"url(#pa323380335)\" d=\"M 50.522869 17.083636 \r\nL 53.597249 19.649813 \r\nL 56.67163 33.340207 \r\nL 59.74601 43.642825 \r\nL 62.82039 32.646372 \r\nL 65.89477 34.2178 \r\nL 68.96915 33.136322 \r\nL 72.04353 42.60978 \r\nL 75.117911 50.428596 \r\nL 78.192291 69.521548 \r\nL 81.266671 74.011617 \r\nL 84.341051 64.28806 \r\nL 87.415431 57.742009 \r\nL 90.489811 64.153937 \r\nL 93.564192 73.58511 \r\nL 96.638572 71.118758 \r\nL 99.712952 74.974168 \r\nL 102.787332 69.830078 \r\nL 105.861712 67.324062 \r\nL 108.936092 77.189116 \r\nL 112.010473 83.300925 \r\nL 115.084853 82.26989 \r\nL 118.159233 95.682387 \r\nL 121.233613 90.919624 \r\nL 124.307993 87.248081 \r\nL 127.382373 82.013037 \r\nL 130.456754 97.57178 \r\nL 133.531134 107.000172 \r\nL 136.605514 110.362733 \r\nL 139.679894 120.867296 \r\nL 142.754274 133.063085 \r\nL 145.828654 125.398166 \r\nL 148.903035 115.638629 \r\nL 151.977415 116.627946 \r\nL 155.051795 101.717308 \r\nL 158.126175 115.047805 \r\nL 161.200555 111.808863 \r\nL 164.274935 117.928932 \r\nL 167.349316 134.049256 \r\nL 170.423696 142.83938 \r\nL 173.498076 154.583482 \r\nL 176.572456 150.829991 \r\nL 179.646836 148.320077 \r\nL 182.721216 152.602441 \r\nL 185.795597 152.729086 \r\nL 188.869977 156.018128 \r\nL 191.944357 156.073954 \r\nL 195.018737 164.448091 \r\nL 198.093117 156.322016 \r\nL 201.167497 149.016728 \r\nL 204.241878 159.961468 \r\nL 207.316258 136.685562 \r\nL 210.390638 123.701004 \r\nL 213.465018 111.541531 \r\nL 216.539398 122.158648 \r\nL 219.613778 124.210488 \r\nL 222.688159 120.483339 \r\nL 225.762539 113.099973 \r\nL 228.836919 111.902421 \r\nL 231.911299 119.407959 \r\nL 234.985679 120.101678 \r\nL 238.060059 130.876459 \r\nL 241.13444 120.623783 \r\nL 244.20882 133.658068 \r\nL 247.2832 146.483183 \r\nL 250.35758 131.895899 \r\nL 253.43196 122.604391 \r\nL 256.50634 117.43685 \r\nL 259.580721 109.490503 \r\nL 262.655101 129.552387 \r\nL 265.729481 120.711892 \r\nL 268.803861 138.917388 \r\nL 271.878241 142.636972 \r\nL 274.952621 143.350383 \r\nL 278.027002 138.39743 \r\nL 281.101382 149.458339 \r\nL 284.175762 160.588272 \r\nL 287.250142 153.604504 \r\nL 290.324522 165.228162 \r\nL 293.398902 171.830024 \r\nL 296.473283 172.930532 \r\nL 299.547663 173.818537 \r\nL 302.622043 167.50637 \r\nL 305.696423 164.406108 \r\nL 308.770803 155.69934 \r\nL 311.845183 165.772468 \r\nL 314.919564 171.396977 \r\nL 317.993944 170.038439 \r\nL 321.068324 176.682326 \r\nL 324.142704 170.443066 \r\nL 327.217084 168.842338 \r\nL 330.291464 165.183456 \r\nL 333.365845 166.589192 \r\nL 336.440225 163.852812 \r\nL 339.514605 183.628818 \r\nL 342.588985 196.056286 \r\nL 345.663365 204.712996 \r\nL 348.737745 191.443209 \r\nL 351.812126 207.257413 \r\nL 354.886506 214.756364 \r\n\" style=\"fill:none;stroke:#1f77b4;stroke-linecap:square;stroke-width:1.5;\"/>\r\n   </g>\r\n   <g id=\"patch_3\">\r\n    <path d=\"M 35.304688 224.64 \r\nL 35.304688 7.2 \r\n\" style=\"fill:none;stroke:#000000;stroke-linecap:square;stroke-linejoin:miter;stroke-width:0.8;\"/>\r\n   </g>\r\n   <g id=\"patch_4\">\r\n    <path d=\"M 370.104688 224.64 \r\nL 370.104688 7.2 \r\n\" style=\"fill:none;stroke:#000000;stroke-linecap:square;stroke-linejoin:miter;stroke-width:0.8;\"/>\r\n   </g>\r\n   <g id=\"patch_5\">\r\n    <path d=\"M 35.304688 224.64 \r\nL 370.104688 224.64 \r\n\" style=\"fill:none;stroke:#000000;stroke-linecap:square;stroke-linejoin:miter;stroke-width:0.8;\"/>\r\n   </g>\r\n   <g id=\"patch_6\">\r\n    <path d=\"M 35.304688 7.2 \r\nL 370.104688 7.2 \r\n\" style=\"fill:none;stroke:#000000;stroke-linecap:square;stroke-linejoin:miter;stroke-width:0.8;\"/>\r\n   </g>\r\n  </g>\r\n </g>\r\n <defs>\r\n  <clipPath id=\"pa323380335\">\r\n   <rect height=\"217.44\" width=\"334.8\" x=\"35.304688\" y=\"7.2\"/>\r\n  </clipPath>\r\n </defs>\r\n</svg>\r\n",
      "image/png": "[encoded data removed]"
     },
     "metadata": {
      "needs_background": "light"
     }
    }
   ],
   "source": [
    "s[0:100].plot();"
   ]
  },
  {
   "cell_type": "code",
   "execution_count": 75,
   "metadata": {},
   "outputs": [
    {
     "output_type": "execute_result",
     "data": {
      "text/plain": [
       "Rolling [window=3,center=False,axis=0]"
      ]
     },
     "metadata": {},
     "execution_count": 75
    }
   ],
   "source": [
    "r = s.rolling(window=3)\n",
    "r"
   ]
  },
  {
   "cell_type": "code",
   "execution_count": 76,
   "metadata": {},
   "outputs": [
    {
     "output_type": "execute_result",
     "data": {
      "text/plain": [
       "0         NaN\n",
       "1         NaN\n",
       "2   -0.222483\n",
       "3   -1.198334\n",
       "4   -1.675860\n",
       "5   -1.708105\n",
       "6   -1.322070\n",
       "dtype: float64"
      ]
     },
     "metadata": {},
     "execution_count": 76
    }
   ],
   "source": [
    "means = r.mean()\n",
    "means[:7]"
   ]
  },
  {
   "cell_type": "code",
   "execution_count": 77,
   "metadata": {},
   "outputs": [
    {
     "output_type": "execute_result",
     "data": {
      "text/plain": [
       "-0.22248276403642672"
      ]
     },
     "metadata": {},
     "execution_count": 77
    }
   ],
   "source": [
    "s[0:3].mean()"
   ]
  },
  {
   "cell_type": "code",
   "execution_count": 79,
   "metadata": {},
   "outputs": [
    {
     "output_type": "execute_result",
     "data": {
      "text/plain": [
       "-1.1983341702095498"
      ]
     },
     "metadata": {},
     "execution_count": 79
    }
   ],
   "source": [
    "s[1:4].mean()"
   ]
  },
  {
   "cell_type": "code",
   "execution_count": 81,
   "metadata": {},
   "outputs": [
    {
     "output_type": "display_data",
     "data": {
      "text/plain": "<Figure size 432x288 with 1 Axes>",
      "image/svg+xml": "<?xml version=\"1.0\" encoding=\"utf-8\" standalone=\"no\"?>\r\n<!DOCTYPE svg PUBLIC \"-//W3C//DTD SVG 1.1//EN\"\r\n  \"http://www.w3.org/Graphics/SVG/1.1/DTD/svg11.dtd\">\r\n<!-- Created with matplotlib (https://matplotlib.org/) -->\r\n<svg height=\"248.518125pt\" version=\"1.1\" viewBox=\"0 0 386.845312 248.518125\" width=\"386.845312pt\" xmlns=\"http://www.w3.org/2000/svg\" xmlns:xlink=\"http://www.w3.org/1999/xlink\">\r\n <defs>\r\n  <style type=\"text/css\">\r\n*{stroke-linecap:butt;stroke-linejoin:round;}\r\n  </style>\r\n </defs>\r\n <g id=\"figure_1\">\r\n  <g id=\"patch_1\">\r\n   <path d=\"M 0 248.518125 \r\nL 386.845312 248.518125 \r\nL 386.845312 0 \r\nL 0 0 \r\nz\r\n\" style=\"fill:none;\"/>\r\n  </g>\r\n  <g id=\"axes_1\">\r\n   <g id=\"patch_2\">\r\n    <path d=\"M 44.845313 224.64 \r\nL 379.645313 224.64 \r\nL 379.645313 7.2 \r\nL 44.845313 7.2 \r\nz\r\n\" style=\"fill:#ffffff;\"/>\r\n   </g>\r\n   <g id=\"matplotlib.axis_1\">\r\n    <g id=\"xtick_1\">\r\n     <g id=\"line2d_1\">\r\n      <defs>\r\n       <path d=\"M 0 0 \r\nL 0 3.5 \r\n\" id=\"m8ad8308716\" style=\"stroke:#000000;stroke-width:0.8;\"/>\r\n      </defs>\r\n      <g>\r\n       <use style=\"stroke:#000000;stroke-width:0.8;\" x=\"53.787955\" xlink:href=\"#m8ad8308716\" y=\"224.64\"/>\r\n      </g>\r\n     </g>\r\n     <g id=\"text_1\">\r\n      <!-- 0 -->\r\n      <defs>\r\n       <path d=\"M 31.78125 66.40625 \r\nQ 24.171875 66.40625 20.328125 58.90625 \r\nQ 16.5 51.421875 16.5 36.375 \r\nQ 16.5 21.390625 20.328125 13.890625 \r\nQ 24.171875 6.390625 31.78125 6.390625 \r\nQ 39.453125 6.390625 43.28125 13.890625 \r\nQ 47.125 21.390625 47.125 36.375 \r\nQ 47.125 51.421875 43.28125 58.90625 \r\nQ 39.453125 66.40625 31.78125 66.40625 \r\nz\r\nM 31.78125 74.21875 \r\nQ 44.046875 74.21875 50.515625 64.515625 \r\nQ 56.984375 54.828125 56.984375 36.375 \r\nQ 56.984375 17.96875 50.515625 8.265625 \r\nQ 44.046875 -1.421875 31.78125 -1.421875 \r\nQ 19.53125 -1.421875 13.0625 8.265625 \r\nQ 6.59375 17.96875 6.59375 36.375 \r\nQ 6.59375 54.828125 13.0625 64.515625 \r\nQ 19.53125 74.21875 31.78125 74.21875 \r\nz\r\n\" id=\"DejaVuSans-48\"/>\r\n      </defs>\r\n      <g transform=\"translate(50.606705 239.238437)scale(0.1 -0.1)\">\r\n       <use xlink:href=\"#DejaVuSans-48\"/>\r\n      </g>\r\n     </g>\r\n    </g>\r\n    <g id=\"xtick_2\">\r\n     <g id=\"line2d_2\">\r\n      <g>\r\n       <use style=\"stroke:#000000;stroke-width:0.8;\" x=\"116.543344\" xlink:href=\"#m8ad8308716\" y=\"224.64\"/>\r\n      </g>\r\n     </g>\r\n     <g id=\"text_2\">\r\n      <!-- 20 -->\r\n      <defs>\r\n       <path d=\"M 19.1875 8.296875 \r\nL 53.609375 8.296875 \r\nL 53.609375 0 \r\nL 7.328125 0 \r\nL 7.328125 8.296875 \r\nQ 12.9375 14.109375 22.625 23.890625 \r\nQ 32.328125 33.6875 34.8125 36.53125 \r\nQ 39.546875 41.84375 41.421875 45.53125 \r\nQ 43.3125 49.21875 43.3125 52.78125 \r\nQ 43.3125 58.59375 39.234375 62.25 \r\nQ 35.15625 65.921875 28.609375 65.921875 \r\nQ 23.96875 65.921875 18.8125 64.3125 \r\nQ 13.671875 62.703125 7.8125 59.421875 \r\nL 7.8125 69.390625 \r\nQ 13.765625 71.78125 18.9375 73 \r\nQ 24.125 74.21875 28.421875 74.21875 \r\nQ 39.75 74.21875 46.484375 68.546875 \r\nQ 53.21875 62.890625 53.21875 53.421875 \r\nQ 53.21875 48.921875 51.53125 44.890625 \r\nQ 49.859375 40.875 45.40625 35.40625 \r\nQ 44.1875 33.984375 37.640625 27.21875 \r\nQ 31.109375 20.453125 19.1875 8.296875 \r\nz\r\n\" id=\"DejaVuSans-50\"/>\r\n      </defs>\r\n      <g transform=\"translate(110.180844 239.238437)scale(0.1 -0.1)\">\r\n       <use xlink:href=\"#DejaVuSans-50\"/>\r\n       <use x=\"63.623047\" xlink:href=\"#DejaVuSans-48\"/>\r\n      </g>\r\n     </g>\r\n    </g>\r\n    <g id=\"xtick_3\">\r\n     <g id=\"line2d_3\">\r\n      <g>\r\n       <use style=\"stroke:#000000;stroke-width:0.8;\" x=\"179.298733\" xlink:href=\"#m8ad8308716\" y=\"224.64\"/>\r\n      </g>\r\n     </g>\r\n     <g id=\"text_3\">\r\n      <!-- 40 -->\r\n      <defs>\r\n       <path d=\"M 37.796875 64.3125 \r\nL 12.890625 25.390625 \r\nL 37.796875 25.390625 \r\nz\r\nM 35.203125 72.90625 \r\nL 47.609375 72.90625 \r\nL 47.609375 25.390625 \r\nL 58.015625 25.390625 \r\nL 58.015625 17.1875 \r\nL 47.609375 17.1875 \r\nL 47.609375 0 \r\nL 37.796875 0 \r\nL 37.796875 17.1875 \r\nL 4.890625 17.1875 \r\nL 4.890625 26.703125 \r\nz\r\n\" id=\"DejaVuSans-52\"/>\r\n      </defs>\r\n      <g transform=\"translate(172.936233 239.238437)scale(0.1 -0.1)\">\r\n       <use xlink:href=\"#DejaVuSans-52\"/>\r\n       <use x=\"63.623047\" xlink:href=\"#DejaVuSans-48\"/>\r\n      </g>\r\n     </g>\r\n    </g>\r\n    <g id=\"xtick_4\">\r\n     <g id=\"line2d_4\">\r\n      <g>\r\n       <use style=\"stroke:#000000;stroke-width:0.8;\" x=\"242.054122\" xlink:href=\"#m8ad8308716\" y=\"224.64\"/>\r\n      </g>\r\n     </g>\r\n     <g id=\"text_4\">\r\n      <!-- 60 -->\r\n      <defs>\r\n       <path d=\"M 33.015625 40.375 \r\nQ 26.375 40.375 22.484375 35.828125 \r\nQ 18.609375 31.296875 18.609375 23.390625 \r\nQ 18.609375 15.53125 22.484375 10.953125 \r\nQ 26.375 6.390625 33.015625 6.390625 \r\nQ 39.65625 6.390625 43.53125 10.953125 \r\nQ 47.40625 15.53125 47.40625 23.390625 \r\nQ 47.40625 31.296875 43.53125 35.828125 \r\nQ 39.65625 40.375 33.015625 40.375 \r\nz\r\nM 52.59375 71.296875 \r\nL 52.59375 62.3125 \r\nQ 48.875 64.0625 45.09375 64.984375 \r\nQ 41.3125 65.921875 37.59375 65.921875 \r\nQ 27.828125 65.921875 22.671875 59.328125 \r\nQ 17.53125 52.734375 16.796875 39.40625 \r\nQ 19.671875 43.65625 24.015625 45.921875 \r\nQ 28.375 48.1875 33.59375 48.1875 \r\nQ 44.578125 48.1875 50.953125 41.515625 \r\nQ 57.328125 34.859375 57.328125 23.390625 \r\nQ 57.328125 12.15625 50.6875 5.359375 \r\nQ 44.046875 -1.421875 33.015625 -1.421875 \r\nQ 20.359375 -1.421875 13.671875 8.265625 \r\nQ 6.984375 17.96875 6.984375 36.375 \r\nQ 6.984375 53.65625 15.1875 63.9375 \r\nQ 23.390625 74.21875 37.203125 74.21875 \r\nQ 40.921875 74.21875 44.703125 73.484375 \r\nQ 48.484375 72.75 52.59375 71.296875 \r\nz\r\n\" id=\"DejaVuSans-54\"/>\r\n      </defs>\r\n      <g transform=\"translate(235.691622 239.238437)scale(0.1 -0.1)\">\r\n       <use xlink:href=\"#DejaVuSans-54\"/>\r\n       <use x=\"63.623047\" xlink:href=\"#DejaVuSans-48\"/>\r\n      </g>\r\n     </g>\r\n    </g>\r\n    <g id=\"xtick_5\">\r\n     <g id=\"line2d_5\">\r\n      <g>\r\n       <use style=\"stroke:#000000;stroke-width:0.8;\" x=\"304.809511\" xlink:href=\"#m8ad8308716\" y=\"224.64\"/>\r\n      </g>\r\n     </g>\r\n     <g id=\"text_5\">\r\n      <!-- 80 -->\r\n      <defs>\r\n       <path d=\"M 31.78125 34.625 \r\nQ 24.75 34.625 20.71875 30.859375 \r\nQ 16.703125 27.09375 16.703125 20.515625 \r\nQ 16.703125 13.921875 20.71875 10.15625 \r\nQ 24.75 6.390625 31.78125 6.390625 \r\nQ 38.8125 6.390625 42.859375 10.171875 \r\nQ 46.921875 13.96875 46.921875 20.515625 \r\nQ 46.921875 27.09375 42.890625 30.859375 \r\nQ 38.875 34.625 31.78125 34.625 \r\nz\r\nM 21.921875 38.8125 \r\nQ 15.578125 40.375 12.03125 44.71875 \r\nQ 8.5 49.078125 8.5 55.328125 \r\nQ 8.5 64.0625 14.71875 69.140625 \r\nQ 20.953125 74.21875 31.78125 74.21875 \r\nQ 42.671875 74.21875 48.875 69.140625 \r\nQ 55.078125 64.0625 55.078125 55.328125 \r\nQ 55.078125 49.078125 51.53125 44.71875 \r\nQ 48 40.375 41.703125 38.8125 \r\nQ 48.828125 37.15625 52.796875 32.3125 \r\nQ 56.78125 27.484375 56.78125 20.515625 \r\nQ 56.78125 9.90625 50.3125 4.234375 \r\nQ 43.84375 -1.421875 31.78125 -1.421875 \r\nQ 19.734375 -1.421875 13.25 4.234375 \r\nQ 6.78125 9.90625 6.78125 20.515625 \r\nQ 6.78125 27.484375 10.78125 32.3125 \r\nQ 14.796875 37.15625 21.921875 38.8125 \r\nz\r\nM 18.3125 54.390625 \r\nQ 18.3125 48.734375 21.84375 45.5625 \r\nQ 25.390625 42.390625 31.78125 42.390625 \r\nQ 38.140625 42.390625 41.71875 45.5625 \r\nQ 45.3125 48.734375 45.3125 54.390625 \r\nQ 45.3125 60.0625 41.71875 63.234375 \r\nQ 38.140625 66.40625 31.78125 66.40625 \r\nQ 25.390625 66.40625 21.84375 63.234375 \r\nQ 18.3125 60.0625 18.3125 54.390625 \r\nz\r\n\" id=\"DejaVuSans-56\"/>\r\n      </defs>\r\n      <g transform=\"translate(298.447011 239.238437)scale(0.1 -0.1)\">\r\n       <use xlink:href=\"#DejaVuSans-56\"/>\r\n       <use x=\"63.623047\" xlink:href=\"#DejaVuSans-48\"/>\r\n      </g>\r\n     </g>\r\n    </g>\r\n    <g id=\"xtick_6\">\r\n     <g id=\"line2d_6\">\r\n      <g>\r\n       <use style=\"stroke:#000000;stroke-width:0.8;\" x=\"367.5649\" xlink:href=\"#m8ad8308716\" y=\"224.64\"/>\r\n      </g>\r\n     </g>\r\n     <g id=\"text_6\">\r\n      <!-- 100 -->\r\n      <defs>\r\n       <path d=\"M 12.40625 8.296875 \r\nL 28.515625 8.296875 \r\nL 28.515625 63.921875 \r\nL 10.984375 60.40625 \r\nL 10.984375 69.390625 \r\nL 28.421875 72.90625 \r\nL 38.28125 72.90625 \r\nL 38.28125 8.296875 \r\nL 54.390625 8.296875 \r\nL 54.390625 0 \r\nL 12.40625 0 \r\nz\r\n\" id=\"DejaVuSans-49\"/>\r\n      </defs>\r\n      <g transform=\"translate(358.02115 239.238437)scale(0.1 -0.1)\">\r\n       <use xlink:href=\"#DejaVuSans-49\"/>\r\n       <use x=\"63.623047\" xlink:href=\"#DejaVuSans-48\"/>\r\n       <use x=\"127.246094\" xlink:href=\"#DejaVuSans-48\"/>\r\n      </g>\r\n     </g>\r\n    </g>\r\n   </g>\r\n   <g id=\"matplotlib.axis_2\">\r\n    <g id=\"ytick_1\">\r\n     <g id=\"line2d_7\">\r\n      <defs>\r\n       <path d=\"M 0 0 \r\nL -3.5 0 \r\n\" id=\"m47ca14922c\" style=\"stroke:#000000;stroke-width:0.8;\"/>\r\n      </defs>\r\n      <g>\r\n       <use style=\"stroke:#000000;stroke-width:0.8;\" x=\"44.845313\" xlink:href=\"#m47ca14922c\" y=\"212.897454\"/>\r\n      </g>\r\n     </g>\r\n     <g id=\"text_7\">\r\n      <!-- −20.0 -->\r\n      <defs>\r\n       <path d=\"M 10.59375 35.5 \r\nL 73.1875 35.5 \r\nL 73.1875 27.203125 \r\nL 10.59375 27.203125 \r\nz\r\n\" id=\"DejaVuSans-8722\"/>\r\n       <path d=\"M 10.6875 12.40625 \r\nL 21 12.40625 \r\nL 21 0 \r\nL 10.6875 0 \r\nz\r\n\" id=\"DejaVuSans-46\"/>\r\n      </defs>\r\n      <g transform=\"translate(7.2 216.696673)scale(0.1 -0.1)\">\r\n       <use xlink:href=\"#DejaVuSans-8722\"/>\r\n       <use x=\"83.789062\" xlink:href=\"#DejaVuSans-50\"/>\r\n       <use x=\"147.412109\" xlink:href=\"#DejaVuSans-48\"/>\r\n       <use x=\"211.035156\" xlink:href=\"#DejaVuSans-46\"/>\r\n       <use x=\"242.822266\" xlink:href=\"#DejaVuSans-48\"/>\r\n      </g>\r\n     </g>\r\n    </g>\r\n    <g id=\"ytick_2\">\r\n     <g id=\"line2d_8\">\r\n      <g>\r\n       <use style=\"stroke:#000000;stroke-width:0.8;\" x=\"44.845313\" xlink:href=\"#m47ca14922c\" y=\"188.145381\"/>\r\n      </g>\r\n     </g>\r\n     <g id=\"text_8\">\r\n      <!-- −17.5 -->\r\n      <defs>\r\n       <path d=\"M 8.203125 72.90625 \r\nL 55.078125 72.90625 \r\nL 55.078125 68.703125 \r\nL 28.609375 0 \r\nL 18.3125 0 \r\nL 43.21875 64.59375 \r\nL 8.203125 64.59375 \r\nz\r\n\" id=\"DejaVuSans-55\"/>\r\n       <path d=\"M 10.796875 72.90625 \r\nL 49.515625 72.90625 \r\nL 49.515625 64.59375 \r\nL 19.828125 64.59375 \r\nL 19.828125 46.734375 \r\nQ 21.96875 47.46875 24.109375 47.828125 \r\nQ 26.265625 48.1875 28.421875 48.1875 \r\nQ 40.625 48.1875 47.75 41.5 \r\nQ 54.890625 34.8125 54.890625 23.390625 \r\nQ 54.890625 11.625 47.5625 5.09375 \r\nQ 40.234375 -1.421875 26.90625 -1.421875 \r\nQ 22.3125 -1.421875 17.546875 -0.640625 \r\nQ 12.796875 0.140625 7.71875 1.703125 \r\nL 7.71875 11.625 \r\nQ 12.109375 9.234375 16.796875 8.0625 \r\nQ 21.484375 6.890625 26.703125 6.890625 \r\nQ 35.15625 6.890625 40.078125 11.328125 \r\nQ 45.015625 15.765625 45.015625 23.390625 \r\nQ 45.015625 31 40.078125 35.4375 \r\nQ 35.15625 39.890625 26.703125 39.890625 \r\nQ 22.75 39.890625 18.8125 39.015625 \r\nQ 14.890625 38.140625 10.796875 36.28125 \r\nz\r\n\" id=\"DejaVuSans-53\"/>\r\n      </defs>\r\n      <g transform=\"translate(7.2 191.9446)scale(0.1 -0.1)\">\r\n       <use xlink:href=\"#DejaVuSans-8722\"/>\r\n       <use x=\"83.789062\" xlink:href=\"#DejaVuSans-49\"/>\r\n       <use x=\"147.412109\" xlink:href=\"#DejaVuSans-55\"/>\r\n       <use x=\"211.035156\" xlink:href=\"#DejaVuSans-46\"/>\r\n       <use x=\"242.822266\" xlink:href=\"#DejaVuSans-53\"/>\r\n      </g>\r\n     </g>\r\n    </g>\r\n    <g id=\"ytick_3\">\r\n     <g id=\"line2d_9\">\r\n      <g>\r\n       <use style=\"stroke:#000000;stroke-width:0.8;\" x=\"44.845313\" xlink:href=\"#m47ca14922c\" y=\"163.393309\"/>\r\n      </g>\r\n     </g>\r\n     <g id=\"text_9\">\r\n      <!-- −15.0 -->\r\n      <g transform=\"translate(7.2 167.192527)scale(0.1 -0.1)\">\r\n       <use xlink:href=\"#DejaVuSans-8722\"/>\r\n       <use x=\"83.789062\" xlink:href=\"#DejaVuSans-49\"/>\r\n       <use x=\"147.412109\" xlink:href=\"#DejaVuSans-53\"/>\r\n       <use x=\"211.035156\" xlink:href=\"#DejaVuSans-46\"/>\r\n       <use x=\"242.822266\" xlink:href=\"#DejaVuSans-48\"/>\r\n      </g>\r\n     </g>\r\n    </g>\r\n    <g id=\"ytick_4\">\r\n     <g id=\"line2d_10\">\r\n      <g>\r\n       <use style=\"stroke:#000000;stroke-width:0.8;\" x=\"44.845313\" xlink:href=\"#m47ca14922c\" y=\"138.641236\"/>\r\n      </g>\r\n     </g>\r\n     <g id=\"text_10\">\r\n      <!-- −12.5 -->\r\n      <g transform=\"translate(7.2 142.440455)scale(0.1 -0.1)\">\r\n       <use xlink:href=\"#DejaVuSans-8722\"/>\r\n       <use x=\"83.789062\" xlink:href=\"#DejaVuSans-49\"/>\r\n       <use x=\"147.412109\" xlink:href=\"#DejaVuSans-50\"/>\r\n       <use x=\"211.035156\" xlink:href=\"#DejaVuSans-46\"/>\r\n       <use x=\"242.822266\" xlink:href=\"#DejaVuSans-53\"/>\r\n      </g>\r\n     </g>\r\n    </g>\r\n    <g id=\"ytick_5\">\r\n     <g id=\"line2d_11\">\r\n      <g>\r\n       <use style=\"stroke:#000000;stroke-width:0.8;\" x=\"44.845313\" xlink:href=\"#m47ca14922c\" y=\"113.889163\"/>\r\n      </g>\r\n     </g>\r\n     <g id=\"text_11\">\r\n      <!-- −10.0 -->\r\n      <g transform=\"translate(7.2 117.688382)scale(0.1 -0.1)\">\r\n       <use xlink:href=\"#DejaVuSans-8722\"/>\r\n       <use x=\"83.789062\" xlink:href=\"#DejaVuSans-49\"/>\r\n       <use x=\"147.412109\" xlink:href=\"#DejaVuSans-48\"/>\r\n       <use x=\"211.035156\" xlink:href=\"#DejaVuSans-46\"/>\r\n       <use x=\"242.822266\" xlink:href=\"#DejaVuSans-48\"/>\r\n      </g>\r\n     </g>\r\n    </g>\r\n    <g id=\"ytick_6\">\r\n     <g id=\"line2d_12\">\r\n      <g>\r\n       <use style=\"stroke:#000000;stroke-width:0.8;\" x=\"44.845313\" xlink:href=\"#m47ca14922c\" y=\"89.137091\"/>\r\n      </g>\r\n     </g>\r\n     <g id=\"text_12\">\r\n      <!-- −7.5 -->\r\n      <g transform=\"translate(13.5625 92.936309)scale(0.1 -0.1)\">\r\n       <use xlink:href=\"#DejaVuSans-8722\"/>\r\n       <use x=\"83.789062\" xlink:href=\"#DejaVuSans-55\"/>\r\n       <use x=\"147.412109\" xlink:href=\"#DejaVuSans-46\"/>\r\n       <use x=\"179.199219\" xlink:href=\"#DejaVuSans-53\"/>\r\n      </g>\r\n     </g>\r\n    </g>\r\n    <g id=\"ytick_7\">\r\n     <g id=\"line2d_13\">\r\n      <g>\r\n       <use style=\"stroke:#000000;stroke-width:0.8;\" x=\"44.845313\" xlink:href=\"#m47ca14922c\" y=\"64.385018\"/>\r\n      </g>\r\n     </g>\r\n     <g id=\"text_13\">\r\n      <!-- −5.0 -->\r\n      <g transform=\"translate(13.5625 68.184237)scale(0.1 -0.1)\">\r\n       <use xlink:href=\"#DejaVuSans-8722\"/>\r\n       <use x=\"83.789062\" xlink:href=\"#DejaVuSans-53\"/>\r\n       <use x=\"147.412109\" xlink:href=\"#DejaVuSans-46\"/>\r\n       <use x=\"179.199219\" xlink:href=\"#DejaVuSans-48\"/>\r\n      </g>\r\n     </g>\r\n    </g>\r\n    <g id=\"ytick_8\">\r\n     <g id=\"line2d_14\">\r\n      <g>\r\n       <use style=\"stroke:#000000;stroke-width:0.8;\" x=\"44.845313\" xlink:href=\"#m47ca14922c\" y=\"39.632945\"/>\r\n      </g>\r\n     </g>\r\n     <g id=\"text_14\">\r\n      <!-- −2.5 -->\r\n      <g transform=\"translate(13.5625 43.432164)scale(0.1 -0.1)\">\r\n       <use xlink:href=\"#DejaVuSans-8722\"/>\r\n       <use x=\"83.789062\" xlink:href=\"#DejaVuSans-50\"/>\r\n       <use x=\"147.412109\" xlink:href=\"#DejaVuSans-46\"/>\r\n       <use x=\"179.199219\" xlink:href=\"#DejaVuSans-53\"/>\r\n      </g>\r\n     </g>\r\n    </g>\r\n    <g id=\"ytick_9\">\r\n     <g id=\"line2d_15\">\r\n      <g>\r\n       <use style=\"stroke:#000000;stroke-width:0.8;\" x=\"44.845313\" xlink:href=\"#m47ca14922c\" y=\"14.880873\"/>\r\n      </g>\r\n     </g>\r\n     <g id=\"text_15\">\r\n      <!-- 0.0 -->\r\n      <g transform=\"translate(21.942188 18.680091)scale(0.1 -0.1)\">\r\n       <use xlink:href=\"#DejaVuSans-48\"/>\r\n       <use x=\"63.623047\" xlink:href=\"#DejaVuSans-46\"/>\r\n       <use x=\"95.410156\" xlink:href=\"#DejaVuSans-48\"/>\r\n      </g>\r\n     </g>\r\n    </g>\r\n   </g>\r\n   <g id=\"line2d_16\">\r\n    <path clip-path=\"url(#p630328fa91)\" d=\"M 60.063494 17.083636 \r\nL 63.201264 26.745374 \r\nL 66.339033 31.47328 \r\nL 69.476803 31.792533 \r\nL 72.614572 27.970463 \r\nL 75.752342 31.594964 \r\nL 78.890111 37.49215 \r\nL 82.02788 50.728417 \r\nL 85.16565 62.15182 \r\nL 88.303419 67.193635 \r\nL 91.441189 62.908458 \r\nL 94.578958 59.322418 \r\nL 97.716728 62.704511 \r\nL 100.854497 67.570723 \r\nL 103.992267 71.506921 \r\nL 107.130036 70.140911 \r\nL 110.267805 68.760471 \r\nL 113.405575 69.566228 \r\nL 116.543344 74.466671 \r\nL 119.681114 79.903685 \r\nL 122.818883 86.631192 \r\nL 125.956653 89.402733 \r\nL 129.094422 91.213705 \r\nL 132.232192 86.241051 \r\nL 135.369961 88.660981 \r\nL 138.50773 95.846424 \r\nL 141.6455 106.159514 \r\nL 144.783269 114.633989 \r\nL 147.921039 124.115191 \r\nL 151.058808 129.584802 \r\nL 154.196578 127.68271 \r\nL 157.334347 121.703913 \r\nL 160.472117 113.089258 \r\nL 163.609886 112.874327 \r\nL 166.747656 111.121235 \r\nL 169.885425 117.018721 \r\nL 173.023194 123.931095 \r\nL 176.160964 135.219418 \r\nL 179.298733 148.553661 \r\nL 182.436503 154.658179 \r\nL 185.574272 156.651955 \r\nL 188.712042 155.931289 \r\nL 191.849811 156.622144 \r\nL 194.987581 159.422552 \r\nL 198.12535 160.685423 \r\nL 201.263119 164.948579 \r\nL 204.400889 165.059128 \r\nL 207.538658 162.491841 \r\nL 210.676428 160.859691 \r\nL 213.814197 153.716315 \r\nL 216.951967 144.506926 \r\nL 220.089736 126.892655 \r\nL 223.227506 121.608035 \r\nL 226.365275 121.793376 \r\nL 229.503044 125.046239 \r\nL 232.640814 121.750862 \r\nL 235.778583 117.273417 \r\nL 238.916353 116.882213 \r\nL 242.054122 119.429303 \r\nL 245.191892 126.331704 \r\nL 248.329661 126.773999 \r\nL 251.467431 131.705561 \r\nL 254.6052 137.382996 \r\nL 257.742969 141.483582 \r\nL 260.880739 137.46246 \r\nL 264.018508 126.895946 \r\nL 267.156278 118.74528 \r\nL 270.294047 121.272831 \r\nL 273.431817 122.46423 \r\nL 276.569586 133.169183 \r\nL 279.707356 137.929111 \r\nL 282.845125 146.164573 \r\nL 285.982895 145.975421 \r\nL 289.120664 148.456907 \r\nL 292.258433 154.72773 \r\nL 295.396203 160.25978 \r\nL 298.533972 165.996548 \r\nL 301.671742 170.086088 \r\nL 304.809511 177.116536 \r\nL 307.947281 180.241555 \r\nL 311.08505 178.66869 \r\nL 314.22282 175.567663 \r\nL 317.360589 168.976237 \r\nL 320.498358 168.345476 \r\nL 323.636128 170.888624 \r\nL 326.773897 176.104921 \r\nL 329.911667 180.073724 \r\nL 333.049436 179.726709 \r\nL 336.187206 179.29159 \r\nL 339.324975 175.108515 \r\nL 342.462745 173.706547 \r\nL 345.600514 171.891451 \r\nL 348.738283 178.601529 \r\nL 351.876053 189.321109 \r\nL 355.013822 204.185283 \r\nL 358.151592 207.028012 \r\nL 361.289361 211.102774 \r\nL 364.427131 214.756364 \r\n\" style=\"fill:none;stroke:#1f77b4;stroke-linecap:square;stroke-width:1.5;\"/>\r\n   </g>\r\n   <g id=\"patch_3\">\r\n    <path d=\"M 44.845313 224.64 \r\nL 44.845313 7.2 \r\n\" style=\"fill:none;stroke:#000000;stroke-linecap:square;stroke-linejoin:miter;stroke-width:0.8;\"/>\r\n   </g>\r\n   <g id=\"patch_4\">\r\n    <path d=\"M 379.645313 224.64 \r\nL 379.645313 7.2 \r\n\" style=\"fill:none;stroke:#000000;stroke-linecap:square;stroke-linejoin:miter;stroke-width:0.8;\"/>\r\n   </g>\r\n   <g id=\"patch_5\">\r\n    <path d=\"M 44.845313 224.64 \r\nL 379.645313 224.64 \r\n\" style=\"fill:none;stroke:#000000;stroke-linecap:square;stroke-linejoin:miter;stroke-width:0.8;\"/>\r\n   </g>\r\n   <g id=\"patch_6\">\r\n    <path d=\"M 44.845313 7.2 \r\nL 379.645313 7.2 \r\n\" style=\"fill:none;stroke:#000000;stroke-linecap:square;stroke-linejoin:miter;stroke-width:0.8;\"/>\r\n   </g>\r\n  </g>\r\n </g>\r\n <defs>\r\n  <clipPath id=\"p630328fa91\">\r\n   <rect height=\"217.44\" width=\"334.8\" x=\"44.845313\" y=\"7.2\"/>\r\n  </clipPath>\r\n </defs>\r\n</svg>\r\n",
      "image/png": "[encoded data removed]"
     },
     "metadata": {
      "needs_background": "light"
     }
    }
   ],
   "source": [
    "means[0:100].plot();"
   ]
  },
  {
   "cell_type": "code",
   "execution_count": 82,
   "metadata": {},
   "outputs": [
    {
     "output_type": "execute_result",
     "data": {
      "text/plain": [
       "          0         1         2         3\n",
       "0  0.469112 -0.282863 -1.509059 -1.135632\n",
       "1  1.212112 -0.173215  0.119209 -1.044236\n",
       "2 -0.861849 -2.104569 -0.494929  1.071804\n",
       "3  0.721555 -0.706771 -1.039575  0.271860\n",
       "4 -0.424972  0.567020  0.276232 -1.087401"
      ],
      "text/html": "<div>\n<style scoped>\n    .dataframe tbody tr th:only-of-type {\n        vertical-align: middle;\n    }\n\n    .dataframe tbody tr th {\n        vertical-align: top;\n    }\n\n    .dataframe thead th {\n        text-align: right;\n    }\n</style>\n<table border=\"1\" class=\"dataframe\">\n  <thead>\n    <tr style=\"text-align: right;\">\n      <th></th>\n      <th>0</th>\n      <th>1</th>\n      <th>2</th>\n      <th>3</th>\n    </tr>\n  </thead>\n  <tbody>\n    <tr>\n      <th>0</th>\n      <td>0.469112</td>\n      <td>-0.282863</td>\n      <td>-1.509059</td>\n      <td>-1.135632</td>\n    </tr>\n    <tr>\n      <th>1</th>\n      <td>1.212112</td>\n      <td>-0.173215</td>\n      <td>0.119209</td>\n      <td>-1.044236</td>\n    </tr>\n    <tr>\n      <th>2</th>\n      <td>-0.861849</td>\n      <td>-2.104569</td>\n      <td>-0.494929</td>\n      <td>1.071804</td>\n    </tr>\n    <tr>\n      <th>3</th>\n      <td>0.721555</td>\n      <td>-0.706771</td>\n      <td>-1.039575</td>\n      <td>0.271860</td>\n    </tr>\n    <tr>\n      <th>4</th>\n      <td>-0.424972</td>\n      <td>0.567020</td>\n      <td>0.276232</td>\n      <td>-1.087401</td>\n    </tr>\n  </tbody>\n</table>\n</div>"
     },
     "metadata": {},
     "execution_count": 82
    }
   ],
   "source": [
    "np.random.seed(123456)\n",
    "df = pd.DataFrame(np.random.randn(50, 4))\n",
    "df.head()"
   ]
  },
  {
   "cell_type": "code",
   "execution_count": 83,
   "metadata": {},
   "outputs": [
    {
     "output_type": "execute_result",
     "data": {
      "text/plain": [
       "           0         1         2         3\n",
       "15 -0.076467 -1.187678  1.130127 -1.436737\n",
       "28 -2.182937  0.380396  0.084844  0.432390\n",
       "48 -0.693921  1.613616  0.464000  0.227371"
      ],
      "text/html": "<div>\n<style scoped>\n    .dataframe tbody tr th:only-of-type {\n        vertical-align: middle;\n    }\n\n    .dataframe tbody tr th {\n        vertical-align: top;\n    }\n\n    .dataframe thead th {\n        text-align: right;\n    }\n</style>\n<table border=\"1\" class=\"dataframe\">\n  <thead>\n    <tr style=\"text-align: right;\">\n      <th></th>\n      <th>0</th>\n      <th>1</th>\n      <th>2</th>\n      <th>3</th>\n    </tr>\n  </thead>\n  <tbody>\n    <tr>\n      <th>15</th>\n      <td>-0.076467</td>\n      <td>-1.187678</td>\n      <td>1.130127</td>\n      <td>-1.436737</td>\n    </tr>\n    <tr>\n      <th>28</th>\n      <td>-2.182937</td>\n      <td>0.380396</td>\n      <td>0.084844</td>\n      <td>0.432390</td>\n    </tr>\n    <tr>\n      <th>48</th>\n      <td>-0.693921</td>\n      <td>1.613616</td>\n      <td>0.464000</td>\n      <td>0.227371</td>\n    </tr>\n  </tbody>\n</table>\n</div>"
     },
     "metadata": {},
     "execution_count": 83
    }
   ],
   "source": [
    "df.sample(n=3)"
   ]
  },
  {
   "cell_type": "code",
   "execution_count": 84,
   "metadata": {},
   "outputs": [
    {
     "output_type": "execute_result",
     "data": {
      "text/plain": [
       "           0         1         2         3\n",
       "37  1.126203 -0.977349  1.474071 -0.064034\n",
       "10 -1.294524  0.413738  0.276662 -0.472035\n",
       "4  -0.424972  0.567020  0.276232 -1.087401\n",
       "14  0.410835  0.813850  0.132003 -0.827317\n",
       "48 -0.693921  1.613616  0.464000  0.227371"
      ],
      "text/html": "<div>\n<style scoped>\n    .dataframe tbody tr th:only-of-type {\n        vertical-align: middle;\n    }\n\n    .dataframe tbody tr th {\n        vertical-align: top;\n    }\n\n    .dataframe thead th {\n        text-align: right;\n    }\n</style>\n<table border=\"1\" class=\"dataframe\">\n  <thead>\n    <tr style=\"text-align: right;\">\n      <th></th>\n      <th>0</th>\n      <th>1</th>\n      <th>2</th>\n      <th>3</th>\n    </tr>\n  </thead>\n  <tbody>\n    <tr>\n      <th>37</th>\n      <td>1.126203</td>\n      <td>-0.977349</td>\n      <td>1.474071</td>\n      <td>-0.064034</td>\n    </tr>\n    <tr>\n      <th>10</th>\n      <td>-1.294524</td>\n      <td>0.413738</td>\n      <td>0.276662</td>\n      <td>-0.472035</td>\n    </tr>\n    <tr>\n      <th>4</th>\n      <td>-0.424972</td>\n      <td>0.567020</td>\n      <td>0.276232</td>\n      <td>-1.087401</td>\n    </tr>\n    <tr>\n      <th>14</th>\n      <td>0.410835</td>\n      <td>0.813850</td>\n      <td>0.132003</td>\n      <td>-0.827317</td>\n    </tr>\n    <tr>\n      <th>48</th>\n      <td>-0.693921</td>\n      <td>1.613616</td>\n      <td>0.464000</td>\n      <td>0.227371</td>\n    </tr>\n  </tbody>\n</table>\n</div>"
     },
     "metadata": {},
     "execution_count": 84
    }
   ],
   "source": [
    "df.sample(frac = 0.1)"
   ]
  },
  {
   "cell_type": "code",
   "execution_count": 85,
   "metadata": {},
   "outputs": [
    {
     "output_type": "execute_result",
     "data": {
      "text/plain": [
       "           0         1         2         3\n",
       "27 -1.236269  0.896171 -0.487602 -0.082240\n",
       "9   0.357021 -0.674600 -1.776904 -0.968914\n",
       "27 -1.236269  0.896171 -0.487602 -0.082240\n",
       "15 -0.076467 -1.187678  1.130127 -1.436737\n",
       "9   0.357021 -0.674600 -1.776904 -0.968914"
      ],
      "text/html": "<div>\n<style scoped>\n    .dataframe tbody tr th:only-of-type {\n        vertical-align: middle;\n    }\n\n    .dataframe tbody tr th {\n        vertical-align: top;\n    }\n\n    .dataframe thead th {\n        text-align: right;\n    }\n</style>\n<table border=\"1\" class=\"dataframe\">\n  <thead>\n    <tr style=\"text-align: right;\">\n      <th></th>\n      <th>0</th>\n      <th>1</th>\n      <th>2</th>\n      <th>3</th>\n    </tr>\n  </thead>\n  <tbody>\n    <tr>\n      <th>27</th>\n      <td>-1.236269</td>\n      <td>0.896171</td>\n      <td>-0.487602</td>\n      <td>-0.082240</td>\n    </tr>\n    <tr>\n      <th>9</th>\n      <td>0.357021</td>\n      <td>-0.674600</td>\n      <td>-1.776904</td>\n      <td>-0.968914</td>\n    </tr>\n    <tr>\n      <th>27</th>\n      <td>-1.236269</td>\n      <td>0.896171</td>\n      <td>-0.487602</td>\n      <td>-0.082240</td>\n    </tr>\n    <tr>\n      <th>15</th>\n      <td>-0.076467</td>\n      <td>-1.187678</td>\n      <td>1.130127</td>\n      <td>-1.436737</td>\n    </tr>\n    <tr>\n      <th>9</th>\n      <td>0.357021</td>\n      <td>-0.674600</td>\n      <td>-1.776904</td>\n      <td>-0.968914</td>\n    </tr>\n  </tbody>\n</table>\n</div>"
     },
     "metadata": {},
     "execution_count": 85
    }
   ],
   "source": [
    "df.sample(frac = 0.1, replace=True)"
   ]
  },
  {
   "cell_type": "code",
   "execution_count": null,
   "metadata": {},
   "outputs": [],
   "source": []
  }
 ]
}