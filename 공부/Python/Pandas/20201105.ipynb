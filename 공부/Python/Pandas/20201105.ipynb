{
 "metadata": {
  "language_info": {
   "codemirror_mode": {
    "name": "ipython",
    "version": 3
   },
   "file_extension": ".py",
   "mimetype": "text/x-python",
   "name": "python",
   "nbconvert_exporter": "python",
   "pygments_lexer": "ipython3",
   "version": "3.7.6-final"
  },
  "orig_nbformat": 2,
  "kernelspec": {
   "name": "tf2.0-gpu",
   "display_name": "tf-gpu"
  }
 },
 "nbformat": 4,
 "nbformat_minor": 2,
 "cells": [
  {
   "cell_type": "code",
   "execution_count": 2,
   "metadata": {},
   "outputs": [],
   "source": [
    "import pandas as pd\n",
    "import numpy as np\n",
    "import matplotlib.pyplot as plt"
   ]
  },
  {
   "cell_type": "code",
   "execution_count": 3,
   "metadata": {},
   "outputs": [
    {
     "output_type": "execute_result",
     "data": {
      "text/plain": [
       "        Date   Open   High    Low  Close   Volume\n",
       "0  7/21/2014  83.46  83.53  81.81  81.93  2359300\n",
       "1  7/18/2014  83.30  83.40  82.52  83.35  4020800\n",
       "2  7/17/2014  84.35  84.63  83.33  83.63  1974000\n",
       "3  7/16/2014  83.77  84.91  83.66  84.91  1755600\n",
       "4  7/15/2014  84.30  84.38  83.20  83.58  1874700"
      ],
      "text/html": "<div>\n<style scoped>\n    .dataframe tbody tr th:only-of-type {\n        vertical-align: middle;\n    }\n\n    .dataframe tbody tr th {\n        vertical-align: top;\n    }\n\n    .dataframe thead th {\n        text-align: right;\n    }\n</style>\n<table border=\"1\" class=\"dataframe\">\n  <thead>\n    <tr style=\"text-align: right;\">\n      <th></th>\n      <th>Date</th>\n      <th>Open</th>\n      <th>High</th>\n      <th>Low</th>\n      <th>Close</th>\n      <th>Volume</th>\n    </tr>\n  </thead>\n  <tbody>\n    <tr>\n      <th>0</th>\n      <td>7/21/2014</td>\n      <td>83.46</td>\n      <td>83.53</td>\n      <td>81.81</td>\n      <td>81.93</td>\n      <td>2359300</td>\n    </tr>\n    <tr>\n      <th>1</th>\n      <td>7/18/2014</td>\n      <td>83.30</td>\n      <td>83.40</td>\n      <td>82.52</td>\n      <td>83.35</td>\n      <td>4020800</td>\n    </tr>\n    <tr>\n      <th>2</th>\n      <td>7/17/2014</td>\n      <td>84.35</td>\n      <td>84.63</td>\n      <td>83.33</td>\n      <td>83.63</td>\n      <td>1974000</td>\n    </tr>\n    <tr>\n      <th>3</th>\n      <td>7/16/2014</td>\n      <td>83.77</td>\n      <td>84.91</td>\n      <td>83.66</td>\n      <td>84.91</td>\n      <td>1755600</td>\n    </tr>\n    <tr>\n      <th>4</th>\n      <td>7/15/2014</td>\n      <td>84.30</td>\n      <td>84.38</td>\n      <td>83.20</td>\n      <td>83.58</td>\n      <td>1874700</td>\n    </tr>\n  </tbody>\n</table>\n</div>"
     },
     "metadata": {},
     "execution_count": 3
    }
   ],
   "source": [
    "msft = pd.read_csv('data/msft.csv')\n",
    "msft.head()"
   ]
  },
  {
   "cell_type": "code",
   "execution_count": 4,
   "metadata": {},
   "outputs": [
    {
     "output_type": "execute_result",
     "data": {
      "text/plain": [
       "            Open   High    Low  Close   Volume\n",
       "Date                                          \n",
       "7/21/2014  83.46  83.53  81.81  81.93  2359300\n",
       "7/18/2014  83.30  83.40  82.52  83.35  4020800\n",
       "7/17/2014  84.35  84.63  83.33  83.63  1974000\n",
       "7/16/2014  83.77  84.91  83.66  84.91  1755600\n",
       "7/15/2014  84.30  84.38  83.20  83.58  1874700"
      ],
      "text/html": "<div>\n<style scoped>\n    .dataframe tbody tr th:only-of-type {\n        vertical-align: middle;\n    }\n\n    .dataframe tbody tr th {\n        vertical-align: top;\n    }\n\n    .dataframe thead th {\n        text-align: right;\n    }\n</style>\n<table border=\"1\" class=\"dataframe\">\n  <thead>\n    <tr style=\"text-align: right;\">\n      <th></th>\n      <th>Open</th>\n      <th>High</th>\n      <th>Low</th>\n      <th>Close</th>\n      <th>Volume</th>\n    </tr>\n    <tr>\n      <th>Date</th>\n      <th></th>\n      <th></th>\n      <th></th>\n      <th></th>\n      <th></th>\n    </tr>\n  </thead>\n  <tbody>\n    <tr>\n      <th>7/21/2014</th>\n      <td>83.46</td>\n      <td>83.53</td>\n      <td>81.81</td>\n      <td>81.93</td>\n      <td>2359300</td>\n    </tr>\n    <tr>\n      <th>7/18/2014</th>\n      <td>83.30</td>\n      <td>83.40</td>\n      <td>82.52</td>\n      <td>83.35</td>\n      <td>4020800</td>\n    </tr>\n    <tr>\n      <th>7/17/2014</th>\n      <td>84.35</td>\n      <td>84.63</td>\n      <td>83.33</td>\n      <td>83.63</td>\n      <td>1974000</td>\n    </tr>\n    <tr>\n      <th>7/16/2014</th>\n      <td>83.77</td>\n      <td>84.91</td>\n      <td>83.66</td>\n      <td>84.91</td>\n      <td>1755600</td>\n    </tr>\n    <tr>\n      <th>7/15/2014</th>\n      <td>84.30</td>\n      <td>84.38</td>\n      <td>83.20</td>\n      <td>83.58</td>\n      <td>1874700</td>\n    </tr>\n  </tbody>\n</table>\n</div>"
     },
     "metadata": {},
     "execution_count": 4
    }
   ],
   "source": [
    "msft = pd.read_csv('data/msft.csv', index_col='Date')\n",
    "msft.head()"
   ]
  },
  {
   "cell_type": "code",
   "execution_count": 5,
   "metadata": {},
   "outputs": [
    {
     "output_type": "execute_result",
     "data": {
      "text/plain": [
       "Open      float64\n",
       "High      float64\n",
       "Low       float64\n",
       "Close     float64\n",
       "Volume      int64\n",
       "dtype: object"
      ]
     },
     "metadata": {},
     "execution_count": 5
    }
   ],
   "source": [
    "msft.dtypes"
   ]
  },
  {
   "cell_type": "code",
   "execution_count": 6,
   "metadata": {},
   "outputs": [
    {
     "output_type": "execute_result",
     "data": {
      "text/plain": [
       "Date       object\n",
       "Open      float64\n",
       "High      float64\n",
       "Low       float64\n",
       "Close     float64\n",
       "Volume    float64\n",
       "dtype: object"
      ]
     },
     "metadata": {},
     "execution_count": 6
    }
   ],
   "source": [
    "msft = pd.read_csv('data/msft.csv', dtype={'Volume' : np.float64})\n",
    "msft.dtypes"
   ]
  },
  {
   "cell_type": "code",
   "execution_count": 8,
   "metadata": {},
   "outputs": [
    {
     "output_type": "execute_result",
     "data": {
      "text/plain": [
       "           date   open   high    low  close   volume\n",
       "0     7/21/2014  83.46  83.53  81.81  81.93  2359300\n",
       "1     7/18/2014  83.30  83.40  82.52  83.35  4020800\n",
       "2     7/17/2014  84.35  84.63  83.33  83.63  1974000\n",
       "3     7/16/2014  83.77  84.91  83.66  84.91  1755600\n",
       "4     7/15/2014  84.30  84.38  83.20  83.58  1874700\n",
       "...         ...    ...    ...    ...    ...      ...\n",
       "3762   1/7/2000  48.55  50.35  47.80  50.00  4621200\n",
       "3763   1/6/2000  46.78  48.35  46.28  48.03  3306100\n",
       "3764   1/5/2000  46.94  47.50  45.92  46.75  4809900\n",
       "3765   1/4/2000  49.80  49.80  47.72  47.85  4489500\n",
       "3766   1/3/2000  52.70  53.20  49.60  49.75  3137300\n",
       "\n",
       "[3767 rows x 6 columns]"
      ],
      "text/html": "<div>\n<style scoped>\n    .dataframe tbody tr th:only-of-type {\n        vertical-align: middle;\n    }\n\n    .dataframe tbody tr th {\n        vertical-align: top;\n    }\n\n    .dataframe thead th {\n        text-align: right;\n    }\n</style>\n<table border=\"1\" class=\"dataframe\">\n  <thead>\n    <tr style=\"text-align: right;\">\n      <th></th>\n      <th>date</th>\n      <th>open</th>\n      <th>high</th>\n      <th>low</th>\n      <th>close</th>\n      <th>volume</th>\n    </tr>\n  </thead>\n  <tbody>\n    <tr>\n      <th>0</th>\n      <td>7/21/2014</td>\n      <td>83.46</td>\n      <td>83.53</td>\n      <td>81.81</td>\n      <td>81.93</td>\n      <td>2359300</td>\n    </tr>\n    <tr>\n      <th>1</th>\n      <td>7/18/2014</td>\n      <td>83.30</td>\n      <td>83.40</td>\n      <td>82.52</td>\n      <td>83.35</td>\n      <td>4020800</td>\n    </tr>\n    <tr>\n      <th>2</th>\n      <td>7/17/2014</td>\n      <td>84.35</td>\n      <td>84.63</td>\n      <td>83.33</td>\n      <td>83.63</td>\n      <td>1974000</td>\n    </tr>\n    <tr>\n      <th>3</th>\n      <td>7/16/2014</td>\n      <td>83.77</td>\n      <td>84.91</td>\n      <td>83.66</td>\n      <td>84.91</td>\n      <td>1755600</td>\n    </tr>\n    <tr>\n      <th>4</th>\n      <td>7/15/2014</td>\n      <td>84.30</td>\n      <td>84.38</td>\n      <td>83.20</td>\n      <td>83.58</td>\n      <td>1874700</td>\n    </tr>\n    <tr>\n      <th>...</th>\n      <td>...</td>\n      <td>...</td>\n      <td>...</td>\n      <td>...</td>\n      <td>...</td>\n      <td>...</td>\n    </tr>\n    <tr>\n      <th>3762</th>\n      <td>1/7/2000</td>\n      <td>48.55</td>\n      <td>50.35</td>\n      <td>47.80</td>\n      <td>50.00</td>\n      <td>4621200</td>\n    </tr>\n    <tr>\n      <th>3763</th>\n      <td>1/6/2000</td>\n      <td>46.78</td>\n      <td>48.35</td>\n      <td>46.28</td>\n      <td>48.03</td>\n      <td>3306100</td>\n    </tr>\n    <tr>\n      <th>3764</th>\n      <td>1/5/2000</td>\n      <td>46.94</td>\n      <td>47.50</td>\n      <td>45.92</td>\n      <td>46.75</td>\n      <td>4809900</td>\n    </tr>\n    <tr>\n      <th>3765</th>\n      <td>1/4/2000</td>\n      <td>49.80</td>\n      <td>49.80</td>\n      <td>47.72</td>\n      <td>47.85</td>\n      <td>4489500</td>\n    </tr>\n    <tr>\n      <th>3766</th>\n      <td>1/3/2000</td>\n      <td>52.70</td>\n      <td>53.20</td>\n      <td>49.60</td>\n      <td>49.75</td>\n      <td>3137300</td>\n    </tr>\n  </tbody>\n</table>\n<p>3767 rows × 6 columns</p>\n</div>"
     },
     "metadata": {},
     "execution_count": 8
    }
   ],
   "source": [
    "df = pd.read_csv('data/msft.csv', header = 0, names=['date', 'open', 'high', 'low', 'close', 'volume'])\n",
    "df"
   ]
  },
  {
   "cell_type": "code",
   "execution_count": 9,
   "metadata": {},
   "outputs": [
    {
     "output_type": "execute_result",
     "data": {
      "text/plain": [
       "           Close\n",
       "Date            \n",
       "7/21/2014  81.93\n",
       "7/18/2014  83.35\n",
       "7/17/2014  83.63\n",
       "7/16/2014  84.91\n",
       "7/15/2014  83.58"
      ],
      "text/html": "<div>\n<style scoped>\n    .dataframe tbody tr th:only-of-type {\n        vertical-align: middle;\n    }\n\n    .dataframe tbody tr th {\n        vertical-align: top;\n    }\n\n    .dataframe thead th {\n        text-align: right;\n    }\n</style>\n<table border=\"1\" class=\"dataframe\">\n  <thead>\n    <tr style=\"text-align: right;\">\n      <th></th>\n      <th>Close</th>\n    </tr>\n    <tr>\n      <th>Date</th>\n      <th></th>\n    </tr>\n  </thead>\n  <tbody>\n    <tr>\n      <th>7/21/2014</th>\n      <td>81.93</td>\n    </tr>\n    <tr>\n      <th>7/18/2014</th>\n      <td>83.35</td>\n    </tr>\n    <tr>\n      <th>7/17/2014</th>\n      <td>83.63</td>\n    </tr>\n    <tr>\n      <th>7/16/2014</th>\n      <td>84.91</td>\n    </tr>\n    <tr>\n      <th>7/15/2014</th>\n      <td>83.58</td>\n    </tr>\n  </tbody>\n</table>\n</div>"
     },
     "metadata": {},
     "execution_count": 9
    }
   ],
   "source": [
    "df2 = pd.read_csv('data/msft.csv', usecols=['Date', 'Close'], index_col=['Date'])\n",
    "df2.head()"
   ]
  },
  {
   "cell_type": "code",
   "execution_count": 10,
   "metadata": {},
   "outputs": [],
   "source": [
    "df2.to_csv('data/msft_modified.csv', index_label='date')"
   ]
  },
  {
   "cell_type": "code",
   "execution_count": 13,
   "metadata": {},
   "outputs": [
    {
     "output_type": "execute_result",
     "data": {
      "text/plain": [
       "        Date   Open   High    Low  Close   Volume\n",
       "0  7/21/2014  83.46  83.53  81.81  81.93  2359300\n",
       "1  7/18/2014  83.30  83.40  82.52  83.35  4020800\n",
       "2  7/17/2014  84.35  84.63  83.33  83.63  1974000\n",
       "3  7/16/2014  83.77  84.91  83.66  84.91  1755600\n",
       "4  7/15/2014  84.30  84.38  83.20  83.58  1874700"
      ],
      "text/html": "<div>\n<style scoped>\n    .dataframe tbody tr th:only-of-type {\n        vertical-align: middle;\n    }\n\n    .dataframe tbody tr th {\n        vertical-align: top;\n    }\n\n    .dataframe thead th {\n        text-align: right;\n    }\n</style>\n<table border=\"1\" class=\"dataframe\">\n  <thead>\n    <tr style=\"text-align: right;\">\n      <th></th>\n      <th>Date</th>\n      <th>Open</th>\n      <th>High</th>\n      <th>Low</th>\n      <th>Close</th>\n      <th>Volume</th>\n    </tr>\n  </thead>\n  <tbody>\n    <tr>\n      <th>0</th>\n      <td>7/21/2014</td>\n      <td>83.46</td>\n      <td>83.53</td>\n      <td>81.81</td>\n      <td>81.93</td>\n      <td>2359300</td>\n    </tr>\n    <tr>\n      <th>1</th>\n      <td>7/18/2014</td>\n      <td>83.30</td>\n      <td>83.40</td>\n      <td>82.52</td>\n      <td>83.35</td>\n      <td>4020800</td>\n    </tr>\n    <tr>\n      <th>2</th>\n      <td>7/17/2014</td>\n      <td>84.35</td>\n      <td>84.63</td>\n      <td>83.33</td>\n      <td>83.63</td>\n      <td>1974000</td>\n    </tr>\n    <tr>\n      <th>3</th>\n      <td>7/16/2014</td>\n      <td>83.77</td>\n      <td>84.91</td>\n      <td>83.66</td>\n      <td>84.91</td>\n      <td>1755600</td>\n    </tr>\n    <tr>\n      <th>4</th>\n      <td>7/15/2014</td>\n      <td>84.30</td>\n      <td>84.38</td>\n      <td>83.20</td>\n      <td>83.58</td>\n      <td>1874700</td>\n    </tr>\n  </tbody>\n</table>\n</div>"
     },
     "metadata": {},
     "execution_count": 13
    }
   ],
   "source": [
    "df = pd.read_table('data/msft.csv', sep=',')\n",
    "df.head()"
   ]
  },
  {
   "cell_type": "code",
   "execution_count": 14,
   "metadata": {},
   "outputs": [],
   "source": [
    "df.to_csv('data/msft_piped.txt', sep='|')"
   ]
  },
  {
   "cell_type": "code",
   "execution_count": 16,
   "metadata": {},
   "outputs": [
    {
     "output_type": "execute_result",
     "data": {
      "text/plain": [
       "        Date   Open   High    Low  Close   Volume\n",
       "0  7/21/2014  83.46  83.53  81.81  81.93  2359300\n",
       "1  7/18/2014  83.30  83.40  82.52  83.35  4020800\n",
       "2  7/17/2014  84.35  84.63  83.33  83.63  1974000\n",
       "3  7/16/2014  83.77  84.91  83.66  84.91  1755600\n",
       "4  7/15/2014  84.30  84.38  83.20  83.58  1874700\n",
       "5  7/14/2014  83.66  84.64  83.11  84.40  1432100\n",
       "6  7/11/2014  83.55  83.98  82.85  83.35  2001400\n",
       "7  7/10/2014  85.20  85.57  83.36  83.42  2713300\n",
       "8   7/9/2014  84.83  85.79  84.76  85.50  1540700"
      ],
      "text/html": "<div>\n<style scoped>\n    .dataframe tbody tr th:only-of-type {\n        vertical-align: middle;\n    }\n\n    .dataframe tbody tr th {\n        vertical-align: top;\n    }\n\n    .dataframe thead th {\n        text-align: right;\n    }\n</style>\n<table border=\"1\" class=\"dataframe\">\n  <thead>\n    <tr style=\"text-align: right;\">\n      <th></th>\n      <th>Date</th>\n      <th>Open</th>\n      <th>High</th>\n      <th>Low</th>\n      <th>Close</th>\n      <th>Volume</th>\n    </tr>\n  </thead>\n  <tbody>\n    <tr>\n      <th>0</th>\n      <td>7/21/2014</td>\n      <td>83.46</td>\n      <td>83.53</td>\n      <td>81.81</td>\n      <td>81.93</td>\n      <td>2359300</td>\n    </tr>\n    <tr>\n      <th>1</th>\n      <td>7/18/2014</td>\n      <td>83.30</td>\n      <td>83.40</td>\n      <td>82.52</td>\n      <td>83.35</td>\n      <td>4020800</td>\n    </tr>\n    <tr>\n      <th>2</th>\n      <td>7/17/2014</td>\n      <td>84.35</td>\n      <td>84.63</td>\n      <td>83.33</td>\n      <td>83.63</td>\n      <td>1974000</td>\n    </tr>\n    <tr>\n      <th>3</th>\n      <td>7/16/2014</td>\n      <td>83.77</td>\n      <td>84.91</td>\n      <td>83.66</td>\n      <td>84.91</td>\n      <td>1755600</td>\n    </tr>\n    <tr>\n      <th>4</th>\n      <td>7/15/2014</td>\n      <td>84.30</td>\n      <td>84.38</td>\n      <td>83.20</td>\n      <td>83.58</td>\n      <td>1874700</td>\n    </tr>\n    <tr>\n      <th>5</th>\n      <td>7/14/2014</td>\n      <td>83.66</td>\n      <td>84.64</td>\n      <td>83.11</td>\n      <td>84.40</td>\n      <td>1432100</td>\n    </tr>\n    <tr>\n      <th>6</th>\n      <td>7/11/2014</td>\n      <td>83.55</td>\n      <td>83.98</td>\n      <td>82.85</td>\n      <td>83.35</td>\n      <td>2001400</td>\n    </tr>\n    <tr>\n      <th>7</th>\n      <td>7/10/2014</td>\n      <td>85.20</td>\n      <td>85.57</td>\n      <td>83.36</td>\n      <td>83.42</td>\n      <td>2713300</td>\n    </tr>\n    <tr>\n      <th>8</th>\n      <td>7/9/2014</td>\n      <td>84.83</td>\n      <td>85.79</td>\n      <td>84.76</td>\n      <td>85.50</td>\n      <td>1540700</td>\n    </tr>\n  </tbody>\n</table>\n</div>"
     },
     "metadata": {},
     "execution_count": 16
    }
   ],
   "source": [
    "df = pd.read_csv('data/msft2.csv', skiprows = [0, 2, 3])\n",
    "df"
   ]
  },
  {
   "cell_type": "code",
   "execution_count": 19,
   "metadata": {},
   "outputs": [
    {
     "output_type": "execute_result",
     "data": {
      "text/plain": [
       "        Date   Open   High    Low  Close   Volume\n",
       "0  7/21/2014  83.46  83.53  81.81  81.93  2359300\n",
       "1  7/18/2014  83.30  83.40  82.52  83.35  4020800"
      ],
      "text/html": "<div>\n<style scoped>\n    .dataframe tbody tr th:only-of-type {\n        vertical-align: middle;\n    }\n\n    .dataframe tbody tr th {\n        vertical-align: top;\n    }\n\n    .dataframe thead th {\n        text-align: right;\n    }\n</style>\n<table border=\"1\" class=\"dataframe\">\n  <thead>\n    <tr style=\"text-align: right;\">\n      <th></th>\n      <th>Date</th>\n      <th>Open</th>\n      <th>High</th>\n      <th>Low</th>\n      <th>Close</th>\n      <th>Volume</th>\n    </tr>\n  </thead>\n  <tbody>\n    <tr>\n      <th>0</th>\n      <td>7/21/2014</td>\n      <td>83.46</td>\n      <td>83.53</td>\n      <td>81.81</td>\n      <td>81.93</td>\n      <td>2359300</td>\n    </tr>\n    <tr>\n      <th>1</th>\n      <td>7/18/2014</td>\n      <td>83.30</td>\n      <td>83.40</td>\n      <td>82.52</td>\n      <td>83.35</td>\n      <td>4020800</td>\n    </tr>\n  </tbody>\n</table>\n</div>"
     },
     "metadata": {},
     "execution_count": 19
    }
   ],
   "source": [
    "df = pd.read_csv('data/msft_with_footer.csv', skipfooter=2, engine='python')\n",
    "df"
   ]
  },
  {
   "cell_type": "code",
   "execution_count": 20,
   "metadata": {},
   "outputs": [
    {
     "output_type": "execute_result",
     "data": {
      "text/plain": [
       "        Date   Open   High    Low  Close   Volume\n",
       "0  7/21/2014  83.46  83.53  81.81  81.93  2359300\n",
       "1  7/18/2014  83.30  83.40  82.52  83.35  4020800\n",
       "2  7/17/2014  84.35  84.63  83.33  83.63  1974000"
      ],
      "text/html": "<div>\n<style scoped>\n    .dataframe tbody tr th:only-of-type {\n        vertical-align: middle;\n    }\n\n    .dataframe tbody tr th {\n        vertical-align: top;\n    }\n\n    .dataframe thead th {\n        text-align: right;\n    }\n</style>\n<table border=\"1\" class=\"dataframe\">\n  <thead>\n    <tr style=\"text-align: right;\">\n      <th></th>\n      <th>Date</th>\n      <th>Open</th>\n      <th>High</th>\n      <th>Low</th>\n      <th>Close</th>\n      <th>Volume</th>\n    </tr>\n  </thead>\n  <tbody>\n    <tr>\n      <th>0</th>\n      <td>7/21/2014</td>\n      <td>83.46</td>\n      <td>83.53</td>\n      <td>81.81</td>\n      <td>81.93</td>\n      <td>2359300</td>\n    </tr>\n    <tr>\n      <th>1</th>\n      <td>7/18/2014</td>\n      <td>83.30</td>\n      <td>83.40</td>\n      <td>82.52</td>\n      <td>83.35</td>\n      <td>4020800</td>\n    </tr>\n    <tr>\n      <th>2</th>\n      <td>7/17/2014</td>\n      <td>84.35</td>\n      <td>84.63</td>\n      <td>83.33</td>\n      <td>83.63</td>\n      <td>1974000</td>\n    </tr>\n  </tbody>\n</table>\n</div>"
     },
     "metadata": {},
     "execution_count": 20
    }
   ],
   "source": [
    "pd.read_csv('data/msft.csv', nrows=3)"
   ]
  },
  {
   "cell_type": "code",
   "execution_count": 21,
   "metadata": {},
   "outputs": [
    {
     "output_type": "execute_result",
     "data": {
      "text/plain": [
       "        data   open   high    low  close      vol\n",
       "0   3/3/2014  80.35  81.31  79.91  79.97  5004100\n",
       "1  2/28/2014  82.40  83.42  82.17  83.42  2853200\n",
       "2  2/27/2014  84.06  84.63  81.63  82.00  3676800\n",
       "3  2/26/2014  82.92  84.03  82.43  83.81  2623600\n",
       "4  2/25/2014  83.80  83.80  81.72  83.08  3579100"
      ],
      "text/html": "<div>\n<style scoped>\n    .dataframe tbody tr th:only-of-type {\n        vertical-align: middle;\n    }\n\n    .dataframe tbody tr th {\n        vertical-align: top;\n    }\n\n    .dataframe thead th {\n        text-align: right;\n    }\n</style>\n<table border=\"1\" class=\"dataframe\">\n  <thead>\n    <tr style=\"text-align: right;\">\n      <th></th>\n      <th>data</th>\n      <th>open</th>\n      <th>high</th>\n      <th>low</th>\n      <th>close</th>\n      <th>vol</th>\n    </tr>\n  </thead>\n  <tbody>\n    <tr>\n      <th>0</th>\n      <td>3/3/2014</td>\n      <td>80.35</td>\n      <td>81.31</td>\n      <td>79.91</td>\n      <td>79.97</td>\n      <td>5004100</td>\n    </tr>\n    <tr>\n      <th>1</th>\n      <td>2/28/2014</td>\n      <td>82.40</td>\n      <td>83.42</td>\n      <td>82.17</td>\n      <td>83.42</td>\n      <td>2853200</td>\n    </tr>\n    <tr>\n      <th>2</th>\n      <td>2/27/2014</td>\n      <td>84.06</td>\n      <td>84.63</td>\n      <td>81.63</td>\n      <td>82.00</td>\n      <td>3676800</td>\n    </tr>\n    <tr>\n      <th>3</th>\n      <td>2/26/2014</td>\n      <td>82.92</td>\n      <td>84.03</td>\n      <td>82.43</td>\n      <td>83.81</td>\n      <td>2623600</td>\n    </tr>\n    <tr>\n      <th>4</th>\n      <td>2/25/2014</td>\n      <td>83.80</td>\n      <td>83.80</td>\n      <td>81.72</td>\n      <td>83.08</td>\n      <td>3579100</td>\n    </tr>\n  </tbody>\n</table>\n</div>"
     },
     "metadata": {},
     "execution_count": 21
    }
   ],
   "source": [
    "pd.read_csv('data/msft.csv', skiprows=100, nrows=5, header=0, names=['data', 'open', 'high', 'low', 'close', 'vol'])"
   ]
  },
  {
   "cell_type": "code",
   "execution_count": 24,
   "metadata": {},
   "outputs": [
    {
     "output_type": "execute_result",
     "data": {
      "text/plain": [
       "        Date   Open   High    Low  Close   Volume\n",
       "0 2014-07-21  83.46  83.53  81.81  81.93  2359300\n",
       "1 2014-07-18  83.30  83.40  82.52  83.35  4020800\n",
       "2 2014-07-17  84.35  84.63  83.33  83.63  1974000\n",
       "3 2014-07-16  83.77  84.91  83.66  84.91  1755600\n",
       "4 2014-07-15  84.30  84.38  83.20  83.58  1874700"
      ],
      "text/html": "<div>\n<style scoped>\n    .dataframe tbody tr th:only-of-type {\n        vertical-align: middle;\n    }\n\n    .dataframe tbody tr th {\n        vertical-align: top;\n    }\n\n    .dataframe thead th {\n        text-align: right;\n    }\n</style>\n<table border=\"1\" class=\"dataframe\">\n  <thead>\n    <tr style=\"text-align: right;\">\n      <th></th>\n      <th>Date</th>\n      <th>Open</th>\n      <th>High</th>\n      <th>Low</th>\n      <th>Close</th>\n      <th>Volume</th>\n    </tr>\n  </thead>\n  <tbody>\n    <tr>\n      <th>0</th>\n      <td>2014-07-21</td>\n      <td>83.46</td>\n      <td>83.53</td>\n      <td>81.81</td>\n      <td>81.93</td>\n      <td>2359300</td>\n    </tr>\n    <tr>\n      <th>1</th>\n      <td>2014-07-18</td>\n      <td>83.30</td>\n      <td>83.40</td>\n      <td>82.52</td>\n      <td>83.35</td>\n      <td>4020800</td>\n    </tr>\n    <tr>\n      <th>2</th>\n      <td>2014-07-17</td>\n      <td>84.35</td>\n      <td>84.63</td>\n      <td>83.33</td>\n      <td>83.63</td>\n      <td>1974000</td>\n    </tr>\n    <tr>\n      <th>3</th>\n      <td>2014-07-16</td>\n      <td>83.77</td>\n      <td>84.91</td>\n      <td>83.66</td>\n      <td>84.91</td>\n      <td>1755600</td>\n    </tr>\n    <tr>\n      <th>4</th>\n      <td>2014-07-15</td>\n      <td>84.30</td>\n      <td>84.38</td>\n      <td>83.20</td>\n      <td>83.58</td>\n      <td>1874700</td>\n    </tr>\n  </tbody>\n</table>\n</div>"
     },
     "metadata": {},
     "execution_count": 24
    }
   ],
   "source": [
    "df = pd.read_excel('data/stocks.xlsx')\n",
    "df.head()"
   ]
  },
  {
   "cell_type": "code",
   "execution_count": 25,
   "metadata": {},
   "outputs": [
    {
     "output_type": "execute_result",
     "data": {
      "text/plain": [
       "        Date   Open   High    Low  Close    Volume\n",
       "0 2014-07-21  94.99  95.00  93.72  93.94  38887700\n",
       "1 2014-07-18  93.62  94.74  93.02  94.43  49898600\n",
       "2 2014-07-17  95.03  95.28  92.57  93.09  57152000\n",
       "3 2014-07-16  96.97  97.10  94.74  94.78  53396300\n",
       "4 2014-07-15  96.80  96.85  95.03  95.32  45477900"
      ],
      "text/html": "<div>\n<style scoped>\n    .dataframe tbody tr th:only-of-type {\n        vertical-align: middle;\n    }\n\n    .dataframe tbody tr th {\n        vertical-align: top;\n    }\n\n    .dataframe thead th {\n        text-align: right;\n    }\n</style>\n<table border=\"1\" class=\"dataframe\">\n  <thead>\n    <tr style=\"text-align: right;\">\n      <th></th>\n      <th>Date</th>\n      <th>Open</th>\n      <th>High</th>\n      <th>Low</th>\n      <th>Close</th>\n      <th>Volume</th>\n    </tr>\n  </thead>\n  <tbody>\n    <tr>\n      <th>0</th>\n      <td>2014-07-21</td>\n      <td>94.99</td>\n      <td>95.00</td>\n      <td>93.72</td>\n      <td>93.94</td>\n      <td>38887700</td>\n    </tr>\n    <tr>\n      <th>1</th>\n      <td>2014-07-18</td>\n      <td>93.62</td>\n      <td>94.74</td>\n      <td>93.02</td>\n      <td>94.43</td>\n      <td>49898600</td>\n    </tr>\n    <tr>\n      <th>2</th>\n      <td>2014-07-17</td>\n      <td>95.03</td>\n      <td>95.28</td>\n      <td>92.57</td>\n      <td>93.09</td>\n      <td>57152000</td>\n    </tr>\n    <tr>\n      <th>3</th>\n      <td>2014-07-16</td>\n      <td>96.97</td>\n      <td>97.10</td>\n      <td>94.74</td>\n      <td>94.78</td>\n      <td>53396300</td>\n    </tr>\n    <tr>\n      <th>4</th>\n      <td>2014-07-15</td>\n      <td>96.80</td>\n      <td>96.85</td>\n      <td>95.03</td>\n      <td>95.32</td>\n      <td>45477900</td>\n    </tr>\n  </tbody>\n</table>\n</div>"
     },
     "metadata": {},
     "execution_count": 25
    }
   ],
   "source": [
    "aapl = pd.read_excel('data/stocks.xlsx', sheet_name='aapl')\n",
    "aapl.head()"
   ]
  },
  {
   "cell_type": "code",
   "execution_count": 28,
   "metadata": {},
   "outputs": [
    {
     "output_type": "stream",
     "name": "stdout",
     "text": [
      "Collecting xlwt\n  Downloading xlwt-1.3.0-py2.py3-none-any.whl (99 kB)\nInstalling collected packages: xlwt\nSuccessfully installed xlwt-1.3.0\n"
     ]
    }
   ],
   "source": [
    "!pip install xlwt"
   ]
  },
  {
   "cell_type": "code",
   "execution_count": null,
   "metadata": {},
   "outputs": [],
   "source": [
    "df.to_excel('data/stocks2.xls')"
   ]
  },
  {
   "cell_type": "code",
   "execution_count": 30,
   "metadata": {},
   "outputs": [],
   "source": [
    "df.to_excel('data/stocks_msft.xls', sheet_name='MSFT')"
   ]
  },
  {
   "cell_type": "code",
   "execution_count": 31,
   "metadata": {},
   "outputs": [],
   "source": [
    "from pandas import ExcelWriter\n",
    "with ExcelWriter('data/all_stocks.xls') as writer:\n",
    "    aapl.to_excel(writer, sheet_name='AAPL')\n",
    "    df.to_excel(writer, sheet_name='MSFT')"
   ]
  },
  {
   "cell_type": "code",
   "execution_count": 33,
   "metadata": {},
   "outputs": [
    {
     "output_type": "stream",
     "name": "stdout",
     "text": [
      "Collecting openpyxl\n  Downloading openpyxl-3.0.5-py2.py3-none-any.whl (242 kB)\nCollecting et-xmlfile\n  Downloading et_xmlfile-1.0.1.tar.gz (8.4 kB)\nCollecting jdcal\n  Downloading jdcal-1.4.1-py2.py3-none-any.whl (9.5 kB)\nBuilding wheels for collected packages: et-xmlfile\n  Building wheel for et-xmlfile (setup.py): started\n  Building wheel for et-xmlfile (setup.py): finished with status 'done'\n  Created wheel for et-xmlfile: filename=et_xmlfile-1.0.1-py3-none-any.whl size=8920 sha256=f184112ed3da8224f278845f1e0d7f7ad256d82299a5242e7f9db417c339b1d0\n  Stored in directory: c:\\users\\pc\\appdata\\local\\pip\\cache\\wheels\\e2\\bd\\55\\048b4fd505716c4c298f42ee02dffd9496bb6d212b266c7f31\nSuccessfully built et-xmlfile\nInstalling collected packages: et-xmlfile, jdcal, openpyxl\nSuccessfully installed et-xmlfile-1.0.1 jdcal-1.4.1 openpyxl-3.0.5\n"
     ]
    }
   ],
   "source": [
    "!pip install openpyxl"
   ]
  },
  {
   "cell_type": "code",
   "execution_count": 34,
   "metadata": {},
   "outputs": [],
   "source": [
    "df.to_excel('data/msft2.xlsx')"
   ]
  },
  {
   "cell_type": "code",
   "execution_count": 36,
   "metadata": {},
   "outputs": [],
   "source": [
    "df[:5].to_json('data/stocks.json')"
   ]
  },
  {
   "cell_type": "code",
   "execution_count": 37,
   "metadata": {},
   "outputs": [
    {
     "output_type": "execute_result",
     "data": {
      "text/plain": [
       "        Date   Open   High    Low  Close   Volume\n",
       "0 2014-07-21  83.46  83.53  81.81  81.93  2359300\n",
       "1 2014-07-18  83.30  83.40  82.52  83.35  4020800\n",
       "2 2014-07-17  84.35  84.63  83.33  83.63  1974000\n",
       "3 2014-07-16  83.77  84.91  83.66  84.91  1755600\n",
       "4 2014-07-15  84.30  84.38  83.20  83.58  1874700"
      ],
      "text/html": "<div>\n<style scoped>\n    .dataframe tbody tr th:only-of-type {\n        vertical-align: middle;\n    }\n\n    .dataframe tbody tr th {\n        vertical-align: top;\n    }\n\n    .dataframe thead th {\n        text-align: right;\n    }\n</style>\n<table border=\"1\" class=\"dataframe\">\n  <thead>\n    <tr style=\"text-align: right;\">\n      <th></th>\n      <th>Date</th>\n      <th>Open</th>\n      <th>High</th>\n      <th>Low</th>\n      <th>Close</th>\n      <th>Volume</th>\n    </tr>\n  </thead>\n  <tbody>\n    <tr>\n      <th>0</th>\n      <td>2014-07-21</td>\n      <td>83.46</td>\n      <td>83.53</td>\n      <td>81.81</td>\n      <td>81.93</td>\n      <td>2359300</td>\n    </tr>\n    <tr>\n      <th>1</th>\n      <td>2014-07-18</td>\n      <td>83.30</td>\n      <td>83.40</td>\n      <td>82.52</td>\n      <td>83.35</td>\n      <td>4020800</td>\n    </tr>\n    <tr>\n      <th>2</th>\n      <td>2014-07-17</td>\n      <td>84.35</td>\n      <td>84.63</td>\n      <td>83.33</td>\n      <td>83.63</td>\n      <td>1974000</td>\n    </tr>\n    <tr>\n      <th>3</th>\n      <td>2014-07-16</td>\n      <td>83.77</td>\n      <td>84.91</td>\n      <td>83.66</td>\n      <td>84.91</td>\n      <td>1755600</td>\n    </tr>\n    <tr>\n      <th>4</th>\n      <td>2014-07-15</td>\n      <td>84.30</td>\n      <td>84.38</td>\n      <td>83.20</td>\n      <td>83.58</td>\n      <td>1874700</td>\n    </tr>\n  </tbody>\n</table>\n</div>"
     },
     "metadata": {},
     "execution_count": 37
    }
   ],
   "source": [
    "df_from_json = pd.read_json('data/stocks.json')\n",
    "df_from_json[:5]"
   ]
  },
  {
   "cell_type": "code",
   "execution_count": 39,
   "metadata": {},
   "outputs": [
    {
     "output_type": "execute_result",
     "data": {
      "text/plain": [
       "                                            features               type\n",
       "0  {'geometry': {'coordinates': [[[1, 1, 0.0], [1...  FeatureCollection"
      ],
      "text/html": "<div>\n<style scoped>\n    .dataframe tbody tr th:only-of-type {\n        vertical-align: middle;\n    }\n\n    .dataframe tbody tr th {\n        vertical-align: top;\n    }\n\n    .dataframe thead th {\n        text-align: right;\n    }\n</style>\n<table border=\"1\" class=\"dataframe\">\n  <thead>\n    <tr style=\"text-align: right;\">\n      <th></th>\n      <th>features</th>\n      <th>type</th>\n    </tr>\n  </thead>\n  <tbody>\n    <tr>\n      <th>0</th>\n      <td>{'geometry': {'coordinates': [[[1, 1, 0.0], [1...</td>\n      <td>FeatureCollection</td>\n    </tr>\n  </tbody>\n</table>\n</div>"
     },
     "metadata": {},
     "execution_count": 39
    }
   ],
   "source": [
    "test = pd.read_json('data/OBJ00013_PS3_K3_NIA0078.json')\n",
    "test[:1]"
   ]
  },
  {
   "cell_type": "code",
   "execution_count": 41,
   "metadata": {},
   "outputs": [
    {
     "output_type": "execute_result",
     "data": {
      "text/plain": [
       "0     {'geometry': {'coordinates': [[[1, 1, 0.0], [1...\n",
       "1     {'geometry': {'coordinates': [[[1, 1, 0.0], [1...\n",
       "2     {'geometry': {'coordinates': [[[1, 1, 0.0], [1...\n",
       "3     {'geometry': {'coordinates': [[[1, 1, 0.0], [1...\n",
       "4     {'geometry': {'coordinates': [[[1, 1, 0.0], [1...\n",
       "5     {'geometry': {'coordinates': [[[1, 1, 0.0], [1...\n",
       "6     {'geometry': {'coordinates': [[[1, 1, 0.0], [1...\n",
       "7     {'geometry': {'coordinates': [[[1, 1, 0.0], [1...\n",
       "8     {'geometry': {'coordinates': [[[1, 1, 0.0], [1...\n",
       "9     {'geometry': {'coordinates': [[[1, 1, 0.0], [1...\n",
       "10    {'geometry': {'coordinates': [[[1, 1, 0.0], [1...\n",
       "11    {'geometry': {'coordinates': [[[1, 1, 0.0], [1...\n",
       "12    {'geometry': {'coordinates': [[[1, 1, 0.0], [1...\n",
       "13    {'geometry': {'coordinates': [[[1, 1, 0.0], [1...\n",
       "Name: features, dtype: object"
      ]
     },
     "metadata": {},
     "execution_count": 41
    }
   ],
   "source": [
    "test['features'].head(50)"
   ]
  },
  {
   "cell_type": "code",
   "execution_count": null,
   "metadata": {},
   "outputs": [],
   "source": []
  }
 ]
}