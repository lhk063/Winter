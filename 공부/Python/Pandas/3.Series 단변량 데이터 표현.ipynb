{
 "metadata": {
  "language_info": {
   "codemirror_mode": {
    "name": "ipython",
    "version": 3
   },
   "file_extension": ".py",
   "mimetype": "text/x-python",
   "name": "python",
   "nbconvert_exporter": "python",
   "pygments_lexer": "ipython3",
   "version": 3
  },
  "orig_nbformat": 2,
  "kernelspec": {
   "name": "python_defaultSpec_1596977820378",
   "display_name": "Python 3.7.6 64-bit ('base': conda)"
  }
 },
 "nbformat": 4,
 "nbformat_minor": 2,
 "cells": [
  {
   "cell_type": "code",
   "execution_count": 93,
   "metadata": {},
   "outputs": [],
   "source": [
    "import numpy as np\n",
    "import pandas as pd\n",
    "\n",
    "import datetime\n",
    "from datetime import datetime, date\n",
    "\n",
    "import matplotlib.pyplot as pyplot\n",
    "%matplotlib inline"
   ]
  },
  {
   "cell_type": "markdown",
   "metadata": {},
   "source": [
    "## 파이썬 리스트와 딕셔너리를 사용한 생성"
   ]
  },
  {
   "cell_type": "code",
   "execution_count": 94,
   "metadata": {},
   "outputs": [
    {
     "output_type": "execute_result",
     "data": {
      "text/plain": "0    10\n1    11\n2    12\n3    13\n4    14\ndtype: int64"
     },
     "metadata": {},
     "execution_count": 94
    }
   ],
   "source": [
    "# 시리즈 생성\n",
    "s = pd.Series([10, 11, 12, 13, 14])\n",
    "s"
   ]
  },
  {
   "cell_type": "code",
   "execution_count": 95,
   "metadata": {},
   "outputs": [
    {
     "output_type": "execute_result",
     "data": {
      "text/plain": "13"
     },
     "metadata": {},
     "execution_count": 95
    }
   ],
   "source": [
    "# 레이블 3번째 값\n",
    "s[3]"
   ]
  },
  {
   "cell_type": "code",
   "execution_count": 96,
   "metadata": {},
   "outputs": [
    {
     "output_type": "execute_result",
     "data": {
      "text/plain": "0      Mike\n1    Marcia\n2    Mikael\n3      Bleu\ndtype: object"
     },
     "metadata": {},
     "execution_count": 96
    }
   ],
   "source": [
    "# 정수가 아닌 문자열 시리즈 생성\n",
    "pd.Series(['Mike', 'Marcia', 'Mikael', 'Bleu'])"
   ]
  },
  {
   "cell_type": "code",
   "execution_count": 97,
   "metadata": {},
   "outputs": [
    {
     "output_type": "execute_result",
     "data": {
      "text/plain": "0    2\n1    2\n2    2\n3    2\n4    2\ndtype: int64"
     },
     "metadata": {},
     "execution_count": 97
    }
   ],
   "source": [
    "# 2의 값을 5개 가진 Series 생성\n",
    "pd.Series([2] * 5)"
   ]
  },
  {
   "cell_type": "code",
   "execution_count": 98,
   "metadata": {},
   "outputs": [
    {
     "output_type": "execute_result",
     "data": {
      "text/plain": "0    a\n1    b\n2    c\n3    d\n4    e\ndtype: object"
     },
     "metadata": {},
     "execution_count": 98
    }
   ],
   "source": [
    "# 각 문자를 리스트 아이템으로 사용하는 방법\n",
    "pd.Series(list('abcde'))"
   ]
  },
  {
   "cell_type": "code",
   "execution_count": 99,
   "metadata": {},
   "outputs": [
    {
     "output_type": "execute_result",
     "data": {
      "text/plain": "Mike                   Dad\nMarcia                 Mom\nMikael                 Son\nBleu      Best doggie ever\ndtype: object"
     },
     "metadata": {},
     "execution_count": 99
    }
   ],
   "source": [
    "# 딕셔너리로 시리즈 생성\n",
    "pd.Series({'Mike' : 'Dad',\n",
    "'Marcia' : 'Mom',\n",
    "'Mikael' : 'Son',\n",
    "'Bleu' : 'Best doggie ever'})"
   ]
  },
  {
   "cell_type": "markdown",
   "metadata": {},
   "source": [
    "## Numpy 함수를 사용한 생성"
   ]
  },
  {
   "cell_type": "code",
   "execution_count": 100,
   "metadata": {},
   "outputs": [
    {
     "output_type": "execute_result",
     "data": {
      "text/plain": "0    4\n1    5\n2    6\n3    7\n4    8\ndtype: int32"
     },
     "metadata": {},
     "execution_count": 100
    }
   ],
   "source": [
    "# 4 ~ 8 정수\n",
    "pd.Series(np.arange(4, 9))"
   ]
  },
  {
   "cell_type": "code",
   "execution_count": 101,
   "metadata": {},
   "outputs": [
    {
     "output_type": "execute_result",
     "data": {
      "text/plain": "0    0.00\n1    2.25\n2    4.50\n3    6.75\n4    9.00\ndtype: float64"
     },
     "metadata": {},
     "execution_count": 101
    }
   ],
   "source": [
    "pd.Series(np.linspace(0, 9, 5))"
   ]
  },
  {
   "cell_type": "code",
   "execution_count": 102,
   "metadata": {},
   "outputs": [
    {
     "output_type": "execute_result",
     "data": {
      "text/plain": "0   -0.204708\n1    0.478943\n2   -0.519439\n3   -0.555730\n4    1.965781\ndtype: float64"
     },
     "metadata": {},
     "execution_count": 102
    }
   ],
   "source": [
    "# 정규 분포에 따른 난수 5개 생성\n",
    "np.random.seed(12345)\n",
    "pd.Series(np.random.normal(size = 5))"
   ]
  },
  {
   "cell_type": "markdown",
   "metadata": {},
   "source": [
    "## 스칼라 값을 사용한 생성"
   ]
  },
  {
   "cell_type": "code",
   "execution_count": 103,
   "metadata": {},
   "outputs": [
    {
     "output_type": "execute_result",
     "data": {
      "text/plain": "0    2\ndtype: int64"
     },
     "metadata": {},
     "execution_count": 103
    }
   ],
   "source": [
    "s = pd.Series(2)\n",
    "s"
   ]
  },
  {
   "cell_type": "code",
   "execution_count": 104,
   "metadata": {},
   "outputs": [
    {
     "output_type": "execute_result",
     "data": {
      "text/plain": "0    0\n1    2\n2    4\n3    6\n4    8\ndtype: int32"
     },
     "metadata": {},
     "execution_count": 104
    }
   ],
   "source": [
    "s = pd.Series(np.arange(0, 5))\n",
    "s * 2"
   ]
  },
  {
   "cell_type": "markdown",
   "metadata": {},
   "source": [
    "## .index와 .values 속성"
   ]
  },
  {
   "cell_type": "code",
   "execution_count": 105,
   "metadata": {},
   "outputs": [
    {
     "output_type": "execute_result",
     "data": {
      "text/plain": "array([1, 2, 3], dtype=int64)"
     },
     "metadata": {},
     "execution_count": 105
    }
   ],
   "source": [
    "# get the values in the Series\n",
    "s = pd.Series([1, 2, 3])\n",
    "s.values\n"
   ]
  },
  {
   "cell_type": "code",
   "execution_count": 106,
   "metadata": {},
   "outputs": [
    {
     "output_type": "execute_result",
     "data": {
      "text/plain": "numpy.ndarray"
     },
     "metadata": {},
     "execution_count": 106
    }
   ],
   "source": [
    "type(s.values)"
   ]
  },
  {
   "cell_type": "code",
   "execution_count": 107,
   "metadata": {},
   "outputs": [
    {
     "output_type": "execute_result",
     "data": {
      "text/plain": "RangeIndex(start=0, stop=3, step=1)"
     },
     "metadata": {},
     "execution_count": 107
    }
   ],
   "source": [
    "# get the index of the Series\n",
    "s.index"
   ]
  },
  {
   "cell_type": "markdown",
   "metadata": {},
   "source": [
    "## Series의 크기와 형태"
   ]
  },
  {
   "cell_type": "code",
   "execution_count": 108,
   "metadata": {},
   "outputs": [
    {
     "output_type": "execute_result",
     "data": {
      "text/plain": "4"
     },
     "metadata": {},
     "execution_count": 108
    }
   ],
   "source": [
    "# Example series\n",
    "s = pd.Series([1, 2, 3, 4])\n",
    "len(s)"
   ]
  },
  {
   "cell_type": "code",
   "execution_count": 109,
   "metadata": {},
   "outputs": [
    {
     "output_type": "execute_result",
     "data": {
      "text/plain": "4"
     },
     "metadata": {},
     "execution_count": 109
    }
   ],
   "source": [
    "# .size is also the # of items in the Series\n",
    "s.size"
   ]
  },
  {
   "cell_type": "code",
   "execution_count": 110,
   "metadata": {},
   "outputs": [
    {
     "output_type": "execute_result",
     "data": {
      "text/plain": "(4,)"
     },
     "metadata": {},
     "execution_count": 110
    }
   ],
   "source": [
    "# .shape is a tuple with one value\n",
    "s.shape"
   ]
  },
  {
   "cell_type": "markdown",
   "metadata": {},
   "source": [
    "## 생성 시 인덱스 지정"
   ]
  },
  {
   "cell_type": "code",
   "execution_count": 111,
   "metadata": {},
   "outputs": [
    {
     "output_type": "execute_result",
     "data": {
      "text/plain": "Dad      Mike\nMom    Marcia\nSon    Mikael\nDog      Bleu\ndtype: object"
     },
     "metadata": {},
     "execution_count": 111
    }
   ],
   "source": [
    "# explicitly create an index\n",
    "labels = ['Mike', 'Marcia', 'Mikael', 'Bleu']\n",
    "role = ['Dad', 'Mom', 'Son', 'Dog']\n",
    "s = pd.Series(labels, index = role)\n",
    "s"
   ]
  },
  {
   "cell_type": "code",
   "execution_count": 112,
   "metadata": {},
   "outputs": [
    {
     "output_type": "execute_result",
     "data": {
      "text/plain": "Index(['Dad', 'Mom', 'Son', 'Dog'], dtype='object')"
     },
     "metadata": {},
     "execution_count": 112
    }
   ],
   "source": [
    "# examine the index\n",
    "s.index"
   ]
  },
  {
   "cell_type": "code",
   "execution_count": 113,
   "metadata": {},
   "outputs": [
    {
     "output_type": "execute_result",
     "data": {
      "text/plain": "'Mike'"
     },
     "metadata": {},
     "execution_count": 113
    }
   ],
   "source": [
    "# who is the Dad?\n",
    "s['Dad']"
   ]
  },
  {
   "cell_type": "markdown",
   "metadata": {},
   "source": [
    "## head, tail, take"
   ]
  },
  {
   "cell_type": "code",
   "execution_count": 114,
   "metadata": {},
   "outputs": [],
   "source": [
    "# a ten item Series\n",
    "s = pd.Series(np.arange(1, 10),\n",
    "index = list('abcdefghi'))"
   ]
  },
  {
   "cell_type": "code",
   "execution_count": 115,
   "metadata": {},
   "outputs": [
    {
     "output_type": "execute_result",
     "data": {
      "text/plain": "a    1\nb    2\nc    3\nd    4\ne    5\ndtype: int32"
     },
     "metadata": {},
     "execution_count": 115
    }
   ],
   "source": [
    "# show the first five\n",
    "s.head()"
   ]
  },
  {
   "cell_type": "code",
   "execution_count": 116,
   "metadata": {
    "tags": []
   },
   "outputs": [
    {
     "output_type": "stream",
     "name": "stdout",
     "text": "a    1\nb    2\nc    3\ndtype: int32\n"
    },
    {
     "output_type": "execute_result",
     "data": {
      "text/plain": "a    1\nb    2\nc    3\ndtype: int32"
     },
     "metadata": {},
     "execution_count": 116
    }
   ],
   "source": [
    "# the first three\n",
    "# n 의 수만큼 보여준다 그냥 숫자만 적어도 된다.\n",
    "print(s.head(3))\n",
    "s.head(n = 3) # s.head(3) is equivalent\n"
   ]
  },
  {
   "cell_type": "code",
   "execution_count": 117,
   "metadata": {},
   "outputs": [
    {
     "output_type": "execute_result",
     "data": {
      "text/plain": "e    5\nf    6\ng    7\nh    8\ni    9\ndtype: int32"
     },
     "metadata": {},
     "execution_count": 117
    }
   ],
   "source": [
    "# the last five\n",
    "s.tail()"
   ]
  },
  {
   "cell_type": "code",
   "execution_count": 118,
   "metadata": {},
   "outputs": [
    {
     "output_type": "execute_result",
     "data": {
      "text/plain": "g    7\nh    8\ni    9\ndtype: int32"
     },
     "metadata": {},
     "execution_count": 118
    }
   ],
   "source": [
    "# the last 3\n",
    "s.tail(3)"
   ]
  },
  {
   "cell_type": "code",
   "execution_count": 119,
   "metadata": {},
   "outputs": [
    {
     "output_type": "execute_result",
     "data": {
      "text/plain": "b    2\nf    6\ni    9\ndtype: int32"
     },
     "metadata": {},
     "execution_count": 119
    }
   ],
   "source": [
    "# only take specific items by position\n",
    "s.take([1, 5, 8])"
   ]
  },
  {
   "cell_type": "markdown",
   "metadata": {},
   "source": [
    "# 레이블과 포지션으로 값 가져오기\n",
    "## []연산자와 .ix[]속성을 사용하는 레이블 검색"
   ]
  },
  {
   "cell_type": "code",
   "execution_count": 120,
   "metadata": {},
   "outputs": [
    {
     "output_type": "execute_result",
     "data": {
      "text/plain": "a    10\nb    11\nc    12\nd    13\ne    14\ndtype: int32"
     },
     "metadata": {},
     "execution_count": 120
    }
   ],
   "source": [
    "# we will use this series to examine lookups\n",
    "s1 = pd.Series(np.arange(10, 15), index = list('abcde'))\n",
    "s1"
   ]
  },
  {
   "cell_type": "code",
   "execution_count": 121,
   "metadata": {},
   "outputs": [
    {
     "output_type": "execute_result",
     "data": {
      "text/plain": "10"
     },
     "metadata": {},
     "execution_count": 121
    }
   ],
   "source": [
    "# get the value with label 'a\n",
    "s1['a']"
   ]
  },
  {
   "cell_type": "code",
   "execution_count": 122,
   "metadata": {},
   "outputs": [
    {
     "output_type": "execute_result",
     "data": {
      "text/plain": "d    13\nb    11\ndtype: int32"
     },
     "metadata": {},
     "execution_count": 122
    }
   ],
   "source": [
    "# get multiple items 인덱스로 복수 검색\n",
    "s1[['d', 'b']]"
   ]
  },
  {
   "cell_type": "code",
   "execution_count": 123,
   "metadata": {},
   "outputs": [
    {
     "output_type": "execute_result",
     "data": {
      "text/plain": "d    13\nb    11\ndtype: int32"
     },
     "metadata": {},
     "execution_count": 123
    }
   ],
   "source": [
    "# gets values based upon position 숫자를 사용해 검색\n",
    "s1[[3, 1]]"
   ]
  },
  {
   "cell_type": "code",
   "execution_count": 124,
   "metadata": {},
   "outputs": [
    {
     "output_type": "execute_result",
     "data": {
      "text/plain": "10    1\n11    2\n12    3\n13    4\ndtype: int64"
     },
     "metadata": {},
     "execution_count": 124
    }
   ],
   "source": [
    "# to demo lookup by matching labels as integer values\n",
    "s2 = pd.Series([1, 2, 3, 4], index = [10, 11, 12, 13])\n",
    "s2\n"
   ]
  },
  {
   "cell_type": "code",
   "execution_count": 125,
   "metadata": {},
   "outputs": [
    {
     "output_type": "execute_result",
     "data": {
      "text/plain": "13    4\n10    1\ndtype: int64"
     },
     "metadata": {},
     "execution_count": 125
    }
   ],
   "source": [
    "# this is by label not position\n",
    "s2[[13, 10]]"
   ]
  },
  {
   "cell_type": "markdown",
   "metadata": {},
   "source": [
    "## iloc[]을 사용하는 명시적 포지션 검색"
   ]
  },
  {
   "cell_type": "code",
   "execution_count": 126,
   "metadata": {},
   "outputs": [
    {
     "output_type": "execute_result",
     "data": {
      "text/plain": "a    10\nc    12\ndtype: int32"
     },
     "metadata": {},
     "execution_count": 126
    }
   ],
   "source": [
    "# explicitly by position\n",
    "s1.iloc[[0, 2]]"
   ]
  },
  {
   "cell_type": "code",
   "execution_count": 127,
   "metadata": {},
   "outputs": [
    {
     "output_type": "execute_result",
     "data": {
      "text/plain": "13    4\n12    3\ndtype: int64"
     },
     "metadata": {},
     "execution_count": 127
    }
   ],
   "source": [
    "# explicitly by position\n",
    "s2.iloc[[3, 2]]"
   ]
  },
  {
   "cell_type": "markdown",
   "metadata": {},
   "source": [
    "## .loc[]을 사용하는 명시적 레이블 검색"
   ]
  },
  {
   "cell_type": "code",
   "execution_count": 128,
   "metadata": {},
   "outputs": [
    {
     "output_type": "execute_result",
     "data": {
      "text/plain": "a    10\nd    13\ndtype: int32"
     },
     "metadata": {},
     "execution_count": 128
    }
   ],
   "source": [
    "# explicit via labels\n",
    "s1.loc[['a', 'd']]"
   ]
  },
  {
   "cell_type": "code",
   "execution_count": 129,
   "metadata": {},
   "outputs": [
    {
     "output_type": "execute_result",
     "data": {
      "text/plain": "11    2\n12    3\ndtype: int64"
     },
     "metadata": {},
     "execution_count": 129
    }
   ],
   "source": [
    "# get items at position 11 and 12\n",
    "s2.loc[[11, 12]]"
   ]
  },
  {
   "cell_type": "code",
   "execution_count": 130,
   "metadata": {},
   "outputs": [
    {
     "output_type": "execute_result",
     "data": {
      "text/plain": "a    10\nb    11\nc    12\nd    13\ne    14\ndtype: int32"
     },
     "metadata": {},
     "execution_count": 130
    }
   ],
   "source": [
    "s1"
   ]
  },
  {
   "cell_type": "markdown",
   "metadata": {},
   "source": [
    "## 서브셋으로 Series 슬라이싱"
   ]
  },
  {
   "cell_type": "code",
   "execution_count": 131,
   "metadata": {},
   "outputs": [
    {
     "output_type": "execute_result",
     "data": {
      "text/plain": "10    100\n11    101\n12    102\n13    103\n14    104\n15    105\n16    106\n17    107\n18    108\n19    109\ndtype: int32"
     },
     "metadata": {},
     "execution_count": 131
    }
   ],
   "source": [
    "s = pd.Series(np.arange(100, 110), index = np.arange(10, 20))\n",
    "s"
   ]
  },
  {
   "cell_type": "code",
   "execution_count": 132,
   "metadata": {},
   "outputs": [
    {
     "output_type": "execute_result",
     "data": {
      "text/plain": "11    101\n12    102\n13    103\n14    104\n15    105\ndtype: int32"
     },
     "metadata": {},
     "execution_count": 132
    }
   ],
   "source": [
    "# slice showing items at position 1 through 5\n",
    "s[1:6]"
   ]
  },
  {
   "cell_type": "code",
   "execution_count": 133,
   "metadata": {},
   "outputs": [
    {
     "output_type": "execute_result",
     "data": {
      "text/plain": "11    101\n12    102\n13    103\n14    104\n15    105\ndtype: int32"
     },
     "metadata": {},
     "execution_count": 133
    }
   ],
   "source": [
    "# lookup via list of positions\n",
    "s.iloc[[1, 2, 3, 4, 5]]"
   ]
  },
  {
   "cell_type": "code",
   "execution_count": 134,
   "metadata": {},
   "outputs": [
    {
     "output_type": "execute_result",
     "data": {
      "text/plain": "11    101\n13    103\n15    105\ndtype: int32"
     },
     "metadata": {},
     "execution_count": 134
    }
   ],
   "source": [
    "# items at position 1, 3, 5\n",
    "s[1: 6: 2]"
   ]
  },
  {
   "cell_type": "code",
   "execution_count": 135,
   "metadata": {},
   "outputs": [
    {
     "output_type": "execute_result",
     "data": {
      "text/plain": "10    100\n11    101\n12    102\n13    103\n14    104\ndtype: int32"
     },
     "metadata": {},
     "execution_count": 135
    }
   ],
   "source": [
    "# first five by slicing, same as .head(5)\n",
    "s[:5]"
   ]
  },
  {
   "cell_type": "code",
   "execution_count": 136,
   "metadata": {},
   "outputs": [
    {
     "output_type": "execute_result",
     "data": {
      "text/plain": "14    104\n15    105\n16    106\n17    107\n18    108\n19    109\ndtype: int32"
     },
     "metadata": {},
     "execution_count": 136
    }
   ],
   "source": [
    "# fourth position to the end\n",
    "s[4:]"
   ]
  },
  {
   "cell_type": "code",
   "execution_count": 137,
   "metadata": {},
   "outputs": [
    {
     "output_type": "execute_result",
     "data": {
      "text/plain": "10    100\n12    102\n14    104\ndtype: int32"
     },
     "metadata": {},
     "execution_count": 137
    }
   ],
   "source": [
    "# every other item in the first five positions\n",
    "s[ : 5 : 2]"
   ]
  },
  {
   "cell_type": "code",
   "execution_count": 138,
   "metadata": {},
   "outputs": [
    {
     "output_type": "execute_result",
     "data": {
      "text/plain": "14    104\n16    106\n18    108\ndtype: int32"
     },
     "metadata": {},
     "execution_count": 138
    }
   ],
   "source": [
    "# every other item starting at the fourth position\n",
    "s[4::2]"
   ]
  },
  {
   "cell_type": "code",
   "execution_count": 139,
   "metadata": {},
   "outputs": [
    {
     "output_type": "execute_result",
     "data": {
      "text/plain": "19    109\n18    108\n17    107\n16    106\n15    105\n14    104\n13    103\n12    102\n11    101\n10    100\ndtype: int32"
     },
     "metadata": {},
     "execution_count": 139
    }
   ],
   "source": [
    "# reverse the Series\n",
    "s[::-1]"
   ]
  },
  {
   "cell_type": "code",
   "execution_count": 140,
   "metadata": {},
   "outputs": [
    {
     "output_type": "execute_result",
     "data": {
      "text/plain": "14    104\n12    102\n10    100\ndtype: int32"
     },
     "metadata": {},
     "execution_count": 140
    }
   ],
   "source": [
    "# every other starting at position 4, in reverse\n",
    "s[4::-2]"
   ]
  },
  {
   "cell_type": "code",
   "execution_count": 141,
   "metadata": {},
   "outputs": [
    {
     "output_type": "execute_result",
     "data": {
      "text/plain": "16    106\n17    107\n18    108\n19    109\ndtype: int32"
     },
     "metadata": {},
     "execution_count": 141
    }
   ],
   "source": [
    "# -4:, which means the last 4 rows\n",
    "s[-4:]"
   ]
  },
  {
   "cell_type": "code",
   "execution_count": 142,
   "metadata": {},
   "outputs": [
    {
     "output_type": "execute_result",
     "data": {
      "text/plain": "10    100\n11    101\n12    102\n13    103\n14    104\n15    105\ndtype: int32"
     },
     "metadata": {},
     "execution_count": 142
    }
   ],
   "source": [
    "# :-4, all but the last 4\n",
    "s[:-4]"
   ]
  },
  {
   "cell_type": "code",
   "execution_count": 143,
   "metadata": {},
   "outputs": [
    {
     "output_type": "execute_result",
     "data": {
      "text/plain": "16    106\n17    107\n18    108\ndtype: int32"
     },
     "metadata": {},
     "execution_count": 143
    }
   ],
   "source": [
    "# equivalent to s.tail(4).head(3)\n",
    "s[-4:-1]"
   ]
  },
  {
   "cell_type": "code",
   "execution_count": 144,
   "metadata": {},
   "outputs": [],
   "source": [
    "# used to demonstrate the next two slices\n",
    "s = pd.Series(np.arange(0, 5),\n",
    "index = ['a', 'b', 'c', 'd', 'e'])"
   ]
  },
  {
   "cell_type": "code",
   "execution_count": 145,
   "metadata": {},
   "outputs": [
    {
     "output_type": "execute_result",
     "data": {
      "text/plain": "b    1\nc    2\ndtype: int32"
     },
     "metadata": {},
     "execution_count": 145
    }
   ],
   "source": [
    "# slices by position as the index is characters\n",
    "s[1 : 3]"
   ]
  },
  {
   "cell_type": "code",
   "execution_count": 146,
   "metadata": {},
   "outputs": [
    {
     "output_type": "execute_result",
     "data": {
      "text/plain": "b    1\nc    2\nd    3\ndtype: int32"
     },
     "metadata": {},
     "execution_count": 146
    }
   ],
   "source": [
    "# this slices by the string in the index\n",
    "s['b':'d']"
   ]
  },
  {
   "cell_type": "markdown",
   "metadata": {},
   "source": [
    "## 인덱스 레이블을 통한 정렬 ★★★"
   ]
  },
  {
   "cell_type": "code",
   "execution_count": 147,
   "metadata": {},
   "outputs": [
    {
     "output_type": "execute_result",
     "data": {
      "text/plain": "a    1\nb    2\ndtype: int64"
     },
     "metadata": {},
     "execution_count": 147
    }
   ],
   "source": [
    "# First series for alignment\n",
    "s1 = pd.Series([1, 2], index = ['a', 'b'])\n",
    "s1"
   ]
  },
  {
   "cell_type": "code",
   "execution_count": 148,
   "metadata": {},
   "outputs": [
    {
     "output_type": "execute_result",
     "data": {
      "text/plain": "b    4\na    3\ndtype: int64"
     },
     "metadata": {},
     "execution_count": 148
    }
   ],
   "source": [
    "# Second series for alignment\n",
    "s2 = pd.Series([4, 3], index = ['b', 'a'])\n",
    "s2"
   ]
  },
  {
   "cell_type": "code",
   "execution_count": 149,
   "metadata": {},
   "outputs": [
    {
     "output_type": "execute_result",
     "data": {
      "text/plain": "a    4\nb    6\ndtype: int64"
     },
     "metadata": {},
     "execution_count": 149
    }
   ],
   "source": [
    "# add them\n",
    "s1 + s2"
   ]
  },
  {
   "cell_type": "code",
   "execution_count": 150,
   "metadata": {},
   "outputs": [
    {
     "output_type": "execute_result",
     "data": {
      "text/plain": "a    2\nb    4\ndtype: int64"
     },
     "metadata": {},
     "execution_count": 150
    }
   ],
   "source": [
    "# multiply all values in s3 by 2\n",
    "s1 * 2"
   ]
  },
  {
   "cell_type": "code",
   "execution_count": 151,
   "metadata": {},
   "outputs": [
    {
     "output_type": "execute_result",
     "data": {
      "text/plain": "a    2\nb    2\ndtype: int64"
     },
     "metadata": {},
     "execution_count": 151
    }
   ],
   "source": [
    "# scalar series using s3's index\n",
    "t = pd.Series(2, s1.index)\n",
    "t"
   ]
  },
  {
   "cell_type": "code",
   "execution_count": 152,
   "metadata": {},
   "outputs": [
    {
     "output_type": "execute_result",
     "data": {
      "text/plain": "a    2\nb    4\ndtype: int64"
     },
     "metadata": {},
     "execution_count": 152
    }
   ],
   "source": [
    "# multiply s1 by t\n",
    "s1 * t"
   ]
  },
  {
   "cell_type": "code",
   "execution_count": 153,
   "metadata": {},
   "outputs": [
    {
     "output_type": "execute_result",
     "data": {
      "text/plain": "b    5\nc    6\ndtype: int64"
     },
     "metadata": {},
     "execution_count": 153
    }
   ],
   "source": [
    "# We will add this to s1\n",
    "s3 = pd.Series([5, 6], index = ['b', 'c'])\n",
    "s3"
   ]
  },
  {
   "cell_type": "code",
   "execution_count": 154,
   "metadata": {},
   "outputs": [
    {
     "output_type": "execute_result",
     "data": {
      "text/plain": "a    NaN\nb    7.0\nc    NaN\ndtype: float64"
     },
     "metadata": {},
     "execution_count": 154
    }
   ],
   "source": [
    "# s1 and s3 have different sets of index labels\n",
    "# NaN will result for a and c\n",
    "s1 + s3"
   ]
  },
  {
   "cell_type": "code",
   "execution_count": 155,
   "metadata": {},
   "outputs": [
    {
     "output_type": "execute_result",
     "data": {
      "text/plain": "a    1.0\na    2.0\nb    3.0\ndtype: float64"
     },
     "metadata": {},
     "execution_count": 155
    }
   ],
   "source": [
    "# 2 'a'labels\n",
    "s1 = pd.Series([1.0, 2.0, 3.0], index = ['a', 'a', 'b'])\n",
    "s1"
   ]
  },
  {
   "cell_type": "code",
   "execution_count": 156,
   "metadata": {},
   "outputs": [
    {
     "output_type": "execute_result",
     "data": {
      "text/plain": "a    4.0\na    5.0\nc    6.0\na    7.0\ndtype: float64"
     },
     "metadata": {},
     "execution_count": 156
    }
   ],
   "source": [
    "# 3 a labels\n",
    "s2 = pd.Series([4.0, 5.0, 6.0, 7.0], index = ['a', 'a', 'c', 'a'])\n",
    "s2"
   ]
  },
  {
   "cell_type": "code",
   "execution_count": 157,
   "metadata": {},
   "outputs": [
    {
     "output_type": "execute_result",
     "data": {
      "text/plain": "a    5.0\na    6.0\na    8.0\na    6.0\na    7.0\na    9.0\nb    NaN\nc    NaN\ndtype: float64"
     },
     "metadata": {},
     "execution_count": 157
    }
   ],
   "source": [
    "# will result in 6 'a' index labels, and NaN for b and c\n",
    "# 같은 인덱스일 경우 2a * 3a = 6a \n",
    "s1 + s2"
   ]
  },
  {
   "cell_type": "markdown",
   "metadata": {},
   "source": [
    "## 불리언 선택"
   ]
  },
  {
   "cell_type": "code",
   "execution_count": 158,
   "metadata": {},
   "outputs": [
    {
     "output_type": "execute_result",
     "data": {
      "text/plain": "a    False\nb    False\nc    False\nd     True\ne     True\ndtype: bool"
     },
     "metadata": {},
     "execution_count": 158
    }
   ],
   "source": [
    "# which rows have values that are > 5?\n",
    "s = pd.Series(np.arange(0, 5), index = list('abcde'))\n",
    "logical_results = s >= 3\n",
    "logical_results"
   ]
  },
  {
   "cell_type": "code",
   "execution_count": 159,
   "metadata": {},
   "outputs": [
    {
     "output_type": "execute_result",
     "data": {
      "text/plain": "d    3\ne    4\ndtype: int32"
     },
     "metadata": {},
     "execution_count": 159
    }
   ],
   "source": [
    "# select where True\n",
    "s[logical_results]"
   ]
  },
  {
   "cell_type": "code",
   "execution_count": 160,
   "metadata": {},
   "outputs": [
    {
     "output_type": "execute_result",
     "data": {
      "text/plain": "Series([], dtype: int32)"
     },
     "metadata": {},
     "execution_count": 160
    }
   ],
   "source": [
    "# a little shorter version\n",
    "s[s > 5]"
   ]
  },
  {
   "cell_type": "code",
   "execution_count": 161,
   "metadata": {},
   "outputs": [],
   "source": [
    "# commented as it throw an exception\n",
    "# s[s >= 2 and s < 5] 다중 논리식 불가능"
   ]
  },
  {
   "cell_type": "code",
   "execution_count": 162,
   "metadata": {},
   "outputs": [
    {
     "output_type": "execute_result",
     "data": {
      "text/plain": "c    2\nd    3\ne    4\ndtype: int32"
     },
     "metadata": {},
     "execution_count": 162
    }
   ],
   "source": [
    "# correct syntax\n",
    "s[(s >= 2) & (s < 5)]"
   ]
  },
  {
   "cell_type": "code",
   "execution_count": 163,
   "metadata": {},
   "outputs": [
    {
     "output_type": "execute_result",
     "data": {
      "text/plain": "True"
     },
     "metadata": {},
     "execution_count": 163
    }
   ],
   "source": [
    "# are all items >= 0?\n",
    "(s >= 0 ).all()"
   ]
  },
  {
   "cell_type": "code",
   "execution_count": 164,
   "metadata": {},
   "outputs": [
    {
     "output_type": "execute_result",
     "data": {
      "text/plain": "True"
     },
     "metadata": {},
     "execution_count": 164
    }
   ],
   "source": [
    "# any items < 2?\n",
    "s[s < 2].any()"
   ]
  },
  {
   "cell_type": "code",
   "execution_count": 165,
   "metadata": {},
   "outputs": [
    {
     "output_type": "execute_result",
     "data": {
      "text/plain": "2"
     },
     "metadata": {},
     "execution_count": 165
    }
   ],
   "source": [
    "# how many values < 2?\n",
    "(s < 2).sum()"
   ]
  },
  {
   "cell_type": "code",
   "execution_count": null,
   "metadata": {},
   "outputs": [],
   "source": []
  },
  {
   "cell_type": "code",
   "execution_count": null,
   "metadata": {},
   "outputs": [],
   "source": []
  },
  {
   "cell_type": "code",
   "execution_count": null,
   "metadata": {},
   "outputs": [],
   "source": []
  }
 ]
}