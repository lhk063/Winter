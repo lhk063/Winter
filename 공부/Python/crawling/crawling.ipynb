{
 "metadata": {
  "language_info": {
   "codemirror_mode": {
    "name": "ipython",
    "version": 3
   },
   "file_extension": ".py",
   "mimetype": "text/x-python",
   "name": "python",
   "nbconvert_exporter": "python",
   "pygments_lexer": "ipython3",
   "version": "3.7.6-final"
  },
  "orig_nbformat": 2,
  "kernelspec": {
   "name": "python3",
   "display_name": "Python 3",
   "language": "python"
  }
 },
 "nbformat": 4,
 "nbformat_minor": 2,
 "cells": [
  {
   "source": [
    "### 이미지 경로 주소\n",
    "https://www.python.org/static/img/python-logo.png"
   ],
   "cell_type": "markdown",
   "metadata": {}
  },
  {
   "cell_type": "code",
   "execution_count": 2,
   "metadata": {},
   "outputs": [
    {
     "output_type": "execute_result",
     "data": {
      "text/plain": [
       "<Response [200]>"
      ]
     },
     "metadata": {},
     "execution_count": 2
    }
   ],
   "source": [
    "import requests\n",
    "\n",
    "url = 'https://www.python.org/static/img/python-logo.png'\n",
    "html_image = requests.get(url)\n",
    "html_image\n",
    "# <Response [200]> 성공"
   ]
  },
  {
   "cell_type": "code",
   "execution_count": 3,
   "metadata": {},
   "outputs": [
    {
     "output_type": "execute_result",
     "data": {
      "text/plain": [
       "'python-logo.png'"
      ]
     },
     "metadata": {},
     "execution_count": 3
    }
   ],
   "source": [
    "# filename 추출\n",
    "import os\n",
    "\n",
    "image_filename = os.path.basename(url)\n",
    "image_filename"
   ]
  },
  {
   "cell_type": "code",
   "execution_count": 7,
   "metadata": {},
   "outputs": [],
   "source": [
    "# make folder\n",
    "folder = 'D:\\Git\\Winter\\공부\\Python\\crawling/data'\n",
    "\n",
    "if not os.path.exists(folder): # 폴더 존재유무 true or false\n",
    "    os.makedirs(folder) # make folder"
   ]
  },
  {
   "cell_type": "code",
   "execution_count": 9,
   "metadata": {},
   "outputs": [
    {
     "output_type": "execute_result",
     "data": {
      "text/plain": [
       "'D:\\\\Git\\\\Winter\\\\공부\\\\Python\\\\crawling/data\\\\python-logo.png'"
      ]
     },
     "metadata": {},
     "execution_count": 9
    }
   ],
   "source": [
    "image_path = os.path.join(folder, image_filename)\n",
    "image_path"
   ]
  },
  {
   "cell_type": "code",
   "execution_count": 10,
   "metadata": {},
   "outputs": [],
   "source": [
    "imagefile = open(image_path, 'wb')"
   ]
  },
  {
   "cell_type": "code",
   "execution_count": 11,
   "metadata": {},
   "outputs": [],
   "source": [
    "chunk_size = 100000\n",
    "for chunk in html_image.iter_content(chunk_size):\n",
    "    imagefile.write(chunk)\n",
    "\n",
    "imagefile.close()\n",
    "\n"
   ]
  },
  {
   "cell_type": "code",
   "execution_count": 13,
   "metadata": {},
   "outputs": [
    {
     "output_type": "execute_result",
     "data": {
      "text/plain": [
       "['python-logo.png']"
      ]
     },
     "metadata": {},
     "execution_count": 13
    }
   ],
   "source": [
    "os.listdir(folder)"
   ]
  },
  {
   "cell_type": "code",
   "execution_count": 24,
   "metadata": {},
   "outputs": [
    {
     "output_type": "execute_result",
     "data": {
      "text/plain": [
       "<!DOCTYPE html>\n",
       "<!--[if lt IE 7]> <html class=\"no-js ie6 oldie\" lang=\"en-US\"> <![endif]--><!--[if IE 7]>    <html class=\"no-js ie7 oldie\" lang=\"en-US\"> <![endif]--><!--[if IE 8]>    <html class=\"no-js ie8 oldie\" lang=\"en-US\"> <![endif]--><!--[if gt IE 8]><!--><html class=\"no-js\" lang=\"en-US\"> <!--<![endif]-->\n",
       "<head>\n",
       "<title>Attention Required! | Cloudflare</title>\n",
       "<meta charset=\"utf-8\"/>\n",
       "<meta content=\"text/html; charset=utf-8\" http-equiv=\"Content-Type\"/>\n",
       "<meta content=\"IE=Edge,chrome=1\" http-equiv=\"X-UA-Compatible\"/>\n",
       "<meta content=\"noindex, nofollow\" name=\"robots\"/>\n",
       "<meta content=\"width=device-width,initial-scale=1\" name=\"viewport\"/>\n",
       "<link href=\"/cdn-cgi/styles/cf.errors.css\" id=\"cf_styles-css\" media=\"screen,projection\" rel=\"stylesheet\" type=\"text/css\"/>\n",
       "<!--[if lt IE 9]><link rel=\"stylesheet\" id='cf_styles-ie-css' href=\"/cdn-cgi/styles/cf.errors.ie.css\" type=\"text/css\" media=\"screen,projection\" /><![endif]-->\n",
       "<style type=\"text/css\">body{margin:0;padding:0}</style>\n",
       "<!--[if gte IE 10]><!-->\n",
       "<script>\n",
       "  if (!navigator.cookieEnabled) {\n",
       "    window.addEventListener('DOMContentLoaded', function () {\n",
       "      var cookieEl = document.getElementById('cookie-alert');\n",
       "      cookieEl.style.display = 'block';\n",
       "    })\n",
       "  }\n",
       "</script>\n",
       "<!--<![endif]-->\n",
       "<script type=\"text/javascript\">\n",
       "  //<![CDATA[\n",
       "  (function(){\n",
       "    window._cf_chl_opt={\n",
       "      cvId: \"1\",\n",
       "      cType: \"interactive\",\n",
       "      cNounce: \"78446\",\n",
       "      cRay: \"608d67f20b2ea267\",\n",
       "      cHash: \"3564a59daca6097\",\n",
       "      cFPWv: \"g\",\n",
       "      cRq: {\n",
       "        ru: \"aHR0cHM6Ly9waXhhYmF5LmNvbS9rby9pbWFnZXMvc2VhcmNoLz9jYXQ9YW5pbWFscw==\",\n",
       "        ra: \"cHl0aG9uLXJlcXVlc3RzLzIuMjIuMA==\",\n",
       "        rm: \"R0VU\",\n",
       "        d: \"a7BrXh6VYLxIvgp6lJvcqLiG+w1ECUy+vFDCgAsaSdz7M0Bd4a72gIZ3hNZubmuVN12kn9SgeR3ecr4P5QjYTKYuap9pbnPLcK5X/LzNSgrxngT9sD9EzxX7e0JdId4J5mllMxyzl8lKV+UlbwTccAcZc1A/ekWEEp6Fo4gHmPxMEYiOhqf+rHLpZyrHwx0B81Tp73pdu8pdoj0rHGaFtmx8OnUJQc0LWFXRcNqPOjUgEYi3AO0PiktANWVKRG8bCRpdnHMikEQX85pm76EZDBO9vWLebAqpzBpLQvIO5N5a+dfvmn8vcSLSl+Vu3HDWB2waMlP6lm6dfpsBLjobkwYkE3Db8DBi4NQ22Vmj6F84o3TAUMWX/++UxLZhecRqHEQuz2dIrr0ReG6MTfbfoQoP3ADCHrBV9NJZrXjG2Pvufy7/1aRGueSdNq8YOn2yhnvhk4sNoKf2z/7WK3m/PVmY+0olZCRmY5iNE66Bx5v1R1JWT6Q5JKrkYf40ij2HAk1XAzGZUihCS83YzGko7LYj1ib9k2N+N6NN7H8MLEXqhlF7JvGQG1HhkGBpcwrgVzUKQYrYSwtXVBZYPW28l35FKg6sxmxAypuwwBDAvm7F/u88uP1DW9DKXSwZsxwkBKzQM2nJoKZviWV0ELuf5Cau/CqKOmxM+IccgwQCnxIFHLwGraBCoKYBRLvi24FZO1p+cS6si+hDzOFeI+dJlxetIv3tEJbUQurrldkVM+sSXYJM3CiQKUvob40TqH2qgltGp7Hys7hxW5exXq2k0A==\",\n",
       "        t: \"MTYwOTE4MDc4Ny41MjcwMDA=\",\n",
       "        m: \"UtSFJaPR1suHiBARzlN8RM+DbdCaLiF+IT68qrSntRw=\",\n",
       "        i1: \"bBInWZiUzRzAQQE6rWXGOA==\",\n",
       "        i2: \"5Zl9m1XeKsDdhPQ7jTONGQ==\",\n",
       "        uh: \"JnPNhFrP9JDZz++jrWFNK99fEBZafo8DSm+TpH36hUY=\",\n",
       "        hh: \"9lZ7QacdPX/XIUWg44BYGVRIsqwHE/7A97JjwS5aDEM=\",\n",
       "      }\n",
       "    }\n",
       "    window._cf_chl_enter = function(){window._cf_chl_opt.p=1};\n",
       "    var a = function() {try{return !!window.addEventListener} catch(e) {return !1} },\n",
       "    b = function(b, c) {a() ? document.addEventListener(\"DOMContentLoaded\", b, c) : document.attachEvent(\"onreadystatechange\", b)};\n",
       "    b(function(){\n",
       "      var cookiesEnabled=(navigator.cookieEnabled)? true : false;\n",
       "      var cookieSupportInfix=cookiesEnabled?'/nocookie':'/cookie';\n",
       "      var cpo = document.createElement('script');\n",
       "      cpo.type = 'text/javascript';\n",
       "      cpo.src = \"/cdn-cgi/challenge-platform/h/g/orchestrate/captcha/v1\";\n",
       "      var done = false;\n",
       "      cpo.onload = cpo.onreadystatechange = function() {\n",
       "        if (!done && (!this.readyState || this.readyState === \"loaded\" || this.readyState === \"complete\")) {\n",
       "          done = true;\n",
       "          cpo.onload = cpo.onreadystatechange = null;\n",
       "          window._cf_chl_enter()\n",
       "        }\n",
       "      };\n",
       "      document.getElementsByTagName('head')[0].appendChild(cpo);\n",
       "    }, false);\n",
       "  })();\n",
       "  //]]>\n",
       "</script>\n",
       "<style type=\"text/css\">\n",
       "  #cf-wrapper #spinner {width:69px; margin:  auto;}\n",
       "  #cf-wrapper #cf-please-wait{text-align:center}\n",
       "  .attribution {margin-top: 32px;}\n",
       "  .bubbles { background-color: #f58220; width:20px; height: 20px; margin:2px; border-radius:100%; display:inline-block; }\n",
       "  #cf-wrapper #challenge-form { padding-top:25px; padding-bottom:25px; }\n",
       "  #cf-hcaptcha-container { text-align:center;}\n",
       "  #cf-hcaptcha-container iframe { display: inline-block;}\n",
       "  @keyframes fader     { 0% {opacity: 0.2;} 50% {opacity: 1.0;} 100% {opacity: 0.2;} }\n",
       "  #cf-wrapper #cf-bubbles { width:69px; }\n",
       "  @-webkit-keyframes fader { 0% {opacity: 0.2;} 50% {opacity: 1.0;} 100% {opacity: 0.2;} }\n",
       "  #cf-bubbles > .bubbles { animation: fader 1.6s infinite;}\n",
       "  #cf-bubbles > .bubbles:nth-child(2) { animation-delay: .2s;}\n",
       "  #cf-bubbles > .bubbles:nth-child(3) { animation-delay: .4s;}\n",
       "</style>\n",
       "</head>\n",
       "<body>\n",
       "<div id=\"cf-wrapper\">\n",
       "<div class=\"cf-alert cf-alert-error cf-cookie-error\" data-translate=\"enable_cookies\" id=\"cookie-alert\">Please enable cookies.</div>\n",
       "<div class=\"cf-error-details-wrapper\" id=\"cf-error-details\">\n",
       "<div class=\"cf-wrapper cf-header cf-error-overview\">\n",
       "<h1 data-translate=\"challenge_headline\">One more step</h1>\n",
       "<h2 class=\"cf-subheadline\"><span data-translate=\"complete_sec_check\">Please complete the security check to access</span> pixabay.com</h2>\n",
       "</div><!-- /.header -->\n",
       "<div class=\"cf-section cf-highlight cf-captcha-container\">\n",
       "<div class=\"cf-wrapper\">\n",
       "<div class=\"cf-columns two\">\n",
       "<div class=\"cf-column\">\n",
       "<div class=\"cf-highlight-inverse cf-form-stacked\">\n",
       "<form action=\"/ko/images/search/?cat=animals&amp;__cf_chl_captcha_tk__=736a16dd3c4a040b58a6e1a36e60856cb6c9aa4d-1609180787-0-AdeY0jU1vBgbwfU4vc4RUMfvXNnMy_UJQBlUSgzYy7Ei21vFtdLdDNr2ZKuEaRK6blYGlaEOzaYDHDq5wAjl6uOEHkHKlTwyMw-ptHmvfP8GCTjItfIPuwKovv_v0lDD1ZttOZMuCd5ErcSdvVgxnHLQ9EW11NartK8Ru-h_47OHsh9a8Cp4M8j33sSeUax5nDEFwvFux_KxFxGSowR4tz4nTLVFzqNN1FSkCnr_yB3CiQo2AB5Rk6bYjgYdyYaIRcuTLUmy9_-8vy_Ii4W7no_EBZPUW0zS9TsSIjBtwGRZ5ZBSZlNyOXPildABqWGRkOnC2i4LR4bhqmOkbdXK7eA5I85Ii-0kBfuhIVOlJSZCE-jcJmDb1gpUG8PIzaZSb7_-8P769C-PLw6tfH_6amiXrOYFKGBKyDYVMv4BaQTUtaHwBxi4lBNhB5rbxk9tnZzMI0zf8R5pu5gKB25C3zcYWZoCpEcDCN_OOStQXIIcoQBxz6dJs7IUX43pYB7K0H7D_-ygUKFSzyNtV5WlOEMaIoDimWw4Z8V2ivBZPyr0yu_X5QYLRJKO2k9BBmbw54HCRX8RJeuA2lkOFomQRxFT_e3KJTOlfhuw7AScbrZo-9CyXkW-duq28CDCdp68Jg\" class=\"challenge-form\" enctype=\"application/x-www-form-urlencoded\" id=\"challenge-form\" method=\"POST\">\n",
       "<div id=\"cf-please-wait\">\n",
       "<div id=\"spinner\">\n",
       "<div id=\"cf-bubbles\">\n",
       "<div class=\"bubbles\"></div>\n",
       "<div class=\"bubbles\"></div>\n",
       "<div class=\"bubbles\"></div>\n",
       "</div>\n",
       "</div>\n",
       "<p data-translate=\"please_wait\" id=\"cf-spinner-please-wait\">Please stand by, while we are checking your browser...</p>\n",
       "</div>\n",
       "<input name=\"r\" type=\"hidden\" value=\"e7b13b12e413df768a644515be8bdfffc88dbdd1-1609180787-0-AfF4FtBlTuIAFq258voa4vJ0aJMk+JLAEUCkZqLLPiVMK0jhMCOxzOiFbMkQch3GVFJdkBMqEhtvbOmn96iN+RWSUcvZBGZhOmBTa2KD+89fLp7jYcoGgHfkm3y8Eyd45L/lEbgibC/6oWtGIZ8qnneTx3hc+Rl8tyXxUiUir04ZzpsH4+0MHyUqVGAvrYIYOPp6MC+P8Rqq2xHU923erLGnk0kmkyP4P+/La1QrdGt8iwKNUFzq2OQpSZ9UGLNCeJnI9vOFJBOwTPjuNfk89Lp1RW/aUqyoC5cZiRVX0xj9HVdG6PqWjArSns8q5XRErmf1WYRL6+emG21I4TJ+PA9pi8olfwal8QOHqL3I1aBVscoB9QbLTVIsvtXlwZ60f57ZQNFqUy4o8BmjBQx9LFxctBqPtlYI11dJA9b4pRwng9ykpi67RrlUXAOFmxMumNHmmLf1DIhMSdPK9izMgRQklDvD46vKssgB6ejnzVMG6QGd78AJmNHdPNPw0ripu2ZCePDxCYE8YjYafKbLj8W9yl1Actx6aB0BTH1kaGccUyLmj2EE5DlH8U0WYXinoA5t8Wb6S6ejZsOpiZbUHRvNGDcJNCFBuyToAN64D0tQvwnBx7iOJq2Vrg/gfM29lJ47p4jn2sigpGw7uTt7XQ7D51b6dafIQybTZB9uRnB21MdOqwDXEuf+4ERndF2odYLKCqm5URkW8tKad27JJMm+4wrqgLkzhLvu2+3xTCW9dSIkLHAhRUon7cEZnoQHlBjBu5GCuDIk/mXJcvovWRU2O75mJhlPqtBIa7M075qaoqDHmNw8FSU9T0DnXeQZb0igVjrakiew/HGgvpTMBM8Gfe+YufDOuqqajV5nD694MbZoT6RIAlcTyAvkGdJflixMPBDrtE99M68vUgXFZJ18RVb2eUprjFQyeIZCu1SQTBUcW4kOXVNcAIXUGrcZCNrBDRMLvI0Wn5dJPJS5EUR+PvN0A9Q4nzH4pdQfsF2NjyoosZAQ3VBAu5GFDUTyfaztm0SPM+C3m0XjAFSTgKxqGeZlazyrkkbCi4UrpHpnSVTWRZtqBzN2CH4mOiaiJKIu+kULApmwdZAcRxsk12dcgUSGh3C83TO6JaqBBlxWi0pFfXZXvcadcqI46IurGTbiQUBHrzjz18RSwyySoJP2bPVHITTAEr2/fpFZ4qr7b1CNalGTL5SVHhzi6UctQFqnzmmSiR972ZR1gvtJ9WF5IqtWSvDzPXXNnk1l//5tcJLSfuduQg0UCpiTIELOVuND5g0bgNspWfZDilIfO3vXmLJv9GeyZlFsxI64wFk3emLU8oGFCfb7Dl4i4ITPg9AjeRYH7J6u91lqCJC6Add7w0NZQSUySZhMIjenFwsONw57o0XLnevb1s2kYfRyL9XGEkevoFzj+HpusECwCm0cHmRFi1HCCelJTZx3uWwpjKpaymmtEwNaemsyGzLib8kUKnRR3rdfUgjzKtEH0u1XZqJyyo/OxcgMt2m0Fn7IU5+PNqcC9Ay7xI3S+hyGmcKHrGTLbALa1lFk/ZT+a41wxCi1mhysDpfSsRj3KA+cE+DrD6TusW7CVCvDYAds6vpf9iWPilKRVyEZTfE6RbRIjY1qbsGerz3NlgI+pMo7z2qLWD45TRVZAfLm0rzl30OPsIokvHXFZPDW64vaRDSbGjf/JNymUfWHAKS/wD0TumIbS0jTpT7hmeom5yLpUg==\"/>\n",
       "<input name=\"cf_captcha_kind\" type=\"hidden\" value=\"h\"/>\n",
       "<input name=\"vc\" type=\"hidden\" value=\"b33175a1d173e98afa01e4623bdbbb8f\"/>\n",
       "<noscript class=\"cf-captcha-info\" id=\"cf-captcha-bookmark\">\n",
       "<h1 data-translate=\"turn_on_js\" style=\"color:#bd2426;\">Please turn JavaScript on and reload the page.</h1>\n",
       "</noscript>\n",
       "<div class=\"cookie-warning\" data-translate=\"turn_on_cookies\" id=\"no-cookie-warning\" style=\"display:none\">\n",
       "<p data-translate=\"turn_on_cookies\" style=\"color:#bd2426;\">Please enable Cookies and reload the page.</p>\n",
       "</div>\n",
       "<script type=\"text/javascript\">\n",
       "  //<![CDATA[\n",
       "    var a = function() {try{return !!window.addEventListener} catch(e) {return !1} },\n",
       "      b = function(b, c) {a() ? document.addEventListener(\"DOMContentLoaded\", b, c) : document.attachEvent(\"onreadystatechange\", b)};\n",
       "      b(function(){\n",
       "        var cookiesEnabled=(navigator.cookieEnabled)? true : false;\n",
       "        if(!cookiesEnabled){\n",
       "          var q = document.getElementById('no-cookie-warning');q.style.display = 'block';\n",
       "        }\n",
       "      });\n",
       "  //]]>\n",
       "  </script>\n",
       "<div id=\"trk_captcha_js\" style=\"background-image:url('/cdn-cgi/images/trace/captcha/nojs/h/transparent.gif?ray=608d67f20b2ea267')\"></div>\n",
       "</form>\n",
       "</div>\n",
       "</div>\n",
       "<div class=\"cf-column\">\n",
       "<div class=\"cf-screenshot-container\">\n",
       "<span class=\"cf-no-screenshot\"></span>\n",
       "</div>\n",
       "</div>\n",
       "</div><!-- /.columns -->\n",
       "</div>\n",
       "</div><!-- /.captcha-container -->\n",
       "<div class=\"cf-section cf-wrapper\">\n",
       "<div class=\"cf-columns two\">\n",
       "<div class=\"cf-column\">\n",
       "<h2 data-translate=\"why_captcha_headline\">Why do I have to complete a CAPTCHA?</h2>\n",
       "<p data-translate=\"why_captcha_detail\">Completing the CAPTCHA proves you are a human and gives you temporary access to the web property.</p>\n",
       "</div>\n",
       "<div class=\"cf-column\">\n",
       "<h2 data-translate=\"resolve_captcha_headline\">What can I do to prevent this in the future?</h2>\n",
       "<p data-translate=\"resolve_captcha_antivirus\">If you are on a personal connection, like at home, you can run an anti-virus scan on your device to make sure it is not infected with malware.</p>\n",
       "<p data-translate=\"resolve_captcha_network\">If you are at an office or shared network, you can ask the network administrator to run a scan across the network looking for misconfigured or infected devices.</p>\n",
       "</div>\n",
       "</div>\n",
       "</div><!-- /.section -->\n",
       "<div class=\"cf-error-footer cf-wrapper w-240 lg:w-full py-10 sm:py-4 sm:px-8 mx-auto text-center sm:text-left border-solid border-0 border-t border-gray-300\">\n",
       "<p class=\"text-13\">\n",
       "<span class=\"cf-footer-item sm:block sm:mb-1\">Cloudflare Ray ID: <strong class=\"font-semibold\">608d67f20b2ea267</strong></span>\n",
       "<span class=\"cf-footer-separator sm:hidden\">•</span>\n",
       "<span class=\"cf-footer-item sm:block sm:mb-1\"><span>Your IP</span>: 220.88.181.56</span>\n",
       "<span class=\"cf-footer-separator sm:hidden\">•</span>\n",
       "<span class=\"cf-footer-item sm:block sm:mb-1\"><span>Performance &amp; security by</span> <a href=\"https://www.cloudflare.com/5xx-error-landing\" id=\"brand_link\" rel=\"noopener noreferrer\" target=\"_blank\">Cloudflare</a></span>\n",
       "</p>\n",
       "</div><!-- /.error-footer -->\n",
       "</div><!-- /#cf-error-details -->\n",
       "</div><!-- /#cf-wrapper -->\n",
       "<script type=\"text/javascript\">\n",
       "  window._cf_translation = {};\n",
       "  \n",
       "  \n",
       "</script>\n",
       "</body>\n",
       "</html>"
      ]
     },
     "metadata": {},
     "execution_count": 24
    }
   ],
   "source": [
    "import requests\n",
    "from bs4 import BeautifulSoup\n",
    "\n",
    "url1 = 'https://pixabay.com/ko/images/search/?cat=animals'\n",
    "\n",
    "html_pixabay_image = requests.get(url1).text\n",
    "soup_pixabay_image = BeautifulSoup(html_pixabay_image, \"lxml\")\n",
    "# pixabay_image_elements = soup_pixabay_image.select('img')\n",
    "# pixabay_image_elements[0:3]\n",
    "soup_pixabay_image\n",
    "\n",
    "\n"
   ]
  },
  {
   "cell_type": "code",
   "execution_count": null,
   "metadata": {},
   "outputs": [],
   "source": []
  }
 ]
}