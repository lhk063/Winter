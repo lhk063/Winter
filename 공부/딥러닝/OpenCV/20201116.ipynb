{
 "metadata": {
  "language_info": {
   "codemirror_mode": {
    "name": "ipython",
    "version": 3
   },
   "file_extension": ".py",
   "mimetype": "text/x-python",
   "name": "python",
   "nbconvert_exporter": "python",
   "pygments_lexer": "ipython3",
   "version": "3.7.6-final"
  },
  "orig_nbformat": 2,
  "kernelspec": {
   "name": "gpu",
   "display_name": "GPU"
  }
 },
 "nbformat": 4,
 "nbformat_minor": 2,
 "cells": [
  {
   "source": [
    "### 1강\n",
    "- [Python 예제 코드](https://github.com/sunkyoo/opencv4cvml/tree/master/python)  \n",
    "- [OpenCV Tutorials](https://docs.opencv.org/master/)"
   ],
   "cell_type": "markdown",
   "metadata": {}
  },
  {
   "source": [
    "### 컴퓨터 비전 응용 분야\n",
    "- #### Amazon go"
   ],
   "cell_type": "markdown",
   "metadata": {}
  },
  {
   "source": [
    "그레이스케일 : 0 ~ 255 (밝기 성분)\n",
    "\n",
    "python > numpy.uint8로 표현\n",
    "\n",
    "\n",
    "컬러 영상 : 0 ~ 255 (각각 R, G, B 색상)\n",
    "\n",
    "0 : 해당 색 성분이 전혀 없는 상태 (0, 0, 0 = 검정)\n",
    "255 : 해당 색 성분이 가득 있는 상태 (255, 255, 255 = 흰색)\n",
    "\n",
    "Python > 튜플, numpy.ndarray로 표현\n"
   ],
   "cell_type": "markdown",
   "metadata": {}
  },
  {
   "source": [
    "### 영상 데이터의 크기\n",
    "\n",
    "- #### 최적화 및 알고리즘 효율이 중요하다.\n",
    "- #### 그레이스케일 영상 : (가로크기) * (세로 크기) Bytes\n",
    "    - 512 * 512 = 262144 Bytes\n",
    "\n",
    "- #### 트루컬러 영상 : (가로크기) * (세로 크기) * 3 Bytes\n",
    "    - 1920 * 1080 * 3 = 6220800 Bytes = 6MBytes\n"
   ],
   "cell_type": "markdown",
   "metadata": {}
  },
  {
   "source": [
    "영상 파일 형식 특징\n",
    "\n",
    "- ### BMP\n",
    "    - ##### 픽셀 데이터를 압축하지 않고 그대로 저장(파일 용량이 큰 편)\n",
    "    - ##### 파일 구조가 단순해서 별도의 라이브러리 도움 없이 파일 입출력 프로그래밍 가능\n",
    "- ### JPG\n",
    "    - ##### 주로 사진과 같은 컬러 영상을 저장\n",
    "    - ##### 손실 압축(lossy compression 픽셀 값이 조금씩 바뀐다.)\n",
    "    - ##### 압축률이 좋아서 파일 용량이 크게 감소(디지털 카메라 사진 포맷으로 주로 사용)\n",
    "- ### GIF\n",
    "    - ##### 256 색상 이하의 영상을 저장\n",
    "    - ##### 영상처리에서 주로 사용 x\n",
    "    - ##### 무손실 압축(lossless compression)\n",
    "    - ##### 움직이는 GIF 지원\n",
    "- ### PNG\n",
    "    - ##### Portable Network Graphics\n",
    "    - ##### 무손실 압축(컬러 영상도 무손실)\n",
    "    - ##### 알파 채널(투명도)을 지원"
   ],
   "cell_type": "markdown",
   "metadata": {}
  },
  {
   "cell_type": "code",
   "execution_count": null,
   "metadata": {},
   "outputs": [],
   "source": []
  },
  {
   "cell_type": "code",
   "execution_count": null,
   "metadata": {},
   "outputs": [],
   "source": []
  }
 ]
}