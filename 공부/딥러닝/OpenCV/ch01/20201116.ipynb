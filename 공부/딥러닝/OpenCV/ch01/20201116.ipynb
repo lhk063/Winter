{
 "metadata": {
  "language_info": {
   "codemirror_mode": {
    "name": "ipython",
    "version": 3
   },
   "file_extension": ".py",
   "mimetype": "text/x-python",
   "name": "python",
   "nbconvert_exporter": "python",
   "pygments_lexer": "ipython3",
   "version": "3.7.6-final"
  },
  "orig_nbformat": 2,
  "kernelspec": {
   "name": "gpu",
   "display_name": "GPU"
  }
 },
 "nbformat": 4,
 "nbformat_minor": 2,
 "cells": [
  {
   "source": [
    "### 1강\n",
    "- [Python 예제 코드](https://github.com/sunkyoo/opencv4cvml/tree/master/python)  \n",
    "- [OpenCV Tutorials](https://docs.opencv.org/master/)"
   ],
   "cell_type": "markdown",
   "metadata": {}
  },
  {
   "source": [
    "### 컴퓨터 비전 응용 분야\n",
    "- #### Amazon go"
   ],
   "cell_type": "markdown",
   "metadata": {}
  },
  {
   "source": [
    "그레이스케일 : 0 ~ 255 (밝기 성분)\n",
    "\n",
    "python > numpy.uint8로 표현\n",
    "\n",
    "\n",
    "컬러 영상 : 0 ~ 255 (각각 R, G, B 색상)\n",
    "\n",
    "0 : 해당 색 성분이 전혀 없는 상태 (0, 0, 0 = 검정)\n",
    "255 : 해당 색 성분이 가득 있는 상태 (255, 255, 255 = 흰색)\n",
    "\n",
    "Python > 튜플, numpy.ndarray로 표현\n"
   ],
   "cell_type": "markdown",
   "metadata": {}
  },
  {
   "source": [
    "### 영상 데이터의 크기\n",
    "\n",
    "- #### 최적화 및 알고리즘 효율이 중요하다.\n",
    "- #### 그레이스케일 영상 : (가로크기) * (세로 크기) Bytes\n",
    "    - 512 * 512 = 262144 Bytes\n",
    "\n",
    "- #### 트루컬러 영상 : (가로크기) * (세로 크기) * 3 Bytes\n",
    "    - 1920 * 1080 * 3 = 6220800 Bytes = 6MBytes\n"
   ],
   "cell_type": "markdown",
   "metadata": {}
  },
  {
   "source": [
    "영상 파일 형식 특징\n",
    "\n",
    "- ### BMP\n",
    "    - ##### 픽셀 데이터를 압축하지 않고 그대로 저장(파일 용량이 큰 편)\n",
    "    - ##### 파일 구조가 단순해서 별도의 라이브러리 도움 없이 파일 입출력 프로그래밍 가능\n",
    "- ### JPG\n",
    "    - ##### 주로 사진과 같은 컬러 영상을 저장\n",
    "    - ##### 손실 압축(lossy compression 픽셀 값이 조금씩 바뀐다.)\n",
    "    - ##### 압축률이 좋아서 파일 용량이 크게 감소(디지털 카메라 사진 포맷으로 주로 사용)\n",
    "- ### GIF\n",
    "    - ##### 256 색상 이하의 영상을 저장\n",
    "    - ##### 영상처리에서 주로 사용 x\n",
    "    - ##### 무손실 압축(lossless compression)\n",
    "    - ##### 움직이는 GIF 지원\n",
    "- ### PNG\n",
    "    - ##### Portable Network Graphics\n",
    "    - ##### 무손실 압축(컬러 영상도 무손실)\n",
    "    - ##### 알파 채널(투명도)을 지원"
   ],
   "cell_type": "markdown",
   "metadata": {}
  },
  {
   "source": [
    "### OpenCV\n",
    "- Open source\n",
    "- (https://opencv.org/)\n",
    "- OpenCV 함수 설명\n",
    "    - (https://docs.opencv.org/master/)\n",
    "- OpenCV 질답 포럼\n",
    "    - (https://answers.opencv.org/questions/)\n",
    "- Main Modules\n",
    "    - (https://github.com/opencv/opencv)\n",
    "- Extra Modules\n",
    "    - (https://github.com/opencv/opencv_contrib/)"
   ],
   "cell_type": "markdown",
   "metadata": {}
  },
  {
   "cell_type": "code",
   "execution_count": 4,
   "metadata": {},
   "outputs": [
    {
     "output_type": "stream",
     "name": "stdout",
     "text": [
      "Collecting opencv-python\n  Downloading opencv_python-4.4.0.46-cp37-cp37m-win_amd64.whl (33.5 MB)\nRequirement already satisfied: numpy>=1.14.5 in c:\\users\\pc\\anaconda3\\envs\\gpu\\lib\\site-packages (from opencv-python) (1.18.5)\nInstalling collected packages: opencv-python\nSuccessfully installed opencv-python-4.4.0.46\n"
     ]
    }
   ],
   "source": [
    "# OpenCV install\n",
    "!pip install opencv-python\n"
   ]
  },
  {
   "cell_type": "code",
   "execution_count": 1,
   "metadata": {},
   "outputs": [],
   "source": [
    "import cv2 as cv\n",
    "import sys"
   ]
  },
  {
   "cell_type": "code",
   "execution_count": 2,
   "metadata": {},
   "outputs": [
    {
     "output_type": "stream",
     "name": "stdout",
     "text": [
      "Hello, OpenCV 4.4.0\n"
     ]
    }
   ],
   "source": [
    "print('Hello, OpenCV', cv.__version__)"
   ]
  },
  {
   "cell_type": "code",
   "execution_count": 3,
   "metadata": {},
   "outputs": [],
   "source": [
    "img = cv.imread('cat.bmp')"
   ]
  },
  {
   "cell_type": "code",
   "execution_count": 12,
   "metadata": {},
   "outputs": [],
   "source": [
    "# grayscale 변환 출력\n",
    "img = cv.imread('cat.bmp', cv.IMREAD_GRAYSCALE)"
   ]
  },
  {
   "cell_type": "code",
   "execution_count": null,
   "metadata": {},
   "outputs": [],
   "source": [
    "# 영상 파일 속성 그대로 읽기 (투명한 PNG 파일)\n",
    "img = cv.imread('cat.bmp', cv.IMREAD_UNCHANGED)"
   ]
  },
  {
   "cell_type": "code",
   "execution_count": 15,
   "metadata": {},
   "outputs": [],
   "source": [
    "# 예외처리 코드\n",
    "if img is None:\n",
    "    print('Image load failed!')\n",
    "    sys.exit()\n",
    "\n",
    "# 영상 저장하기\n",
    "cv.imwrite('cat_gray.png', img)\n",
    "\n",
    "# window 창 생성\n",
    "# defalut = WINDOW_AUTOSIZE\n",
    "cv.namedWindow('image')\n",
    "# cv.namedWindow('image', cv.WINDOW_NORMAL) # 창을 마우스로 resize 가능\n",
    "\n",
    "\n",
    "# 창에 image 를 보여준다 \n",
    "cv.imshow('image', img)\n",
    "\n",
    "\n",
    "# 키보드 입력을 기다리고 영상을 보여주게 해준다 필수\n",
    "# 27(ESC), 13(ENTER), 9(TAB)\n",
    "while True:\n",
    "    if cv.waitKey() == 27:\n",
    "        break\n",
    "# while True:\n",
    "#     if cv.waitKey() == ord('q'):\n",
    "#         break\n",
    "\n",
    "\n",
    "# 아무키나 누르면 모든 창을 닫는다.\n",
    "cv.destroyAllWindows()\n"
   ]
  },
  {
   "cell_type": "code",
   "execution_count": null,
   "metadata": {},
   "outputs": [],
   "source": []
  }
 ]
}