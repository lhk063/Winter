{
 "metadata": {
  "language_info": {
   "codemirror_mode": {
    "name": "ipython",
    "version": 3
   },
   "file_extension": ".py",
   "mimetype": "text/x-python",
   "name": "python",
   "nbconvert_exporter": "python",
   "pygments_lexer": "ipython3",
   "version": "3.7.6-final"
  },
  "orig_nbformat": 2,
  "kernelspec": {
   "name": "tf2.0-gpu",
   "display_name": "tf-gpu"
  }
 },
 "nbformat": 4,
 "nbformat_minor": 2,
 "cells": [
  {
   "cell_type": "code",
   "execution_count": 3,
   "metadata": {},
   "outputs": [],
   "source": [
    "import cv2 as cv\n",
    "import sys\n",
    "import matplotlib.pyplot as plt"
   ]
  },
  {
   "source": [
    "| OpenCV 자료형(1채널) | Numpy 자료형 | 구분 |\n",
    "|:----------|:----------:|----------:|\n",
    "| cv2.CV_8U | numpy.uint8 | 8비트 부호없는 정수 |\n",
    "| cv2.CV_8S | numpy.int8 | 8비트 부호있는 정수 |\n",
    "| cv2.CV_16U | numpy.uint16 | 16비트 부호없는 정수 |\n",
    "| cv2.CV_16S | numpy.int16 | 16비트 부호있는 정수 |\n",
    "| cv2.CV_32S | numpy.int32 | 32비트 부호있는 정수 |\n",
    "| cv2.CV_16F | numpy.float16 | 16비트 부동소수형 |\n",
    "| cv2.CV_32F | numpy.float32 | 32비트 부동소수형 |\n",
    "| cv2.CV_64F | numpy.float64 | 64비트 부동소수형 |\n",
    "\n",
    "그레이스케일 영상 : cv2.CV_8UC1 > numpy.uint8, shape = (h, w)  \n",
    "컬러 영상 : cv2.CV_8UC3 > numpy.uint8, shape = (h, w, 3)"
   ],
   "cell_type": "markdown",
   "metadata": {}
  },
  {
   "source": [
    "visual studio 파일 탐색기 Sort Order defalut > type change file type "
   ],
   "cell_type": "markdown",
   "metadata": {}
  },
  {
   "cell_type": "code",
   "execution_count": 5,
   "metadata": {},
   "outputs": [
    {
     "output_type": "stream",
     "name": "stdout",
     "text": [
      "type(img1): <class 'numpy.ndarray'>\nimg1.shape: (480, 640)\nimg2.shape: (480, 640, 3)\nimg1.dtype: uint8\nimg2 size: 640 x 480\nimg1 is a grayscale image\n"
     ]
    }
   ],
   "source": [
    "# 영상 불러오기\n",
    "img1 = cv.imread('cat.bmp', cv.IMREAD_GRAYSCALE)\n",
    "img2 = cv.imread('cat.bmp', cv.IMREAD_COLOR)\n",
    "\n",
    "if img1 is None or img2 is None:\n",
    "    print('Image load failed!')\n",
    "    sys.exit()\n",
    "\n",
    "# 영상의 속성 참조\n",
    "print('type(img1):', type(img1))\n",
    "print('img1.shape:', img1.shape)\n",
    "print('img2.shape:', img2.shape)\n",
    "print('img1.dtype:', img1.dtype)\n",
    "print('img2.dtype:', img2.dtype)\n",
    "\n",
    "# if img1.ndim == 2:\n",
    "#     print('img1 is a grayscale image')\n",
    "\n",
    "# 영상의 크기 참조\n",
    "h, w = img2.shape[:2]\n",
    "print('img2 size: {} x {}'.format(w, h))\n",
    "\n",
    "if len(img1.shape) == 2:\n",
    "    print('img1 is a grayscale image')\n",
    "elif len(img1.shape) == 3:\n",
    "    print('img1 is a truecolor image')\n",
    "\n",
    "cv.imshow('img1', img1)\n",
    "cv.imshow('img2', img2)\n",
    "cv.waitKey()\n",
    "\n",
    "# 영상의 픽셀 값 참조\n",
    "\n",
    "x = 20\n",
    "y = 10\n",
    "p1 = img1[y, x]\n",
    "print(p1)\n",
    "\n",
    "# 픽셀 값 색상 변경 \n",
    "\n",
    "'''\n",
    "# 2중 포문 비추천 굉장히 비효율적\n",
    "for y in range(h):\n",
    "    for x in range(w):\n",
    "        img1[y, x] = 255\n",
    "        img2[y, x] = (0, 0, 255)\n",
    "'''       \n",
    "# img1[:,:] = 255\n",
    "# img2[:,:] = (0, 0, 255)\n",
    "\n",
    "cv.imshow('img1', img1)\n",
    "cv.imshow('img2', img2)\n",
    "cv.waitKey()\n",
    "\n",
    "cv.destroyAllWindows()"
   ]
  },
  {
   "cell_type": "code",
   "execution_count": null,
   "metadata": {},
   "outputs": [],
   "source": []
  },
  {
   "cell_type": "code",
   "execution_count": 9,
   "metadata": {},
   "outputs": [],
   "source": [
    "import numpy as np\n",
    "import cv2\n",
    "\n",
    "\n",
    "# 새 영상 생성하기\n",
    "img1 = np.empty((240, 320), dtype= np.uint8)       # grayscale image\n",
    "img2 = np.zeros((240, 320, 3), dtype= np.uint8)    # color image\n",
    "img3 = np.ones((240, 320, 3), dtype= np.uint8)     # dark gray\n",
    "# img3 = np.ones((240, 320), dtype= np.uint8) * 255  # white\n",
    "# img4 = np.full((240, 320, 3), 128, dtype= np.uint8)  # gray\n",
    "img4 = np.full((240, 320, 3), (0, 255, 255), dtype= np.uint8)  # yellow\n",
    "\n",
    "cv2.imshow('img1', img1)\n",
    "cv2.imshow('img2', img2)\n",
    "cv2.imshow('img3', img3)\n",
    "cv2.imshow('img4', img4)\n",
    "cv2.waitKey()\n",
    "cv2.destroyAllWindows()"
   ]
  },
  {
   "cell_type": "code",
   "execution_count": 12,
   "metadata": {},
   "outputs": [],
   "source": [
    "# 영상 복사\n",
    "img1 = cv2.imread('HappyFish.jpg')\n",
    "\n",
    "img2 = img1 # img2는 img1과 같은 데이터를 공유하기에 조심해야 한다.\n",
    "img3 = img1.copy() # 복사해서 사용해야 한다.\n",
    "\n",
    "img1.fill(255)\n",
    "\n",
    "cv2.imshow('img1', img1)\n",
    "cv2.imshow('img2', img2)\n",
    "cv2.imshow('img3', img3)\n",
    "cv2.waitKey()\n",
    "cv2.destroyAllWindows()\n",
    "\n"
   ]
  },
  {
   "cell_type": "code",
   "execution_count": 13,
   "metadata": {},
   "outputs": [],
   "source": [
    "# 부분 영상 추출\n",
    "img1 = cv2.imread('HappyFish.jpg')\n",
    "\n",
    "img2 = img1[40:120, 30:150]  # numpy.ndarray의 슬라이싱\n",
    "img3 = img1[40:120, 30:150].copy()\n",
    "\n",
    "img2.fill(0)\n",
    "\n",
    "cv2.imshow('img1', img1)\n",
    "cv2.imshow('img2', img2)\n",
    "cv2.imshow('img3', img3)\n",
    "cv2.waitKey()\n",
    "cv2.destroyAllWindows()"
   ]
  },
  {
   "source": [
    "## 마스크 연산과 ROI\n",
    "### ROI : Region of Interest 관심 영역"
   ],
   "cell_type": "markdown",
   "metadata": {}
  },
  {
   "cell_type": "code",
   "execution_count": 14,
   "metadata": {},
   "outputs": [],
   "source": [
    "import sys\n",
    "import cv2\n",
    "\n",
    "\n",
    "# 마스크 영상을 이용한 영상 합성\n",
    "src = cv2.imread('airplane.bmp', cv2.IMREAD_COLOR)\n",
    "mask = cv2.imread('mask_plane.bmp', cv2.IMREAD_GRAYSCALE)\n",
    "dst = cv2.imread('field.bmp', cv2.IMREAD_COLOR)\n",
    "\n",
    "if src is None or mask is None or dst is None:\n",
    "    print('Image load failed!')\n",
    "    sys.exit()\n",
    "\n",
    "# copyTo\n",
    "# 영상의 크기가 전부 같아야 한다\n",
    "# 입력영상(src)과 출력영상(dst)의 컬러가 같아야한다\n",
    "cv2.copyTo(src, mask, dst)\n",
    "# dst[mask > 0] = src[mask > 0]\n",
    "\n",
    "cv2.imshow('src', src)\n",
    "cv2.imshow('dst', dst)\n",
    "cv2.imshow('mask', mask)\n",
    "cv2.waitKey()\n",
    "cv2.destroyAllWindows()\n",
    "\n",
    "\n"
   ]
  },
  {
   "cell_type": "code",
   "execution_count": 15,
   "metadata": {},
   "outputs": [],
   "source": [
    "# 알파 채널을 마스크 영상으로 이용\n",
    "src = cv2.imread('cat.bmp', cv2.IMREAD_COLOR)\n",
    "logo = cv2.imread('opencv-logo-white.png', cv2.IMREAD_UNCHANGED)\n",
    "\n",
    "if src is None or logo is None:\n",
    "    print('Image load failed!')\n",
    "    sys.exit()\n",
    "\n",
    "mask = logo[:, :, 3]    # mask는 알파 채널로 만든 마스크 영상\n",
    "logo = logo[:, :, :-1]  # logo는 b, g, r 3채널로 구성된 컬러 영상\n",
    "h, w = mask.shape[:2]\n",
    "crop = src[10:10+h, 10:10+w]  # logo, mask와 같은 크기의 부분 영상 추출\n",
    "\n",
    "cv2.copyTo(logo, mask, crop)\n",
    "#crop[mask > 0] = logo[mask > 0]\n",
    "\n",
    "cv2.imshow('src', src)\n",
    "cv2.imshow('logo', logo)\n",
    "cv2.imshow('mask', mask)\n",
    "cv2.waitKey()\n",
    "cv2.destroyAllWindows()"
   ]
  },
  {
   "source": [
    "## OpenCV 그리기 함수\n",
    "\n",
    "### 직선 그리기\n",
    "- #### cv2.line(img, pt1, pt2, color, thickness = None, lineType = None, shift = None)\n",
    "    - img : 그림을 그릴 영상\n",
    "    - pt1, pt2 : 직선의 시작점과 끝점\n",
    "    - color : 선 색상 또는 밝기 (B, G, R)튜플 또는 정수값\n",
    "    - thickness : 선 두께 (default = 1)\n",
    "    - lineType : 선 타입 cv2.LINE_4, cv2.LINE_8, cv2.LINE_AA 중 선택(default = cv2.LINE_8)\n",
    "    - shift : 그리기 좌표 값의 축소 비율 (default = 0)"
   ],
   "cell_type": "markdown",
   "metadata": {}
  },
  {
   "cell_type": "code",
   "execution_count": 16,
   "metadata": {},
   "outputs": [],
   "source": [
    "import numpy as np\n",
    "import cv2\n",
    "\n",
    "img = np.full((400, 400, 3), 255, np.uint8)\n",
    "\n",
    "cv2.line(img, (50, 50), (200, 50), (0, 0, 255), 5)\n",
    "cv2.line(img, (50, 60), (150, 160), (0, 0, 128))\n",
    "\n",
    "cv2.rectangle(img, (50, 200, 150, 100), (0, 255, 0), 2)\n",
    "cv2.rectangle(img, (70, 220), (180, 280), (0, 128, 0), -1)\n",
    "\n",
    "cv2.circle(img, (300, 100), 30, (255, 255, 0), -1, cv2.LINE_AA)\n",
    "cv2.circle(img, (300, 100), 60, (255, 0, 0), 3, cv2.LINE_AA)\n",
    "\n",
    "pts = np.array([[250, 200], [300, 200], [350, 300], [250, 300]])\n",
    "cv2.polylines(img, [pts], True, (255, 0, 255), 2)\n",
    "\n",
    "text = 'Hello? OpenCV ' + cv2.__version__\n",
    "cv2.putText(img, text, (50, 350), cv2.FONT_HERSHEY_SIMPLEX, 0.8, \n",
    "            (0, 0, 255), 1, cv2.LINE_AA)\n",
    "\n",
    "cv2.imshow(\"img\", img)\n",
    "cv2.waitKey()\n",
    "cv2.destroyAllWindows() "
   ]
  },
  {
   "cell_type": "code",
   "execution_count": null,
   "metadata": {},
   "outputs": [],
   "source": []
  }
 ]
}