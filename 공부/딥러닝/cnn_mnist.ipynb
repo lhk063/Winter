{
 "metadata": {
  "language_info": {
   "codemirror_mode": {
    "name": "ipython",
    "version": 3
   },
   "file_extension": ".py",
   "mimetype": "text/x-python",
   "name": "python",
   "nbconvert_exporter": "python",
   "pygments_lexer": "ipython3",
   "version": "3.7.6-final"
  },
  "orig_nbformat": 2,
  "kernelspec": {
   "name": "python_defaultSpec_1598689153394",
   "display_name": "Python 3.7.6 64-bit ('base': conda)"
  }
 },
 "nbformat": 4,
 "nbformat_minor": 2,
 "cells": [
  {
   "cell_type": "code",
   "execution_count": 1,
   "metadata": {},
   "outputs": [],
   "source": [
    "import tensorflow as tf\n",
    "from tensorflow.keras import datasets, layers, models, optimizers"
   ]
  },
  {
   "cell_type": "code",
   "execution_count": 2,
   "metadata": {},
   "outputs": [],
   "source": [
    "(X_train, y_train), (X_test, y_test) = datasets.mnist.load_data()"
   ]
  },
  {
   "cell_type": "code",
   "execution_count": 3,
   "metadata": {},
   "outputs": [],
   "source": [
    "# 크기 조정\n",
    "X_train = X_train.reshape((60000, 28, 28, 1))\n",
    "X_test = X_test.reshape((10000, 28, 28, 1))"
   ]
  },
  {
   "cell_type": "code",
   "execution_count": 4,
   "metadata": {},
   "outputs": [],
   "source": [
    "# 정규화\n",
    "X_train, X_test = X_train / 255, X_test / 255"
   ]
  },
  {
   "cell_type": "code",
   "execution_count": 5,
   "metadata": {},
   "outputs": [],
   "source": [
    "# 형식 변환\n",
    "X_train = X_train.astype('float32')\n",
    "X_test = X_test.astype('float32')"
   ]
  },
  {
   "cell_type": "code",
   "execution_count": 6,
   "metadata": {},
   "outputs": [],
   "source": [
    "y_train = tf.keras.utils.to_categorical(y_train, 10)\n",
    "y_test = tf.keras.utils.to_categorical(y_test, 10)"
   ]
  },
  {
   "cell_type": "code",
   "execution_count": 7,
   "metadata": {},
   "outputs": [
    {
     "output_type": "execute_result",
     "data": {
      "text/plain": "array([[0., 0., 0., ..., 0., 0., 0.],\n       [1., 0., 0., ..., 0., 0., 0.],\n       [0., 0., 0., ..., 0., 0., 0.],\n       ...,\n       [0., 0., 0., ..., 0., 0., 0.],\n       [0., 0., 0., ..., 0., 0., 0.],\n       [0., 0., 0., ..., 0., 1., 0.]], dtype=float32)"
     },
     "metadata": {},
     "execution_count": 7
    }
   ],
   "source": [
    "y_train"
   ]
  },
  {
   "cell_type": "code",
   "execution_count": 11,
   "metadata": {},
   "outputs": [],
   "source": [
    "OPTIMIZER = tf.keras.optimizers.Adam()\n",
    "EPOCHS = 5\n",
    "BATCH_SIZE = 128\n",
    "VERBOSE = 1\n",
    "VALIDATION_SPLIT = 0.95\n",
    "\n",
    "IMG_ROWS, IMG_COLS = 28,28\n",
    "INPUT_SHAPE = (IMG_ROWS, IMG_COLS, 1)\n",
    "NB_CLASSES = 10"
   ]
  },
  {
   "cell_type": "code",
   "execution_count": 21,
   "metadata": {},
   "outputs": [],
   "source": [
    "def build(input_shape, classes):\n",
    "    model = models.Sequential()\n",
    "    model.add(layers.Convolution2D(20, (5, 5), activation = 'relu', input_shape = input_shape))\n",
    "    model.add(layers.MaxPooling2D(pool_size = (2, 2), strides = (2, 2)))\n",
    "    model.add(layers.Convolution2D(50, (5, 5), activation = 'relu'))\n",
    "    model.add(layers.MaxPooling2D(pool_size = (2, 2), strides = (2, 2)))\n",
    "    model.add(layers.Flatten())\n",
    "    model.add(layers.Dense(500, activation = 'relu'))\n",
    "    model.add(layers.Dense(classes, activation = 'softmax'))\n",
    "    \n",
    "    return model\n"
   ]
  },
  {
   "cell_type": "code",
   "execution_count": 8,
   "metadata": {},
   "outputs": [],
   "source": []
  },
  {
   "cell_type": "code",
   "execution_count": 22,
   "metadata": {},
   "outputs": [],
   "source": [
    "OPTIMIZER = tf.keras.optimizers.Adam()\n",
    "model = build(input_shape = (28, 28, 1), classes = 10)\n"
   ]
  },
  {
   "cell_type": "code",
   "execution_count": 24,
   "metadata": {
    "tags": []
   },
   "outputs": [
    {
     "output_type": "stream",
     "name": "stdout",
     "text": "Model: \"sequential_1\"\n_________________________________________________________________\nLayer (type)                 Output Shape              Param #   \n=================================================================\nconv2d (Conv2D)              (None, 24, 24, 20)        520       \n_________________________________________________________________\nmax_pooling2d (MaxPooling2D) (None, 12, 12, 20)        0         \n_________________________________________________________________\nconv2d_1 (Conv2D)            (None, 8, 8, 50)          25050     \n_________________________________________________________________\nmax_pooling2d_1 (MaxPooling2 (None, 4, 4, 50)          0         \n_________________________________________________________________\nflatten (Flatten)            (None, 800)               0         \n_________________________________________________________________\ndense (Dense)                (None, 500)               400500    \n_________________________________________________________________\ndense_1 (Dense)              (None, 10)                5010      \n=================================================================\nTotal params: 431,080\nTrainable params: 431,080\nNon-trainable params: 0\n_________________________________________________________________\n"
    }
   ],
   "source": [
    "model.compile(optimizer = OPTIMIZER, loss = 'categorical_crossentropy', metrics = [\"accuracy\"])\n",
    "model.summary()"
   ]
  },
  {
   "cell_type": "code",
   "execution_count": 26,
   "metadata": {},
   "outputs": [],
   "source": [
    "callbacks = [tf.keras.callbacks.TensorBoard(log_dir = './logs')]"
   ]
  },
  {
   "cell_type": "code",
   "execution_count": 27,
   "metadata": {
    "tags": []
   },
   "outputs": [
    {
     "output_type": "stream",
     "name": "stdout",
     "text": "Epoch 1/5\n 2/24 [=>............................] - ETA: 2s - loss: 2.2821 - accuracy: 0.1680WARNING:tensorflow:Method (on_train_batch_end) is slow compared to the batch update (0.119680). Check your callbacks.\n24/24 [==============================] - 4s 187ms/step - loss: 1.2215 - accuracy: 0.6663 - val_loss: 0.4616 - val_accuracy: 0.8603\nEpoch 2/5\n24/24 [==============================] - 4s 168ms/step - loss: 0.3734 - accuracy: 0.8843 - val_loss: 0.3079 - val_accuracy: 0.9041\nEpoch 3/5\n24/24 [==============================] - 4s 167ms/step - loss: 0.2291 - accuracy: 0.9340 - val_loss: 0.2442 - val_accuracy: 0.9239\nEpoch 4/5\n24/24 [==============================] - 4s 162ms/step - loss: 0.1790 - accuracy: 0.9483 - val_loss: 0.2138 - val_accuracy: 0.9334\nEpoch 5/5\n24/24 [==============================] - 4s 155ms/step - loss: 0.1347 - accuracy: 0.9610 - val_loss: 0.1562 - val_accuracy: 0.9515\n313/313 [==============================] - 1s 2ms/step - loss: 0.1322 - accuracy: 0.9580\n\nTest score: 0.1321888118982315\nTest accuracy 0.9580000042915344\n"
    }
   ],
   "source": [
    "history = model.fit(X_train, y_train,\n",
    "                    batch_size = BATCH_SIZE,\n",
    "                    epochs = 5,\n",
    "                    verbose = 1,\n",
    "                    validation_split = 0.95,\n",
    "                    callbacks = callbacks)\n",
    "\n",
    "score = model.evaluate(X_test, y_test, verbose = 1)\n",
    "print(\"\\nTest score:\", score[0])\n",
    "print('Test accuracy', score[1])"
   ]
  },
  {
   "cell_type": "code",
   "execution_count": null,
   "metadata": {},
   "outputs": [],
   "source": []
  }
 ]
}