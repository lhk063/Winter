{
 "metadata": {
  "language_info": {
   "codemirror_mode": {
    "name": "ipython",
    "version": 3
   },
   "file_extension": ".py",
   "mimetype": "text/x-python",
   "name": "python",
   "nbconvert_exporter": "python",
   "pygments_lexer": "ipython3",
   "version": "3.7.6-final"
  },
  "orig_nbformat": 2,
  "kernelspec": {
   "name": "python_defaultSpec_1600861673018",
   "display_name": "Python 3.7.6 64-bit ('base': conda)"
  }
 },
 "nbformat": 4,
 "nbformat_minor": 2,
 "cells": [
  {
   "source": [
    "## 이미지 슬라이드쇼\n",
    "- ### 이미지 슬라이드쇼\n",
    "    - ##### 특정 폴더에 있는 모든 이미지 파일을 이용하여 슬라이드쇼를 수행\n",
    "\n",
    "- ### 구현 할 기능\n",
    "    - ##### 특정 폴더에 있는 이미지 파일 목록 읽기\n",
    "    - ##### 이미지를 전체 화면으로 출력하기\n",
    "    - ##### 일정 시간동안 이미지를 화면에 출력하고, 다음 이미지로 교체하기 (무한루프)\n"
   ],
   "cell_type": "markdown",
   "metadata": {}
  },
  {
   "source": [
    "### 특정 폴더에 있는 이미지 파일(*.jpg)목록 읽기\n",
    "- ##### os.listdir()\n",
    "\n",
    "import os  \n",
    "\n",
    "file_list = os.listdir('.\\\\images')  \n",
    "img_files = [file for file in file_list if file.endswith('.jpg')]  \n",
    "\n",
    "- ##### glob.glob()\n",
    "\n",
    "import glob  \n",
    "img_files = glob.glob('.\\\\images\\\\*.jpg')\n",
    "\n"
   ],
   "cell_type": "markdown",
   "metadata": {}
  },
  {
   "cell_type": "code",
   "execution_count": 4,
   "metadata": {
    "tags": []
   },
   "outputs": [
    {
     "output_type": "stream",
     "name": "stdout",
     "text": ".\\images\\autumn_forest_park_128379_1920x1080.jpg\n.\\images\\boat_mountains_lake_135258_1920x1080.jpg\n.\\images\\forest_fog_trees_128751_1920x1080.jpg\n.\\images\\pier_dock_sea_dusk_shore_118549_1920x1080.jpg\n.\\images\\road_marking_evening_clouds_horizon_120298_1920x1080.jpg\n"
    }
   ],
   "source": [
    "import os\n",
    "import sys\n",
    "import glob\n",
    "import cv2 as cv\n",
    "\n",
    "img_files = glob.glob('.\\\\images\\\\*.jpg')\n",
    "\n",
    "if not img_files:\n",
    "    print(\"There are no jpg files in 'images' folder\")\n",
    "    sys.exit()\n",
    "\n",
    "for image in img_files:\n",
    "    print(image)\n",
    "\n",
    "# 전체 화면 영상 출력 창 만들기\n",
    "\n",
    "cv.namedWindow('image', cv.WINDOW_NORMAL)\n",
    "cv.setWindowProperty('image', cv.WND_PROP_FULLSCREEN, cv.WINDOW_FULLSCREEN)\n",
    "\n",
    "\n",
    "# 무한 루프 생성\n",
    "\n",
    "cnt = len(img_files)\n",
    "idx = 0\n",
    "while True:\n",
    "    img = cv.imread(img_files[idx])\n",
    "    \n",
    "    # 이미지가 없을 시 예외 처리 코드\n",
    "    if img is None:\n",
    "\n",
    "        print('Image load failed!')\n",
    "        break\n",
    "\n",
    "    # 이미지 출력 & 정지 설정\n",
    "    cv.imshow('image', img)\n",
    "\n",
    "    if cv.waitKey(1000) == 27: # 1초 / ESC\n",
    "        break\n",
    "\n",
    "    idx += 1\n",
    "    if idx >= cnt:\n",
    "        idx = 0\n",
    "\n",
    "cv.destroyAllWindows()\n"
   ]
  },
  {
   "cell_type": "code",
   "execution_count": null,
   "metadata": {},
   "outputs": [],
   "source": []
  }
 ]
}