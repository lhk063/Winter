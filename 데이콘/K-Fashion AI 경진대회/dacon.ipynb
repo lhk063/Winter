{
 "metadata": {
  "language_info": {
   "codemirror_mode": {
    "name": "ipython",
    "version": 3
   },
   "file_extension": ".py",
   "mimetype": "text/x-python",
   "name": "python",
   "nbconvert_exporter": "python",
   "pygments_lexer": "ipython3",
   "version": "3.7.6-final"
  },
  "orig_nbformat": 2,
  "kernelspec": {
   "name": "tf2.0-gpu",
   "display_name": "tf-gpu"
  }
 },
 "nbformat": 4,
 "nbformat_minor": 2,
 "cells": [
  {
   "source": [
    "### 분할 이미지 데이터 모으기"
   ],
   "cell_type": "markdown",
   "metadata": {}
  },
  {
   "cell_type": "code",
   "execution_count": 1,
   "metadata": {},
   "outputs": [],
   "source": [
    "# !pip install tqdm\n",
    "from shutil import copyfile\n",
    "from glob import glob\n",
    "from tqdm import tqdm\n",
    "import os"
   ]
  },
  {
   "cell_type": "code",
   "execution_count": 2,
   "metadata": {},
   "outputs": [],
   "source": [
    "def movefiles(filepath, movepath):\n",
    "    copyfile(filepath, movepath)"
   ]
  },
  {
   "cell_type": "code",
   "execution_count": 3,
   "metadata": {},
   "outputs": [],
   "source": [
    "train_paths = glob(os.path.join('data', 'train', '*', '*.jpg'))\n",
    "test_paths = glob(os.path.join('data', 'test', '*', '*.jpg'))"
   ]
  },
  {
   "cell_type": "code",
   "execution_count": 4,
   "metadata": {},
   "outputs": [
    {
     "output_type": "execute_result",
     "data": {
      "text/plain": [
       "(95454, 8000)"
      ]
     },
     "metadata": {},
     "execution_count": 4
    }
   ],
   "source": [
    "len(train_paths), len(test_paths)"
   ]
  },
  {
   "cell_type": "code",
   "execution_count": 5,
   "metadata": {},
   "outputs": [],
   "source": [
    "train_rename = ['data\\\\train_all\\\\' + train_path.split('\\\\')[-1] for train_path in train_paths]\n",
    "test_rename = ['data\\\\test_all\\\\' + test_path.split('\\\\')[-1] for test_path in test_paths]"
   ]
  },
  {
   "cell_type": "code",
   "execution_count": 6,
   "metadata": {},
   "outputs": [
    {
     "output_type": "execute_result",
     "data": {
      "text/plain": [
       "(95454, 8000)"
      ]
     },
     "metadata": {},
     "execution_count": 6
    }
   ],
   "source": [
    "len(train_rename), len(test_rename)"
   ]
  },
  {
   "cell_type": "code",
   "execution_count": 7,
   "metadata": {},
   "outputs": [
    {
     "output_type": "stream",
     "name": "stdout",
     "text": [
      "data\\train\\0\\0017qu55dk.jpg data\\train_all\\0017qu55dk.jpg\n"
     ]
    }
   ],
   "source": [
    "print(train_paths[0], train_rename[0])"
   ]
  },
  {
   "cell_type": "code",
   "execution_count": 8,
   "metadata": {},
   "outputs": [
    {
     "output_type": "stream",
     "name": "stderr",
     "text": [
      "100%|██████████| 95454/95454 [24:18<00:00, 65.43it/s]\n"
     ]
    }
   ],
   "source": [
    "for i in tqdm(range(len(train_paths))):\n",
    "    copyfile(train_paths[i], train_rename[i])\n"
   ]
  },
  {
   "cell_type": "code",
   "execution_count": 9,
   "metadata": {},
   "outputs": [
    {
     "output_type": "stream",
     "name": "stderr",
     "text": [
      "100%|██████████| 8000/8000 [01:04<00:00, 124.80it/s]\n"
     ]
    }
   ],
   "source": [
    "for i in tqdm(range(len(test_paths))):\n",
    "    copyfile(test_paths[i], test_rename[i])"
   ]
  },
  {
   "source": [
    "## Using Colab\n",
    "##### - 통합 이미지 데이터 구글 업로드 및 압축 풀기"
   ],
   "cell_type": "markdown",
   "metadata": {}
  },
  {
   "cell_type": "code",
   "execution_count": null,
   "metadata": {},
   "outputs": [],
   "source": [
    "import pandas as pd\n",
    "import numpy as np"
   ]
  },
  {
   "cell_type": "code",
   "execution_count": 1,
   "metadata": {},
   "outputs": [],
   "source": [
    "# !unzip /content/drive/\"My Drive\"/Dacon/train_all.zip -d /content/drive/\"My Drive\"/Dacon/train/\n",
    "# !unzip /content/drive/\"My Drive\"/Dacon/test_all.zip -d /content/drive/\"My Drive\"/Dacon/test/"
   ]
  },
  {
   "cell_type": "code",
   "execution_count": null,
   "metadata": {},
   "outputs": [],
   "source": [
    "train_csv = '/content/drive/My Drive/Dacon/train.csv'\n",
    "sample_sub_csv = '/content/drive/My Drive/Dacon/sample_submission.csv'"
   ]
  },
  {
   "cell_type": "code",
   "execution_count": null,
   "metadata": {},
   "outputs": [],
   "source": [
    "train = pd.read_csv(train_csv)\n",
    "sample = pd.read_csv(sample_sub_csv)"
   ]
  },
  {
   "cell_type": "code",
   "execution_count": null,
   "metadata": {},
   "outputs": [],
   "source": [
    "# CategoryId No.11 = Leggings 존재 X\n",
    "# train['CategoryId'].value_counts()"
   ]
  }
 ]
}