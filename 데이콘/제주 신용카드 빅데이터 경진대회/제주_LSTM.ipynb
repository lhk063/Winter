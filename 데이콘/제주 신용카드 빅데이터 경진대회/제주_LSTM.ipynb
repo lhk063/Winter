{
 "cells": [
  {
   "cell_type": "markdown",
   "metadata": {},
   "source": [
    "- **접근방식  **\n",
    ">**학습 데이터를 한달뒤를 예측하는 모형으로 학습.**  \n",
    ">**예측한 4월과 실제 4월과의 차이를 비교하며 학습한다.**\n",
    "\n",
    "- 예시\n",
    "\n",
    "\n",
    ">- 학습데이터(xtrain)) : 2019.01 - 2020.02\n",
    ">- 학습데이터(ytrain) : 2020.03\n",
    ">- 예측데이터(predict) : 2019.02 - 2020.03 예측 > 2020.04\n",
    ">- 비교데이터(Target) : 2020.04  \n",
    "\n",
    "\n"
   ]
  },
  {
   "cell_type": "markdown",
   "metadata": {},
   "source": [
    "# 데이터 불러오기"
   ]
  },
  {
   "cell_type": "code",
   "execution_count": 1,
   "metadata": {},
   "outputs": [
    {
     "output_type": "error",
     "ename": "FileNotFoundError",
     "evalue": "[Errno 2] File data/date.csv does not exist: 'data/date.csv'",
     "traceback": [
      "\u001b[1;31m---------------------------------------------------------------------------\u001b[0m",
      "\u001b[1;31mFileNotFoundError\u001b[0m                         Traceback (most recent call last)",
      "\u001b[1;32m<ipython-input-1-f8f0bb476062>\u001b[0m in \u001b[0;36m<module>\u001b[1;34m\u001b[0m\n\u001b[0;32m      2\u001b[0m \u001b[1;32mimport\u001b[0m \u001b[0mnumpy\u001b[0m \u001b[1;32mas\u001b[0m \u001b[0mnp\u001b[0m\u001b[1;33m\u001b[0m\u001b[1;33m\u001b[0m\u001b[0m\n\u001b[0;32m      3\u001b[0m \u001b[0mpd\u001b[0m\u001b[1;33m.\u001b[0m\u001b[0moptions\u001b[0m\u001b[1;33m.\u001b[0m\u001b[0mdisplay\u001b[0m\u001b[1;33m.\u001b[0m\u001b[0mfloat_format\u001b[0m \u001b[1;33m=\u001b[0m \u001b[1;34m'{}'\u001b[0m\u001b[1;33m.\u001b[0m\u001b[0mformat\u001b[0m\u001b[1;33m\u001b[0m\u001b[1;33m\u001b[0m\u001b[0m\n\u001b[1;32m----> 4\u001b[1;33m \u001b[0mDacon\u001b[0m \u001b[1;33m=\u001b[0m \u001b[0mpd\u001b[0m\u001b[1;33m.\u001b[0m\u001b[0mread_csv\u001b[0m\u001b[1;33m(\u001b[0m\u001b[1;34m'data/date.csv'\u001b[0m\u001b[1;33m)\u001b[0m\u001b[1;33m\u001b[0m\u001b[1;33m\u001b[0m\u001b[0m\n\u001b[0m\u001b[0;32m      5\u001b[0m \u001b[0mDacon_April\u001b[0m \u001b[1;33m=\u001b[0m \u001b[0mpd\u001b[0m\u001b[1;33m.\u001b[0m\u001b[0mread_csv\u001b[0m\u001b[1;33m(\u001b[0m\u001b[1;34m'data/202004.csv'\u001b[0m\u001b[1;33m)\u001b[0m\u001b[1;33m\u001b[0m\u001b[1;33m\u001b[0m\u001b[0m\n\u001b[0;32m      6\u001b[0m \u001b[0mDacon\u001b[0m\u001b[1;33m\u001b[0m\u001b[1;33m\u001b[0m\u001b[0m\n",
      "\u001b[1;32m~\\anaconda3\\lib\\site-packages\\pandas\\io\\parsers.py\u001b[0m in \u001b[0;36mparser_f\u001b[1;34m(filepath_or_buffer, sep, delimiter, header, names, index_col, usecols, squeeze, prefix, mangle_dupe_cols, dtype, engine, converters, true_values, false_values, skipinitialspace, skiprows, skipfooter, nrows, na_values, keep_default_na, na_filter, verbose, skip_blank_lines, parse_dates, infer_datetime_format, keep_date_col, date_parser, dayfirst, cache_dates, iterator, chunksize, compression, thousands, decimal, lineterminator, quotechar, quoting, doublequote, escapechar, comment, encoding, dialect, error_bad_lines, warn_bad_lines, delim_whitespace, low_memory, memory_map, float_precision)\u001b[0m\n\u001b[0;32m    674\u001b[0m         )\n\u001b[0;32m    675\u001b[0m \u001b[1;33m\u001b[0m\u001b[0m\n\u001b[1;32m--> 676\u001b[1;33m         \u001b[1;32mreturn\u001b[0m \u001b[0m_read\u001b[0m\u001b[1;33m(\u001b[0m\u001b[0mfilepath_or_buffer\u001b[0m\u001b[1;33m,\u001b[0m \u001b[0mkwds\u001b[0m\u001b[1;33m)\u001b[0m\u001b[1;33m\u001b[0m\u001b[1;33m\u001b[0m\u001b[0m\n\u001b[0m\u001b[0;32m    677\u001b[0m \u001b[1;33m\u001b[0m\u001b[0m\n\u001b[0;32m    678\u001b[0m     \u001b[0mparser_f\u001b[0m\u001b[1;33m.\u001b[0m\u001b[0m__name__\u001b[0m \u001b[1;33m=\u001b[0m \u001b[0mname\u001b[0m\u001b[1;33m\u001b[0m\u001b[1;33m\u001b[0m\u001b[0m\n",
      "\u001b[1;32m~\\anaconda3\\lib\\site-packages\\pandas\\io\\parsers.py\u001b[0m in \u001b[0;36m_read\u001b[1;34m(filepath_or_buffer, kwds)\u001b[0m\n\u001b[0;32m    446\u001b[0m \u001b[1;33m\u001b[0m\u001b[0m\n\u001b[0;32m    447\u001b[0m     \u001b[1;31m# Create the parser.\u001b[0m\u001b[1;33m\u001b[0m\u001b[1;33m\u001b[0m\u001b[1;33m\u001b[0m\u001b[0m\n\u001b[1;32m--> 448\u001b[1;33m     \u001b[0mparser\u001b[0m \u001b[1;33m=\u001b[0m \u001b[0mTextFileReader\u001b[0m\u001b[1;33m(\u001b[0m\u001b[0mfp_or_buf\u001b[0m\u001b[1;33m,\u001b[0m \u001b[1;33m**\u001b[0m\u001b[0mkwds\u001b[0m\u001b[1;33m)\u001b[0m\u001b[1;33m\u001b[0m\u001b[1;33m\u001b[0m\u001b[0m\n\u001b[0m\u001b[0;32m    449\u001b[0m \u001b[1;33m\u001b[0m\u001b[0m\n\u001b[0;32m    450\u001b[0m     \u001b[1;32mif\u001b[0m \u001b[0mchunksize\u001b[0m \u001b[1;32mor\u001b[0m \u001b[0miterator\u001b[0m\u001b[1;33m:\u001b[0m\u001b[1;33m\u001b[0m\u001b[1;33m\u001b[0m\u001b[0m\n",
      "\u001b[1;32m~\\anaconda3\\lib\\site-packages\\pandas\\io\\parsers.py\u001b[0m in \u001b[0;36m__init__\u001b[1;34m(self, f, engine, **kwds)\u001b[0m\n\u001b[0;32m    878\u001b[0m             \u001b[0mself\u001b[0m\u001b[1;33m.\u001b[0m\u001b[0moptions\u001b[0m\u001b[1;33m[\u001b[0m\u001b[1;34m\"has_index_names\"\u001b[0m\u001b[1;33m]\u001b[0m \u001b[1;33m=\u001b[0m \u001b[0mkwds\u001b[0m\u001b[1;33m[\u001b[0m\u001b[1;34m\"has_index_names\"\u001b[0m\u001b[1;33m]\u001b[0m\u001b[1;33m\u001b[0m\u001b[1;33m\u001b[0m\u001b[0m\n\u001b[0;32m    879\u001b[0m \u001b[1;33m\u001b[0m\u001b[0m\n\u001b[1;32m--> 880\u001b[1;33m         \u001b[0mself\u001b[0m\u001b[1;33m.\u001b[0m\u001b[0m_make_engine\u001b[0m\u001b[1;33m(\u001b[0m\u001b[0mself\u001b[0m\u001b[1;33m.\u001b[0m\u001b[0mengine\u001b[0m\u001b[1;33m)\u001b[0m\u001b[1;33m\u001b[0m\u001b[1;33m\u001b[0m\u001b[0m\n\u001b[0m\u001b[0;32m    881\u001b[0m \u001b[1;33m\u001b[0m\u001b[0m\n\u001b[0;32m    882\u001b[0m     \u001b[1;32mdef\u001b[0m \u001b[0mclose\u001b[0m\u001b[1;33m(\u001b[0m\u001b[0mself\u001b[0m\u001b[1;33m)\u001b[0m\u001b[1;33m:\u001b[0m\u001b[1;33m\u001b[0m\u001b[1;33m\u001b[0m\u001b[0m\n",
      "\u001b[1;32m~\\anaconda3\\lib\\site-packages\\pandas\\io\\parsers.py\u001b[0m in \u001b[0;36m_make_engine\u001b[1;34m(self, engine)\u001b[0m\n\u001b[0;32m   1112\u001b[0m     \u001b[1;32mdef\u001b[0m \u001b[0m_make_engine\u001b[0m\u001b[1;33m(\u001b[0m\u001b[0mself\u001b[0m\u001b[1;33m,\u001b[0m \u001b[0mengine\u001b[0m\u001b[1;33m=\u001b[0m\u001b[1;34m\"c\"\u001b[0m\u001b[1;33m)\u001b[0m\u001b[1;33m:\u001b[0m\u001b[1;33m\u001b[0m\u001b[1;33m\u001b[0m\u001b[0m\n\u001b[0;32m   1113\u001b[0m         \u001b[1;32mif\u001b[0m \u001b[0mengine\u001b[0m \u001b[1;33m==\u001b[0m \u001b[1;34m\"c\"\u001b[0m\u001b[1;33m:\u001b[0m\u001b[1;33m\u001b[0m\u001b[1;33m\u001b[0m\u001b[0m\n\u001b[1;32m-> 1114\u001b[1;33m             \u001b[0mself\u001b[0m\u001b[1;33m.\u001b[0m\u001b[0m_engine\u001b[0m \u001b[1;33m=\u001b[0m \u001b[0mCParserWrapper\u001b[0m\u001b[1;33m(\u001b[0m\u001b[0mself\u001b[0m\u001b[1;33m.\u001b[0m\u001b[0mf\u001b[0m\u001b[1;33m,\u001b[0m \u001b[1;33m**\u001b[0m\u001b[0mself\u001b[0m\u001b[1;33m.\u001b[0m\u001b[0moptions\u001b[0m\u001b[1;33m)\u001b[0m\u001b[1;33m\u001b[0m\u001b[1;33m\u001b[0m\u001b[0m\n\u001b[0m\u001b[0;32m   1115\u001b[0m         \u001b[1;32melse\u001b[0m\u001b[1;33m:\u001b[0m\u001b[1;33m\u001b[0m\u001b[1;33m\u001b[0m\u001b[0m\n\u001b[0;32m   1116\u001b[0m             \u001b[1;32mif\u001b[0m \u001b[0mengine\u001b[0m \u001b[1;33m==\u001b[0m \u001b[1;34m\"python\"\u001b[0m\u001b[1;33m:\u001b[0m\u001b[1;33m\u001b[0m\u001b[1;33m\u001b[0m\u001b[0m\n",
      "\u001b[1;32m~\\anaconda3\\lib\\site-packages\\pandas\\io\\parsers.py\u001b[0m in \u001b[0;36m__init__\u001b[1;34m(self, src, **kwds)\u001b[0m\n\u001b[0;32m   1889\u001b[0m         \u001b[0mkwds\u001b[0m\u001b[1;33m[\u001b[0m\u001b[1;34m\"usecols\"\u001b[0m\u001b[1;33m]\u001b[0m \u001b[1;33m=\u001b[0m \u001b[0mself\u001b[0m\u001b[1;33m.\u001b[0m\u001b[0musecols\u001b[0m\u001b[1;33m\u001b[0m\u001b[1;33m\u001b[0m\u001b[0m\n\u001b[0;32m   1890\u001b[0m \u001b[1;33m\u001b[0m\u001b[0m\n\u001b[1;32m-> 1891\u001b[1;33m         \u001b[0mself\u001b[0m\u001b[1;33m.\u001b[0m\u001b[0m_reader\u001b[0m \u001b[1;33m=\u001b[0m \u001b[0mparsers\u001b[0m\u001b[1;33m.\u001b[0m\u001b[0mTextReader\u001b[0m\u001b[1;33m(\u001b[0m\u001b[0msrc\u001b[0m\u001b[1;33m,\u001b[0m \u001b[1;33m**\u001b[0m\u001b[0mkwds\u001b[0m\u001b[1;33m)\u001b[0m\u001b[1;33m\u001b[0m\u001b[1;33m\u001b[0m\u001b[0m\n\u001b[0m\u001b[0;32m   1892\u001b[0m         \u001b[0mself\u001b[0m\u001b[1;33m.\u001b[0m\u001b[0munnamed_cols\u001b[0m \u001b[1;33m=\u001b[0m \u001b[0mself\u001b[0m\u001b[1;33m.\u001b[0m\u001b[0m_reader\u001b[0m\u001b[1;33m.\u001b[0m\u001b[0munnamed_cols\u001b[0m\u001b[1;33m\u001b[0m\u001b[1;33m\u001b[0m\u001b[0m\n\u001b[0;32m   1893\u001b[0m \u001b[1;33m\u001b[0m\u001b[0m\n",
      "\u001b[1;32mpandas\\_libs\\parsers.pyx\u001b[0m in \u001b[0;36mpandas._libs.parsers.TextReader.__cinit__\u001b[1;34m()\u001b[0m\n",
      "\u001b[1;32mpandas\\_libs\\parsers.pyx\u001b[0m in \u001b[0;36mpandas._libs.parsers.TextReader._setup_parser_source\u001b[1;34m()\u001b[0m\n",
      "\u001b[1;31mFileNotFoundError\u001b[0m: [Errno 2] File data/date.csv does not exist: 'data/date.csv'"
     ]
    }
   ],
   "source": [
    "import pandas as pd\n",
    "import numpy as np\n",
    "pd.options.display.float_format = '{}'.format\n",
    "Dacon = pd.read_csv('data/date.csv')\n",
    "Dacon_April = pd.read_csv('data/202004.csv')\n",
    "Dacon"
   ]
  },
  {
   "cell_type": "markdown",
   "metadata": {},
   "source": [
    "## 결측값 확인 및 변환\n",
    "\n",
    "- **결측값 확인을 하였더니 세종 특별 자치시이기 떄문에 시군구가 없다.  **\n",
    "- **NULL => 세종으로 대체**"
   ]
  },
  {
   "cell_type": "code",
   "execution_count": 3,
   "metadata": {
    "tags": []
   },
   "outputs": [
    {
     "output_type": "stream",
     "name": "stdout",
     "text": "<class 'pandas.core.frame.DataFrame'>\nRangeIndex: 24697792 entries, 0 to 24697791\nData columns (total 12 columns):\nREG_YYMM        24697792 non-null int64\nCARD_SIDO_NM    24697792 non-null object\nCARD_CCG_NM     24697792 non-null object\nSTD_CLSS_NM     24697792 non-null object\nHOM_SIDO_NM     24697792 non-null object\nHOM_CCG_NM      24697792 non-null object\nAGE             24697792 non-null object\nSEX_CTGO_CD     24697792 non-null int64\nFLC             24697792 non-null int64\nCSTMR_CNT       24697792 non-null int64\nAMT             24697792 non-null int64\nCNT             24697792 non-null int64\ndtypes: int64(6), object(6)\nmemory usage: 2.2+ GB\nNone\n<class 'pandas.core.frame.DataFrame'>\nRangeIndex: 1350322 entries, 0 to 1350321\nData columns (total 12 columns):\nREG_YYMM        1350322 non-null int64\nCARD_SIDO_NM    1350322 non-null object\nCARD_CCG_NM     1350322 non-null object\nSTD_CLSS_NM     1350322 non-null object\nHOM_SIDO_NM     1350322 non-null object\nHOM_CCG_NM      1350322 non-null object\nAGE             1350322 non-null object\nSEX_CTGO_CD     1350322 non-null int64\nFLC             1350322 non-null int64\nCSTMR_CNT       1350322 non-null int64\nAMT             1350322 non-null int64\nCNT             1350322 non-null int64\ndtypes: int64(6), object(6)\nmemory usage: 123.6+ MB\nNone\n"
    }
   ],
   "source": [
    "# 결측값 '세종' 대체\n",
    "Dacon['CARD_CCG_NM'] = Dacon['CARD_CCG_NM'].fillna('세종')\n",
    "Dacon['HOM_CCG_NM'] = Dacon['HOM_CCG_NM'].fillna('세종')\n",
    "Dacon_April['CARD_CCG_NM'] = Dacon_April['CARD_CCG_NM'].fillna('세종')\n",
    "Dacon_April['HOM_CCG_NM'] = Dacon_April['HOM_CCG_NM'].fillna('세종')\n",
    "print(Dacon.info(null_counts = True))\n",
    "print(Dacon_April.info(null_counts = True))\n"
   ]
  },
  {
   "cell_type": "code",
   "execution_count": 31,
   "metadata": {},
   "outputs": [
    {
     "output_type": "execute_result",
     "data": {
      "text/plain": "<pandas.io.formats.style.Styler at 0x12040a62648>",
      "text/html": "<style  type=\"text/css\" >\n    #T_fadff7f4_e352_11ea_bfed_7085c222c5a1row0_col0 {\n            background-color:  #fcfdbf;\n            color:  #000000;\n        }    #T_fadff7f4_e352_11ea_bfed_7085c222c5a1row1_col0 {\n            background-color:  #febf84;\n            color:  #000000;\n        }    #T_fadff7f4_e352_11ea_bfed_7085c222c5a1row2_col0 {\n            background-color:  #fd9668;\n            color:  #000000;\n        }    #T_fadff7f4_e352_11ea_bfed_7085c222c5a1row3_col0 {\n            background-color:  #060518;\n            color:  #f1f1f1;\n        }    #T_fadff7f4_e352_11ea_bfed_7085c222c5a1row4_col0 {\n            background-color:  #010106;\n            color:  #f1f1f1;\n        }    #T_fadff7f4_e352_11ea_bfed_7085c222c5a1row5_col0 {\n            background-color:  #000004;\n            color:  #f1f1f1;\n        }</style><table id=\"T_fadff7f4_e352_11ea_bfed_7085c222c5a1\" ><thead>    <tr>        <th class=\"blank level0\" ></th>        <th class=\"col_heading level0 col0\" >AMT</th>    </tr></thead><tbody>\n                <tr>\n                        <th id=\"T_fadff7f4_e352_11ea_bfed_7085c222c5a1level0_row0\" class=\"row_heading level0 row0\" >AMT</th>\n                        <td id=\"T_fadff7f4_e352_11ea_bfed_7085c222c5a1row0_col0\" class=\"data row0 col0\" >1</td>\n            </tr>\n            <tr>\n                        <th id=\"T_fadff7f4_e352_11ea_bfed_7085c222c5a1level0_row1\" class=\"row_heading level0 row1\" >CSTMR_CNT</th>\n                        <td id=\"T_fadff7f4_e352_11ea_bfed_7085c222c5a1row1_col0\" class=\"data row1 col0\" >0.866339</td>\n            </tr>\n            <tr>\n                        <th id=\"T_fadff7f4_e352_11ea_bfed_7085c222c5a1level0_row2\" class=\"row_heading level0 row2\" >CNT</th>\n                        <td id=\"T_fadff7f4_e352_11ea_bfed_7085c222c5a1row2_col0\" class=\"data row2 col0\" >0.778102</td>\n            </tr>\n            <tr>\n                        <th id=\"T_fadff7f4_e352_11ea_bfed_7085c222c5a1level0_row3\" class=\"row_heading level0 row3\" >FLC</th>\n                        <td id=\"T_fadff7f4_e352_11ea_bfed_7085c222c5a1row3_col0\" class=\"data row3 col0\" >0.041099</td>\n            </tr>\n            <tr>\n                        <th id=\"T_fadff7f4_e352_11ea_bfed_7085c222c5a1level0_row4\" class=\"row_heading level0 row4\" >REG_YYMM</th>\n                        <td id=\"T_fadff7f4_e352_11ea_bfed_7085c222c5a1row4_col0\" class=\"data row4 col0\" >0.00316692</td>\n            </tr>\n            <tr>\n                        <th id=\"T_fadff7f4_e352_11ea_bfed_7085c222c5a1level0_row5\" class=\"row_heading level0 row5\" >SEX_CTGO_CD</th>\n                        <td id=\"T_fadff7f4_e352_11ea_bfed_7085c222c5a1row5_col0\" class=\"data row5 col0\" >-0.00542405</td>\n            </tr>\n    </tbody></table>"
     },
     "metadata": {},
     "execution_count": 31
    }
   ],
   "source": [
    "corr = Dacon.corr()\n",
    "corr_trsc = corr.AMT.sort_values(ascending=False).to_frame()\n",
    "corr_trsc.style.background_gradient(cmap='magma')"
   ]
  },
  {
   "cell_type": "code",
   "execution_count": null,
   "metadata": {},
   "outputs": [],
   "source": [
    "DashBoard = Dacon.groupby(['REG_YYMM', 'STD_CLSS_NM', 'CARD_SIDO_NM', 'AGE', 'SEX_CTGO_CD', 'FLC'])['CSTMR_CNT', 'AMT', 'CNT'].sum()\n",
    "DashBoard = DashBoard.reset_index()\n",
    "DashBoard.to_excel('DashBoard.xlsx', index = False)"
   ]
  },
  {
   "cell_type": "code",
   "execution_count": 54,
   "metadata": {},
   "outputs": [
    {
     "output_type": "execute_result",
     "data": {
      "text/plain": "        REG_YYMM STD_CLSS_NM CARD_SIDO_NM  AGE  SEX_CTGO_CD  FLC  CSTMR_CNT  \\\n0         201901  건강보조식품 소매업           강원  20s            1    1          4   \n1         201901  건강보조식품 소매업           강원  30s            1    2         44   \n2         201901  건강보조식품 소매업           강원  30s            2    2         89   \n3         201901  건강보조식품 소매업           강원  40s            1    2          3   \n4         201901  건강보조식품 소매업           강원  40s            1    3         53   \n...          ...         ...          ...  ...          ...  ...        ...   \n197596    202003    휴양콘도 운영업           충북  40s            1    4          9   \n197597    202003    휴양콘도 운영업           충북  50s            1    4         19   \n197598    202003    휴양콘도 운영업           충북  50s            2    4          4   \n197599    202003    휴양콘도 운영업           충북  60s            1    5          6   \n197600    202003    휴양콘도 운영업           충북  60s            2    5          9   \n\n            AMT  CNT  \n0        311200    4  \n1       5169295   45  \n2       8618550   91  \n3        454420    3  \n4       6441165   60  \n...         ...  ...  \n197596   385700   10  \n197597  2084350   31  \n197598    99000    6  \n197599   228800    6  \n197600  1119000   13  \n\n[197601 rows x 9 columns]",
      "text/html": "<div>\n<style scoped>\n    .dataframe tbody tr th:only-of-type {\n        vertical-align: middle;\n    }\n\n    .dataframe tbody tr th {\n        vertical-align: top;\n    }\n\n    .dataframe thead th {\n        text-align: right;\n    }\n</style>\n<table border=\"1\" class=\"dataframe\">\n  <thead>\n    <tr style=\"text-align: right;\">\n      <th></th>\n      <th>REG_YYMM</th>\n      <th>STD_CLSS_NM</th>\n      <th>CARD_SIDO_NM</th>\n      <th>AGE</th>\n      <th>SEX_CTGO_CD</th>\n      <th>FLC</th>\n      <th>CSTMR_CNT</th>\n      <th>AMT</th>\n      <th>CNT</th>\n    </tr>\n  </thead>\n  <tbody>\n    <tr>\n      <th>0</th>\n      <td>201901</td>\n      <td>건강보조식품 소매업</td>\n      <td>강원</td>\n      <td>20s</td>\n      <td>1</td>\n      <td>1</td>\n      <td>4</td>\n      <td>311200</td>\n      <td>4</td>\n    </tr>\n    <tr>\n      <th>1</th>\n      <td>201901</td>\n      <td>건강보조식품 소매업</td>\n      <td>강원</td>\n      <td>30s</td>\n      <td>1</td>\n      <td>2</td>\n      <td>44</td>\n      <td>5169295</td>\n      <td>45</td>\n    </tr>\n    <tr>\n      <th>2</th>\n      <td>201901</td>\n      <td>건강보조식품 소매업</td>\n      <td>강원</td>\n      <td>30s</td>\n      <td>2</td>\n      <td>2</td>\n      <td>89</td>\n      <td>8618550</td>\n      <td>91</td>\n    </tr>\n    <tr>\n      <th>3</th>\n      <td>201901</td>\n      <td>건강보조식품 소매업</td>\n      <td>강원</td>\n      <td>40s</td>\n      <td>1</td>\n      <td>2</td>\n      <td>3</td>\n      <td>454420</td>\n      <td>3</td>\n    </tr>\n    <tr>\n      <th>4</th>\n      <td>201901</td>\n      <td>건강보조식품 소매업</td>\n      <td>강원</td>\n      <td>40s</td>\n      <td>1</td>\n      <td>3</td>\n      <td>53</td>\n      <td>6441165</td>\n      <td>60</td>\n    </tr>\n    <tr>\n      <th>...</th>\n      <td>...</td>\n      <td>...</td>\n      <td>...</td>\n      <td>...</td>\n      <td>...</td>\n      <td>...</td>\n      <td>...</td>\n      <td>...</td>\n      <td>...</td>\n    </tr>\n    <tr>\n      <th>197596</th>\n      <td>202003</td>\n      <td>휴양콘도 운영업</td>\n      <td>충북</td>\n      <td>40s</td>\n      <td>1</td>\n      <td>4</td>\n      <td>9</td>\n      <td>385700</td>\n      <td>10</td>\n    </tr>\n    <tr>\n      <th>197597</th>\n      <td>202003</td>\n      <td>휴양콘도 운영업</td>\n      <td>충북</td>\n      <td>50s</td>\n      <td>1</td>\n      <td>4</td>\n      <td>19</td>\n      <td>2084350</td>\n      <td>31</td>\n    </tr>\n    <tr>\n      <th>197598</th>\n      <td>202003</td>\n      <td>휴양콘도 운영업</td>\n      <td>충북</td>\n      <td>50s</td>\n      <td>2</td>\n      <td>4</td>\n      <td>4</td>\n      <td>99000</td>\n      <td>6</td>\n    </tr>\n    <tr>\n      <th>197599</th>\n      <td>202003</td>\n      <td>휴양콘도 운영업</td>\n      <td>충북</td>\n      <td>60s</td>\n      <td>1</td>\n      <td>5</td>\n      <td>6</td>\n      <td>228800</td>\n      <td>6</td>\n    </tr>\n    <tr>\n      <th>197600</th>\n      <td>202003</td>\n      <td>휴양콘도 운영업</td>\n      <td>충북</td>\n      <td>60s</td>\n      <td>2</td>\n      <td>5</td>\n      <td>9</td>\n      <td>1119000</td>\n      <td>13</td>\n    </tr>\n  </tbody>\n</table>\n<p>197601 rows × 9 columns</p>\n</div>"
     },
     "metadata": {},
     "execution_count": 54
    }
   ],
   "source": [
    "DashBoard"
   ]
  },
  {
   "cell_type": "code",
   "execution_count": 4,
   "metadata": {},
   "outputs": [],
   "source": [
    "def 학습데이터(df, column):\n",
    "    \n",
    "    import sys\n",
    "    mod = sys.modules[__name__]\n",
    "\n",
    "    for state in df.CARD_SIDO_NM.unique():\n",
    "        \n",
    "        지역업종 = pd.DataFrame(sorted(df['STD_CLSS_NM'].unique()),columns=['STD_CLSS_NM']) # 업종기준으로 빈 데이터프레임 생성\n",
    "        state_data = df[df.CARD_SIDO_NM == state]\n",
    "        시 = pd.DataFrame(list(state_data.CARD_SIDO_NM[0:41]),columns=['CARD_SIDO_NM'])  # 시 빈 데이터프레임생성      \n",
    "        \n",
    "        for month in df.REG_YYMM.unique():\n",
    "            month_data = state_data[state_data.REG_YYMM == month]\n",
    "            month_data = month_data.groupby('STD_CLSS_NM')[column].sum().reset_index()\n",
    "            month_data = month_data.rename(columns={column : month})\n",
    "            지역업종 = pd.merge(지역업종, month_data, how = 'left', on = ['STD_CLSS_NM']).fillna(0)\n",
    "            월별지역업종 = 시.join(지역업종)\n",
    "    \n",
    "        setattr(mod, '{}'.format(state), 월별지역업종) #state(시)의 이름으로 월별업종 데이터프레임을 각각 변수지정\n",
    "        print('{} 데이터 프레임 저장 완료'.format(state))\n",
    "\n",
    "    print('학습 데이터 생성')\n",
    "    xtrain = pd.concat([강원, 경기, 경남, 경북, 광주, 대구, 대전, 부산, 서울, 세종, 울산, 인천, 전남, 전북, 제주, 충남, 충북])\n",
    "    print('-- COMPLETE --')\n",
    "    return xtrain\n",
    "\n",
    "\n",
    "def April_Target(df, column):\n",
    "    \n",
    "    import sys\n",
    "    mod = sys.modules[__name__]\n",
    "\n",
    "    for state in df.CARD_SIDO_NM.unique():\n",
    "        \n",
    "        지역업종 = pd.DataFrame(sorted(df['STD_CLSS_NM'].unique()),columns=['STD_CLSS_NM']) # 업종기준으로 빈 데이터프레임 생성\n",
    "        state_data = df[df.CARD_SIDO_NM == state]\n",
    "        시 = pd.DataFrame(list(state_data.CARD_SIDO_NM[0:41]),columns=['CARD_SIDO_NM'])  # 시 빈 데이터프레임생성      \n",
    "        \n",
    "        month_data = state_data.groupby('STD_CLSS_NM')[column].sum().reset_index()\n",
    "        month_data = month_data.rename(columns={column : 202004})\n",
    "        지역업종 = pd.merge(지역업종, month_data, how = 'left', on = ['STD_CLSS_NM']).fillna(0)\n",
    "        월별지역업종 = 시.join(지역업종)\n",
    "    \n",
    "        setattr(mod, '{}'.format(state), 월별지역업종) #state(시)의 이름으로 월별업종 데이터프레임을 각각 변수지정\n",
    "        print('{} 데이터 프레임 저장 완료'.format(state))\n",
    "\n",
    "    print('타겟 데이터 생성')\n",
    "    Target = pd.concat([강원, 경기, 경남, 경북, 광주, 대구, 대전, 부산, 서울, 세종, 울산, 인천, 전남, 전북, 제주, 충남, 충북])\n",
    "    print('-- COMPLETE --')\n",
    "    return Target"
   ]
  },
  {
   "cell_type": "code",
   "execution_count": 16,
   "metadata": {
    "tags": []
   },
   "outputs": [
    {
     "output_type": "stream",
     "name": "stdout",
     "text": "강원 데이터 프레임 저장 완료\n경기 데이터 프레임 저장 완료\n경남 데이터 프레임 저장 완료\n경북 데이터 프레임 저장 완료\n광주 데이터 프레임 저장 완료\n대구 데이터 프레임 저장 완료\n대전 데이터 프레임 저장 완료\n부산 데이터 프레임 저장 완료\n서울 데이터 프레임 저장 완료\n세종 데이터 프레임 저장 완료\n울산 데이터 프레임 저장 완료\n인천 데이터 프레임 저장 완료\n전남 데이터 프레임 저장 완료\n전북 데이터 프레임 저장 완료\n제주 데이터 프레임 저장 완료\n충남 데이터 프레임 저장 완료\n충북 데이터 프레임 저장 완료\n학습 데이터 생성\n-- COMPLETE --\n강원 데이터 프레임 저장 완료\n경기 데이터 프레임 저장 완료\n경남 데이터 프레임 저장 완료\n경북 데이터 프레임 저장 완료\n광주 데이터 프레임 저장 완료\n대구 데이터 프레임 저장 완료\n대전 데이터 프레임 저장 완료\n부산 데이터 프레임 저장 완료\n서울 데이터 프레임 저장 완료\n세종 데이터 프레임 저장 완료\n울산 데이터 프레임 저장 완료\n인천 데이터 프레임 저장 완료\n전남 데이터 프레임 저장 완료\n전북 데이터 프레임 저장 완료\n제주 데이터 프레임 저장 완료\n충남 데이터 프레임 저장 완료\n충북 데이터 프레임 저장 완료\n타겟 데이터 생성\n-- COMPLETE --\n"
    }
   ],
   "source": [
    "# 월 업종별 금액 표\n",
    "xtrain = 학습데이터(Dacon, 'CNT')\n",
    "# 4월 업종별 금액 표\n",
    "April = April_Target(Dacon_April, 'CNT')"
   ]
  },
  {
   "cell_type": "code",
   "execution_count": 17,
   "metadata": {},
   "outputs": [],
   "source": [
    "# 복사본 생성\n",
    "xtrain_data = xtrain.copy()\n",
    "April_data = April.copy()"
   ]
  },
  {
   "cell_type": "code",
   "execution_count": 6,
   "metadata": {},
   "outputs": [
    {
     "output_type": "execute_result",
     "data": {
      "text/plain": "    CARD_SIDO_NM  STD_CLSS_NM             201901             201902  \\\n0              0            0  8.171301447268446  8.166477099181714   \n1              0            1  9.089622662171841  9.061543314417174   \n2              0            2  9.109571496563857  9.047767651770709   \n3              0            3  7.486526409789988  7.360236403265905   \n4              0            4                0.0                0.0   \n..           ...          ...                ...                ...   \n36            16           36  9.152238189955547  9.119109923654763   \n37            16           37 10.334414121238066 10.290027457627165   \n38            16           38  7.539862626478917  7.530959369024364   \n39            16           39   8.86256190603391  8.816432630532052   \n40            16           40  8.297924256285368  8.219773557712758   \n\n              201903            201904            201905             201906  \\\n0  8.039172219201445   8.0275472340772 8.170601209754631  7.991049175457223   \n1  9.440987301527647  9.59823150234806 9.739883269767958  9.753105595129005   \n2  8.972771008503663 8.917864224621926 9.009226715649145  9.000705615354141   \n3   7.39834269086204 7.252989145197182 7.608337095779087  7.488517452217375   \n4                0.0               0.0 5.247975719996016                0.0   \n..               ...               ...               ...                ...   \n36   9.1587037050376  9.15480998304841 9.193730969701132  9.187415060775526   \n37 10.36082966968769 10.34562607338292  10.3879402196444 10.364186713015524   \n38 7.556664394713148 7.607572224015891 7.647462104270601  7.538837183675365   \n39 8.862923138986726 8.837117496142183 8.853392400353194   8.81468208777418   \n40 8.031131413179367 8.008303519719709 8.252452205770252  8.152131997756152   \n\n               201907             201908             201909  \\\n0   7.966168644077878  7.995736632186553  8.312502339792603   \n1   9.701818681398613   9.76343421508634   9.61893227533515   \n2    8.97925096599871  9.141432344201716  9.118406707251077   \n3   7.465439380417417  7.766392775401892  7.445345308403097   \n4                 0.0                0.0                0.0   \n..                ...                ...                ...   \n36  9.198525173062688  9.195676509912568  9.167429993554173   \n37  10.37173229022977 10.391160642993912 10.341108710339775   \n38 7.4127712634173575  7.470931229122068  7.537387242069771   \n39   8.77778592242638   8.75880310086754   8.75518379468266   \n40   8.31592870783784  8.677786523730855  8.025549210938681   \n\n               201910             201911             201912  \\\n0   8.064149687985251  7.991601011286078 7.9787843371519385   \n1   9.752209317132246  9.603952640240845   9.09341783323329   \n2   9.119874948471198  9.022280538664184  9.009198824348939   \n3   7.725407027037034  7.490521305965574  7.475920959275402   \n4                 0.0                0.0                0.0   \n..                ...                ...                ...   \n36  9.151011662177845   9.10450510001819  9.154136573828351   \n37 10.360452771826655 10.331109215137378 10.378343102247376   \n38 7.5246745395951296  7.731570563112639   7.78808434046907   \n39  8.784262506018898  8.763548331870648  8.769991731859768   \n40  8.267943443303924  8.093833215299464  8.144788851693596   \n\n               202001             202002             202003  \n0   8.267192313473593  7.883693009769309  7.982538119978814  \n1   9.093807479667861  8.986080098628642  9.464757433136556  \n2   9.197709553758862  8.938126461135516   8.99774317368579  \n3   7.479323988684059  7.214194595882569  7.124416215856896  \n4                 0.0                0.0                0.0  \n..                ...                ...                ...  \n36  9.129334841203853  9.076416363454179   9.11900675853024  \n37 10.333110812341713 10.239021119642294 10.208239284698921  \n38  7.616263839591061  7.061336764908699  7.183228576626887  \n39  8.751979045859487  8.694616539574334  8.632337247331266  \n40  8.346495980508934 7.6728902395222045  7.104947485679433  \n\n[697 rows x 17 columns]",
      "text/html": "<div>\n<style scoped>\n    .dataframe tbody tr th:only-of-type {\n        vertical-align: middle;\n    }\n\n    .dataframe tbody tr th {\n        vertical-align: top;\n    }\n\n    .dataframe thead th {\n        text-align: right;\n    }\n</style>\n<table border=\"1\" class=\"dataframe\">\n  <thead>\n    <tr style=\"text-align: right;\">\n      <th></th>\n      <th>CARD_SIDO_NM</th>\n      <th>STD_CLSS_NM</th>\n      <th>201901</th>\n      <th>201902</th>\n      <th>201903</th>\n      <th>201904</th>\n      <th>201905</th>\n      <th>201906</th>\n      <th>201907</th>\n      <th>201908</th>\n      <th>201909</th>\n      <th>201910</th>\n      <th>201911</th>\n      <th>201912</th>\n      <th>202001</th>\n      <th>202002</th>\n      <th>202003</th>\n    </tr>\n  </thead>\n  <tbody>\n    <tr>\n      <th>0</th>\n      <td>0</td>\n      <td>0</td>\n      <td>8.171301447268446</td>\n      <td>8.166477099181714</td>\n      <td>8.039172219201445</td>\n      <td>8.0275472340772</td>\n      <td>8.170601209754631</td>\n      <td>7.991049175457223</td>\n      <td>7.966168644077878</td>\n      <td>7.995736632186553</td>\n      <td>8.312502339792603</td>\n      <td>8.064149687985251</td>\n      <td>7.991601011286078</td>\n      <td>7.9787843371519385</td>\n      <td>8.267192313473593</td>\n      <td>7.883693009769309</td>\n      <td>7.982538119978814</td>\n    </tr>\n    <tr>\n      <th>1</th>\n      <td>0</td>\n      <td>1</td>\n      <td>9.089622662171841</td>\n      <td>9.061543314417174</td>\n      <td>9.440987301527647</td>\n      <td>9.59823150234806</td>\n      <td>9.739883269767958</td>\n      <td>9.753105595129005</td>\n      <td>9.701818681398613</td>\n      <td>9.76343421508634</td>\n      <td>9.61893227533515</td>\n      <td>9.752209317132246</td>\n      <td>9.603952640240845</td>\n      <td>9.09341783323329</td>\n      <td>9.093807479667861</td>\n      <td>8.986080098628642</td>\n      <td>9.464757433136556</td>\n    </tr>\n    <tr>\n      <th>2</th>\n      <td>0</td>\n      <td>2</td>\n      <td>9.109571496563857</td>\n      <td>9.047767651770709</td>\n      <td>8.972771008503663</td>\n      <td>8.917864224621926</td>\n      <td>9.009226715649145</td>\n      <td>9.000705615354141</td>\n      <td>8.97925096599871</td>\n      <td>9.141432344201716</td>\n      <td>9.118406707251077</td>\n      <td>9.119874948471198</td>\n      <td>9.022280538664184</td>\n      <td>9.009198824348939</td>\n      <td>9.197709553758862</td>\n      <td>8.938126461135516</td>\n      <td>8.99774317368579</td>\n    </tr>\n    <tr>\n      <th>3</th>\n      <td>0</td>\n      <td>3</td>\n      <td>7.486526409789988</td>\n      <td>7.360236403265905</td>\n      <td>7.39834269086204</td>\n      <td>7.252989145197182</td>\n      <td>7.608337095779087</td>\n      <td>7.488517452217375</td>\n      <td>7.465439380417417</td>\n      <td>7.766392775401892</td>\n      <td>7.445345308403097</td>\n      <td>7.725407027037034</td>\n      <td>7.490521305965574</td>\n      <td>7.475920959275402</td>\n      <td>7.479323988684059</td>\n      <td>7.214194595882569</td>\n      <td>7.124416215856896</td>\n    </tr>\n    <tr>\n      <th>4</th>\n      <td>0</td>\n      <td>4</td>\n      <td>0.0</td>\n      <td>0.0</td>\n      <td>0.0</td>\n      <td>0.0</td>\n      <td>5.247975719996016</td>\n      <td>0.0</td>\n      <td>0.0</td>\n      <td>0.0</td>\n      <td>0.0</td>\n      <td>0.0</td>\n      <td>0.0</td>\n      <td>0.0</td>\n      <td>0.0</td>\n      <td>0.0</td>\n      <td>0.0</td>\n    </tr>\n    <tr>\n      <th>...</th>\n      <td>...</td>\n      <td>...</td>\n      <td>...</td>\n      <td>...</td>\n      <td>...</td>\n      <td>...</td>\n      <td>...</td>\n      <td>...</td>\n      <td>...</td>\n      <td>...</td>\n      <td>...</td>\n      <td>...</td>\n      <td>...</td>\n      <td>...</td>\n      <td>...</td>\n      <td>...</td>\n      <td>...</td>\n    </tr>\n    <tr>\n      <th>36</th>\n      <td>16</td>\n      <td>36</td>\n      <td>9.152238189955547</td>\n      <td>9.119109923654763</td>\n      <td>9.1587037050376</td>\n      <td>9.15480998304841</td>\n      <td>9.193730969701132</td>\n      <td>9.187415060775526</td>\n      <td>9.198525173062688</td>\n      <td>9.195676509912568</td>\n      <td>9.167429993554173</td>\n      <td>9.151011662177845</td>\n      <td>9.10450510001819</td>\n      <td>9.154136573828351</td>\n      <td>9.129334841203853</td>\n      <td>9.076416363454179</td>\n      <td>9.11900675853024</td>\n    </tr>\n    <tr>\n      <th>37</th>\n      <td>16</td>\n      <td>37</td>\n      <td>10.334414121238066</td>\n      <td>10.290027457627165</td>\n      <td>10.36082966968769</td>\n      <td>10.34562607338292</td>\n      <td>10.3879402196444</td>\n      <td>10.364186713015524</td>\n      <td>10.37173229022977</td>\n      <td>10.391160642993912</td>\n      <td>10.341108710339775</td>\n      <td>10.360452771826655</td>\n      <td>10.331109215137378</td>\n      <td>10.378343102247376</td>\n      <td>10.333110812341713</td>\n      <td>10.239021119642294</td>\n      <td>10.208239284698921</td>\n    </tr>\n    <tr>\n      <th>38</th>\n      <td>16</td>\n      <td>38</td>\n      <td>7.539862626478917</td>\n      <td>7.530959369024364</td>\n      <td>7.556664394713148</td>\n      <td>7.607572224015891</td>\n      <td>7.647462104270601</td>\n      <td>7.538837183675365</td>\n      <td>7.4127712634173575</td>\n      <td>7.470931229122068</td>\n      <td>7.537387242069771</td>\n      <td>7.5246745395951296</td>\n      <td>7.731570563112639</td>\n      <td>7.78808434046907</td>\n      <td>7.616263839591061</td>\n      <td>7.061336764908699</td>\n      <td>7.183228576626887</td>\n    </tr>\n    <tr>\n      <th>39</th>\n      <td>16</td>\n      <td>39</td>\n      <td>8.86256190603391</td>\n      <td>8.816432630532052</td>\n      <td>8.862923138986726</td>\n      <td>8.837117496142183</td>\n      <td>8.853392400353194</td>\n      <td>8.81468208777418</td>\n      <td>8.77778592242638</td>\n      <td>8.75880310086754</td>\n      <td>8.75518379468266</td>\n      <td>8.784262506018898</td>\n      <td>8.763548331870648</td>\n      <td>8.769991731859768</td>\n      <td>8.751979045859487</td>\n      <td>8.694616539574334</td>\n      <td>8.632337247331266</td>\n    </tr>\n    <tr>\n      <th>40</th>\n      <td>16</td>\n      <td>40</td>\n      <td>8.297924256285368</td>\n      <td>8.219773557712758</td>\n      <td>8.031131413179367</td>\n      <td>8.008303519719709</td>\n      <td>8.252452205770252</td>\n      <td>8.152131997756152</td>\n      <td>8.31592870783784</td>\n      <td>8.677786523730855</td>\n      <td>8.025549210938681</td>\n      <td>8.267943443303924</td>\n      <td>8.093833215299464</td>\n      <td>8.144788851693596</td>\n      <td>8.346495980508934</td>\n      <td>7.6728902395222045</td>\n      <td>7.104947485679433</td>\n    </tr>\n  </tbody>\n</table>\n<p>697 rows × 17 columns</p>\n</div>"
     },
     "metadata": {},
     "execution_count": 6
    }
   ],
   "source": [
    "# # 오브젝트 타입 컬럼 수치형으로 변환\n",
    "object_columns = ['CARD_SIDO_NM', 'STD_CLSS_NM']\n",
    "xtrain[object_columns] = xtrain[object_columns].apply(lambda x: x.astype('category').cat.codes)\n",
    "\n",
    "# 월별금액 로그10으로 수치변환\n",
    "for column in xtrain.columns[2:]:\n",
    "\n",
    "    xtrain[column] = np.log10(xtrain[column] + 1)\n",
    "\n",
    "xtrain"
   ]
  },
  {
   "cell_type": "code",
   "execution_count": 1,
   "metadata": {},
   "outputs": [],
   "source": [
    "# # 표준화\n",
    "\n",
    "# # 표준화 데이터\n",
    "# # 오브젝트 타입 컬럼 수치형으로 변환\n",
    "# ntrain = xtrain_data\n",
    "# object_columns = ['CARD_SIDO_NM', 'STD_CLSS_NM']\n",
    "# ntrain[object_columns] = ntrain[object_columns].apply(lambda x: x.astype('category').cat.codes)\n",
    "\n",
    "# # 예측 데이터 \n",
    "# npredict = ntrain.drop(['CARD_SIDO_NM', 'STD_CLSS_NM', 201901], axis = 1)\n",
    "\n",
    "# # 학습데이터\n",
    "# nytrain = ntrain[202003]\n",
    "# ntrain = ntrain.drop(['CARD_SIDO_NM', 'STD_CLSS_NM', 202003], axis = 1)\n",
    "\n",
    "# # npredict\n",
    "# for column in npredict.columns:\n",
    "#     npredict[column] = (npredict[column] - np.mean(npredict[column])) / np.std(npredict[column])\n",
    "\n",
    "# # ntrain\n",
    "# for column in ntrain.columns:\n",
    "#     ntrain[column] = (ntrain[column] - np.mean(ntrain[column])) / np.std(ntrain[column])\n",
    "\n",
    "# # nytrain\n",
    "\n",
    "# np_std = np.std(nytrain)\n",
    "# np_mean = np.mean(nytrain)\n",
    "# nytrain = (nytrain - np.mean(nytrain)) / np.std(nytrain)\n",
    "\n",
    "# # 표준화\n",
    "\n",
    "# # 2차원\n",
    "# ntrain = np.array(ntrain)\n",
    "\n",
    "# # 1차원\n",
    "# nytrain = np.array(nytrain)\n",
    "\n",
    "# # 2차원\n",
    "# npredict = np.array(npredict)\n",
    "\n",
    "# # 2차원 배열 -> 3차원 배열 변환\n",
    "# # LSTM 3차원 Input shape 형식 [samples, timesteps, features]\n",
    "# ntrain = ntrain.reshape(ntrain.shape[0], 1, ntrain.shape[1])\n",
    "# npredict = npredict.reshape(npredict.shape[0], 1, npredict.shape[1])\n",
    "# print(ntrain.shape)\n",
    "# print(nytrain.shape)\n",
    "# print(npredict.shape)"
   ]
  },
  {
   "cell_type": "code",
   "execution_count": 7,
   "metadata": {},
   "outputs": [],
   "source": [
    "# 예측 데이터 \n",
    "predict = xtrain.drop([201901], axis = 1)\n",
    "\n",
    "# 학습데이터\n",
    "ytrain = xtrain[202003]\n",
    "xtrain = xtrain.drop([202003], axis = 1)\n",
    "\n",
    "# 비교 타겟 (4월 데이터) \n",
    "Target = April[202004]"
   ]
  },
  {
   "cell_type": "markdown",
   "metadata": {},
   "source": [
    "## Numpy 배열\n",
    "- **딥러닝 학습을 위해 배열화 및 차원 변경**"
   ]
  },
  {
   "cell_type": "code",
   "execution_count": 8,
   "metadata": {
    "tags": []
   },
   "outputs": [
    {
     "output_type": "stream",
     "name": "stdout",
     "text": "(697, 1, 16)\n(697,)\n(697, 1, 16)\n"
    }
   ],
   "source": [
    "# 2차원\n",
    "xtrain = np.array(xtrain)\n",
    "\n",
    "# 1차원\n",
    "ytrain = np.array(ytrain)\n",
    "\n",
    "# 2차원\n",
    "predict = np.array(predict)\n",
    "\n",
    "# 2차원 배열 -> 3차원 배열 변환\n",
    "# LSTM 3차원 Input shape 형식 [samples, timesteps, features]\n",
    "xtrain = xtrain.reshape(xtrain.shape[0], 1, xtrain.shape[1])\n",
    "predict = predict.reshape(predict.shape[0], 1, predict.shape[1])\n",
    "print(xtrain.shape)\n",
    "print(ytrain.shape)\n",
    "print(predict.shape)"
   ]
  },
  {
   "cell_type": "code",
   "execution_count": 11,
   "metadata": {
    "tags": []
   },
   "outputs": [],
   "source": [
    "\n"
   ]
  },
  {
   "cell_type": "markdown",
   "metadata": {},
   "source": [
    "# LSTM Deep learning"
   ]
  },
  {
   "cell_type": "code",
   "execution_count": 9,
   "metadata": {
    "tags": []
   },
   "outputs": [
    {
     "output_type": "stream",
     "name": "stdout",
     "text": "2.3.0\n2.4.3\n"
    }
   ],
   "source": [
    "import keras\n",
    "import tensorflow as tf\n",
    "from keras import layers\n",
    "from keras.models import Sequential\n",
    "from keras.layers import Dense, LSTM\n",
    "from keras import regularizers\n",
    "from tensorflow.keras.callbacks import EarlyStopping, ModelCheckpoint\n",
    "from keras.layers import Dropout\n",
    "print(tf.__version__)\n",
    "print(keras.__version__)"
   ]
  },
  {
   "cell_type": "markdown",
   "metadata": {},
   "source": [
    "### optimizer 설정\n",
    "- **[OPTIMIZER](https://keras.io/ko/optimizers/#sgd)**"
   ]
  },
  {
   "cell_type": "code",
   "execution_count": 10,
   "metadata": {
    "tags": []
   },
   "outputs": [],
   "source": [
    "#OPTIMIZER = keras.optimizers.Adam(lr = 0.001, epsilon= None, decay = 0.0, amsgrad = True)\n",
    "# OPTIMIZER = keras.optimizers.Adamax(lr = 0.1)\n",
    "OPTIMIZER = keras.optimizers.Adagrad(lr = 0.1)\n",
    "# OPTIMIZER = keras.optimizers.Nadam(lr = 0.1)\n",
    "#OPTIMIZER = keras.optimizers.SGD(lr=0.001, nesterov=True)최고기록1.71\n",
    "##OPTIMIZER = keras.optimizers.RMSprop(lr=0.01)도저히불가\n",
    "\n",
    "\n",
    "\n"
   ]
  },
  {
   "cell_type": "markdown",
   "metadata": {},
   "source": [
    "### LSTM 특성"
   ]
  },
  {
   "cell_type": "code",
   "execution_count": 261,
   "metadata": {},
   "outputs": [],
   "source": [
    "# model.add(layers.BatchNormalization()) 0과1사이 배치\n",
    "# model.add(layers.Bidirectional(LSTM(200, activation = 'relu',return_sequences = True))) 양방향\n",
    "# regularizers.l1_l2(l1 = 0.001, l2 = 0.001) 가중치 규제 설정법 \n",
    "# model1.add(Dropout(0.2))\n"
   ]
  },
  {
   "cell_type": "code",
   "execution_count": 16,
   "metadata": {},
   "outputs": [],
   "source": [
    "def build_model(input_shape=None):\n",
    "    model1 = Sequential()\n",
    "    model1.add(LSTM(200, activation = 'relu', return_sequences = True, input_shape = input_shape))\n",
    "    model1.add(LSTM(200, activation = 'relu', return_sequences = True))\n",
    "    model1.add(LSTM(200, activation = 'relu'))\n",
    "    model1.add(Dense(256, activation='relu'))\n",
    "    model1.add(Dense(128, activation='relu'))\n",
    "    model1.add(Dense(64, activation='relu'))\n",
    "    model1.add(Dense(32, activation='relu'))\n",
    "    model1.add(Dense(1))\n",
    "    return model1"
   ]
  },
  {
   "cell_type": "code",
   "execution_count": 375,
   "metadata": {
    "tags": []
   },
   "outputs": [],
   "source": [
    "# def build_model(input_shape=None):\n",
    "\n",
    "#      model1 = Sequential()\n",
    "#      model1.add(LSTM(256, activation = 'relu', return_sequences = True, input_shape = input_shape, recurrent_regularizer = regularizers.l1_l2(l1 = 0.001, l2 = 0.1)))\n",
    "#      model1.add(LSTM(128, activation = 'relu', return_sequences = True))\n",
    "#      model1.add(LSTM(64, activation = 'relu'))\n",
    "#      model1.add(Dense(1))\n",
    "#      return model1"
   ]
  },
  {
   "cell_type": "code",
   "execution_count": null,
   "metadata": {},
   "outputs": [],
   "source": []
  },
  {
   "cell_type": "code",
   "execution_count": 376,
   "metadata": {
    "tags": []
   },
   "outputs": [
    {
     "output_type": "stream",
     "name": "stdout",
     "text": "Model: \"sequential_100\"\n_________________________________________________________________\nLayer (type)                 Output Shape              Param #   \n=================================================================\nlstm_320 (LSTM)              (None, 1, 256)            277504    \n_________________________________________________________________\nlstm_321 (LSTM)              (None, 1, 128)            197120    \n_________________________________________________________________\nlstm_322 (LSTM)              (None, 64)                49408     \n_________________________________________________________________\ndense_201 (Dense)            (None, 1)                 65        \n=================================================================\nTotal params: 524,097\nTrainable params: 524,097\nNon-trainable params: 0\n_________________________________________________________________\nEpoch 1/105\n697/697 [==============================] - 3s 5ms/step - loss: 2.4162\nEpoch 2/105\n697/697 [==============================] - 3s 4ms/step - loss: 1.0990\nEpoch 3/105\n697/697 [==============================] - 3s 4ms/step - loss: 1.0054\nEpoch 4/105\n697/697 [==============================] - 3s 4ms/step - loss: 0.9790\nEpoch 5/105\n697/697 [==============================] - 3s 4ms/step - loss: 0.8990\nEpoch 6/105\n697/697 [==============================] - 3s 4ms/step - loss: 0.8997\nEpoch 7/105\n697/697 [==============================] - 3s 4ms/step - loss: 0.8599\nEpoch 8/105\n697/697 [==============================] - 3s 4ms/step - loss: 0.7662\nEpoch 9/105\n697/697 [==============================] - 3s 4ms/step - loss: 0.7837\nEpoch 10/105\n697/697 [==============================] - 3s 4ms/step - loss: 0.8449\nEpoch 11/105\n697/697 [==============================] - 3s 4ms/step - loss: 0.7538\nEpoch 12/105\n697/697 [==============================] - 3s 5ms/step - loss: 0.7633\nEpoch 13/105\n697/697 [==============================] - 3s 4ms/step - loss: 0.7598\nEpoch 14/105\n697/697 [==============================] - 3s 5ms/step - loss: 0.8365\nEpoch 15/105\n697/697 [==============================] - 3s 4ms/step - loss: 0.8345\nEpoch 16/105\n697/697 [==============================] - 3s 4ms/step - loss: 0.7256\nEpoch 17/105\n697/697 [==============================] - 3s 4ms/step - loss: 0.7836\nEpoch 18/105\n697/697 [==============================] - 3s 5ms/step - loss: 0.7527\nEpoch 19/105\n697/697 [==============================] - 3s 4ms/step - loss: 0.7101\nEpoch 20/105\n697/697 [==============================] - 3s 5ms/step - loss: 0.7051\nEpoch 21/105\n697/697 [==============================] - 3s 4ms/step - loss: 0.7620\nEpoch 22/105\n697/697 [==============================] - 3s 4ms/step - loss: 0.6909\nEpoch 23/105\n697/697 [==============================] - 3s 4ms/step - loss: 0.6974\nEpoch 24/105\n697/697 [==============================] - 3s 4ms/step - loss: 0.7025\nEpoch 25/105\n697/697 [==============================] - 3s 4ms/step - loss: 0.6552\nEpoch 26/105\n697/697 [==============================] - 3s 4ms/step - loss: 0.6801\nEpoch 27/105\n697/697 [==============================] - 3s 4ms/step - loss: 0.6932\nEpoch 28/105\n697/697 [==============================] - 3s 4ms/step - loss: 0.6648\nEpoch 29/105\n697/697 [==============================] - 3s 5ms/step - loss: 0.6557\nEpoch 30/105\n697/697 [==============================] - 3s 4ms/step - loss: 0.6710\nEpoch 31/105\n697/697 [==============================] - 3s 4ms/step - loss: 0.6995\nEpoch 32/105\n697/697 [==============================] - 3s 5ms/step - loss: 0.6668\nEpoch 33/105\n697/697 [==============================] - 3s 4ms/step - loss: 0.6610\nEpoch 34/105\n697/697 [==============================] - 3s 4ms/step - loss: 0.6591\nEpoch 35/105\n697/697 [==============================] - 3s 5ms/step - loss: 0.6715\nEpoch 36/105\n697/697 [==============================] - 3s 4ms/step - loss: 0.6813\nEpoch 37/105\n697/697 [==============================] - 3s 4ms/step - loss: 0.6582\nEpoch 38/105\n697/697 [==============================] - 3s 4ms/step - loss: 0.6729\nEpoch 39/105\n697/697 [==============================] - 3s 4ms/step - loss: 0.6570\nEpoch 40/105\n697/697 [==============================] - 3s 4ms/step - loss: 0.6578\nEpoch 41/105\n697/697 [==============================] - 3s 4ms/step - loss: 0.6934\nEpoch 42/105\n697/697 [==============================] - 3s 4ms/step - loss: 0.6796\nEpoch 43/105\n697/697 [==============================] - 3s 4ms/step - loss: 0.6184\nEpoch 44/105\n697/697 [==============================] - 3s 4ms/step - loss: 0.6763\nEpoch 45/105\n697/697 [==============================] - 3s 4ms/step - loss: 0.6503\nEpoch 46/105\n697/697 [==============================] - 3s 4ms/step - loss: 0.6306\nEpoch 47/105\n697/697 [==============================] - 3s 4ms/step - loss: 0.6411\nEpoch 48/105\n697/697 [==============================] - 3s 4ms/step - loss: 0.6112\nEpoch 49/105\n697/697 [==============================] - 3s 4ms/step - loss: 0.6414\nEpoch 50/105\n697/697 [==============================] - 3s 4ms/step - loss: 0.6283\nEpoch 51/105\n697/697 [==============================] - 3s 4ms/step - loss: 0.6474\nEpoch 52/105\n697/697 [==============================] - 3s 4ms/step - loss: 0.6337\nEpoch 53/105\n697/697 [==============================] - 3s 4ms/step - loss: 0.5956\nEpoch 54/105\n697/697 [==============================] - 3s 4ms/step - loss: 0.6597\nEpoch 55/105\n697/697 [==============================] - 3s 4ms/step - loss: 0.6108\nEpoch 56/105\n697/697 [==============================] - 3s 4ms/step - loss: 0.6124\nEpoch 57/105\n697/697 [==============================] - 3s 4ms/step - loss: 0.6151\nEpoch 58/105\n697/697 [==============================] - 3s 4ms/step - loss: 0.5922\nEpoch 59/105\n697/697 [==============================] - 3s 4ms/step - loss: 0.6415\nEpoch 60/105\n697/697 [==============================] - 3s 4ms/step - loss: 0.6368\nEpoch 61/105\n697/697 [==============================] - 3s 4ms/step - loss: 0.6541\nEpoch 62/105\n697/697 [==============================] - 3s 5ms/step - loss: 0.6343\nEpoch 63/105\n697/697 [==============================] - 3s 4ms/step - loss: 0.6296\nEpoch 64/105\n697/697 [==============================] - 3s 4ms/step - loss: 0.5730\nEpoch 65/105\n697/697 [==============================] - 3s 5ms/step - loss: 0.6244\nEpoch 66/105\n697/697 [==============================] - 4s 5ms/step - loss: 0.6101\nEpoch 67/105\n697/697 [==============================] - 3s 5ms/step - loss: 0.5702\nEpoch 68/105\n697/697 [==============================] - 4s 5ms/step - loss: 0.6481\nEpoch 69/105\n697/697 [==============================] - 4s 6ms/step - loss: 0.6335\nEpoch 70/105\n697/697 [==============================] - 4s 6ms/step - loss: 0.5932\nEpoch 71/105\n697/697 [==============================] - 4s 6ms/step - loss: 0.6215\nEpoch 72/105\n697/697 [==============================] - 4s 6ms/step - loss: 0.6068\nEpoch 73/105\n697/697 [==============================] - 3s 5ms/step - loss: 0.6061\nEpoch 74/105\n697/697 [==============================] - 3s 5ms/step - loss: 0.5783\nEpoch 75/105\n697/697 [==============================] - 3s 5ms/step - loss: 0.5954\nEpoch 76/105\n697/697 [==============================] - 3s 5ms/step - loss: 0.6036\nEpoch 77/105\n697/697 [==============================] - 3s 4ms/step - loss: 0.6193\nEpoch 78/105\n697/697 [==============================] - 3s 5ms/step - loss: 0.6015\nEpoch 79/105\n697/697 [==============================] - 3s 5ms/step - loss: 0.6043\nEpoch 80/105\n697/697 [==============================] - 3s 5ms/step - loss: 0.5994\nEpoch 81/105\n697/697 [==============================] - 3s 5ms/step - loss: 0.5924\nEpoch 82/105\n697/697 [==============================] - 3s 5ms/step - loss: 0.5643\nEpoch 83/105\n697/697 [==============================] - 3s 4ms/step - loss: 0.6002\nEpoch 84/105\n697/697 [==============================] - 3s 5ms/step - loss: 0.5831\nEpoch 85/105\n697/697 [==============================] - 3s 5ms/step - loss: 0.6215\nEpoch 86/105\n697/697 [==============================] - 3s 4ms/step - loss: 0.5916\nEpoch 87/105\n697/697 [==============================] - 3s 4ms/step - loss: 0.5900\nEpoch 88/105\n697/697 [==============================] - 3s 4ms/step - loss: 0.5711\nEpoch 89/105\n697/697 [==============================] - 3s 4ms/step - loss: 0.5971\nEpoch 90/105\n697/697 [==============================] - 3s 4ms/step - loss: 0.5813\nEpoch 91/105\n697/697 [==============================] - 3s 4ms/step - loss: 0.5613\nEpoch 92/105\n697/697 [==============================] - 3s 4ms/step - loss: 0.6013\nEpoch 93/105\n697/697 [==============================] - 3s 4ms/step - loss: 0.5681\nEpoch 94/105\n697/697 [==============================] - 3s 4ms/step - loss: 0.5779\nEpoch 95/105\n697/697 [==============================] - 3s 4ms/step - loss: 0.5588\nEpoch 96/105\n697/697 [==============================] - 3s 4ms/step - loss: 0.5803\nEpoch 97/105\n697/697 [==============================] - 3s 4ms/step - loss: 0.5703\nEpoch 98/105\n697/697 [==============================] - 3s 4ms/step - loss: 0.5884\nEpoch 99/105\n697/697 [==============================] - 3s 4ms/step - loss: 0.5439\nEpoch 100/105\n697/697 [==============================] - 3s 4ms/step - loss: 0.5446\nEpoch 101/105\n697/697 [==============================] - 3s 4ms/step - loss: 0.6262\nEpoch 102/105\n697/697 [==============================] - 3s 4ms/step - loss: 0.5690\nEpoch 103/105\n697/697 [==============================] - 3s 4ms/step - loss: 0.5561\nEpoch 104/105\n697/697 [==============================] - 3s 4ms/step - loss: 0.5575\nEpoch 105/105\n697/697 [==============================] - 3s 4ms/step - loss: 0.5808\n"
    },
    {
     "output_type": "execute_result",
     "data": {
      "text/plain": "<tensorflow.python.keras.callbacks.History at 0x1eaf12d44c8>"
     },
     "metadata": {},
     "execution_count": 376
    }
   ],
   "source": [
    "# 모델\n",
    "model1 = build_model((1,14))\n",
    "model1.build(input_shape=(697,1,14))\n",
    "model1.summary()\n",
    "\n",
    "# 베스트 모델 저장\n",
    "checkpoint = tf.keras.callbacks.ModelCheckpoint('best_model.h5', monitor='loss', save_weights_only=True, save_best_only=True)\n",
    "\n",
    "# 모델 학습\n",
    "model1.compile(optimizer = OPTIMIZER , loss = 'mse')\n",
    "model1.fit(xtrain, ytrain, epochs= 105, batch_size=1, callbacks = [checkpoint])\n"
   ]
  },
  {
   "cell_type": "code",
   "execution_count": 377,
   "metadata": {},
   "outputs": [],
   "source": [
    "#누적모델잘나왔을때 쓰시오.\n",
    "#model1.save_weights('my_checkpoint.h5')"
   ]
  },
  {
   "cell_type": "code",
   "execution_count": 378,
   "metadata": {},
   "outputs": [
    {
     "output_type": "execute_result",
     "data": {
      "text/plain": "                0\n0      53532284.0\n1    2556395520.0\n2     799380992.0\n3       6244701.0\n4             0.0\n..            ...\n692  1198258048.0\n693 23083581440.0\n694    10749511.0\n695   414473248.0\n696    11464641.0\n\n[697 rows x 1 columns]",
      "text/html": "<div>\n<style scoped>\n    .dataframe tbody tr th:only-of-type {\n        vertical-align: middle;\n    }\n\n    .dataframe tbody tr th {\n        vertical-align: top;\n    }\n\n    .dataframe thead th {\n        text-align: right;\n    }\n</style>\n<table border=\"1\" class=\"dataframe\">\n  <thead>\n    <tr style=\"text-align: right;\">\n      <th></th>\n      <th>0</th>\n    </tr>\n  </thead>\n  <tbody>\n    <tr>\n      <th>0</th>\n      <td>53532284.0</td>\n    </tr>\n    <tr>\n      <th>1</th>\n      <td>2556395520.0</td>\n    </tr>\n    <tr>\n      <th>2</th>\n      <td>799380992.0</td>\n    </tr>\n    <tr>\n      <th>3</th>\n      <td>6244701.0</td>\n    </tr>\n    <tr>\n      <th>4</th>\n      <td>0.0</td>\n    </tr>\n    <tr>\n      <th>...</th>\n      <td>...</td>\n    </tr>\n    <tr>\n      <th>692</th>\n      <td>1198258048.0</td>\n    </tr>\n    <tr>\n      <th>693</th>\n      <td>23083581440.0</td>\n    </tr>\n    <tr>\n      <th>694</th>\n      <td>10749511.0</td>\n    </tr>\n    <tr>\n      <th>695</th>\n      <td>414473248.0</td>\n    </tr>\n    <tr>\n      <th>696</th>\n      <td>11464641.0</td>\n    </tr>\n  </tbody>\n</table>\n<p>697 rows × 1 columns</p>\n</div>"
     },
     "metadata": {},
     "execution_count": 378
    }
   ],
   "source": [
    "y_pred = model1.predict(predict, batch_size=1)\n",
    "y_pred = y_pred.reshape(697,1)\n",
    "y_pred = pd.DataFrame(y_pred)\n",
    "y_pred = np.round(10**y_pred)-1\n",
    "y_pred"
   ]
  },
  {
   "cell_type": "code",
   "execution_count": 368,
   "metadata": {},
   "outputs": [],
   "source": [
    "# y_pred = abs(y_pred * np_std + np_mean)\n",
    "# y_pred"
   ]
  },
  {
   "cell_type": "markdown",
   "metadata": {},
   "source": [
    "# 예측데이터 비교"
   ]
  },
  {
   "cell_type": "markdown",
   "metadata": {},
   "source": [
    "- **4월 데이터와 3월데이터의 증감비율 값**\n",
    "```\n",
    "> ytrain1 = xtrain_data[202003]\n",
    "> error_val = Target - ytrain1\n",
    "> len(error_val[error_val < 0]), len(error_val[error_val >= 0])\n",
    "> (185, 512)\n",
    "```\n"
   ]
  },
  {
   "cell_type": "code",
   "execution_count": 379,
   "metadata": {
    "tags": []
   },
   "outputs": [
    {
     "output_type": "stream",
     "name": "stdout",
     "text": "4월 이랑 RMSLE 비교 0 에 가까울수록 좋음.\n1.7977164518698787\n-------------------------------------- \n4월과 3월의 증감 비율 비슷할수록 좋음.\n(185, 512)\n405 292\n"
    }
   ],
   "source": [
    "# 4월 이랑 RMSLE 비교 0에 가까울수록 좋음.\n",
    "from sklearn.metrics import mean_squared_log_error as msle\n",
    "print('4월 이랑 RMSLE 비교 0 에 가까울수록 좋음.')\n",
    "print(np.sqrt(msle(Target, abs(y_pred))))\n",
    "\n",
    "# 나의 예측 데이터와 3월 데이터 증감 비율 비교\n",
    "ytrain1 = xtrain_data[202003]\n",
    "error_val = y_pred[0] - ytrain1\n",
    "print('-------------------------------------- ')\n",
    "print('4월과 3월의 증감 비율 비슷할수록 좋음.')\n",
    "print('(185, 512)')\n",
    "print(len(error_val[error_val < 0]), len(error_val[error_val >= 0]))\n",
    "\n",
    "# 결과물 저장\n",
    "y_pred.to_csv('y_pred.csv',index = False)"
   ]
  },
  {
   "cell_type": "markdown",
   "metadata": {},
   "source": [
    "# 예측데이터 비교(Best Model)"
   ]
  },
  {
   "cell_type": "code",
   "execution_count": 19,
   "metadata": {},
   "outputs": [
    {
     "output_type": "execute_result",
     "data": {
      "text/plain": "                0\n0      84118304.0\n1    2687591424.0\n2    1044124032.0\n3       9593602.0\n4             0.0\n..            ...\n692  1471721728.0\n693 27405672448.0\n694    18372680.0\n695   485431168.0\n696    36634112.0\n\n[697 rows x 1 columns]",
      "text/html": "<div>\n<style scoped>\n    .dataframe tbody tr th:only-of-type {\n        vertical-align: middle;\n    }\n\n    .dataframe tbody tr th {\n        vertical-align: top;\n    }\n\n    .dataframe thead th {\n        text-align: right;\n    }\n</style>\n<table border=\"1\" class=\"dataframe\">\n  <thead>\n    <tr style=\"text-align: right;\">\n      <th></th>\n      <th>0</th>\n    </tr>\n  </thead>\n  <tbody>\n    <tr>\n      <th>0</th>\n      <td>84118304.0</td>\n    </tr>\n    <tr>\n      <th>1</th>\n      <td>2687591424.0</td>\n    </tr>\n    <tr>\n      <th>2</th>\n      <td>1044124032.0</td>\n    </tr>\n    <tr>\n      <th>3</th>\n      <td>9593602.0</td>\n    </tr>\n    <tr>\n      <th>4</th>\n      <td>0.0</td>\n    </tr>\n    <tr>\n      <th>...</th>\n      <td>...</td>\n    </tr>\n    <tr>\n      <th>692</th>\n      <td>1471721728.0</td>\n    </tr>\n    <tr>\n      <th>693</th>\n      <td>27405672448.0</td>\n    </tr>\n    <tr>\n      <th>694</th>\n      <td>18372680.0</td>\n    </tr>\n    <tr>\n      <th>695</th>\n      <td>485431168.0</td>\n    </tr>\n    <tr>\n      <th>696</th>\n      <td>36634112.0</td>\n    </tr>\n  </tbody>\n</table>\n<p>697 rows × 1 columns</p>\n</div>"
     },
     "metadata": {},
     "execution_count": 19
    }
   ],
   "source": [
    "best_model = build_model((1, 16))\n",
    "best_model.build(input_shape=(697,1,16))\n",
    "best_model.load_weights('best_weight.h5')\n",
    "best_model.compile(optimizer = OPTIMIZER , loss = 'mse')\n",
    "\n",
    "predictions = best_model.predict(predict)\n",
    "predictions = np.round(10**predictions)-1\n",
    "predictions = pd.DataFrame(predictions)\n",
    "predictions"
   ]
  },
  {
   "cell_type": "code",
   "execution_count": 372,
   "metadata": {},
   "outputs": [],
   "source": [
    "# predictions = abs(predictions * np_std + np_mean) "
   ]
  },
  {
   "cell_type": "code",
   "execution_count": 22,
   "metadata": {
    "tags": []
   },
   "outputs": [
    {
     "output_type": "stream",
     "name": "stdout",
     "text": "4월 이랑 RMSLE 비교 0 에 가까울수록 좋음.\n1.6737514561520113\n-------------------------------------- \n4월과 3월의 증감 비율 비슷할수록 좋음.\n(185, 512)\n424 273\n"
    }
   ],
   "source": [
    "# 4월 이랑 베스트 모델 예측 RMSLE 비교 0에 가까울수록 좋음.\n",
    "from sklearn.metrics import mean_squared_log_error as msle\n",
    "print('4월 이랑 RMSLE 비교 0 에 가까울수록 좋음.')\n",
    "print(np.sqrt(msle(Target, predictions)))\n",
    "\n",
    "# 나의 예측 데이터와 3월 데이터 증감 비율 비교\n",
    "ytrain1 = xtrain_data[202003]\n",
    "error_val = predictions[0] - ytrain1\n",
    "print('-------------------------------------- ')\n",
    "print('4월과 3월의 증감 비율 비슷할수록 좋음.')\n",
    "print('(185, 512)')\n",
    "print(len(error_val[error_val < 0]), len(error_val[error_val >= 0]))\n",
    "\n",
    "# 결과물 저장\n",
    "predictions.to_csv('predictions.csv', index = False)"
   ]
  },
  {
   "cell_type": "code",
   "execution_count": 25,
   "metadata": {},
   "outputs": [],
   "source": [
    "def build_model():\n",
    "\n",
    "    loss = keras.losses.MeanSquaredError()\n",
    "    optimizer = keras.optimizers.Adagrad(lr=0.1)\n",
    "\n",
    "    model = Sequential()\n",
    "    model.add(LSTM(200, input_shape=(1,16), activation='relu', return_sequences=True))\n",
    "    model.add(LSTM(200, activation='relu', return_sequences=True))\n",
    "    model.add(LSTM(200, activation='relu'))\n",
    "    model.add(Dense(256, activation='relu'))\n",
    "    model.add(Dense(128, activation='relu'))\n",
    "    model.add(Dense(64, activation='relu'))\n",
    "    model.add(Dense(32, activation='relu'))\n",
    "    model.add(Dense(1))\n",
    "\n",
    "    model.build(input_shape=(697,1,16))\n",
    "    model.load_weights('best_weight.h5')\n",
    "    model.compile(loss=loss, optimizer=optimizer)\n",
    "    return model"
   ]
  },
  {
   "cell_type": "code",
   "execution_count": 48,
   "metadata": {},
   "outputs": [],
   "source": [
    "April_amt = April_data[202004].to_frame()"
   ]
  },
  {
   "cell_type": "code",
   "execution_count": 56,
   "metadata": {
    "tags": []
   },
   "outputs": [
    {
     "output_type": "stream",
     "name": "stdout",
     "text": "(697, 1, 16)\n(697,)\n(697, 1, 16)\n"
    }
   ],
   "source": [
    "April_xtrain = pd.concat([xtrain_data, April_amt], axis = 1)\n",
    "April_xtrain = April_xtrain.set_index('CARD_SIDO_NM').reset_index()\n",
    "April_xtrain_copy = April_xtrain.copy()\n",
    "\n",
    "for column in April_xtrain_copy.columns[2:]:\n",
    "\n",
    "    April_xtrain_copy[column] = np.log10(April_xtrain_copy[column] + 1)\n",
    "\n",
    "April_xtrain_copy\n",
    "\n",
    "obj = ['CARD_SIDO_NM','STD_CLSS_NM']\n",
    "April_xtrain_copy[obj] = April_xtrain_copy[obj].apply(lambda x: x.astype('category').cat.codes)\n",
    "\n",
    "ytrain = April_xtrain_copy[202004]\n",
    "predict = April_xtrain_copy.drop([201901, 201902], axis = 1)\n",
    "xtrain = April_xtrain_copy.drop([201901, 202004], axis = 1)\n",
    "\n",
    "# 2차원\n",
    "xtrain = np.array(xtrain)\n",
    "\n",
    "# 1차원\n",
    "ytrain = np.array(ytrain)\n",
    "\n",
    "# 2차원\n",
    "predict = np.array(predict)\n",
    "\n",
    "# 2차원 배열 -> 3차원 배열 변환\n",
    "# LSTM 3차원 Input shape 형식 [samples, timesteps, features]\n",
    "xtrain = xtrain.reshape(xtrain.shape[0], 1, xtrain.shape[1])\n",
    "predict = predict.reshape(predict.shape[0], 1, predict.shape[1])\n",
    "print(xtrain.shape)\n",
    "print(ytrain.shape)\n",
    "print(predict.shape)\n",
    "\n",
    "\n"
   ]
  },
  {
   "cell_type": "code",
   "execution_count": 61,
   "metadata": {},
   "outputs": [
    {
     "output_type": "execute_result",
     "data": {
      "text/plain": "                 202005\n0     7.937012195587158\n1     9.683632850646973\n2     9.060786247253418\n3      6.99231481552124\n4   0.20131295919418335\n..                  ...\n692    9.19467544555664\n693  10.481791496276855\n694   7.270424842834473\n695   8.685564994812012\n696   7.445853233337402\n\n[697 rows x 1 columns]",
      "text/html": "<div>\n<style scoped>\n    .dataframe tbody tr th:only-of-type {\n        vertical-align: middle;\n    }\n\n    .dataframe tbody tr th {\n        vertical-align: top;\n    }\n\n    .dataframe thead th {\n        text-align: right;\n    }\n</style>\n<table border=\"1\" class=\"dataframe\">\n  <thead>\n    <tr style=\"text-align: right;\">\n      <th></th>\n      <th>202005</th>\n    </tr>\n  </thead>\n  <tbody>\n    <tr>\n      <th>0</th>\n      <td>7.937012195587158</td>\n    </tr>\n    <tr>\n      <th>1</th>\n      <td>9.683632850646973</td>\n    </tr>\n    <tr>\n      <th>2</th>\n      <td>9.060786247253418</td>\n    </tr>\n    <tr>\n      <th>3</th>\n      <td>6.99231481552124</td>\n    </tr>\n    <tr>\n      <th>4</th>\n      <td>0.20131295919418335</td>\n    </tr>\n    <tr>\n      <th>...</th>\n      <td>...</td>\n    </tr>\n    <tr>\n      <th>692</th>\n      <td>9.19467544555664</td>\n    </tr>\n    <tr>\n      <th>693</th>\n      <td>10.481791496276855</td>\n    </tr>\n    <tr>\n      <th>694</th>\n      <td>7.270424842834473</td>\n    </tr>\n    <tr>\n      <th>695</th>\n      <td>8.685564994812012</td>\n    </tr>\n    <tr>\n      <th>696</th>\n      <td>7.445853233337402</td>\n    </tr>\n  </tbody>\n</table>\n<p>697 rows × 1 columns</p>\n</div>"
     },
     "metadata": {},
     "execution_count": 61
    }
   ],
   "source": [
    "## 5월 AMT 생성\n",
    "best_model = build_model()\n",
    "may_amt = best_model.predict(predict)\n",
    "may_amt = pd.DataFrame(may_amt, columns=[202005])\n",
    "may_amt"
   ]
  },
  {
   "cell_type": "code",
   "execution_count": 65,
   "metadata": {
    "tags": []
   },
   "outputs": [
    {
     "output_type": "stream",
     "name": "stdout",
     "text": "(697, 1, 16)\n(697,)\n(697, 1, 16)\n"
    }
   ],
   "source": [
    "May_xtrain = pd.concat([April_xtrain_copy, may_amt], axis = 1)\n",
    "May_xtrain_copy = May_xtrain.copy()\n",
    "\n",
    "\n",
    "ytrain = May_xtrain_copy[202005]\n",
    "predict = May_xtrain_copy.drop([201901, 201902, 201903], axis = 1)\n",
    "xtrain = May_xtrain_copy.drop([201901, 201902, 202005], axis = 1)\n",
    "\n",
    "# 2차원\n",
    "xtrain = np.array(xtrain)\n",
    "\n",
    "# 1차원\n",
    "ytrain = np.array(ytrain)\n",
    "\n",
    "# 2차원\n",
    "predict = np.array(predict)\n",
    "\n",
    "# 2차원 배열 -> 3차원 배열 변환\n",
    "# LSTM 3차원 Input shape 형식 [samples, timesteps, features]\n",
    "xtrain = xtrain.reshape(xtrain.shape[0], 1, xtrain.shape[1])\n",
    "predict = predict.reshape(predict.shape[0], 1, predict.shape[1])\n",
    "print(xtrain.shape)\n",
    "print(ytrain.shape)\n",
    "print(predict.shape)"
   ]
  },
  {
   "cell_type": "code",
   "execution_count": 68,
   "metadata": {},
   "outputs": [
    {
     "output_type": "execute_result",
     "data": {
      "text/plain": "                 202006\n0     7.933596134185791\n1       9.7522554397583\n2     9.075196266174316\n3    6.9087605476379395\n4   0.18728461861610413\n..                  ...\n692    9.23343563079834\n693   10.60207462310791\n694  7.2779669761657715\n695   8.694969177246094\n696   7.582845211029053\n\n[697 rows x 1 columns]",
      "text/html": "<div>\n<style scoped>\n    .dataframe tbody tr th:only-of-type {\n        vertical-align: middle;\n    }\n\n    .dataframe tbody tr th {\n        vertical-align: top;\n    }\n\n    .dataframe thead th {\n        text-align: right;\n    }\n</style>\n<table border=\"1\" class=\"dataframe\">\n  <thead>\n    <tr style=\"text-align: right;\">\n      <th></th>\n      <th>202006</th>\n    </tr>\n  </thead>\n  <tbody>\n    <tr>\n      <th>0</th>\n      <td>7.933596134185791</td>\n    </tr>\n    <tr>\n      <th>1</th>\n      <td>9.7522554397583</td>\n    </tr>\n    <tr>\n      <th>2</th>\n      <td>9.075196266174316</td>\n    </tr>\n    <tr>\n      <th>3</th>\n      <td>6.9087605476379395</td>\n    </tr>\n    <tr>\n      <th>4</th>\n      <td>0.18728461861610413</td>\n    </tr>\n    <tr>\n      <th>...</th>\n      <td>...</td>\n    </tr>\n    <tr>\n      <th>692</th>\n      <td>9.23343563079834</td>\n    </tr>\n    <tr>\n      <th>693</th>\n      <td>10.60207462310791</td>\n    </tr>\n    <tr>\n      <th>694</th>\n      <td>7.2779669761657715</td>\n    </tr>\n    <tr>\n      <th>695</th>\n      <td>8.694969177246094</td>\n    </tr>\n    <tr>\n      <th>696</th>\n      <td>7.582845211029053</td>\n    </tr>\n  </tbody>\n</table>\n<p>697 rows × 1 columns</p>\n</div>"
     },
     "metadata": {},
     "execution_count": 68
    }
   ],
   "source": [
    "## 6월 AMT 생성\n",
    "best_model = build_model()\n",
    "june_amt = best_model.predict(predict)\n",
    "june_amt = pd.DataFrame(june_amt, columns=[202006])\n",
    "june_amt"
   ]
  },
  {
   "cell_type": "code",
   "execution_count": 69,
   "metadata": {
    "tags": []
   },
   "outputs": [
    {
     "output_type": "stream",
     "name": "stdout",
     "text": "(697, 1, 16)\n(697,)\n(697, 1, 16)\n"
    }
   ],
   "source": [
    "June_xtrain = pd.concat([May_xtrain_copy, june_amt], axis = 1)\n",
    "June_xtrain_copy = June_xtrain.copy()\n",
    "\n",
    "\n",
    "ytrain = June_xtrain_copy[202006]\n",
    "predict = June_xtrain_copy.drop([201901, 201902, 201903, 201904], axis = 1)\n",
    "xtrain = June_xtrain_copy.drop([201901, 201902, 201903, 202006], axis = 1)\n",
    "\n",
    "# 2차원\n",
    "xtrain = np.array(xtrain)\n",
    "\n",
    "# 1차원\n",
    "ytrain = np.array(ytrain)\n",
    "\n",
    "# 2차원\n",
    "predict = np.array(predict)\n",
    "\n",
    "# 2차원 배열 -> 3차원 배열 변환\n",
    "# LSTM 3차원 Input shape 형식 [samples, timesteps, features]\n",
    "xtrain = xtrain.reshape(xtrain.shape[0], 1, xtrain.shape[1])\n",
    "predict = predict.reshape(predict.shape[0], 1, predict.shape[1])\n",
    "print(xtrain.shape)\n",
    "print(ytrain.shape)\n",
    "print(predict.shape)"
   ]
  },
  {
   "cell_type": "code",
   "execution_count": 76,
   "metadata": {},
   "outputs": [
    {
     "output_type": "execute_result",
     "data": {
      "text/plain": "              AMT\n0      85331512.0\n1    7308394496.0\n2    1227115136.0\n3       7095322.0\n4             0.0\n..            ...\n692  1871735424.0\n693 49683238912.0\n694    17737688.0\n695   491193600.0\n696    44981824.0\n\n[697 rows x 1 columns]",
      "text/html": "<div>\n<style scoped>\n    .dataframe tbody tr th:only-of-type {\n        vertical-align: middle;\n    }\n\n    .dataframe tbody tr th {\n        vertical-align: top;\n    }\n\n    .dataframe thead th {\n        text-align: right;\n    }\n</style>\n<table border=\"1\" class=\"dataframe\">\n  <thead>\n    <tr style=\"text-align: right;\">\n      <th></th>\n      <th>AMT</th>\n    </tr>\n  </thead>\n  <tbody>\n    <tr>\n      <th>0</th>\n      <td>85331512.0</td>\n    </tr>\n    <tr>\n      <th>1</th>\n      <td>7308394496.0</td>\n    </tr>\n    <tr>\n      <th>2</th>\n      <td>1227115136.0</td>\n    </tr>\n    <tr>\n      <th>3</th>\n      <td>7095322.0</td>\n    </tr>\n    <tr>\n      <th>4</th>\n      <td>0.0</td>\n    </tr>\n    <tr>\n      <th>...</th>\n      <td>...</td>\n    </tr>\n    <tr>\n      <th>692</th>\n      <td>1871735424.0</td>\n    </tr>\n    <tr>\n      <th>693</th>\n      <td>49683238912.0</td>\n    </tr>\n    <tr>\n      <th>694</th>\n      <td>17737688.0</td>\n    </tr>\n    <tr>\n      <th>695</th>\n      <td>491193600.0</td>\n    </tr>\n    <tr>\n      <th>696</th>\n      <td>44981824.0</td>\n    </tr>\n  </tbody>\n</table>\n<p>697 rows × 1 columns</p>\n</div>"
     },
     "metadata": {},
     "execution_count": 76
    }
   ],
   "source": [
    "## 7월 AMT 생성\n",
    "best_model = build_model()\n",
    "July_amt = best_model.predict(predict)\n",
    "July_amt = np.round(10**July_amt) - 1\n",
    "July_amt = pd.DataFrame(July_amt, columns=['AMT'])\n",
    "July_amt"
   ]
  },
  {
   "cell_type": "code",
   "execution_count": 87,
   "metadata": {},
   "outputs": [
    {
     "output_type": "execute_result",
     "data": {
      "text/plain": "               AMT\n0       88823988.0\n1     4708346820.0\n2     1121028924.0\n3       14360780.0\n4              0.0\n...            ...\n1389  1871735424.0\n1390 49683238912.0\n1391    17737688.0\n1392   491193600.0\n1393    44981824.0\n\n[1394 rows x 1 columns]",
      "text/html": "<div>\n<style scoped>\n    .dataframe tbody tr th:only-of-type {\n        vertical-align: middle;\n    }\n\n    .dataframe tbody tr th {\n        vertical-align: top;\n    }\n\n    .dataframe thead th {\n        text-align: right;\n    }\n</style>\n<table border=\"1\" class=\"dataframe\">\n  <thead>\n    <tr style=\"text-align: right;\">\n      <th></th>\n      <th>AMT</th>\n    </tr>\n  </thead>\n  <tbody>\n    <tr>\n      <th>0</th>\n      <td>88823988.0</td>\n    </tr>\n    <tr>\n      <th>1</th>\n      <td>4708346820.0</td>\n    </tr>\n    <tr>\n      <th>2</th>\n      <td>1121028924.0</td>\n    </tr>\n    <tr>\n      <th>3</th>\n      <td>14360780.0</td>\n    </tr>\n    <tr>\n      <th>4</th>\n      <td>0.0</td>\n    </tr>\n    <tr>\n      <th>...</th>\n      <td>...</td>\n    </tr>\n    <tr>\n      <th>1389</th>\n      <td>1871735424.0</td>\n    </tr>\n    <tr>\n      <th>1390</th>\n      <td>49683238912.0</td>\n    </tr>\n    <tr>\n      <th>1391</th>\n      <td>17737688.0</td>\n    </tr>\n    <tr>\n      <th>1392</th>\n      <td>491193600.0</td>\n    </tr>\n    <tr>\n      <th>1393</th>\n      <td>44981824.0</td>\n    </tr>\n  </tbody>\n</table>\n<p>1394 rows × 1 columns</p>\n</div>"
     },
     "metadata": {},
     "execution_count": 87
    }
   ],
   "source": [
    "April_amt.columns = ['AMT']\n",
    "sub_amt = pd.concat([April_amt, July_amt])\n",
    "sub_amt = sub_amt.set_index('AMT').reset_index()\n",
    "sub_amt"
   ]
  },
  {
   "cell_type": "code",
   "execution_count": 82,
   "metadata": {},
   "outputs": [],
   "source": [
    "sub = pd.read_csv('submission.csv')"
   ]
  },
  {
   "cell_type": "code",
   "execution_count": 84,
   "metadata": {},
   "outputs": [],
   "source": [
    "sub.drop('AMT', axis = 1, inplace = True)"
   ]
  },
  {
   "cell_type": "code",
   "execution_count": 88,
   "metadata": {},
   "outputs": [
    {
     "output_type": "execute_result",
     "data": {
      "text/plain": "        id  REG_YYMM CARD_SIDO_NM            STD_CLSS_NM           AMT\n0        0    202004           강원             건강보조식품 소매업    88823988.0\n1        1    202004           강원                골프장 운영업  4708346820.0\n2        2    202004           강원            과실 및 채소 소매업  1121028924.0\n3        3    202004           강원      관광 민예품 및 선물용품 소매업    14360780.0\n4        4    202004           강원   그외 기타 분류안된 오락관련 서비스업           0.0\n...    ...       ...          ...                    ...           ...\n1389  1389    202007           충북  피자 햄버거 샌드위치 및 유사 음식점업  1871735424.0\n1390  1390    202007           충북                한식 음식점업 49683238912.0\n1391  1391    202007           충북                    호텔업    17737688.0\n1392  1392    202007           충북          화장품 및 방향제 소매업   491193600.0\n1393  1393    202007           충북               휴양콘도 운영업    44981824.0\n\n[1394 rows x 5 columns]",
      "text/html": "<div>\n<style scoped>\n    .dataframe tbody tr th:only-of-type {\n        vertical-align: middle;\n    }\n\n    .dataframe tbody tr th {\n        vertical-align: top;\n    }\n\n    .dataframe thead th {\n        text-align: right;\n    }\n</style>\n<table border=\"1\" class=\"dataframe\">\n  <thead>\n    <tr style=\"text-align: right;\">\n      <th></th>\n      <th>id</th>\n      <th>REG_YYMM</th>\n      <th>CARD_SIDO_NM</th>\n      <th>STD_CLSS_NM</th>\n      <th>AMT</th>\n    </tr>\n  </thead>\n  <tbody>\n    <tr>\n      <th>0</th>\n      <td>0</td>\n      <td>202004</td>\n      <td>강원</td>\n      <td>건강보조식품 소매업</td>\n      <td>88823988.0</td>\n    </tr>\n    <tr>\n      <th>1</th>\n      <td>1</td>\n      <td>202004</td>\n      <td>강원</td>\n      <td>골프장 운영업</td>\n      <td>4708346820.0</td>\n    </tr>\n    <tr>\n      <th>2</th>\n      <td>2</td>\n      <td>202004</td>\n      <td>강원</td>\n      <td>과실 및 채소 소매업</td>\n      <td>1121028924.0</td>\n    </tr>\n    <tr>\n      <th>3</th>\n      <td>3</td>\n      <td>202004</td>\n      <td>강원</td>\n      <td>관광 민예품 및 선물용품 소매업</td>\n      <td>14360780.0</td>\n    </tr>\n    <tr>\n      <th>4</th>\n      <td>4</td>\n      <td>202004</td>\n      <td>강원</td>\n      <td>그외 기타 분류안된 오락관련 서비스업</td>\n      <td>0.0</td>\n    </tr>\n    <tr>\n      <th>...</th>\n      <td>...</td>\n      <td>...</td>\n      <td>...</td>\n      <td>...</td>\n      <td>...</td>\n    </tr>\n    <tr>\n      <th>1389</th>\n      <td>1389</td>\n      <td>202007</td>\n      <td>충북</td>\n      <td>피자 햄버거 샌드위치 및 유사 음식점업</td>\n      <td>1871735424.0</td>\n    </tr>\n    <tr>\n      <th>1390</th>\n      <td>1390</td>\n      <td>202007</td>\n      <td>충북</td>\n      <td>한식 음식점업</td>\n      <td>49683238912.0</td>\n    </tr>\n    <tr>\n      <th>1391</th>\n      <td>1391</td>\n      <td>202007</td>\n      <td>충북</td>\n      <td>호텔업</td>\n      <td>17737688.0</td>\n    </tr>\n    <tr>\n      <th>1392</th>\n      <td>1392</td>\n      <td>202007</td>\n      <td>충북</td>\n      <td>화장품 및 방향제 소매업</td>\n      <td>491193600.0</td>\n    </tr>\n    <tr>\n      <th>1393</th>\n      <td>1393</td>\n      <td>202007</td>\n      <td>충북</td>\n      <td>휴양콘도 운영업</td>\n      <td>44981824.0</td>\n    </tr>\n  </tbody>\n</table>\n<p>1394 rows × 5 columns</p>\n</div>"
     },
     "metadata": {},
     "execution_count": 88
    }
   ],
   "source": [
    "finish = pd.concat([sub, sub_amt], axis = 1)\n",
    "finish"
   ]
  },
  {
   "cell_type": "code",
   "execution_count": 90,
   "metadata": {},
   "outputs": [],
   "source": [
    "finish.to_csv('finish.csv', index = False , encoding = 'utf-8-sig')"
   ]
  },
  {
   "cell_type": "code",
   "execution_count": 91,
   "metadata": {},
   "outputs": [
    {
     "output_type": "execute_result",
     "data": {
      "text/plain": "        id  REG_YYMM CARD_SIDO_NM            STD_CLSS_NM           AMT\n0        0    202004           강원             건강보조식품 소매업    88823988.0\n1        1    202004           강원                골프장 운영업  4708346820.0\n2        2    202004           강원            과실 및 채소 소매업  1121028924.0\n3        3    202004           강원      관광 민예품 및 선물용품 소매업    14360780.0\n4        4    202004           강원   그외 기타 분류안된 오락관련 서비스업           0.0\n...    ...       ...          ...                    ...           ...\n1389  1389    202007           충북  피자 햄버거 샌드위치 및 유사 음식점업  1871735424.0\n1390  1390    202007           충북                한식 음식점업 49683238912.0\n1391  1391    202007           충북                    호텔업    17737688.0\n1392  1392    202007           충북          화장품 및 방향제 소매업   491193600.0\n1393  1393    202007           충북               휴양콘도 운영업    44981824.0\n\n[1394 rows x 5 columns]",
      "text/html": "<div>\n<style scoped>\n    .dataframe tbody tr th:only-of-type {\n        vertical-align: middle;\n    }\n\n    .dataframe tbody tr th {\n        vertical-align: top;\n    }\n\n    .dataframe thead th {\n        text-align: right;\n    }\n</style>\n<table border=\"1\" class=\"dataframe\">\n  <thead>\n    <tr style=\"text-align: right;\">\n      <th></th>\n      <th>id</th>\n      <th>REG_YYMM</th>\n      <th>CARD_SIDO_NM</th>\n      <th>STD_CLSS_NM</th>\n      <th>AMT</th>\n    </tr>\n  </thead>\n  <tbody>\n    <tr>\n      <th>0</th>\n      <td>0</td>\n      <td>202004</td>\n      <td>강원</td>\n      <td>건강보조식품 소매업</td>\n      <td>88823988.0</td>\n    </tr>\n    <tr>\n      <th>1</th>\n      <td>1</td>\n      <td>202004</td>\n      <td>강원</td>\n      <td>골프장 운영업</td>\n      <td>4708346820.0</td>\n    </tr>\n    <tr>\n      <th>2</th>\n      <td>2</td>\n      <td>202004</td>\n      <td>강원</td>\n      <td>과실 및 채소 소매업</td>\n      <td>1121028924.0</td>\n    </tr>\n    <tr>\n      <th>3</th>\n      <td>3</td>\n      <td>202004</td>\n      <td>강원</td>\n      <td>관광 민예품 및 선물용품 소매업</td>\n      <td>14360780.0</td>\n    </tr>\n    <tr>\n      <th>4</th>\n      <td>4</td>\n      <td>202004</td>\n      <td>강원</td>\n      <td>그외 기타 분류안된 오락관련 서비스업</td>\n      <td>0.0</td>\n    </tr>\n    <tr>\n      <th>...</th>\n      <td>...</td>\n      <td>...</td>\n      <td>...</td>\n      <td>...</td>\n      <td>...</td>\n    </tr>\n    <tr>\n      <th>1389</th>\n      <td>1389</td>\n      <td>202007</td>\n      <td>충북</td>\n      <td>피자 햄버거 샌드위치 및 유사 음식점업</td>\n      <td>1871735424.0</td>\n    </tr>\n    <tr>\n      <th>1390</th>\n      <td>1390</td>\n      <td>202007</td>\n      <td>충북</td>\n      <td>한식 음식점업</td>\n      <td>49683238912.0</td>\n    </tr>\n    <tr>\n      <th>1391</th>\n      <td>1391</td>\n      <td>202007</td>\n      <td>충북</td>\n      <td>호텔업</td>\n      <td>17737688.0</td>\n    </tr>\n    <tr>\n      <th>1392</th>\n      <td>1392</td>\n      <td>202007</td>\n      <td>충북</td>\n      <td>화장품 및 방향제 소매업</td>\n      <td>491193600.0</td>\n    </tr>\n    <tr>\n      <th>1393</th>\n      <td>1393</td>\n      <td>202007</td>\n      <td>충북</td>\n      <td>휴양콘도 운영업</td>\n      <td>44981824.0</td>\n    </tr>\n  </tbody>\n</table>\n<p>1394 rows × 5 columns</p>\n</div>"
     },
     "metadata": {},
     "execution_count": 91
    }
   ],
   "source": [
    "pd.read_csv('finish.csv')"
   ]
  },
  {
   "cell_type": "code",
   "execution_count": 92,
   "metadata": {},
   "outputs": [
    {
     "output_type": "execute_result",
     "data": {
      "text/plain": "           AMT\n0   85331512.0\n1 7308394496.0\n2 1227115136.0\n3    7095322.0\n4          0.0\n5       9481.0\n6  302020704.0\n7 9147346944.0\n8          8.0\n9  835485440.0",
      "text/html": "<div>\n<style scoped>\n    .dataframe tbody tr th:only-of-type {\n        vertical-align: middle;\n    }\n\n    .dataframe tbody tr th {\n        vertical-align: top;\n    }\n\n    .dataframe thead th {\n        text-align: right;\n    }\n</style>\n<table border=\"1\" class=\"dataframe\">\n  <thead>\n    <tr style=\"text-align: right;\">\n      <th></th>\n      <th>AMT</th>\n    </tr>\n  </thead>\n  <tbody>\n    <tr>\n      <th>0</th>\n      <td>85331512.0</td>\n    </tr>\n    <tr>\n      <th>1</th>\n      <td>7308394496.0</td>\n    </tr>\n    <tr>\n      <th>2</th>\n      <td>1227115136.0</td>\n    </tr>\n    <tr>\n      <th>3</th>\n      <td>7095322.0</td>\n    </tr>\n    <tr>\n      <th>4</th>\n      <td>0.0</td>\n    </tr>\n    <tr>\n      <th>5</th>\n      <td>9481.0</td>\n    </tr>\n    <tr>\n      <th>6</th>\n      <td>302020704.0</td>\n    </tr>\n    <tr>\n      <th>7</th>\n      <td>9147346944.0</td>\n    </tr>\n    <tr>\n      <th>8</th>\n      <td>8.0</td>\n    </tr>\n    <tr>\n      <th>9</th>\n      <td>835485440.0</td>\n    </tr>\n  </tbody>\n</table>\n</div>"
     },
     "metadata": {},
     "execution_count": 92
    }
   ],
   "source": [
    "July_amt[:10]"
   ]
  },
  {
   "cell_type": "markdown",
   "metadata": {},
   "source": [
    "# 보완할점 및 새로운 시도\n",
    "- **가중치가 계속 변하기 떄문에 현재 방식으로는 정확한 예측이 어렵다.**\n",
    "- **best model을 사용하여 7월을 예측하였기 때문에 데이터가 증가항목은 계속증가하고 감소항목은 계속 감소하는 오류가 발생하였다.**\n",
    "- **ARIMA 모델을 사용하여 step을 설정하여서 7월을 예측해보면 더 나은 결과를 얻을 수 있지 않을까 예상을 해본다.**"
   ]
  },
  {
   "cell_type": "code",
   "execution_count": null,
   "metadata": {},
   "outputs": [],
   "source": []
  }
 ],
 "metadata": {
  "kernelspec": {
   "display_name": "Python 3",
   "language": "python",
   "name": "python3"
  },
  "language_info": {
   "codemirror_mode": {
    "name": "ipython",
    "version": 3
   },
   "file_extension": ".py",
   "mimetype": "text/x-python",
   "name": "python",
   "nbconvert_exporter": "python",
   "pygments_lexer": "ipython3",
   "version": "3.7.6-final"
  },
  "toc": {
   "base_numbering": 1,
   "nav_menu": {},
   "number_sections": true,
   "sideBar": true,
   "skip_h1_title": false,
   "title_cell": "Table of Contents",
   "title_sidebar": "Contents",
   "toc_cell": false,
   "toc_position": {},
   "toc_section_display": true,
   "toc_window_display": false
  }
 },
 "nbformat": 4,
 "nbformat_minor": 4
}