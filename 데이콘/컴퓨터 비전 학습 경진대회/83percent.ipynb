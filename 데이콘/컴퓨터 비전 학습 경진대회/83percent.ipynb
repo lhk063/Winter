{
 "metadata": {
  "language_info": {
   "codemirror_mode": {
    "name": "ipython",
    "version": 3
   },
   "file_extension": ".py",
   "mimetype": "text/x-python",
   "name": "python",
   "nbconvert_exporter": "python",
   "pygments_lexer": "ipython3",
   "version": "3.7.6-final"
  },
  "orig_nbformat": 2,
  "kernelspec": {
   "name": "python_defaultSpec_1599357586404",
   "display_name": "Python 3.7.6 64-bit ('base': conda)"
  }
 },
 "nbformat": 4,
 "nbformat_minor": 2,
 "cells": [
  {
   "cell_type": "code",
   "execution_count": 1,
   "metadata": {
    "tags": []
   },
   "outputs": [
    {
     "output_type": "stream",
     "name": "stderr",
     "text": "Using TensorFlow backend.\n"
    }
   ],
   "source": [
    "import tensorflow as tf\n",
    "import keras\n",
    "import numpy as np\n",
    "import pandas as pd\n",
    "from tensorflow.keras import datasets, layers, models, optimizers\n"
   ]
  },
  {
   "cell_type": "code",
   "execution_count": 2,
   "metadata": {},
   "outputs": [],
   "source": [
    "train = pd.read_csv('data/train.csv')"
   ]
  },
  {
   "cell_type": "code",
   "execution_count": 3,
   "metadata": {},
   "outputs": [
    {
     "output_type": "execute_result",
     "data": {
      "text/plain": "        id  digit letter  0  1  2  3  4  5  6  ...  774  775  776  777  778  \\\n0        1      5      L  1  1  1  4  3  0  0  ...    2    1    0    1    2   \n1        2      0      B  0  4  0  0  4  1  1  ...    0    3    0    1    4   \n2        3      4      L  1  1  2  2  1  1  1  ...    3    3    3    0    2   \n3        4      9      D  1  2  0  2  0  4  0  ...    3    3    2    0    1   \n4        5      6      A  3  0  2  4  0  3  0  ...    4    4    3    2    1   \n...    ...    ...    ... .. .. .. .. .. .. ..  ...  ...  ...  ...  ...  ...   \n2043  2044      6      V  2  4  3  4  2  4  4  ...    0    2    2    0    0   \n2044  2045      1      L  3  2  2  1  1  4  0  ...    2    3    4    2    1   \n2045  2046      9      A  4  0  4  0  2  4  4  ...    2    3    1    1    3   \n2046  2047      0      Z  2  3  3  0  3  0  4  ...    2    3    1    1    0   \n2047  2048      5      Z  4  2  2  1  3  0  0  ...    4    2    4    0    4   \n\n      779  780  781  782  783  \n0       4    4    4    3    4  \n1       1    4    2    1    2  \n2       0    3    0    2    2  \n3       4    0    0    1    1  \n4       3    4    3    1    2  \n...   ...  ...  ...  ...  ...  \n2043    1    3    1    4    0  \n2044    2    3    4    1    1  \n2045    4    2    2    0    0  \n2046    4    1    4    3    1  \n2047    3    2    4    3    4  \n\n[2048 rows x 787 columns]",
      "text/html": "<div>\n<style scoped>\n    .dataframe tbody tr th:only-of-type {\n        vertical-align: middle;\n    }\n\n    .dataframe tbody tr th {\n        vertical-align: top;\n    }\n\n    .dataframe thead th {\n        text-align: right;\n    }\n</style>\n<table border=\"1\" class=\"dataframe\">\n  <thead>\n    <tr style=\"text-align: right;\">\n      <th></th>\n      <th>id</th>\n      <th>digit</th>\n      <th>letter</th>\n      <th>0</th>\n      <th>1</th>\n      <th>2</th>\n      <th>3</th>\n      <th>4</th>\n      <th>5</th>\n      <th>6</th>\n      <th>...</th>\n      <th>774</th>\n      <th>775</th>\n      <th>776</th>\n      <th>777</th>\n      <th>778</th>\n      <th>779</th>\n      <th>780</th>\n      <th>781</th>\n      <th>782</th>\n      <th>783</th>\n    </tr>\n  </thead>\n  <tbody>\n    <tr>\n      <th>0</th>\n      <td>1</td>\n      <td>5</td>\n      <td>L</td>\n      <td>1</td>\n      <td>1</td>\n      <td>1</td>\n      <td>4</td>\n      <td>3</td>\n      <td>0</td>\n      <td>0</td>\n      <td>...</td>\n      <td>2</td>\n      <td>1</td>\n      <td>0</td>\n      <td>1</td>\n      <td>2</td>\n      <td>4</td>\n      <td>4</td>\n      <td>4</td>\n      <td>3</td>\n      <td>4</td>\n    </tr>\n    <tr>\n      <th>1</th>\n      <td>2</td>\n      <td>0</td>\n      <td>B</td>\n      <td>0</td>\n      <td>4</td>\n      <td>0</td>\n      <td>0</td>\n      <td>4</td>\n      <td>1</td>\n      <td>1</td>\n      <td>...</td>\n      <td>0</td>\n      <td>3</td>\n      <td>0</td>\n      <td>1</td>\n      <td>4</td>\n      <td>1</td>\n      <td>4</td>\n      <td>2</td>\n      <td>1</td>\n      <td>2</td>\n    </tr>\n    <tr>\n      <th>2</th>\n      <td>3</td>\n      <td>4</td>\n      <td>L</td>\n      <td>1</td>\n      <td>1</td>\n      <td>2</td>\n      <td>2</td>\n      <td>1</td>\n      <td>1</td>\n      <td>1</td>\n      <td>...</td>\n      <td>3</td>\n      <td>3</td>\n      <td>3</td>\n      <td>0</td>\n      <td>2</td>\n      <td>0</td>\n      <td>3</td>\n      <td>0</td>\n      <td>2</td>\n      <td>2</td>\n    </tr>\n    <tr>\n      <th>3</th>\n      <td>4</td>\n      <td>9</td>\n      <td>D</td>\n      <td>1</td>\n      <td>2</td>\n      <td>0</td>\n      <td>2</td>\n      <td>0</td>\n      <td>4</td>\n      <td>0</td>\n      <td>...</td>\n      <td>3</td>\n      <td>3</td>\n      <td>2</td>\n      <td>0</td>\n      <td>1</td>\n      <td>4</td>\n      <td>0</td>\n      <td>0</td>\n      <td>1</td>\n      <td>1</td>\n    </tr>\n    <tr>\n      <th>4</th>\n      <td>5</td>\n      <td>6</td>\n      <td>A</td>\n      <td>3</td>\n      <td>0</td>\n      <td>2</td>\n      <td>4</td>\n      <td>0</td>\n      <td>3</td>\n      <td>0</td>\n      <td>...</td>\n      <td>4</td>\n      <td>4</td>\n      <td>3</td>\n      <td>2</td>\n      <td>1</td>\n      <td>3</td>\n      <td>4</td>\n      <td>3</td>\n      <td>1</td>\n      <td>2</td>\n    </tr>\n    <tr>\n      <th>...</th>\n      <td>...</td>\n      <td>...</td>\n      <td>...</td>\n      <td>...</td>\n      <td>...</td>\n      <td>...</td>\n      <td>...</td>\n      <td>...</td>\n      <td>...</td>\n      <td>...</td>\n      <td>...</td>\n      <td>...</td>\n      <td>...</td>\n      <td>...</td>\n      <td>...</td>\n      <td>...</td>\n      <td>...</td>\n      <td>...</td>\n      <td>...</td>\n      <td>...</td>\n      <td>...</td>\n    </tr>\n    <tr>\n      <th>2043</th>\n      <td>2044</td>\n      <td>6</td>\n      <td>V</td>\n      <td>2</td>\n      <td>4</td>\n      <td>3</td>\n      <td>4</td>\n      <td>2</td>\n      <td>4</td>\n      <td>4</td>\n      <td>...</td>\n      <td>0</td>\n      <td>2</td>\n      <td>2</td>\n      <td>0</td>\n      <td>0</td>\n      <td>1</td>\n      <td>3</td>\n      <td>1</td>\n      <td>4</td>\n      <td>0</td>\n    </tr>\n    <tr>\n      <th>2044</th>\n      <td>2045</td>\n      <td>1</td>\n      <td>L</td>\n      <td>3</td>\n      <td>2</td>\n      <td>2</td>\n      <td>1</td>\n      <td>1</td>\n      <td>4</td>\n      <td>0</td>\n      <td>...</td>\n      <td>2</td>\n      <td>3</td>\n      <td>4</td>\n      <td>2</td>\n      <td>1</td>\n      <td>2</td>\n      <td>3</td>\n      <td>4</td>\n      <td>1</td>\n      <td>1</td>\n    </tr>\n    <tr>\n      <th>2045</th>\n      <td>2046</td>\n      <td>9</td>\n      <td>A</td>\n      <td>4</td>\n      <td>0</td>\n      <td>4</td>\n      <td>0</td>\n      <td>2</td>\n      <td>4</td>\n      <td>4</td>\n      <td>...</td>\n      <td>2</td>\n      <td>3</td>\n      <td>1</td>\n      <td>1</td>\n      <td>3</td>\n      <td>4</td>\n      <td>2</td>\n      <td>2</td>\n      <td>0</td>\n      <td>0</td>\n    </tr>\n    <tr>\n      <th>2046</th>\n      <td>2047</td>\n      <td>0</td>\n      <td>Z</td>\n      <td>2</td>\n      <td>3</td>\n      <td>3</td>\n      <td>0</td>\n      <td>3</td>\n      <td>0</td>\n      <td>4</td>\n      <td>...</td>\n      <td>2</td>\n      <td>3</td>\n      <td>1</td>\n      <td>1</td>\n      <td>0</td>\n      <td>4</td>\n      <td>1</td>\n      <td>4</td>\n      <td>3</td>\n      <td>1</td>\n    </tr>\n    <tr>\n      <th>2047</th>\n      <td>2048</td>\n      <td>5</td>\n      <td>Z</td>\n      <td>4</td>\n      <td>2</td>\n      <td>2</td>\n      <td>1</td>\n      <td>3</td>\n      <td>0</td>\n      <td>0</td>\n      <td>...</td>\n      <td>4</td>\n      <td>2</td>\n      <td>4</td>\n      <td>0</td>\n      <td>4</td>\n      <td>3</td>\n      <td>2</td>\n      <td>4</td>\n      <td>3</td>\n      <td>4</td>\n    </tr>\n  </tbody>\n</table>\n<p>2048 rows × 787 columns</p>\n</div>"
     },
     "metadata": {},
     "execution_count": 3
    }
   ],
   "source": [
    "train"
   ]
  },
  {
   "cell_type": "code",
   "execution_count": 4,
   "metadata": {},
   "outputs": [
    {
     "output_type": "execute_result",
     "data": {
      "text/plain": "        id  digit letter  0  1  2  3  4  5  6  ...  774  775  776  777  778  \\\n0        1      5      L  1  1  1  4  3  0  0  ...    2    1    0    1    2   \n1        2      0      B  0  4  0  0  4  1  1  ...    0    3    0    1    4   \n2        3      4      L  1  1  2  2  1  1  1  ...    3    3    3    0    2   \n3        4      9      D  1  2  0  2  0  4  0  ...    3    3    2    0    1   \n4        5      6      A  3  0  2  4  0  3  0  ...    4    4    3    2    1   \n...    ...    ...    ... .. .. .. .. .. .. ..  ...  ...  ...  ...  ...  ...   \n2043  2044      6      V  2  4  3  4  2  4  4  ...    0    2    2    0    0   \n2044  2045      1      L  3  2  2  1  1  4  0  ...    2    3    4    2    1   \n2045  2046      9      A  4  0  4  0  2  4  4  ...    2    3    1    1    3   \n2046  2047      0      Z  2  3  3  0  3  0  4  ...    2    3    1    1    0   \n2047  2048      5      Z  4  2  2  1  3  0  0  ...    4    2    4    0    4   \n\n      779  780  781  782  783  \n0       4    4    4    3    4  \n1       1    4    2    1    2  \n2       0    3    0    2    2  \n3       4    0    0    1    1  \n4       3    4    3    1    2  \n...   ...  ...  ...  ...  ...  \n2043    1    3    1    4    0  \n2044    2    3    4    1    1  \n2045    4    2    2    0    0  \n2046    4    1    4    3    1  \n2047    3    2    4    3    4  \n\n[2048 rows x 787 columns]",
      "text/html": "<div>\n<style scoped>\n    .dataframe tbody tr th:only-of-type {\n        vertical-align: middle;\n    }\n\n    .dataframe tbody tr th {\n        vertical-align: top;\n    }\n\n    .dataframe thead th {\n        text-align: right;\n    }\n</style>\n<table border=\"1\" class=\"dataframe\">\n  <thead>\n    <tr style=\"text-align: right;\">\n      <th></th>\n      <th>id</th>\n      <th>digit</th>\n      <th>letter</th>\n      <th>0</th>\n      <th>1</th>\n      <th>2</th>\n      <th>3</th>\n      <th>4</th>\n      <th>5</th>\n      <th>6</th>\n      <th>...</th>\n      <th>774</th>\n      <th>775</th>\n      <th>776</th>\n      <th>777</th>\n      <th>778</th>\n      <th>779</th>\n      <th>780</th>\n      <th>781</th>\n      <th>782</th>\n      <th>783</th>\n    </tr>\n  </thead>\n  <tbody>\n    <tr>\n      <th>0</th>\n      <td>1</td>\n      <td>5</td>\n      <td>L</td>\n      <td>1</td>\n      <td>1</td>\n      <td>1</td>\n      <td>4</td>\n      <td>3</td>\n      <td>0</td>\n      <td>0</td>\n      <td>...</td>\n      <td>2</td>\n      <td>1</td>\n      <td>0</td>\n      <td>1</td>\n      <td>2</td>\n      <td>4</td>\n      <td>4</td>\n      <td>4</td>\n      <td>3</td>\n      <td>4</td>\n    </tr>\n    <tr>\n      <th>1</th>\n      <td>2</td>\n      <td>0</td>\n      <td>B</td>\n      <td>0</td>\n      <td>4</td>\n      <td>0</td>\n      <td>0</td>\n      <td>4</td>\n      <td>1</td>\n      <td>1</td>\n      <td>...</td>\n      <td>0</td>\n      <td>3</td>\n      <td>0</td>\n      <td>1</td>\n      <td>4</td>\n      <td>1</td>\n      <td>4</td>\n      <td>2</td>\n      <td>1</td>\n      <td>2</td>\n    </tr>\n    <tr>\n      <th>2</th>\n      <td>3</td>\n      <td>4</td>\n      <td>L</td>\n      <td>1</td>\n      <td>1</td>\n      <td>2</td>\n      <td>2</td>\n      <td>1</td>\n      <td>1</td>\n      <td>1</td>\n      <td>...</td>\n      <td>3</td>\n      <td>3</td>\n      <td>3</td>\n      <td>0</td>\n      <td>2</td>\n      <td>0</td>\n      <td>3</td>\n      <td>0</td>\n      <td>2</td>\n      <td>2</td>\n    </tr>\n    <tr>\n      <th>3</th>\n      <td>4</td>\n      <td>9</td>\n      <td>D</td>\n      <td>1</td>\n      <td>2</td>\n      <td>0</td>\n      <td>2</td>\n      <td>0</td>\n      <td>4</td>\n      <td>0</td>\n      <td>...</td>\n      <td>3</td>\n      <td>3</td>\n      <td>2</td>\n      <td>0</td>\n      <td>1</td>\n      <td>4</td>\n      <td>0</td>\n      <td>0</td>\n      <td>1</td>\n      <td>1</td>\n    </tr>\n    <tr>\n      <th>4</th>\n      <td>5</td>\n      <td>6</td>\n      <td>A</td>\n      <td>3</td>\n      <td>0</td>\n      <td>2</td>\n      <td>4</td>\n      <td>0</td>\n      <td>3</td>\n      <td>0</td>\n      <td>...</td>\n      <td>4</td>\n      <td>4</td>\n      <td>3</td>\n      <td>2</td>\n      <td>1</td>\n      <td>3</td>\n      <td>4</td>\n      <td>3</td>\n      <td>1</td>\n      <td>2</td>\n    </tr>\n    <tr>\n      <th>...</th>\n      <td>...</td>\n      <td>...</td>\n      <td>...</td>\n      <td>...</td>\n      <td>...</td>\n      <td>...</td>\n      <td>...</td>\n      <td>...</td>\n      <td>...</td>\n      <td>...</td>\n      <td>...</td>\n      <td>...</td>\n      <td>...</td>\n      <td>...</td>\n      <td>...</td>\n      <td>...</td>\n      <td>...</td>\n      <td>...</td>\n      <td>...</td>\n      <td>...</td>\n      <td>...</td>\n    </tr>\n    <tr>\n      <th>2043</th>\n      <td>2044</td>\n      <td>6</td>\n      <td>V</td>\n      <td>2</td>\n      <td>4</td>\n      <td>3</td>\n      <td>4</td>\n      <td>2</td>\n      <td>4</td>\n      <td>4</td>\n      <td>...</td>\n      <td>0</td>\n      <td>2</td>\n      <td>2</td>\n      <td>0</td>\n      <td>0</td>\n      <td>1</td>\n      <td>3</td>\n      <td>1</td>\n      <td>4</td>\n      <td>0</td>\n    </tr>\n    <tr>\n      <th>2044</th>\n      <td>2045</td>\n      <td>1</td>\n      <td>L</td>\n      <td>3</td>\n      <td>2</td>\n      <td>2</td>\n      <td>1</td>\n      <td>1</td>\n      <td>4</td>\n      <td>0</td>\n      <td>...</td>\n      <td>2</td>\n      <td>3</td>\n      <td>4</td>\n      <td>2</td>\n      <td>1</td>\n      <td>2</td>\n      <td>3</td>\n      <td>4</td>\n      <td>1</td>\n      <td>1</td>\n    </tr>\n    <tr>\n      <th>2045</th>\n      <td>2046</td>\n      <td>9</td>\n      <td>A</td>\n      <td>4</td>\n      <td>0</td>\n      <td>4</td>\n      <td>0</td>\n      <td>2</td>\n      <td>4</td>\n      <td>4</td>\n      <td>...</td>\n      <td>2</td>\n      <td>3</td>\n      <td>1</td>\n      <td>1</td>\n      <td>3</td>\n      <td>4</td>\n      <td>2</td>\n      <td>2</td>\n      <td>0</td>\n      <td>0</td>\n    </tr>\n    <tr>\n      <th>2046</th>\n      <td>2047</td>\n      <td>0</td>\n      <td>Z</td>\n      <td>2</td>\n      <td>3</td>\n      <td>3</td>\n      <td>0</td>\n      <td>3</td>\n      <td>0</td>\n      <td>4</td>\n      <td>...</td>\n      <td>2</td>\n      <td>3</td>\n      <td>1</td>\n      <td>1</td>\n      <td>0</td>\n      <td>4</td>\n      <td>1</td>\n      <td>4</td>\n      <td>3</td>\n      <td>1</td>\n    </tr>\n    <tr>\n      <th>2047</th>\n      <td>2048</td>\n      <td>5</td>\n      <td>Z</td>\n      <td>4</td>\n      <td>2</td>\n      <td>2</td>\n      <td>1</td>\n      <td>3</td>\n      <td>0</td>\n      <td>0</td>\n      <td>...</td>\n      <td>4</td>\n      <td>2</td>\n      <td>4</td>\n      <td>0</td>\n      <td>4</td>\n      <td>3</td>\n      <td>2</td>\n      <td>4</td>\n      <td>3</td>\n      <td>4</td>\n    </tr>\n  </tbody>\n</table>\n<p>2048 rows × 787 columns</p>\n</div>"
     },
     "metadata": {},
     "execution_count": 4
    }
   ],
   "source": [
    "aa = train.copy()\n",
    "aa"
   ]
  },
  {
   "cell_type": "code",
   "execution_count": 5,
   "metadata": {},
   "outputs": [
    {
     "output_type": "execute_result",
     "data": {
      "text/plain": "      digit\n0         5\n1         0\n2         4\n3         9\n4         6\n...     ...\n2043      6\n2044      1\n2045      9\n2046      0\n2047      5\n\n[2048 rows x 1 columns]",
      "text/html": "<div>\n<style scoped>\n    .dataframe tbody tr th:only-of-type {\n        vertical-align: middle;\n    }\n\n    .dataframe tbody tr th {\n        vertical-align: top;\n    }\n\n    .dataframe thead th {\n        text-align: right;\n    }\n</style>\n<table border=\"1\" class=\"dataframe\">\n  <thead>\n    <tr style=\"text-align: right;\">\n      <th></th>\n      <th>digit</th>\n    </tr>\n  </thead>\n  <tbody>\n    <tr>\n      <th>0</th>\n      <td>5</td>\n    </tr>\n    <tr>\n      <th>1</th>\n      <td>0</td>\n    </tr>\n    <tr>\n      <th>2</th>\n      <td>4</td>\n    </tr>\n    <tr>\n      <th>3</th>\n      <td>9</td>\n    </tr>\n    <tr>\n      <th>4</th>\n      <td>6</td>\n    </tr>\n    <tr>\n      <th>...</th>\n      <td>...</td>\n    </tr>\n    <tr>\n      <th>2043</th>\n      <td>6</td>\n    </tr>\n    <tr>\n      <th>2044</th>\n      <td>1</td>\n    </tr>\n    <tr>\n      <th>2045</th>\n      <td>9</td>\n    </tr>\n    <tr>\n      <th>2046</th>\n      <td>0</td>\n    </tr>\n    <tr>\n      <th>2047</th>\n      <td>5</td>\n    </tr>\n  </tbody>\n</table>\n<p>2048 rows × 1 columns</p>\n</div>"
     },
     "metadata": {},
     "execution_count": 5
    }
   ],
   "source": [
    "ytrain = aa['digit']\n",
    "ytrain = ytrain.to_frame()\n",
    "ytrain"
   ]
  },
  {
   "cell_type": "code",
   "execution_count": 6,
   "metadata": {},
   "outputs": [
    {
     "output_type": "execute_result",
     "data": {
      "text/plain": "      0  1  2  3  4  5  6  7  8  9  ...  774  775  776  777  778  779  780  \\\n0     1  1  1  4  3  0  0  4  4  3  ...    2    1    0    1    2    4    4   \n1     0  4  0  0  4  1  1  1  4  2  ...    0    3    0    1    4    1    4   \n2     1  1  2  2  1  1  1  0  2  1  ...    3    3    3    0    2    0    3   \n3     1  2  0  2  0  4  0  3  4  3  ...    3    3    2    0    1    4    0   \n4     3  0  2  4  0  3  0  4  2  4  ...    4    4    3    2    1    3    4   \n...  .. .. .. .. .. .. .. .. .. ..  ...  ...  ...  ...  ...  ...  ...  ...   \n2043  2  4  3  4  2  4  4  1  2  1  ...    0    2    2    0    0    1    3   \n2044  3  2  2  1  1  4  0  1  4  2  ...    2    3    4    2    1    2    3   \n2045  4  0  4  0  2  4  4  4  3  4  ...    2    3    1    1    3    4    2   \n2046  2  3  3  0  3  0  4  3  0  1  ...    2    3    1    1    0    4    1   \n2047  4  2  2  1  3  0  0  0  3  2  ...    4    2    4    0    4    3    2   \n\n      781  782  783  \n0       4    3    4  \n1       2    1    2  \n2       0    2    2  \n3       0    1    1  \n4       3    1    2  \n...   ...  ...  ...  \n2043    1    4    0  \n2044    4    1    1  \n2045    2    0    0  \n2046    4    3    1  \n2047    4    3    4  \n\n[2048 rows x 784 columns]",
      "text/html": "<div>\n<style scoped>\n    .dataframe tbody tr th:only-of-type {\n        vertical-align: middle;\n    }\n\n    .dataframe tbody tr th {\n        vertical-align: top;\n    }\n\n    .dataframe thead th {\n        text-align: right;\n    }\n</style>\n<table border=\"1\" class=\"dataframe\">\n  <thead>\n    <tr style=\"text-align: right;\">\n      <th></th>\n      <th>0</th>\n      <th>1</th>\n      <th>2</th>\n      <th>3</th>\n      <th>4</th>\n      <th>5</th>\n      <th>6</th>\n      <th>7</th>\n      <th>8</th>\n      <th>9</th>\n      <th>...</th>\n      <th>774</th>\n      <th>775</th>\n      <th>776</th>\n      <th>777</th>\n      <th>778</th>\n      <th>779</th>\n      <th>780</th>\n      <th>781</th>\n      <th>782</th>\n      <th>783</th>\n    </tr>\n  </thead>\n  <tbody>\n    <tr>\n      <th>0</th>\n      <td>1</td>\n      <td>1</td>\n      <td>1</td>\n      <td>4</td>\n      <td>3</td>\n      <td>0</td>\n      <td>0</td>\n      <td>4</td>\n      <td>4</td>\n      <td>3</td>\n      <td>...</td>\n      <td>2</td>\n      <td>1</td>\n      <td>0</td>\n      <td>1</td>\n      <td>2</td>\n      <td>4</td>\n      <td>4</td>\n      <td>4</td>\n      <td>3</td>\n      <td>4</td>\n    </tr>\n    <tr>\n      <th>1</th>\n      <td>0</td>\n      <td>4</td>\n      <td>0</td>\n      <td>0</td>\n      <td>4</td>\n      <td>1</td>\n      <td>1</td>\n      <td>1</td>\n      <td>4</td>\n      <td>2</td>\n      <td>...</td>\n      <td>0</td>\n      <td>3</td>\n      <td>0</td>\n      <td>1</td>\n      <td>4</td>\n      <td>1</td>\n      <td>4</td>\n      <td>2</td>\n      <td>1</td>\n      <td>2</td>\n    </tr>\n    <tr>\n      <th>2</th>\n      <td>1</td>\n      <td>1</td>\n      <td>2</td>\n      <td>2</td>\n      <td>1</td>\n      <td>1</td>\n      <td>1</td>\n      <td>0</td>\n      <td>2</td>\n      <td>1</td>\n      <td>...</td>\n      <td>3</td>\n      <td>3</td>\n      <td>3</td>\n      <td>0</td>\n      <td>2</td>\n      <td>0</td>\n      <td>3</td>\n      <td>0</td>\n      <td>2</td>\n      <td>2</td>\n    </tr>\n    <tr>\n      <th>3</th>\n      <td>1</td>\n      <td>2</td>\n      <td>0</td>\n      <td>2</td>\n      <td>0</td>\n      <td>4</td>\n      <td>0</td>\n      <td>3</td>\n      <td>4</td>\n      <td>3</td>\n      <td>...</td>\n      <td>3</td>\n      <td>3</td>\n      <td>2</td>\n      <td>0</td>\n      <td>1</td>\n      <td>4</td>\n      <td>0</td>\n      <td>0</td>\n      <td>1</td>\n      <td>1</td>\n    </tr>\n    <tr>\n      <th>4</th>\n      <td>3</td>\n      <td>0</td>\n      <td>2</td>\n      <td>4</td>\n      <td>0</td>\n      <td>3</td>\n      <td>0</td>\n      <td>4</td>\n      <td>2</td>\n      <td>4</td>\n      <td>...</td>\n      <td>4</td>\n      <td>4</td>\n      <td>3</td>\n      <td>2</td>\n      <td>1</td>\n      <td>3</td>\n      <td>4</td>\n      <td>3</td>\n      <td>1</td>\n      <td>2</td>\n    </tr>\n    <tr>\n      <th>...</th>\n      <td>...</td>\n      <td>...</td>\n      <td>...</td>\n      <td>...</td>\n      <td>...</td>\n      <td>...</td>\n      <td>...</td>\n      <td>...</td>\n      <td>...</td>\n      <td>...</td>\n      <td>...</td>\n      <td>...</td>\n      <td>...</td>\n      <td>...</td>\n      <td>...</td>\n      <td>...</td>\n      <td>...</td>\n      <td>...</td>\n      <td>...</td>\n      <td>...</td>\n      <td>...</td>\n    </tr>\n    <tr>\n      <th>2043</th>\n      <td>2</td>\n      <td>4</td>\n      <td>3</td>\n      <td>4</td>\n      <td>2</td>\n      <td>4</td>\n      <td>4</td>\n      <td>1</td>\n      <td>2</td>\n      <td>1</td>\n      <td>...</td>\n      <td>0</td>\n      <td>2</td>\n      <td>2</td>\n      <td>0</td>\n      <td>0</td>\n      <td>1</td>\n      <td>3</td>\n      <td>1</td>\n      <td>4</td>\n      <td>0</td>\n    </tr>\n    <tr>\n      <th>2044</th>\n      <td>3</td>\n      <td>2</td>\n      <td>2</td>\n      <td>1</td>\n      <td>1</td>\n      <td>4</td>\n      <td>0</td>\n      <td>1</td>\n      <td>4</td>\n      <td>2</td>\n      <td>...</td>\n      <td>2</td>\n      <td>3</td>\n      <td>4</td>\n      <td>2</td>\n      <td>1</td>\n      <td>2</td>\n      <td>3</td>\n      <td>4</td>\n      <td>1</td>\n      <td>1</td>\n    </tr>\n    <tr>\n      <th>2045</th>\n      <td>4</td>\n      <td>0</td>\n      <td>4</td>\n      <td>0</td>\n      <td>2</td>\n      <td>4</td>\n      <td>4</td>\n      <td>4</td>\n      <td>3</td>\n      <td>4</td>\n      <td>...</td>\n      <td>2</td>\n      <td>3</td>\n      <td>1</td>\n      <td>1</td>\n      <td>3</td>\n      <td>4</td>\n      <td>2</td>\n      <td>2</td>\n      <td>0</td>\n      <td>0</td>\n    </tr>\n    <tr>\n      <th>2046</th>\n      <td>2</td>\n      <td>3</td>\n      <td>3</td>\n      <td>0</td>\n      <td>3</td>\n      <td>0</td>\n      <td>4</td>\n      <td>3</td>\n      <td>0</td>\n      <td>1</td>\n      <td>...</td>\n      <td>2</td>\n      <td>3</td>\n      <td>1</td>\n      <td>1</td>\n      <td>0</td>\n      <td>4</td>\n      <td>1</td>\n      <td>4</td>\n      <td>3</td>\n      <td>1</td>\n    </tr>\n    <tr>\n      <th>2047</th>\n      <td>4</td>\n      <td>2</td>\n      <td>2</td>\n      <td>1</td>\n      <td>3</td>\n      <td>0</td>\n      <td>0</td>\n      <td>0</td>\n      <td>3</td>\n      <td>2</td>\n      <td>...</td>\n      <td>4</td>\n      <td>2</td>\n      <td>4</td>\n      <td>0</td>\n      <td>4</td>\n      <td>3</td>\n      <td>2</td>\n      <td>4</td>\n      <td>3</td>\n      <td>4</td>\n    </tr>\n  </tbody>\n</table>\n<p>2048 rows × 784 columns</p>\n</div>"
     },
     "metadata": {},
     "execution_count": 6
    }
   ],
   "source": [
    "xtrain = aa.drop(['id', 'digit', 'letter'], axis = 1)\n",
    "xtrain"
   ]
  },
  {
   "cell_type": "code",
   "execution_count": 7,
   "metadata": {},
   "outputs": [],
   "source": [
    "from sklearn.preprocessing import OneHotEncoder\n",
    "encoder = OneHotEncoder()"
   ]
  },
  {
   "cell_type": "code",
   "execution_count": 8,
   "metadata": {},
   "outputs": [
    {
     "output_type": "execute_result",
     "data": {
      "text/plain": "array([[0., 0., 0., ..., 0., 0., 0.],\n       [1., 0., 0., ..., 0., 0., 0.],\n       [0., 0., 0., ..., 0., 0., 0.],\n       ...,\n       [0., 0., 0., ..., 0., 0., 1.],\n       [1., 0., 0., ..., 0., 0., 0.],\n       [0., 0., 0., ..., 0., 0., 0.]])"
     },
     "metadata": {},
     "execution_count": 8
    }
   ],
   "source": [
    "ytrain1 = encoder.fit_transform(ytrain)\n",
    "ytrain1 = ytrain1.toarray()\n",
    "ytrain1"
   ]
  },
  {
   "cell_type": "code",
   "execution_count": 9,
   "metadata": {},
   "outputs": [
    {
     "output_type": "execute_result",
     "data": {
      "text/plain": "      digit\n0         5\n1         0\n2         4\n3         9\n4         6\n...     ...\n2043      6\n2044      1\n2045      9\n2046      0\n2047      5\n\n[2048 rows x 1 columns]",
      "text/html": "<div>\n<style scoped>\n    .dataframe tbody tr th:only-of-type {\n        vertical-align: middle;\n    }\n\n    .dataframe tbody tr th {\n        vertical-align: top;\n    }\n\n    .dataframe thead th {\n        text-align: right;\n    }\n</style>\n<table border=\"1\" class=\"dataframe\">\n  <thead>\n    <tr style=\"text-align: right;\">\n      <th></th>\n      <th>digit</th>\n    </tr>\n  </thead>\n  <tbody>\n    <tr>\n      <th>0</th>\n      <td>5</td>\n    </tr>\n    <tr>\n      <th>1</th>\n      <td>0</td>\n    </tr>\n    <tr>\n      <th>2</th>\n      <td>4</td>\n    </tr>\n    <tr>\n      <th>3</th>\n      <td>9</td>\n    </tr>\n    <tr>\n      <th>4</th>\n      <td>6</td>\n    </tr>\n    <tr>\n      <th>...</th>\n      <td>...</td>\n    </tr>\n    <tr>\n      <th>2043</th>\n      <td>6</td>\n    </tr>\n    <tr>\n      <th>2044</th>\n      <td>1</td>\n    </tr>\n    <tr>\n      <th>2045</th>\n      <td>9</td>\n    </tr>\n    <tr>\n      <th>2046</th>\n      <td>0</td>\n    </tr>\n    <tr>\n      <th>2047</th>\n      <td>5</td>\n    </tr>\n  </tbody>\n</table>\n<p>2048 rows × 1 columns</p>\n</div>"
     },
     "metadata": {},
     "execution_count": 9
    }
   ],
   "source": [
    "# digit  디코딩\n",
    "decoding = np.argmax(ytrain1, axis=1).reshape(-1,1)\n",
    "decoding = pd.DataFrame(decoding, columns = ['digit'])\n",
    "decoding"
   ]
  },
  {
   "cell_type": "code",
   "execution_count": 10,
   "metadata": {},
   "outputs": [
    {
     "output_type": "execute_result",
     "data": {
      "text/plain": "             0         1         2         3         4         5         6  \\\n0     0.003922  0.003922  0.003922  0.015686  0.011765  0.000000  0.000000   \n1     0.000000  0.015686  0.000000  0.000000  0.015686  0.003922  0.003922   \n2     0.003922  0.003922  0.007843  0.007843  0.003922  0.003922  0.003922   \n3     0.003922  0.007843  0.000000  0.007843  0.000000  0.015686  0.000000   \n4     0.011765  0.000000  0.007843  0.015686  0.000000  0.011765  0.000000   \n...        ...       ...       ...       ...       ...       ...       ...   \n2043  0.007843  0.015686  0.011765  0.015686  0.007843  0.015686  0.015686   \n2044  0.011765  0.007843  0.007843  0.003922  0.003922  0.015686  0.000000   \n2045  0.015686  0.000000  0.015686  0.000000  0.007843  0.015686  0.015686   \n2046  0.007843  0.011765  0.011765  0.000000  0.011765  0.000000  0.015686   \n2047  0.015686  0.007843  0.007843  0.003922  0.011765  0.000000  0.000000   \n\n             7         8         9  ...       774       775       776  \\\n0     0.015686  0.015686  0.011765  ...  0.007843  0.003922  0.000000   \n1     0.003922  0.015686  0.007843  ...  0.000000  0.011765  0.000000   \n2     0.000000  0.007843  0.003922  ...  0.011765  0.011765  0.011765   \n3     0.011765  0.015686  0.011765  ...  0.011765  0.011765  0.007843   \n4     0.015686  0.007843  0.015686  ...  0.015686  0.015686  0.011765   \n...        ...       ...       ...  ...       ...       ...       ...   \n2043  0.003922  0.007843  0.003922  ...  0.000000  0.007843  0.007843   \n2044  0.003922  0.015686  0.007843  ...  0.007843  0.011765  0.015686   \n2045  0.015686  0.011765  0.015686  ...  0.007843  0.011765  0.003922   \n2046  0.011765  0.000000  0.003922  ...  0.007843  0.011765  0.003922   \n2047  0.000000  0.011765  0.007843  ...  0.015686  0.007843  0.015686   \n\n           777       778       779       780       781       782       783  \n0     0.003922  0.007843  0.015686  0.015686  0.015686  0.011765  0.015686  \n1     0.003922  0.015686  0.003922  0.015686  0.007843  0.003922  0.007843  \n2     0.000000  0.007843  0.000000  0.011765  0.000000  0.007843  0.007843  \n3     0.000000  0.003922  0.015686  0.000000  0.000000  0.003922  0.003922  \n4     0.007843  0.003922  0.011765  0.015686  0.011765  0.003922  0.007843  \n...        ...       ...       ...       ...       ...       ...       ...  \n2043  0.000000  0.000000  0.003922  0.011765  0.003922  0.015686  0.000000  \n2044  0.007843  0.003922  0.007843  0.011765  0.015686  0.003922  0.003922  \n2045  0.003922  0.011765  0.015686  0.007843  0.007843  0.000000  0.000000  \n2046  0.003922  0.000000  0.015686  0.003922  0.015686  0.011765  0.003922  \n2047  0.000000  0.015686  0.011765  0.007843  0.015686  0.011765  0.015686  \n\n[2048 rows x 784 columns]",
      "text/html": "<div>\n<style scoped>\n    .dataframe tbody tr th:only-of-type {\n        vertical-align: middle;\n    }\n\n    .dataframe tbody tr th {\n        vertical-align: top;\n    }\n\n    .dataframe thead th {\n        text-align: right;\n    }\n</style>\n<table border=\"1\" class=\"dataframe\">\n  <thead>\n    <tr style=\"text-align: right;\">\n      <th></th>\n      <th>0</th>\n      <th>1</th>\n      <th>2</th>\n      <th>3</th>\n      <th>4</th>\n      <th>5</th>\n      <th>6</th>\n      <th>7</th>\n      <th>8</th>\n      <th>9</th>\n      <th>...</th>\n      <th>774</th>\n      <th>775</th>\n      <th>776</th>\n      <th>777</th>\n      <th>778</th>\n      <th>779</th>\n      <th>780</th>\n      <th>781</th>\n      <th>782</th>\n      <th>783</th>\n    </tr>\n  </thead>\n  <tbody>\n    <tr>\n      <th>0</th>\n      <td>0.003922</td>\n      <td>0.003922</td>\n      <td>0.003922</td>\n      <td>0.015686</td>\n      <td>0.011765</td>\n      <td>0.000000</td>\n      <td>0.000000</td>\n      <td>0.015686</td>\n      <td>0.015686</td>\n      <td>0.011765</td>\n      <td>...</td>\n      <td>0.007843</td>\n      <td>0.003922</td>\n      <td>0.000000</td>\n      <td>0.003922</td>\n      <td>0.007843</td>\n      <td>0.015686</td>\n      <td>0.015686</td>\n      <td>0.015686</td>\n      <td>0.011765</td>\n      <td>0.015686</td>\n    </tr>\n    <tr>\n      <th>1</th>\n      <td>0.000000</td>\n      <td>0.015686</td>\n      <td>0.000000</td>\n      <td>0.000000</td>\n      <td>0.015686</td>\n      <td>0.003922</td>\n      <td>0.003922</td>\n      <td>0.003922</td>\n      <td>0.015686</td>\n      <td>0.007843</td>\n      <td>...</td>\n      <td>0.000000</td>\n      <td>0.011765</td>\n      <td>0.000000</td>\n      <td>0.003922</td>\n      <td>0.015686</td>\n      <td>0.003922</td>\n      <td>0.015686</td>\n      <td>0.007843</td>\n      <td>0.003922</td>\n      <td>0.007843</td>\n    </tr>\n    <tr>\n      <th>2</th>\n      <td>0.003922</td>\n      <td>0.003922</td>\n      <td>0.007843</td>\n      <td>0.007843</td>\n      <td>0.003922</td>\n      <td>0.003922</td>\n      <td>0.003922</td>\n      <td>0.000000</td>\n      <td>0.007843</td>\n      <td>0.003922</td>\n      <td>...</td>\n      <td>0.011765</td>\n      <td>0.011765</td>\n      <td>0.011765</td>\n      <td>0.000000</td>\n      <td>0.007843</td>\n      <td>0.000000</td>\n      <td>0.011765</td>\n      <td>0.000000</td>\n      <td>0.007843</td>\n      <td>0.007843</td>\n    </tr>\n    <tr>\n      <th>3</th>\n      <td>0.003922</td>\n      <td>0.007843</td>\n      <td>0.000000</td>\n      <td>0.007843</td>\n      <td>0.000000</td>\n      <td>0.015686</td>\n      <td>0.000000</td>\n      <td>0.011765</td>\n      <td>0.015686</td>\n      <td>0.011765</td>\n      <td>...</td>\n      <td>0.011765</td>\n      <td>0.011765</td>\n      <td>0.007843</td>\n      <td>0.000000</td>\n      <td>0.003922</td>\n      <td>0.015686</td>\n      <td>0.000000</td>\n      <td>0.000000</td>\n      <td>0.003922</td>\n      <td>0.003922</td>\n    </tr>\n    <tr>\n      <th>4</th>\n      <td>0.011765</td>\n      <td>0.000000</td>\n      <td>0.007843</td>\n      <td>0.015686</td>\n      <td>0.000000</td>\n      <td>0.011765</td>\n      <td>0.000000</td>\n      <td>0.015686</td>\n      <td>0.007843</td>\n      <td>0.015686</td>\n      <td>...</td>\n      <td>0.015686</td>\n      <td>0.015686</td>\n      <td>0.011765</td>\n      <td>0.007843</td>\n      <td>0.003922</td>\n      <td>0.011765</td>\n      <td>0.015686</td>\n      <td>0.011765</td>\n      <td>0.003922</td>\n      <td>0.007843</td>\n    </tr>\n    <tr>\n      <th>...</th>\n      <td>...</td>\n      <td>...</td>\n      <td>...</td>\n      <td>...</td>\n      <td>...</td>\n      <td>...</td>\n      <td>...</td>\n      <td>...</td>\n      <td>...</td>\n      <td>...</td>\n      <td>...</td>\n      <td>...</td>\n      <td>...</td>\n      <td>...</td>\n      <td>...</td>\n      <td>...</td>\n      <td>...</td>\n      <td>...</td>\n      <td>...</td>\n      <td>...</td>\n      <td>...</td>\n    </tr>\n    <tr>\n      <th>2043</th>\n      <td>0.007843</td>\n      <td>0.015686</td>\n      <td>0.011765</td>\n      <td>0.015686</td>\n      <td>0.007843</td>\n      <td>0.015686</td>\n      <td>0.015686</td>\n      <td>0.003922</td>\n      <td>0.007843</td>\n      <td>0.003922</td>\n      <td>...</td>\n      <td>0.000000</td>\n      <td>0.007843</td>\n      <td>0.007843</td>\n      <td>0.000000</td>\n      <td>0.000000</td>\n      <td>0.003922</td>\n      <td>0.011765</td>\n      <td>0.003922</td>\n      <td>0.015686</td>\n      <td>0.000000</td>\n    </tr>\n    <tr>\n      <th>2044</th>\n      <td>0.011765</td>\n      <td>0.007843</td>\n      <td>0.007843</td>\n      <td>0.003922</td>\n      <td>0.003922</td>\n      <td>0.015686</td>\n      <td>0.000000</td>\n      <td>0.003922</td>\n      <td>0.015686</td>\n      <td>0.007843</td>\n      <td>...</td>\n      <td>0.007843</td>\n      <td>0.011765</td>\n      <td>0.015686</td>\n      <td>0.007843</td>\n      <td>0.003922</td>\n      <td>0.007843</td>\n      <td>0.011765</td>\n      <td>0.015686</td>\n      <td>0.003922</td>\n      <td>0.003922</td>\n    </tr>\n    <tr>\n      <th>2045</th>\n      <td>0.015686</td>\n      <td>0.000000</td>\n      <td>0.015686</td>\n      <td>0.000000</td>\n      <td>0.007843</td>\n      <td>0.015686</td>\n      <td>0.015686</td>\n      <td>0.015686</td>\n      <td>0.011765</td>\n      <td>0.015686</td>\n      <td>...</td>\n      <td>0.007843</td>\n      <td>0.011765</td>\n      <td>0.003922</td>\n      <td>0.003922</td>\n      <td>0.011765</td>\n      <td>0.015686</td>\n      <td>0.007843</td>\n      <td>0.007843</td>\n      <td>0.000000</td>\n      <td>0.000000</td>\n    </tr>\n    <tr>\n      <th>2046</th>\n      <td>0.007843</td>\n      <td>0.011765</td>\n      <td>0.011765</td>\n      <td>0.000000</td>\n      <td>0.011765</td>\n      <td>0.000000</td>\n      <td>0.015686</td>\n      <td>0.011765</td>\n      <td>0.000000</td>\n      <td>0.003922</td>\n      <td>...</td>\n      <td>0.007843</td>\n      <td>0.011765</td>\n      <td>0.003922</td>\n      <td>0.003922</td>\n      <td>0.000000</td>\n      <td>0.015686</td>\n      <td>0.003922</td>\n      <td>0.015686</td>\n      <td>0.011765</td>\n      <td>0.003922</td>\n    </tr>\n    <tr>\n      <th>2047</th>\n      <td>0.015686</td>\n      <td>0.007843</td>\n      <td>0.007843</td>\n      <td>0.003922</td>\n      <td>0.011765</td>\n      <td>0.000000</td>\n      <td>0.000000</td>\n      <td>0.000000</td>\n      <td>0.011765</td>\n      <td>0.007843</td>\n      <td>...</td>\n      <td>0.015686</td>\n      <td>0.007843</td>\n      <td>0.015686</td>\n      <td>0.000000</td>\n      <td>0.015686</td>\n      <td>0.011765</td>\n      <td>0.007843</td>\n      <td>0.015686</td>\n      <td>0.011765</td>\n      <td>0.015686</td>\n    </tr>\n  </tbody>\n</table>\n<p>2048 rows × 784 columns</p>\n</div>"
     },
     "metadata": {},
     "execution_count": 10
    }
   ],
   "source": [
    "xtrain /= 255\n",
    "xtrain "
   ]
  },
  {
   "cell_type": "code",
   "execution_count": 11,
   "metadata": {},
   "outputs": [],
   "source": [
    "xtrain = np.array(xtrain)"
   ]
  },
  {
   "cell_type": "code",
   "execution_count": 12,
   "metadata": {
    "tags": []
   },
   "outputs": [
    {
     "output_type": "stream",
     "name": "stdout",
     "text": "(2048, 784)\n(2048, 10)\n"
    }
   ],
   "source": [
    "print(xtrain.shape)\n",
    "print(ytrain1.shape)"
   ]
  },
  {
   "cell_type": "code",
   "execution_count": null,
   "metadata": {},
   "outputs": [],
   "source": []
  },
  {
   "cell_type": "code",
   "execution_count": 13,
   "metadata": {},
   "outputs": [],
   "source": [
    "xtrain = xtrain.reshape((2048, 28, 28, 1))\n",
    "xtrain = xtrain.astype('float32')\n",
    "ytrain1 = ytrain1.astype('float32')\n",
    "# ytrain1 = tf.keras.utils.to_categorical(ytrain1, 10)"
   ]
  },
  {
   "cell_type": "code",
   "execution_count": 14,
   "metadata": {},
   "outputs": [
    {
     "output_type": "execute_result",
     "data": {
      "text/plain": "(2048, 28, 28, 1)"
     },
     "metadata": {},
     "execution_count": 14
    }
   ],
   "source": [
    "xtrain.shape"
   ]
  },
  {
   "cell_type": "code",
   "execution_count": 15,
   "metadata": {},
   "outputs": [
    {
     "output_type": "execute_result",
     "data": {
      "text/plain": "(2048, 10)"
     },
     "metadata": {},
     "execution_count": 15
    }
   ],
   "source": [
    "ytrain1.shape"
   ]
  },
  {
   "cell_type": "code",
   "execution_count": 16,
   "metadata": {},
   "outputs": [],
   "source": [
    "test = pd.read_csv('data/test.csv')\n",
    "test = test.drop(['id', 'letter'], axis = 1)\n",
    "test /= 255\n",
    "test = np.array(test)\n",
    "test = test.reshape((20480, 28, 28, 1))\n",
    "test = test.astype('float32')"
   ]
  },
  {
   "cell_type": "code",
   "execution_count": 17,
   "metadata": {},
   "outputs": [
    {
     "output_type": "execute_result",
     "data": {
      "text/plain": "(20480, 28, 28, 1)"
     },
     "metadata": {},
     "execution_count": 17
    }
   ],
   "source": [
    "test.shape"
   ]
  },
  {
   "cell_type": "code",
   "execution_count": 18,
   "metadata": {},
   "outputs": [
    {
     "output_type": "execute_result",
     "data": {
      "text/plain": "array([5, 0, 4, 9, 6, 8, 1, 3, 2, 7], dtype=int64)"
     },
     "metadata": {},
     "execution_count": 18
    }
   ],
   "source": [
    "decoding['digit'].unique()"
   ]
  },
  {
   "cell_type": "code",
   "execution_count": 19,
   "metadata": {},
   "outputs": [],
   "source": [
    "#OPTIMIZER = tf.keras.optimizers.SGD(lr=0.01)\n",
    "OPTIMIZER = tf.keras.optimizers.Adam(lr = 0.001)"
   ]
  },
  {
   "cell_type": "code",
   "execution_count": 31,
   "metadata": {
    "tags": []
   },
   "outputs": [
    {
     "output_type": "stream",
     "name": "stdout",
     "text": "Model: \"sequential_2\"\n_________________________________________________________________\nLayer (type)                 Output Shape              Param #   \n=================================================================\nconv2d_8 (Conv2D)            (None, 28, 28, 128)       3328      \n_________________________________________________________________\nconv2d_9 (Conv2D)            (None, 26, 26, 128)       147584    \n_________________________________________________________________\nmax_pooling2d_4 (MaxPooling2 (None, 13, 13, 128)       0         \n_________________________________________________________________\nbatch_normalization_9 (Batch (None, 13, 13, 128)       512       \n_________________________________________________________________\nconv2d_10 (Conv2D)           (None, 13, 13, 256)       295168    \n_________________________________________________________________\nbatch_normalization_10 (Batc (None, 13, 13, 256)       1024      \n_________________________________________________________________\nconv2d_11 (Conv2D)           (None, 11, 11, 256)       590080    \n_________________________________________________________________\nmax_pooling2d_5 (MaxPooling2 (None, 5, 5, 256)         0         \n_________________________________________________________________\nflatten_2 (Flatten)          (None, 6400)              0         \n_________________________________________________________________\nbatch_normalization_11 (Batc (None, 6400)              25600     \n_________________________________________________________________\ndense_4 (Dense)              (None, 256)               1638656   \n_________________________________________________________________\nbatch_normalization_12 (Batc (None, 256)               1024      \n_________________________________________________________________\ndense_5 (Dense)              (None, 10)                2570      \n=================================================================\nTotal params: 2,705,546\nTrainable params: 2,691,466\nNon-trainable params: 14,080\n_________________________________________________________________\n"
    }
   ],
   "source": [
    "\n",
    "def Create_model():\n",
    "\n",
    "    model = tf.keras.models.Sequential([\n",
    "        keras.layers.Conv2D(128, (5, 5), activation = 'relu', padding = 'same', input_shape = (28, 28, 1)),\n",
    "        keras.layers.Conv2D(128, (3, 3), activation = 'relu'),\n",
    "        keras.layers.MaxPooling2D(2, 2),\n",
    "        keras.layers.BatchNormalization(),\n",
    "        keras.layers.Conv2D(256, (3, 3), activation = 'relu', padding = 'same'),\n",
    "        keras.layers.BatchNormalization(),\n",
    "        keras.layers.Conv2D(256, (3, 3), activation = 'relu'),\n",
    "        keras.layers.MaxPooling2D(2, 2),\n",
    "        #keras.layers.Conv2D(256, (3, 3), activation = 'relu', padding = 'same'),\n",
    "        #keras.layers.Conv2D(256, (3, 3), activation = 'relu'),\n",
    "        #keras.layers.MaxPooling2D(2, 2),\n",
    "        #keras.layers.Dropout(0.2),\n",
    "        keras.layers.Flatten(),\n",
    "        keras.layers.BatchNormalization(),\n",
    "        keras.layers.Dense(256, activation = 'relu'),\n",
    "        #keras.layers.Dropout(0.5),\n",
    "        keras.layers.BatchNormalization(),\n",
    "        keras.layers.Dense(10, activation = 'softmax')\n",
    "    ])\n",
    "\n",
    "    model.compile(optimizer = OPTIMIZER,\n",
    "                  loss = 'categorical_crossentropy',\n",
    "                  metrics = [\"accuracy\"])\n",
    "\n",
    "    return model\n",
    "\n",
    "model = Create_model()\n",
    "model.summary()\n"
   ]
  },
  {
   "cell_type": "code",
   "execution_count": 21,
   "metadata": {},
   "outputs": [],
   "source": [
    "from tensorflow.keras.callbacks import EarlyStopping, ModelCheckpoint\n",
    "checkpoint = tf.keras.callbacks.ModelCheckpoint('best_model.h5', save_weights_only=True, save_best_only=True)"
   ]
  },
  {
   "cell_type": "code",
   "execution_count": 22,
   "metadata": {
    "tags": []
   },
   "outputs": [
    {
     "output_type": "stream",
     "name": "stdout",
     "text": "Epoch 1/20\n63/63 [==============================] - 12s 190ms/step - loss: 2.1330 - accuracy: 0.3480 - val_loss: 3.5698 - val_accuracy: 0.1390\nEpoch 2/20\n63/63 [==============================] - 12s 186ms/step - loss: 1.1622 - accuracy: 0.5965 - val_loss: 4.1070 - val_accuracy: 0.1073\nEpoch 3/20\n63/63 [==============================] - 12s 190ms/step - loss: 0.8354 - accuracy: 0.7210 - val_loss: 5.3901 - val_accuracy: 0.1073\nEpoch 4/20\n63/63 [==============================] - 12s 186ms/step - loss: 0.5628 - accuracy: 0.8022 - val_loss: 7.1997 - val_accuracy: 0.1073\nEpoch 5/20\n63/63 [==============================] - 12s 188ms/step - loss: 0.3886 - accuracy: 0.8706 - val_loss: 7.8199 - val_accuracy: 0.1073\nEpoch 6/20\n63/63 [==============================] - 12s 191ms/step - loss: 0.2422 - accuracy: 0.9286 - val_loss: 10.5537 - val_accuracy: 0.1073\nEpoch 7/20\n63/63 [==============================] - 12s 188ms/step - loss: 0.1773 - accuracy: 0.9512 - val_loss: 9.2191 - val_accuracy: 0.1073\nEpoch 8/20\n63/63 [==============================] - 12s 188ms/step - loss: 0.1268 - accuracy: 0.9615 - val_loss: 4.3845 - val_accuracy: 0.2634\nEpoch 9/20\n63/63 [==============================] - 12s 188ms/step - loss: 0.0964 - accuracy: 0.9707 - val_loss: 2.7257 - val_accuracy: 0.4366\nEpoch 10/20\n63/63 [==============================] - 12s 192ms/step - loss: 0.0861 - accuracy: 0.9780 - val_loss: 1.3294 - val_accuracy: 0.6244\nEpoch 11/20\n63/63 [==============================] - 12s 187ms/step - loss: 0.0467 - accuracy: 0.9939 - val_loss: 1.3087 - val_accuracy: 0.6585\nEpoch 12/20\n63/63 [==============================] - 12s 195ms/step - loss: 0.0295 - accuracy: 0.9969 - val_loss: 0.7650 - val_accuracy: 0.8000\nEpoch 13/20\n63/63 [==============================] - 12s 187ms/step - loss: 0.0220 - accuracy: 0.9969 - val_loss: 0.8201 - val_accuracy: 0.7488\nEpoch 14/20\n63/63 [==============================] - 12s 188ms/step - loss: 0.0200 - accuracy: 0.9982 - val_loss: 0.7354 - val_accuracy: 0.7951\nEpoch 15/20\n63/63 [==============================] - 12s 191ms/step - loss: 0.0131 - accuracy: 0.9994 - val_loss: 0.7743 - val_accuracy: 0.7854\nEpoch 16/20\n63/63 [==============================] - 12s 192ms/step - loss: 0.0064 - accuracy: 1.0000 - val_loss: 0.6968 - val_accuracy: 0.8098\nEpoch 17/20\n63/63 [==============================] - 12s 189ms/step - loss: 0.0038 - accuracy: 1.0000 - val_loss: 0.6886 - val_accuracy: 0.8122\nEpoch 18/20\n63/63 [==============================] - 12s 187ms/step - loss: 0.0055 - accuracy: 1.0000 - val_loss: 0.6984 - val_accuracy: 0.8122\nEpoch 19/20\n63/63 [==============================] - 12s 189ms/step - loss: 0.0027 - accuracy: 1.0000 - val_loss: 0.6478 - val_accuracy: 0.8122\nEpoch 20/20\n63/63 [==============================] - 12s 188ms/step - loss: 0.0137 - accuracy: 0.9976 - val_loss: 0.9347 - val_accuracy: 0.7585\n"
    },
    {
     "output_type": "execute_result",
     "data": {
      "text/plain": "<tensorflow.python.keras.callbacks.History at 0x1c9c7b758c8>"
     },
     "metadata": {},
     "execution_count": 22
    }
   ],
   "source": [
    "model.fit(xtrain, ytrain1,\n",
    "          batch_size = 26,\n",
    "          epochs = 20,\n",
    "          verbose = 1,\n",
    "          validation_split = 0.20,\n",
    "          callbacks = [checkpoint])"
   ]
  },
  {
   "cell_type": "code",
   "execution_count": 24,
   "metadata": {},
   "outputs": [
    {
     "output_type": "execute_result",
     "data": {
      "text/plain": "       digit\n0          6\n1          9\n2          1\n3          0\n4          3\n...      ...\n20475      4\n20476      1\n20477      6\n20478      3\n20479      0\n\n[20480 rows x 1 columns]",
      "text/html": "<div>\n<style scoped>\n    .dataframe tbody tr th:only-of-type {\n        vertical-align: middle;\n    }\n\n    .dataframe tbody tr th {\n        vertical-align: top;\n    }\n\n    .dataframe thead th {\n        text-align: right;\n    }\n</style>\n<table border=\"1\" class=\"dataframe\">\n  <thead>\n    <tr style=\"text-align: right;\">\n      <th></th>\n      <th>digit</th>\n    </tr>\n  </thead>\n  <tbody>\n    <tr>\n      <th>0</th>\n      <td>6</td>\n    </tr>\n    <tr>\n      <th>1</th>\n      <td>9</td>\n    </tr>\n    <tr>\n      <th>2</th>\n      <td>1</td>\n    </tr>\n    <tr>\n      <th>3</th>\n      <td>0</td>\n    </tr>\n    <tr>\n      <th>4</th>\n      <td>3</td>\n    </tr>\n    <tr>\n      <th>...</th>\n      <td>...</td>\n    </tr>\n    <tr>\n      <th>20475</th>\n      <td>4</td>\n    </tr>\n    <tr>\n      <th>20476</th>\n      <td>1</td>\n    </tr>\n    <tr>\n      <th>20477</th>\n      <td>6</td>\n    </tr>\n    <tr>\n      <th>20478</th>\n      <td>3</td>\n    </tr>\n    <tr>\n      <th>20479</th>\n      <td>0</td>\n    </tr>\n  </tbody>\n</table>\n<p>20480 rows × 1 columns</p>\n</div>"
     },
     "metadata": {},
     "execution_count": 24
    }
   ],
   "source": [
    "y_pred = model.predict(test, batch_size=26)\n",
    "# digit  디코딩\n",
    "decoding = np.argmax(y_pred, axis=1).reshape(-1,1)\n",
    "decoding = pd.DataFrame(decoding, columns = ['digit'])\n",
    "decoding"
   ]
  },
  {
   "cell_type": "code",
   "execution_count": 26,
   "metadata": {},
   "outputs": [
    {
     "output_type": "execute_result",
     "data": {
      "text/plain": "       digit\n0          6\n1          9\n2          8\n3          0\n4          3\n...      ...\n20475      4\n20476      1\n20477      6\n20478      1\n20479      0\n\n[20480 rows x 1 columns]",
      "text/html": "<div>\n<style scoped>\n    .dataframe tbody tr th:only-of-type {\n        vertical-align: middle;\n    }\n\n    .dataframe tbody tr th {\n        vertical-align: top;\n    }\n\n    .dataframe thead th {\n        text-align: right;\n    }\n</style>\n<table border=\"1\" class=\"dataframe\">\n  <thead>\n    <tr style=\"text-align: right;\">\n      <th></th>\n      <th>digit</th>\n    </tr>\n  </thead>\n  <tbody>\n    <tr>\n      <th>0</th>\n      <td>6</td>\n    </tr>\n    <tr>\n      <th>1</th>\n      <td>9</td>\n    </tr>\n    <tr>\n      <th>2</th>\n      <td>8</td>\n    </tr>\n    <tr>\n      <th>3</th>\n      <td>0</td>\n    </tr>\n    <tr>\n      <th>4</th>\n      <td>3</td>\n    </tr>\n    <tr>\n      <th>...</th>\n      <td>...</td>\n    </tr>\n    <tr>\n      <th>20475</th>\n      <td>4</td>\n    </tr>\n    <tr>\n      <th>20476</th>\n      <td>1</td>\n    </tr>\n    <tr>\n      <th>20477</th>\n      <td>6</td>\n    </tr>\n    <tr>\n      <th>20478</th>\n      <td>1</td>\n    </tr>\n    <tr>\n      <th>20479</th>\n      <td>0</td>\n    </tr>\n  </tbody>\n</table>\n<p>20480 rows × 1 columns</p>\n</div>"
     },
     "metadata": {},
     "execution_count": 26
    }
   ],
   "source": [
    "model.load_weights('best_model.h5')\n",
    "y_pred = model.predict(test, batch_size=26)\n",
    "# digit  디코딩\n",
    "decoding = np.argmax(y_pred, axis=1).reshape(-1,1)\n",
    "decoding = pd.DataFrame(decoding, columns = ['digit'])\n",
    "decoding"
   ]
  },
  {
   "cell_type": "code",
   "execution_count": 28,
   "metadata": {},
   "outputs": [
    {
     "output_type": "execute_result",
     "data": {
      "text/plain": "          id  digit\n0       2049      6\n1       2050      9\n2       2051      8\n3       2052      0\n4       2053      3\n...      ...    ...\n20475  22524      4\n20476  22525      1\n20477  22526      6\n20478  22527      1\n20479  22528      0\n\n[20480 rows x 2 columns]",
      "text/html": "<div>\n<style scoped>\n    .dataframe tbody tr th:only-of-type {\n        vertical-align: middle;\n    }\n\n    .dataframe tbody tr th {\n        vertical-align: top;\n    }\n\n    .dataframe thead th {\n        text-align: right;\n    }\n</style>\n<table border=\"1\" class=\"dataframe\">\n  <thead>\n    <tr style=\"text-align: right;\">\n      <th></th>\n      <th>id</th>\n      <th>digit</th>\n    </tr>\n  </thead>\n  <tbody>\n    <tr>\n      <th>0</th>\n      <td>2049</td>\n      <td>6</td>\n    </tr>\n    <tr>\n      <th>1</th>\n      <td>2050</td>\n      <td>9</td>\n    </tr>\n    <tr>\n      <th>2</th>\n      <td>2051</td>\n      <td>8</td>\n    </tr>\n    <tr>\n      <th>3</th>\n      <td>2052</td>\n      <td>0</td>\n    </tr>\n    <tr>\n      <th>4</th>\n      <td>2053</td>\n      <td>3</td>\n    </tr>\n    <tr>\n      <th>...</th>\n      <td>...</td>\n      <td>...</td>\n    </tr>\n    <tr>\n      <th>20475</th>\n      <td>22524</td>\n      <td>4</td>\n    </tr>\n    <tr>\n      <th>20476</th>\n      <td>22525</td>\n      <td>1</td>\n    </tr>\n    <tr>\n      <th>20477</th>\n      <td>22526</td>\n      <td>6</td>\n    </tr>\n    <tr>\n      <th>20478</th>\n      <td>22527</td>\n      <td>1</td>\n    </tr>\n    <tr>\n      <th>20479</th>\n      <td>22528</td>\n      <td>0</td>\n    </tr>\n  </tbody>\n</table>\n<p>20480 rows × 2 columns</p>\n</div>"
     },
     "metadata": {},
     "execution_count": 28
    }
   ],
   "source": [
    "sub = pd.read_csv('data/submission.csv')\n",
    "sub = sub.drop(['digit'], axis = 1)\n",
    "sub = pd.concat([sub, decoding], axis = 1)\n",
    "sub.to_csv('sub.csv', index = False, encoding = 'utf-8')\n",
    "sub"
   ]
  },
  {
   "cell_type": "code",
   "execution_count": null,
   "metadata": {},
   "outputs": [],
   "source": []
  }
 ]
}