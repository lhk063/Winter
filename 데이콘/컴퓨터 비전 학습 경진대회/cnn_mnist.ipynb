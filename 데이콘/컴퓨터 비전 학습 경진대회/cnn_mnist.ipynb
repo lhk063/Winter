{
 "metadata": {
  "language_info": {
   "codemirror_mode": {
    "name": "ipython",
    "version": 3
   },
   "file_extension": ".py",
   "mimetype": "text/x-python",
   "name": "python",
   "nbconvert_exporter": "python",
   "pygments_lexer": "ipython3",
   "version": "3.7.6-final"
  },
  "orig_nbformat": 2,
  "kernelspec": {
   "name": "python_defaultSpec_1598853138798",
   "display_name": "Python 3.7.6 64-bit ('base': conda)"
  }
 },
 "nbformat": 4,
 "nbformat_minor": 2,
 "cells": [
  {
   "cell_type": "code",
   "execution_count": 69,
   "metadata": {
    "tags": []
   },
   "outputs": [
    {
     "output_type": "stream",
     "name": "stderr",
     "text": "Using TensorFlow backend.\n"
    }
   ],
   "source": [
    "import tensorflow as tf\n",
    "import keras\n",
    "import numpy as np\n",
    "import pandas as pd\n",
    "from tensorflow.keras import datasets, layers, models, optimizers\n"
   ]
  },
  {
   "cell_type": "code",
   "execution_count": 11,
   "metadata": {},
   "outputs": [],
   "source": [
    "train = pd.read_csv('data/train.csv')"
   ]
  },
  {
   "cell_type": "code",
   "execution_count": 12,
   "metadata": {},
   "outputs": [
    {
     "output_type": "execute_result",
     "data": {
      "text/plain": "        id  digit letter  0  1  2  3  4  5  6  ...  774  775  776  777  778  \\\n0        1      5      L  1  1  1  4  3  0  0  ...    2    1    0    1    2   \n1        2      0      B  0  4  0  0  4  1  1  ...    0    3    0    1    4   \n2        3      4      L  1  1  2  2  1  1  1  ...    3    3    3    0    2   \n3        4      9      D  1  2  0  2  0  4  0  ...    3    3    2    0    1   \n4        5      6      A  3  0  2  4  0  3  0  ...    4    4    3    2    1   \n...    ...    ...    ... .. .. .. .. .. .. ..  ...  ...  ...  ...  ...  ...   \n2043  2044      6      V  2  4  3  4  2  4  4  ...    0    2    2    0    0   \n2044  2045      1      L  3  2  2  1  1  4  0  ...    2    3    4    2    1   \n2045  2046      9      A  4  0  4  0  2  4  4  ...    2    3    1    1    3   \n2046  2047      0      Z  2  3  3  0  3  0  4  ...    2    3    1    1    0   \n2047  2048      5      Z  4  2  2  1  3  0  0  ...    4    2    4    0    4   \n\n      779  780  781  782  783  \n0       4    4    4    3    4  \n1       1    4    2    1    2  \n2       0    3    0    2    2  \n3       4    0    0    1    1  \n4       3    4    3    1    2  \n...   ...  ...  ...  ...  ...  \n2043    1    3    1    4    0  \n2044    2    3    4    1    1  \n2045    4    2    2    0    0  \n2046    4    1    4    3    1  \n2047    3    2    4    3    4  \n\n[2048 rows x 787 columns]",
      "text/html": "<div>\n<style scoped>\n    .dataframe tbody tr th:only-of-type {\n        vertical-align: middle;\n    }\n\n    .dataframe tbody tr th {\n        vertical-align: top;\n    }\n\n    .dataframe thead th {\n        text-align: right;\n    }\n</style>\n<table border=\"1\" class=\"dataframe\">\n  <thead>\n    <tr style=\"text-align: right;\">\n      <th></th>\n      <th>id</th>\n      <th>digit</th>\n      <th>letter</th>\n      <th>0</th>\n      <th>1</th>\n      <th>2</th>\n      <th>3</th>\n      <th>4</th>\n      <th>5</th>\n      <th>6</th>\n      <th>...</th>\n      <th>774</th>\n      <th>775</th>\n      <th>776</th>\n      <th>777</th>\n      <th>778</th>\n      <th>779</th>\n      <th>780</th>\n      <th>781</th>\n      <th>782</th>\n      <th>783</th>\n    </tr>\n  </thead>\n  <tbody>\n    <tr>\n      <th>0</th>\n      <td>1</td>\n      <td>5</td>\n      <td>L</td>\n      <td>1</td>\n      <td>1</td>\n      <td>1</td>\n      <td>4</td>\n      <td>3</td>\n      <td>0</td>\n      <td>0</td>\n      <td>...</td>\n      <td>2</td>\n      <td>1</td>\n      <td>0</td>\n      <td>1</td>\n      <td>2</td>\n      <td>4</td>\n      <td>4</td>\n      <td>4</td>\n      <td>3</td>\n      <td>4</td>\n    </tr>\n    <tr>\n      <th>1</th>\n      <td>2</td>\n      <td>0</td>\n      <td>B</td>\n      <td>0</td>\n      <td>4</td>\n      <td>0</td>\n      <td>0</td>\n      <td>4</td>\n      <td>1</td>\n      <td>1</td>\n      <td>...</td>\n      <td>0</td>\n      <td>3</td>\n      <td>0</td>\n      <td>1</td>\n      <td>4</td>\n      <td>1</td>\n      <td>4</td>\n      <td>2</td>\n      <td>1</td>\n      <td>2</td>\n    </tr>\n    <tr>\n      <th>2</th>\n      <td>3</td>\n      <td>4</td>\n      <td>L</td>\n      <td>1</td>\n      <td>1</td>\n      <td>2</td>\n      <td>2</td>\n      <td>1</td>\n      <td>1</td>\n      <td>1</td>\n      <td>...</td>\n      <td>3</td>\n      <td>3</td>\n      <td>3</td>\n      <td>0</td>\n      <td>2</td>\n      <td>0</td>\n      <td>3</td>\n      <td>0</td>\n      <td>2</td>\n      <td>2</td>\n    </tr>\n    <tr>\n      <th>3</th>\n      <td>4</td>\n      <td>9</td>\n      <td>D</td>\n      <td>1</td>\n      <td>2</td>\n      <td>0</td>\n      <td>2</td>\n      <td>0</td>\n      <td>4</td>\n      <td>0</td>\n      <td>...</td>\n      <td>3</td>\n      <td>3</td>\n      <td>2</td>\n      <td>0</td>\n      <td>1</td>\n      <td>4</td>\n      <td>0</td>\n      <td>0</td>\n      <td>1</td>\n      <td>1</td>\n    </tr>\n    <tr>\n      <th>4</th>\n      <td>5</td>\n      <td>6</td>\n      <td>A</td>\n      <td>3</td>\n      <td>0</td>\n      <td>2</td>\n      <td>4</td>\n      <td>0</td>\n      <td>3</td>\n      <td>0</td>\n      <td>...</td>\n      <td>4</td>\n      <td>4</td>\n      <td>3</td>\n      <td>2</td>\n      <td>1</td>\n      <td>3</td>\n      <td>4</td>\n      <td>3</td>\n      <td>1</td>\n      <td>2</td>\n    </tr>\n    <tr>\n      <th>...</th>\n      <td>...</td>\n      <td>...</td>\n      <td>...</td>\n      <td>...</td>\n      <td>...</td>\n      <td>...</td>\n      <td>...</td>\n      <td>...</td>\n      <td>...</td>\n      <td>...</td>\n      <td>...</td>\n      <td>...</td>\n      <td>...</td>\n      <td>...</td>\n      <td>...</td>\n      <td>...</td>\n      <td>...</td>\n      <td>...</td>\n      <td>...</td>\n      <td>...</td>\n      <td>...</td>\n    </tr>\n    <tr>\n      <th>2043</th>\n      <td>2044</td>\n      <td>6</td>\n      <td>V</td>\n      <td>2</td>\n      <td>4</td>\n      <td>3</td>\n      <td>4</td>\n      <td>2</td>\n      <td>4</td>\n      <td>4</td>\n      <td>...</td>\n      <td>0</td>\n      <td>2</td>\n      <td>2</td>\n      <td>0</td>\n      <td>0</td>\n      <td>1</td>\n      <td>3</td>\n      <td>1</td>\n      <td>4</td>\n      <td>0</td>\n    </tr>\n    <tr>\n      <th>2044</th>\n      <td>2045</td>\n      <td>1</td>\n      <td>L</td>\n      <td>3</td>\n      <td>2</td>\n      <td>2</td>\n      <td>1</td>\n      <td>1</td>\n      <td>4</td>\n      <td>0</td>\n      <td>...</td>\n      <td>2</td>\n      <td>3</td>\n      <td>4</td>\n      <td>2</td>\n      <td>1</td>\n      <td>2</td>\n      <td>3</td>\n      <td>4</td>\n      <td>1</td>\n      <td>1</td>\n    </tr>\n    <tr>\n      <th>2045</th>\n      <td>2046</td>\n      <td>9</td>\n      <td>A</td>\n      <td>4</td>\n      <td>0</td>\n      <td>4</td>\n      <td>0</td>\n      <td>2</td>\n      <td>4</td>\n      <td>4</td>\n      <td>...</td>\n      <td>2</td>\n      <td>3</td>\n      <td>1</td>\n      <td>1</td>\n      <td>3</td>\n      <td>4</td>\n      <td>2</td>\n      <td>2</td>\n      <td>0</td>\n      <td>0</td>\n    </tr>\n    <tr>\n      <th>2046</th>\n      <td>2047</td>\n      <td>0</td>\n      <td>Z</td>\n      <td>2</td>\n      <td>3</td>\n      <td>3</td>\n      <td>0</td>\n      <td>3</td>\n      <td>0</td>\n      <td>4</td>\n      <td>...</td>\n      <td>2</td>\n      <td>3</td>\n      <td>1</td>\n      <td>1</td>\n      <td>0</td>\n      <td>4</td>\n      <td>1</td>\n      <td>4</td>\n      <td>3</td>\n      <td>1</td>\n    </tr>\n    <tr>\n      <th>2047</th>\n      <td>2048</td>\n      <td>5</td>\n      <td>Z</td>\n      <td>4</td>\n      <td>2</td>\n      <td>2</td>\n      <td>1</td>\n      <td>3</td>\n      <td>0</td>\n      <td>0</td>\n      <td>...</td>\n      <td>4</td>\n      <td>2</td>\n      <td>4</td>\n      <td>0</td>\n      <td>4</td>\n      <td>3</td>\n      <td>2</td>\n      <td>4</td>\n      <td>3</td>\n      <td>4</td>\n    </tr>\n  </tbody>\n</table>\n<p>2048 rows × 787 columns</p>\n</div>"
     },
     "metadata": {},
     "execution_count": 12
    }
   ],
   "source": [
    "train"
   ]
  },
  {
   "cell_type": "code",
   "execution_count": 13,
   "metadata": {},
   "outputs": [
    {
     "output_type": "execute_result",
     "data": {
      "text/plain": "        id  digit letter  0  1  2  3  4  5  6  ...  774  775  776  777  778  \\\n0        1      5      L  1  1  1  4  3  0  0  ...    2    1    0    1    2   \n1        2      0      B  0  4  0  0  4  1  1  ...    0    3    0    1    4   \n2        3      4      L  1  1  2  2  1  1  1  ...    3    3    3    0    2   \n3        4      9      D  1  2  0  2  0  4  0  ...    3    3    2    0    1   \n4        5      6      A  3  0  2  4  0  3  0  ...    4    4    3    2    1   \n...    ...    ...    ... .. .. .. .. .. .. ..  ...  ...  ...  ...  ...  ...   \n2043  2044      6      V  2  4  3  4  2  4  4  ...    0    2    2    0    0   \n2044  2045      1      L  3  2  2  1  1  4  0  ...    2    3    4    2    1   \n2045  2046      9      A  4  0  4  0  2  4  4  ...    2    3    1    1    3   \n2046  2047      0      Z  2  3  3  0  3  0  4  ...    2    3    1    1    0   \n2047  2048      5      Z  4  2  2  1  3  0  0  ...    4    2    4    0    4   \n\n      779  780  781  782  783  \n0       4    4    4    3    4  \n1       1    4    2    1    2  \n2       0    3    0    2    2  \n3       4    0    0    1    1  \n4       3    4    3    1    2  \n...   ...  ...  ...  ...  ...  \n2043    1    3    1    4    0  \n2044    2    3    4    1    1  \n2045    4    2    2    0    0  \n2046    4    1    4    3    1  \n2047    3    2    4    3    4  \n\n[2048 rows x 787 columns]",
      "text/html": "<div>\n<style scoped>\n    .dataframe tbody tr th:only-of-type {\n        vertical-align: middle;\n    }\n\n    .dataframe tbody tr th {\n        vertical-align: top;\n    }\n\n    .dataframe thead th {\n        text-align: right;\n    }\n</style>\n<table border=\"1\" class=\"dataframe\">\n  <thead>\n    <tr style=\"text-align: right;\">\n      <th></th>\n      <th>id</th>\n      <th>digit</th>\n      <th>letter</th>\n      <th>0</th>\n      <th>1</th>\n      <th>2</th>\n      <th>3</th>\n      <th>4</th>\n      <th>5</th>\n      <th>6</th>\n      <th>...</th>\n      <th>774</th>\n      <th>775</th>\n      <th>776</th>\n      <th>777</th>\n      <th>778</th>\n      <th>779</th>\n      <th>780</th>\n      <th>781</th>\n      <th>782</th>\n      <th>783</th>\n    </tr>\n  </thead>\n  <tbody>\n    <tr>\n      <th>0</th>\n      <td>1</td>\n      <td>5</td>\n      <td>L</td>\n      <td>1</td>\n      <td>1</td>\n      <td>1</td>\n      <td>4</td>\n      <td>3</td>\n      <td>0</td>\n      <td>0</td>\n      <td>...</td>\n      <td>2</td>\n      <td>1</td>\n      <td>0</td>\n      <td>1</td>\n      <td>2</td>\n      <td>4</td>\n      <td>4</td>\n      <td>4</td>\n      <td>3</td>\n      <td>4</td>\n    </tr>\n    <tr>\n      <th>1</th>\n      <td>2</td>\n      <td>0</td>\n      <td>B</td>\n      <td>0</td>\n      <td>4</td>\n      <td>0</td>\n      <td>0</td>\n      <td>4</td>\n      <td>1</td>\n      <td>1</td>\n      <td>...</td>\n      <td>0</td>\n      <td>3</td>\n      <td>0</td>\n      <td>1</td>\n      <td>4</td>\n      <td>1</td>\n      <td>4</td>\n      <td>2</td>\n      <td>1</td>\n      <td>2</td>\n    </tr>\n    <tr>\n      <th>2</th>\n      <td>3</td>\n      <td>4</td>\n      <td>L</td>\n      <td>1</td>\n      <td>1</td>\n      <td>2</td>\n      <td>2</td>\n      <td>1</td>\n      <td>1</td>\n      <td>1</td>\n      <td>...</td>\n      <td>3</td>\n      <td>3</td>\n      <td>3</td>\n      <td>0</td>\n      <td>2</td>\n      <td>0</td>\n      <td>3</td>\n      <td>0</td>\n      <td>2</td>\n      <td>2</td>\n    </tr>\n    <tr>\n      <th>3</th>\n      <td>4</td>\n      <td>9</td>\n      <td>D</td>\n      <td>1</td>\n      <td>2</td>\n      <td>0</td>\n      <td>2</td>\n      <td>0</td>\n      <td>4</td>\n      <td>0</td>\n      <td>...</td>\n      <td>3</td>\n      <td>3</td>\n      <td>2</td>\n      <td>0</td>\n      <td>1</td>\n      <td>4</td>\n      <td>0</td>\n      <td>0</td>\n      <td>1</td>\n      <td>1</td>\n    </tr>\n    <tr>\n      <th>4</th>\n      <td>5</td>\n      <td>6</td>\n      <td>A</td>\n      <td>3</td>\n      <td>0</td>\n      <td>2</td>\n      <td>4</td>\n      <td>0</td>\n      <td>3</td>\n      <td>0</td>\n      <td>...</td>\n      <td>4</td>\n      <td>4</td>\n      <td>3</td>\n      <td>2</td>\n      <td>1</td>\n      <td>3</td>\n      <td>4</td>\n      <td>3</td>\n      <td>1</td>\n      <td>2</td>\n    </tr>\n    <tr>\n      <th>...</th>\n      <td>...</td>\n      <td>...</td>\n      <td>...</td>\n      <td>...</td>\n      <td>...</td>\n      <td>...</td>\n      <td>...</td>\n      <td>...</td>\n      <td>...</td>\n      <td>...</td>\n      <td>...</td>\n      <td>...</td>\n      <td>...</td>\n      <td>...</td>\n      <td>...</td>\n      <td>...</td>\n      <td>...</td>\n      <td>...</td>\n      <td>...</td>\n      <td>...</td>\n      <td>...</td>\n    </tr>\n    <tr>\n      <th>2043</th>\n      <td>2044</td>\n      <td>6</td>\n      <td>V</td>\n      <td>2</td>\n      <td>4</td>\n      <td>3</td>\n      <td>4</td>\n      <td>2</td>\n      <td>4</td>\n      <td>4</td>\n      <td>...</td>\n      <td>0</td>\n      <td>2</td>\n      <td>2</td>\n      <td>0</td>\n      <td>0</td>\n      <td>1</td>\n      <td>3</td>\n      <td>1</td>\n      <td>4</td>\n      <td>0</td>\n    </tr>\n    <tr>\n      <th>2044</th>\n      <td>2045</td>\n      <td>1</td>\n      <td>L</td>\n      <td>3</td>\n      <td>2</td>\n      <td>2</td>\n      <td>1</td>\n      <td>1</td>\n      <td>4</td>\n      <td>0</td>\n      <td>...</td>\n      <td>2</td>\n      <td>3</td>\n      <td>4</td>\n      <td>2</td>\n      <td>1</td>\n      <td>2</td>\n      <td>3</td>\n      <td>4</td>\n      <td>1</td>\n      <td>1</td>\n    </tr>\n    <tr>\n      <th>2045</th>\n      <td>2046</td>\n      <td>9</td>\n      <td>A</td>\n      <td>4</td>\n      <td>0</td>\n      <td>4</td>\n      <td>0</td>\n      <td>2</td>\n      <td>4</td>\n      <td>4</td>\n      <td>...</td>\n      <td>2</td>\n      <td>3</td>\n      <td>1</td>\n      <td>1</td>\n      <td>3</td>\n      <td>4</td>\n      <td>2</td>\n      <td>2</td>\n      <td>0</td>\n      <td>0</td>\n    </tr>\n    <tr>\n      <th>2046</th>\n      <td>2047</td>\n      <td>0</td>\n      <td>Z</td>\n      <td>2</td>\n      <td>3</td>\n      <td>3</td>\n      <td>0</td>\n      <td>3</td>\n      <td>0</td>\n      <td>4</td>\n      <td>...</td>\n      <td>2</td>\n      <td>3</td>\n      <td>1</td>\n      <td>1</td>\n      <td>0</td>\n      <td>4</td>\n      <td>1</td>\n      <td>4</td>\n      <td>3</td>\n      <td>1</td>\n    </tr>\n    <tr>\n      <th>2047</th>\n      <td>2048</td>\n      <td>5</td>\n      <td>Z</td>\n      <td>4</td>\n      <td>2</td>\n      <td>2</td>\n      <td>1</td>\n      <td>3</td>\n      <td>0</td>\n      <td>0</td>\n      <td>...</td>\n      <td>4</td>\n      <td>2</td>\n      <td>4</td>\n      <td>0</td>\n      <td>4</td>\n      <td>3</td>\n      <td>2</td>\n      <td>4</td>\n      <td>3</td>\n      <td>4</td>\n    </tr>\n  </tbody>\n</table>\n<p>2048 rows × 787 columns</p>\n</div>"
     },
     "metadata": {},
     "execution_count": 13
    }
   ],
   "source": [
    "aa = train.copy()\n",
    "aa"
   ]
  },
  {
   "cell_type": "code",
   "execution_count": 14,
   "metadata": {},
   "outputs": [
    {
     "output_type": "execute_result",
     "data": {
      "text/plain": "      digit\n0         5\n1         0\n2         4\n3         9\n4         6\n...     ...\n2043      6\n2044      1\n2045      9\n2046      0\n2047      5\n\n[2048 rows x 1 columns]",
      "text/html": "<div>\n<style scoped>\n    .dataframe tbody tr th:only-of-type {\n        vertical-align: middle;\n    }\n\n    .dataframe tbody tr th {\n        vertical-align: top;\n    }\n\n    .dataframe thead th {\n        text-align: right;\n    }\n</style>\n<table border=\"1\" class=\"dataframe\">\n  <thead>\n    <tr style=\"text-align: right;\">\n      <th></th>\n      <th>digit</th>\n    </tr>\n  </thead>\n  <tbody>\n    <tr>\n      <th>0</th>\n      <td>5</td>\n    </tr>\n    <tr>\n      <th>1</th>\n      <td>0</td>\n    </tr>\n    <tr>\n      <th>2</th>\n      <td>4</td>\n    </tr>\n    <tr>\n      <th>3</th>\n      <td>9</td>\n    </tr>\n    <tr>\n      <th>4</th>\n      <td>6</td>\n    </tr>\n    <tr>\n      <th>...</th>\n      <td>...</td>\n    </tr>\n    <tr>\n      <th>2043</th>\n      <td>6</td>\n    </tr>\n    <tr>\n      <th>2044</th>\n      <td>1</td>\n    </tr>\n    <tr>\n      <th>2045</th>\n      <td>9</td>\n    </tr>\n    <tr>\n      <th>2046</th>\n      <td>0</td>\n    </tr>\n    <tr>\n      <th>2047</th>\n      <td>5</td>\n    </tr>\n  </tbody>\n</table>\n<p>2048 rows × 1 columns</p>\n</div>"
     },
     "metadata": {},
     "execution_count": 14
    }
   ],
   "source": [
    "ytrain = aa['digit']\n",
    "ytrain = ytrain.to_frame()\n",
    "ytrain"
   ]
  },
  {
   "cell_type": "code",
   "execution_count": 15,
   "metadata": {},
   "outputs": [
    {
     "output_type": "execute_result",
     "data": {
      "text/plain": "      0  1  2  3  4  5  6  7  8  9  ...  774  775  776  777  778  779  780  \\\n0     1  1  1  4  3  0  0  4  4  3  ...    2    1    0    1    2    4    4   \n1     0  4  0  0  4  1  1  1  4  2  ...    0    3    0    1    4    1    4   \n2     1  1  2  2  1  1  1  0  2  1  ...    3    3    3    0    2    0    3   \n3     1  2  0  2  0  4  0  3  4  3  ...    3    3    2    0    1    4    0   \n4     3  0  2  4  0  3  0  4  2  4  ...    4    4    3    2    1    3    4   \n...  .. .. .. .. .. .. .. .. .. ..  ...  ...  ...  ...  ...  ...  ...  ...   \n2043  2  4  3  4  2  4  4  1  2  1  ...    0    2    2    0    0    1    3   \n2044  3  2  2  1  1  4  0  1  4  2  ...    2    3    4    2    1    2    3   \n2045  4  0  4  0  2  4  4  4  3  4  ...    2    3    1    1    3    4    2   \n2046  2  3  3  0  3  0  4  3  0  1  ...    2    3    1    1    0    4    1   \n2047  4  2  2  1  3  0  0  0  3  2  ...    4    2    4    0    4    3    2   \n\n      781  782  783  \n0       4    3    4  \n1       2    1    2  \n2       0    2    2  \n3       0    1    1  \n4       3    1    2  \n...   ...  ...  ...  \n2043    1    4    0  \n2044    4    1    1  \n2045    2    0    0  \n2046    4    3    1  \n2047    4    3    4  \n\n[2048 rows x 784 columns]",
      "text/html": "<div>\n<style scoped>\n    .dataframe tbody tr th:only-of-type {\n        vertical-align: middle;\n    }\n\n    .dataframe tbody tr th {\n        vertical-align: top;\n    }\n\n    .dataframe thead th {\n        text-align: right;\n    }\n</style>\n<table border=\"1\" class=\"dataframe\">\n  <thead>\n    <tr style=\"text-align: right;\">\n      <th></th>\n      <th>0</th>\n      <th>1</th>\n      <th>2</th>\n      <th>3</th>\n      <th>4</th>\n      <th>5</th>\n      <th>6</th>\n      <th>7</th>\n      <th>8</th>\n      <th>9</th>\n      <th>...</th>\n      <th>774</th>\n      <th>775</th>\n      <th>776</th>\n      <th>777</th>\n      <th>778</th>\n      <th>779</th>\n      <th>780</th>\n      <th>781</th>\n      <th>782</th>\n      <th>783</th>\n    </tr>\n  </thead>\n  <tbody>\n    <tr>\n      <th>0</th>\n      <td>1</td>\n      <td>1</td>\n      <td>1</td>\n      <td>4</td>\n      <td>3</td>\n      <td>0</td>\n      <td>0</td>\n      <td>4</td>\n      <td>4</td>\n      <td>3</td>\n      <td>...</td>\n      <td>2</td>\n      <td>1</td>\n      <td>0</td>\n      <td>1</td>\n      <td>2</td>\n      <td>4</td>\n      <td>4</td>\n      <td>4</td>\n      <td>3</td>\n      <td>4</td>\n    </tr>\n    <tr>\n      <th>1</th>\n      <td>0</td>\n      <td>4</td>\n      <td>0</td>\n      <td>0</td>\n      <td>4</td>\n      <td>1</td>\n      <td>1</td>\n      <td>1</td>\n      <td>4</td>\n      <td>2</td>\n      <td>...</td>\n      <td>0</td>\n      <td>3</td>\n      <td>0</td>\n      <td>1</td>\n      <td>4</td>\n      <td>1</td>\n      <td>4</td>\n      <td>2</td>\n      <td>1</td>\n      <td>2</td>\n    </tr>\n    <tr>\n      <th>2</th>\n      <td>1</td>\n      <td>1</td>\n      <td>2</td>\n      <td>2</td>\n      <td>1</td>\n      <td>1</td>\n      <td>1</td>\n      <td>0</td>\n      <td>2</td>\n      <td>1</td>\n      <td>...</td>\n      <td>3</td>\n      <td>3</td>\n      <td>3</td>\n      <td>0</td>\n      <td>2</td>\n      <td>0</td>\n      <td>3</td>\n      <td>0</td>\n      <td>2</td>\n      <td>2</td>\n    </tr>\n    <tr>\n      <th>3</th>\n      <td>1</td>\n      <td>2</td>\n      <td>0</td>\n      <td>2</td>\n      <td>0</td>\n      <td>4</td>\n      <td>0</td>\n      <td>3</td>\n      <td>4</td>\n      <td>3</td>\n      <td>...</td>\n      <td>3</td>\n      <td>3</td>\n      <td>2</td>\n      <td>0</td>\n      <td>1</td>\n      <td>4</td>\n      <td>0</td>\n      <td>0</td>\n      <td>1</td>\n      <td>1</td>\n    </tr>\n    <tr>\n      <th>4</th>\n      <td>3</td>\n      <td>0</td>\n      <td>2</td>\n      <td>4</td>\n      <td>0</td>\n      <td>3</td>\n      <td>0</td>\n      <td>4</td>\n      <td>2</td>\n      <td>4</td>\n      <td>...</td>\n      <td>4</td>\n      <td>4</td>\n      <td>3</td>\n      <td>2</td>\n      <td>1</td>\n      <td>3</td>\n      <td>4</td>\n      <td>3</td>\n      <td>1</td>\n      <td>2</td>\n    </tr>\n    <tr>\n      <th>...</th>\n      <td>...</td>\n      <td>...</td>\n      <td>...</td>\n      <td>...</td>\n      <td>...</td>\n      <td>...</td>\n      <td>...</td>\n      <td>...</td>\n      <td>...</td>\n      <td>...</td>\n      <td>...</td>\n      <td>...</td>\n      <td>...</td>\n      <td>...</td>\n      <td>...</td>\n      <td>...</td>\n      <td>...</td>\n      <td>...</td>\n      <td>...</td>\n      <td>...</td>\n      <td>...</td>\n    </tr>\n    <tr>\n      <th>2043</th>\n      <td>2</td>\n      <td>4</td>\n      <td>3</td>\n      <td>4</td>\n      <td>2</td>\n      <td>4</td>\n      <td>4</td>\n      <td>1</td>\n      <td>2</td>\n      <td>1</td>\n      <td>...</td>\n      <td>0</td>\n      <td>2</td>\n      <td>2</td>\n      <td>0</td>\n      <td>0</td>\n      <td>1</td>\n      <td>3</td>\n      <td>1</td>\n      <td>4</td>\n      <td>0</td>\n    </tr>\n    <tr>\n      <th>2044</th>\n      <td>3</td>\n      <td>2</td>\n      <td>2</td>\n      <td>1</td>\n      <td>1</td>\n      <td>4</td>\n      <td>0</td>\n      <td>1</td>\n      <td>4</td>\n      <td>2</td>\n      <td>...</td>\n      <td>2</td>\n      <td>3</td>\n      <td>4</td>\n      <td>2</td>\n      <td>1</td>\n      <td>2</td>\n      <td>3</td>\n      <td>4</td>\n      <td>1</td>\n      <td>1</td>\n    </tr>\n    <tr>\n      <th>2045</th>\n      <td>4</td>\n      <td>0</td>\n      <td>4</td>\n      <td>0</td>\n      <td>2</td>\n      <td>4</td>\n      <td>4</td>\n      <td>4</td>\n      <td>3</td>\n      <td>4</td>\n      <td>...</td>\n      <td>2</td>\n      <td>3</td>\n      <td>1</td>\n      <td>1</td>\n      <td>3</td>\n      <td>4</td>\n      <td>2</td>\n      <td>2</td>\n      <td>0</td>\n      <td>0</td>\n    </tr>\n    <tr>\n      <th>2046</th>\n      <td>2</td>\n      <td>3</td>\n      <td>3</td>\n      <td>0</td>\n      <td>3</td>\n      <td>0</td>\n      <td>4</td>\n      <td>3</td>\n      <td>0</td>\n      <td>1</td>\n      <td>...</td>\n      <td>2</td>\n      <td>3</td>\n      <td>1</td>\n      <td>1</td>\n      <td>0</td>\n      <td>4</td>\n      <td>1</td>\n      <td>4</td>\n      <td>3</td>\n      <td>1</td>\n    </tr>\n    <tr>\n      <th>2047</th>\n      <td>4</td>\n      <td>2</td>\n      <td>2</td>\n      <td>1</td>\n      <td>3</td>\n      <td>0</td>\n      <td>0</td>\n      <td>0</td>\n      <td>3</td>\n      <td>2</td>\n      <td>...</td>\n      <td>4</td>\n      <td>2</td>\n      <td>4</td>\n      <td>0</td>\n      <td>4</td>\n      <td>3</td>\n      <td>2</td>\n      <td>4</td>\n      <td>3</td>\n      <td>4</td>\n    </tr>\n  </tbody>\n</table>\n<p>2048 rows × 784 columns</p>\n</div>"
     },
     "metadata": {},
     "execution_count": 15
    }
   ],
   "source": [
    "xtrain = aa.drop(['id', 'digit', 'letter'], axis = 1)\n",
    "xtrain"
   ]
  },
  {
   "cell_type": "code",
   "execution_count": 16,
   "metadata": {},
   "outputs": [],
   "source": [
    "from sklearn.preprocessing import OneHotEncoder\n",
    "encoder = OneHotEncoder()"
   ]
  },
  {
   "cell_type": "code",
   "execution_count": 17,
   "metadata": {},
   "outputs": [
    {
     "output_type": "execute_result",
     "data": {
      "text/plain": "array([[0., 0., 0., ..., 0., 0., 0.],\n       [1., 0., 0., ..., 0., 0., 0.],\n       [0., 0., 0., ..., 0., 0., 0.],\n       ...,\n       [0., 0., 0., ..., 0., 0., 1.],\n       [1., 0., 0., ..., 0., 0., 0.],\n       [0., 0., 0., ..., 0., 0., 0.]])"
     },
     "metadata": {},
     "execution_count": 17
    }
   ],
   "source": [
    "ytrain1 = encoder.fit_transform(ytrain)\n",
    "ytrain1 = ytrain1.toarray()\n",
    "ytrain1"
   ]
  },
  {
   "cell_type": "code",
   "execution_count": 18,
   "metadata": {},
   "outputs": [
    {
     "output_type": "execute_result",
     "data": {
      "text/plain": "      digit\n0         5\n1         0\n2         4\n3         9\n4         6\n...     ...\n2043      6\n2044      1\n2045      9\n2046      0\n2047      5\n\n[2048 rows x 1 columns]",
      "text/html": "<div>\n<style scoped>\n    .dataframe tbody tr th:only-of-type {\n        vertical-align: middle;\n    }\n\n    .dataframe tbody tr th {\n        vertical-align: top;\n    }\n\n    .dataframe thead th {\n        text-align: right;\n    }\n</style>\n<table border=\"1\" class=\"dataframe\">\n  <thead>\n    <tr style=\"text-align: right;\">\n      <th></th>\n      <th>digit</th>\n    </tr>\n  </thead>\n  <tbody>\n    <tr>\n      <th>0</th>\n      <td>5</td>\n    </tr>\n    <tr>\n      <th>1</th>\n      <td>0</td>\n    </tr>\n    <tr>\n      <th>2</th>\n      <td>4</td>\n    </tr>\n    <tr>\n      <th>3</th>\n      <td>9</td>\n    </tr>\n    <tr>\n      <th>4</th>\n      <td>6</td>\n    </tr>\n    <tr>\n      <th>...</th>\n      <td>...</td>\n    </tr>\n    <tr>\n      <th>2043</th>\n      <td>6</td>\n    </tr>\n    <tr>\n      <th>2044</th>\n      <td>1</td>\n    </tr>\n    <tr>\n      <th>2045</th>\n      <td>9</td>\n    </tr>\n    <tr>\n      <th>2046</th>\n      <td>0</td>\n    </tr>\n    <tr>\n      <th>2047</th>\n      <td>5</td>\n    </tr>\n  </tbody>\n</table>\n<p>2048 rows × 1 columns</p>\n</div>"
     },
     "metadata": {},
     "execution_count": 18
    }
   ],
   "source": [
    "# digit  디코딩\n",
    "decoding = np.argmax(ytrain1, axis=1).reshape(-1,1)\n",
    "decoding = pd.DataFrame(decoding, columns = ['digit'])\n",
    "decoding"
   ]
  },
  {
   "cell_type": "code",
   "execution_count": 19,
   "metadata": {},
   "outputs": [
    {
     "output_type": "execute_result",
     "data": {
      "text/plain": "             0         1         2         3         4         5         6  \\\n0     0.003922  0.003922  0.003922  0.015686  0.011765  0.000000  0.000000   \n1     0.000000  0.015686  0.000000  0.000000  0.015686  0.003922  0.003922   \n2     0.003922  0.003922  0.007843  0.007843  0.003922  0.003922  0.003922   \n3     0.003922  0.007843  0.000000  0.007843  0.000000  0.015686  0.000000   \n4     0.011765  0.000000  0.007843  0.015686  0.000000  0.011765  0.000000   \n...        ...       ...       ...       ...       ...       ...       ...   \n2043  0.007843  0.015686  0.011765  0.015686  0.007843  0.015686  0.015686   \n2044  0.011765  0.007843  0.007843  0.003922  0.003922  0.015686  0.000000   \n2045  0.015686  0.000000  0.015686  0.000000  0.007843  0.015686  0.015686   \n2046  0.007843  0.011765  0.011765  0.000000  0.011765  0.000000  0.015686   \n2047  0.015686  0.007843  0.007843  0.003922  0.011765  0.000000  0.000000   \n\n             7         8         9  ...       774       775       776  \\\n0     0.015686  0.015686  0.011765  ...  0.007843  0.003922  0.000000   \n1     0.003922  0.015686  0.007843  ...  0.000000  0.011765  0.000000   \n2     0.000000  0.007843  0.003922  ...  0.011765  0.011765  0.011765   \n3     0.011765  0.015686  0.011765  ...  0.011765  0.011765  0.007843   \n4     0.015686  0.007843  0.015686  ...  0.015686  0.015686  0.011765   \n...        ...       ...       ...  ...       ...       ...       ...   \n2043  0.003922  0.007843  0.003922  ...  0.000000  0.007843  0.007843   \n2044  0.003922  0.015686  0.007843  ...  0.007843  0.011765  0.015686   \n2045  0.015686  0.011765  0.015686  ...  0.007843  0.011765  0.003922   \n2046  0.011765  0.000000  0.003922  ...  0.007843  0.011765  0.003922   \n2047  0.000000  0.011765  0.007843  ...  0.015686  0.007843  0.015686   \n\n           777       778       779       780       781       782       783  \n0     0.003922  0.007843  0.015686  0.015686  0.015686  0.011765  0.015686  \n1     0.003922  0.015686  0.003922  0.015686  0.007843  0.003922  0.007843  \n2     0.000000  0.007843  0.000000  0.011765  0.000000  0.007843  0.007843  \n3     0.000000  0.003922  0.015686  0.000000  0.000000  0.003922  0.003922  \n4     0.007843  0.003922  0.011765  0.015686  0.011765  0.003922  0.007843  \n...        ...       ...       ...       ...       ...       ...       ...  \n2043  0.000000  0.000000  0.003922  0.011765  0.003922  0.015686  0.000000  \n2044  0.007843  0.003922  0.007843  0.011765  0.015686  0.003922  0.003922  \n2045  0.003922  0.011765  0.015686  0.007843  0.007843  0.000000  0.000000  \n2046  0.003922  0.000000  0.015686  0.003922  0.015686  0.011765  0.003922  \n2047  0.000000  0.015686  0.011765  0.007843  0.015686  0.011765  0.015686  \n\n[2048 rows x 784 columns]",
      "text/html": "<div>\n<style scoped>\n    .dataframe tbody tr th:only-of-type {\n        vertical-align: middle;\n    }\n\n    .dataframe tbody tr th {\n        vertical-align: top;\n    }\n\n    .dataframe thead th {\n        text-align: right;\n    }\n</style>\n<table border=\"1\" class=\"dataframe\">\n  <thead>\n    <tr style=\"text-align: right;\">\n      <th></th>\n      <th>0</th>\n      <th>1</th>\n      <th>2</th>\n      <th>3</th>\n      <th>4</th>\n      <th>5</th>\n      <th>6</th>\n      <th>7</th>\n      <th>8</th>\n      <th>9</th>\n      <th>...</th>\n      <th>774</th>\n      <th>775</th>\n      <th>776</th>\n      <th>777</th>\n      <th>778</th>\n      <th>779</th>\n      <th>780</th>\n      <th>781</th>\n      <th>782</th>\n      <th>783</th>\n    </tr>\n  </thead>\n  <tbody>\n    <tr>\n      <th>0</th>\n      <td>0.003922</td>\n      <td>0.003922</td>\n      <td>0.003922</td>\n      <td>0.015686</td>\n      <td>0.011765</td>\n      <td>0.000000</td>\n      <td>0.000000</td>\n      <td>0.015686</td>\n      <td>0.015686</td>\n      <td>0.011765</td>\n      <td>...</td>\n      <td>0.007843</td>\n      <td>0.003922</td>\n      <td>0.000000</td>\n      <td>0.003922</td>\n      <td>0.007843</td>\n      <td>0.015686</td>\n      <td>0.015686</td>\n      <td>0.015686</td>\n      <td>0.011765</td>\n      <td>0.015686</td>\n    </tr>\n    <tr>\n      <th>1</th>\n      <td>0.000000</td>\n      <td>0.015686</td>\n      <td>0.000000</td>\n      <td>0.000000</td>\n      <td>0.015686</td>\n      <td>0.003922</td>\n      <td>0.003922</td>\n      <td>0.003922</td>\n      <td>0.015686</td>\n      <td>0.007843</td>\n      <td>...</td>\n      <td>0.000000</td>\n      <td>0.011765</td>\n      <td>0.000000</td>\n      <td>0.003922</td>\n      <td>0.015686</td>\n      <td>0.003922</td>\n      <td>0.015686</td>\n      <td>0.007843</td>\n      <td>0.003922</td>\n      <td>0.007843</td>\n    </tr>\n    <tr>\n      <th>2</th>\n      <td>0.003922</td>\n      <td>0.003922</td>\n      <td>0.007843</td>\n      <td>0.007843</td>\n      <td>0.003922</td>\n      <td>0.003922</td>\n      <td>0.003922</td>\n      <td>0.000000</td>\n      <td>0.007843</td>\n      <td>0.003922</td>\n      <td>...</td>\n      <td>0.011765</td>\n      <td>0.011765</td>\n      <td>0.011765</td>\n      <td>0.000000</td>\n      <td>0.007843</td>\n      <td>0.000000</td>\n      <td>0.011765</td>\n      <td>0.000000</td>\n      <td>0.007843</td>\n      <td>0.007843</td>\n    </tr>\n    <tr>\n      <th>3</th>\n      <td>0.003922</td>\n      <td>0.007843</td>\n      <td>0.000000</td>\n      <td>0.007843</td>\n      <td>0.000000</td>\n      <td>0.015686</td>\n      <td>0.000000</td>\n      <td>0.011765</td>\n      <td>0.015686</td>\n      <td>0.011765</td>\n      <td>...</td>\n      <td>0.011765</td>\n      <td>0.011765</td>\n      <td>0.007843</td>\n      <td>0.000000</td>\n      <td>0.003922</td>\n      <td>0.015686</td>\n      <td>0.000000</td>\n      <td>0.000000</td>\n      <td>0.003922</td>\n      <td>0.003922</td>\n    </tr>\n    <tr>\n      <th>4</th>\n      <td>0.011765</td>\n      <td>0.000000</td>\n      <td>0.007843</td>\n      <td>0.015686</td>\n      <td>0.000000</td>\n      <td>0.011765</td>\n      <td>0.000000</td>\n      <td>0.015686</td>\n      <td>0.007843</td>\n      <td>0.015686</td>\n      <td>...</td>\n      <td>0.015686</td>\n      <td>0.015686</td>\n      <td>0.011765</td>\n      <td>0.007843</td>\n      <td>0.003922</td>\n      <td>0.011765</td>\n      <td>0.015686</td>\n      <td>0.011765</td>\n      <td>0.003922</td>\n      <td>0.007843</td>\n    </tr>\n    <tr>\n      <th>...</th>\n      <td>...</td>\n      <td>...</td>\n      <td>...</td>\n      <td>...</td>\n      <td>...</td>\n      <td>...</td>\n      <td>...</td>\n      <td>...</td>\n      <td>...</td>\n      <td>...</td>\n      <td>...</td>\n      <td>...</td>\n      <td>...</td>\n      <td>...</td>\n      <td>...</td>\n      <td>...</td>\n      <td>...</td>\n      <td>...</td>\n      <td>...</td>\n      <td>...</td>\n      <td>...</td>\n    </tr>\n    <tr>\n      <th>2043</th>\n      <td>0.007843</td>\n      <td>0.015686</td>\n      <td>0.011765</td>\n      <td>0.015686</td>\n      <td>0.007843</td>\n      <td>0.015686</td>\n      <td>0.015686</td>\n      <td>0.003922</td>\n      <td>0.007843</td>\n      <td>0.003922</td>\n      <td>...</td>\n      <td>0.000000</td>\n      <td>0.007843</td>\n      <td>0.007843</td>\n      <td>0.000000</td>\n      <td>0.000000</td>\n      <td>0.003922</td>\n      <td>0.011765</td>\n      <td>0.003922</td>\n      <td>0.015686</td>\n      <td>0.000000</td>\n    </tr>\n    <tr>\n      <th>2044</th>\n      <td>0.011765</td>\n      <td>0.007843</td>\n      <td>0.007843</td>\n      <td>0.003922</td>\n      <td>0.003922</td>\n      <td>0.015686</td>\n      <td>0.000000</td>\n      <td>0.003922</td>\n      <td>0.015686</td>\n      <td>0.007843</td>\n      <td>...</td>\n      <td>0.007843</td>\n      <td>0.011765</td>\n      <td>0.015686</td>\n      <td>0.007843</td>\n      <td>0.003922</td>\n      <td>0.007843</td>\n      <td>0.011765</td>\n      <td>0.015686</td>\n      <td>0.003922</td>\n      <td>0.003922</td>\n    </tr>\n    <tr>\n      <th>2045</th>\n      <td>0.015686</td>\n      <td>0.000000</td>\n      <td>0.015686</td>\n      <td>0.000000</td>\n      <td>0.007843</td>\n      <td>0.015686</td>\n      <td>0.015686</td>\n      <td>0.015686</td>\n      <td>0.011765</td>\n      <td>0.015686</td>\n      <td>...</td>\n      <td>0.007843</td>\n      <td>0.011765</td>\n      <td>0.003922</td>\n      <td>0.003922</td>\n      <td>0.011765</td>\n      <td>0.015686</td>\n      <td>0.007843</td>\n      <td>0.007843</td>\n      <td>0.000000</td>\n      <td>0.000000</td>\n    </tr>\n    <tr>\n      <th>2046</th>\n      <td>0.007843</td>\n      <td>0.011765</td>\n      <td>0.011765</td>\n      <td>0.000000</td>\n      <td>0.011765</td>\n      <td>0.000000</td>\n      <td>0.015686</td>\n      <td>0.011765</td>\n      <td>0.000000</td>\n      <td>0.003922</td>\n      <td>...</td>\n      <td>0.007843</td>\n      <td>0.011765</td>\n      <td>0.003922</td>\n      <td>0.003922</td>\n      <td>0.000000</td>\n      <td>0.015686</td>\n      <td>0.003922</td>\n      <td>0.015686</td>\n      <td>0.011765</td>\n      <td>0.003922</td>\n    </tr>\n    <tr>\n      <th>2047</th>\n      <td>0.015686</td>\n      <td>0.007843</td>\n      <td>0.007843</td>\n      <td>0.003922</td>\n      <td>0.011765</td>\n      <td>0.000000</td>\n      <td>0.000000</td>\n      <td>0.000000</td>\n      <td>0.011765</td>\n      <td>0.007843</td>\n      <td>...</td>\n      <td>0.015686</td>\n      <td>0.007843</td>\n      <td>0.015686</td>\n      <td>0.000000</td>\n      <td>0.015686</td>\n      <td>0.011765</td>\n      <td>0.007843</td>\n      <td>0.015686</td>\n      <td>0.011765</td>\n      <td>0.015686</td>\n    </tr>\n  </tbody>\n</table>\n<p>2048 rows × 784 columns</p>\n</div>"
     },
     "metadata": {},
     "execution_count": 19
    }
   ],
   "source": [
    "xtrain /= 255\n",
    "xtrain "
   ]
  },
  {
   "cell_type": "code",
   "execution_count": 20,
   "metadata": {},
   "outputs": [],
   "source": [
    "xtrain = np.array(xtrain)"
   ]
  },
  {
   "cell_type": "code",
   "execution_count": 21,
   "metadata": {
    "tags": []
   },
   "outputs": [
    {
     "output_type": "stream",
     "name": "stdout",
     "text": "(2048, 784)\n(2048, 10)\n"
    }
   ],
   "source": [
    "print(xtrain.shape)\n",
    "print(ytrain1.shape)"
   ]
  },
  {
   "cell_type": "code",
   "execution_count": null,
   "metadata": {},
   "outputs": [],
   "source": []
  },
  {
   "cell_type": "code",
   "execution_count": 22,
   "metadata": {},
   "outputs": [],
   "source": [
    "xtrain = xtrain.reshape((2048, 28, 28, 1))\n",
    "xtrain = xtrain.astype('float32')\n",
    "ytrain1 = ytrain1.astype('float32')\n",
    "# ytrain1 = tf.keras.utils.to_categorical(ytrain1, 10)"
   ]
  },
  {
   "cell_type": "code",
   "execution_count": 25,
   "metadata": {},
   "outputs": [
    {
     "output_type": "execute_result",
     "data": {
      "text/plain": "(2048, 28, 28, 1)"
     },
     "metadata": {},
     "execution_count": 25
    }
   ],
   "source": [
    "xtrain.shape"
   ]
  },
  {
   "cell_type": "code",
   "execution_count": 26,
   "metadata": {},
   "outputs": [
    {
     "output_type": "execute_result",
     "data": {
      "text/plain": "(2048, 10)"
     },
     "metadata": {},
     "execution_count": 26
    }
   ],
   "source": [
    "ytrain1.shape"
   ]
  },
  {
   "cell_type": "code",
   "execution_count": 32,
   "metadata": {},
   "outputs": [],
   "source": [
    "test = pd.read_csv('data/test.csv')\n",
    "test = test.drop(['id', 'letter'], axis = 1)\n",
    "test /= 255\n",
    "test = np.array(test)\n",
    "test = test.reshape((20480, 28, 28, 1))\n",
    "test = test.astype('float32')"
   ]
  },
  {
   "cell_type": "code",
   "execution_count": 33,
   "metadata": {},
   "outputs": [
    {
     "output_type": "execute_result",
     "data": {
      "text/plain": "(20480, 28, 28, 1)"
     },
     "metadata": {},
     "execution_count": 33
    }
   ],
   "source": [
    "test.shape"
   ]
  },
  {
   "cell_type": "code",
   "execution_count": 38,
   "metadata": {},
   "outputs": [
    {
     "output_type": "execute_result",
     "data": {
      "text/plain": "array([5, 0, 4, 9, 6, 8, 1, 3, 2, 7], dtype=int64)"
     },
     "metadata": {},
     "execution_count": 38
    }
   ],
   "source": [
    "decoding['digit'].unique()"
   ]
  },
  {
   "cell_type": "code",
   "execution_count": 94,
   "metadata": {},
   "outputs": [],
   "source": [
    "#OPTIMIZER = tf.keras.optimizers.SGD(lr=0.1)\n",
    "OPTIMIZER = tf.keras.optimizers.Adam(lr = 0.001)"
   ]
  },
  {
   "cell_type": "code",
   "execution_count": 95,
   "metadata": {
    "tags": []
   },
   "outputs": [
    {
     "output_type": "stream",
     "name": "stdout",
     "text": "Model: \"sequential_13\"\n_________________________________________________________________\nLayer (type)                 Output Shape              Param #   \n=================================================================\nconv2d_50 (Conv2D)           (None, 28, 28, 64)        1664      \n_________________________________________________________________\nconv2d_51 (Conv2D)           (None, 26, 26, 64)        36928     \n_________________________________________________________________\nmax_pooling2d_26 (MaxPooling (None, 13, 13, 64)        0         \n_________________________________________________________________\nconv2d_52 (Conv2D)           (None, 13, 13, 128)       73856     \n_________________________________________________________________\nconv2d_53 (Conv2D)           (None, 11, 11, 128)       147584    \n_________________________________________________________________\nmax_pooling2d_27 (MaxPooling (None, 5, 5, 128)         0         \n_________________________________________________________________\ndropout_24 (Dropout)         (None, 5, 5, 128)         0         \n_________________________________________________________________\nflatten_13 (Flatten)         (None, 3200)              0         \n_________________________________________________________________\ndense_26 (Dense)             (None, 256)               819456    \n_________________________________________________________________\ndropout_25 (Dropout)         (None, 256)               0         \n_________________________________________________________________\ndense_27 (Dense)             (None, 10)                2570      \n=================================================================\nTotal params: 1,082,058\nTrainable params: 1,082,058\nNon-trainable params: 0\n_________________________________________________________________\n"
    }
   ],
   "source": [
    "\n",
    "def Create_model():\n",
    "\n",
    "    model = tf.keras.models.Sequential([\n",
    "        keras.layers.Conv2D(64, (5, 5), activation = 'relu', padding = 'same', input_shape = (28, 28, 1)),\n",
    "        keras.layers.Conv2D(64, (3, 3), activation = 'relu'),\n",
    "        keras.layers.MaxPooling2D(2, 2),\n",
    "        keras.layers.Conv2D(128, (3, 3), activation = 'relu', padding = 'same'),\n",
    "        keras.layers.Conv2D(128, (3, 3), activation = 'relu'),\n",
    "        keras.layers.MaxPooling2D(2, 2),\n",
    "        #cnn.add(layers.Conv2D(256, (3, 3), activation = 'relu', padding = 'same'))\n",
    "        #cnn.add(layers.Conv2D(256, (3, 3), activation = 'relu'))\n",
    "        #cnn.add(layers.MaxPooling2D(2, 2))\n",
    "        keras.layers.Dropout(0.2),\n",
    "        keras.layers.Flatten(),\n",
    "        keras.layers.Dense(256, activation = 'relu'),\n",
    "        keras.layers.Dropout(0.5),\n",
    "        keras.layers.Dense(10, activation = 'softmax')\n",
    "    ])\n",
    "\n",
    "    model.compile(optimizer = OPTIMIZER,\n",
    "                  loss = 'categorical_crossentropy',\n",
    "                  metrics = [\"accuracy\"])\n",
    "\n",
    "    return model\n",
    "\n",
    "model = Create_model()\n",
    "model.summary()\n"
   ]
  },
  {
   "cell_type": "code",
   "execution_count": 96,
   "metadata": {},
   "outputs": [],
   "source": [
    "from tensorflow.keras.callbacks import EarlyStopping, ModelCheckpoint\n",
    "checkpoint = tf.keras.callbacks.ModelCheckpoint('best_model.h5', save_weights_only=True, save_best_only=True)"
   ]
  },
  {
   "cell_type": "code",
   "execution_count": 97,
   "metadata": {
    "tags": []
   },
   "outputs": [
    {
     "output_type": "stream",
     "name": "stdout",
     "text": "Epoch 1/100\n24/24 [==============================] - 2s 89ms/step - loss: 2.3064 - accuracy: 0.1270 - val_loss: 2.2986 - val_accuracy: 0.1074\nEpoch 2/100\n24/24 [==============================] - 2s 92ms/step - loss: 2.2532 - accuracy: 0.1564 - val_loss: 2.1859 - val_accuracy: 0.1778\nEpoch 3/100\n24/24 [==============================] - 2s 86ms/step - loss: 2.1037 - accuracy: 0.2557 - val_loss: 1.9399 - val_accuracy: 0.2978\nEpoch 4/100\n24/24 [==============================] - 2s 86ms/step - loss: 1.8439 - accuracy: 0.3664 - val_loss: 1.7142 - val_accuracy: 0.4135\nEpoch 5/100\n24/24 [==============================] - 2s 90ms/step - loss: 1.6462 - accuracy: 0.4251 - val_loss: 1.7151 - val_accuracy: 0.4156\nEpoch 6/100\n24/24 [==============================] - 2s 85ms/step - loss: 1.6069 - accuracy: 0.4463 - val_loss: 1.5282 - val_accuracy: 0.4644\nEpoch 7/100\n24/24 [==============================] - 2s 87ms/step - loss: 1.4153 - accuracy: 0.5016 - val_loss: 1.4643 - val_accuracy: 0.4979\nEpoch 8/100\n24/24 [==============================] - 2s 91ms/step - loss: 1.3715 - accuracy: 0.5098 - val_loss: 1.4635 - val_accuracy: 0.5063\nEpoch 9/100\n24/24 [==============================] - 2s 86ms/step - loss: 1.2624 - accuracy: 0.5831 - val_loss: 1.3933 - val_accuracy: 0.5307\nEpoch 10/100\n24/24 [==============================] - 2s 89ms/step - loss: 1.0683 - accuracy: 0.6287 - val_loss: 1.3177 - val_accuracy: 0.5516\nEpoch 11/100\n24/24 [==============================] - 2s 89ms/step - loss: 0.9341 - accuracy: 0.6938 - val_loss: 1.1798 - val_accuracy: 0.5983\nEpoch 12/100\n24/24 [==============================] - 2s 86ms/step - loss: 0.7879 - accuracy: 0.7248 - val_loss: 1.2070 - val_accuracy: 0.5976\nEpoch 13/100\n24/24 [==============================] - 2s 89ms/step - loss: 0.6076 - accuracy: 0.8046 - val_loss: 1.0943 - val_accuracy: 0.6283\nEpoch 14/100\n24/24 [==============================] - 2s 85ms/step - loss: 0.5619 - accuracy: 0.8241 - val_loss: 1.0988 - val_accuracy: 0.6360\nEpoch 15/100\n24/24 [==============================] - 2s 85ms/step - loss: 0.4397 - accuracy: 0.8583 - val_loss: 1.2171 - val_accuracy: 0.6499\nEpoch 16/100\n24/24 [==============================] - 2s 89ms/step - loss: 0.3907 - accuracy: 0.8697 - val_loss: 1.1568 - val_accuracy: 0.6478\nEpoch 17/100\n24/24 [==============================] - 2s 86ms/step - loss: 0.3064 - accuracy: 0.8893 - val_loss: 1.1150 - val_accuracy: 0.6604\nEpoch 18/100\n24/24 [==============================] - 2s 86ms/step - loss: 0.2995 - accuracy: 0.8974 - val_loss: 1.2091 - val_accuracy: 0.6722\nEpoch 19/100\n24/24 [==============================] - 2s 86ms/step - loss: 0.2476 - accuracy: 0.9218 - val_loss: 1.4304 - val_accuracy: 0.6597\nEpoch 20/100\n24/24 [==============================] - 2s 85ms/step - loss: 0.1599 - accuracy: 0.9414 - val_loss: 1.3272 - val_accuracy: 0.6653\nEpoch 21/100\n24/24 [==============================] - 2s 85ms/step - loss: 0.2021 - accuracy: 0.9332 - val_loss: 1.5457 - val_accuracy: 0.6388\nEpoch 22/100\n24/24 [==============================] - 2s 85ms/step - loss: 0.1520 - accuracy: 0.9430 - val_loss: 1.6203 - val_accuracy: 0.6325\nEpoch 23/100\n24/24 [==============================] - 2s 85ms/step - loss: 0.1509 - accuracy: 0.9479 - val_loss: 1.4490 - val_accuracy: 0.6583\nEpoch 24/100\n24/24 [==============================] - 2s 87ms/step - loss: 0.1422 - accuracy: 0.9593 - val_loss: 1.5490 - val_accuracy: 0.6541\nEpoch 25/100\n24/24 [==============================] - 2s 85ms/step - loss: 0.0986 - accuracy: 0.9674 - val_loss: 1.5550 - val_accuracy: 0.6702\nEpoch 26/100\n24/24 [==============================] - 2s 85ms/step - loss: 0.0873 - accuracy: 0.9707 - val_loss: 1.6621 - val_accuracy: 0.6583\nEpoch 27/100\n24/24 [==============================] - 2s 86ms/step - loss: 0.0662 - accuracy: 0.9870 - val_loss: 1.5984 - val_accuracy: 0.6492\nEpoch 28/100\n24/24 [==============================] - 2s 85ms/step - loss: 0.1013 - accuracy: 0.9593 - val_loss: 1.9764 - val_accuracy: 0.6541\nEpoch 29/100\n24/24 [==============================] - 2s 86ms/step - loss: 0.1086 - accuracy: 0.9577 - val_loss: 1.7546 - val_accuracy: 0.6520\nEpoch 30/100\n24/24 [==============================] - 2s 86ms/step - loss: 0.1084 - accuracy: 0.9707 - val_loss: 1.5799 - val_accuracy: 0.6646\nEpoch 31/100\n24/24 [==============================] - 2s 85ms/step - loss: 0.0722 - accuracy: 0.9723 - val_loss: 1.7780 - val_accuracy: 0.6562\nEpoch 32/100\n24/24 [==============================] - 2s 86ms/step - loss: 0.0861 - accuracy: 0.9707 - val_loss: 1.6297 - val_accuracy: 0.6715\nEpoch 33/100\n24/24 [==============================] - 2s 85ms/step - loss: 0.1075 - accuracy: 0.9707 - val_loss: 1.8572 - val_accuracy: 0.6492\nEpoch 34/100\n24/24 [==============================] - 2s 87ms/step - loss: 0.0793 - accuracy: 0.9788 - val_loss: 1.5886 - val_accuracy: 0.6632\nEpoch 35/100\n24/24 [==============================] - 2s 85ms/step - loss: 0.0710 - accuracy: 0.9723 - val_loss: 1.6934 - val_accuracy: 0.6625\nEpoch 36/100\n24/24 [==============================] - 2s 86ms/step - loss: 0.0712 - accuracy: 0.9691 - val_loss: 1.5097 - val_accuracy: 0.6743\nEpoch 37/100\n24/24 [==============================] - 2s 86ms/step - loss: 0.0561 - accuracy: 0.9853 - val_loss: 1.5351 - val_accuracy: 0.6653\nEpoch 38/100\n24/24 [==============================] - 2s 86ms/step - loss: 0.0561 - accuracy: 0.9837 - val_loss: 1.7876 - val_accuracy: 0.6667\nEpoch 39/100\n24/24 [==============================] - 2s 85ms/step - loss: 0.0692 - accuracy: 0.9756 - val_loss: 1.6387 - val_accuracy: 0.6646\nEpoch 40/100\n24/24 [==============================] - 2s 85ms/step - loss: 0.0671 - accuracy: 0.9805 - val_loss: 1.9775 - val_accuracy: 0.6444\nEpoch 41/100\n24/24 [==============================] - 2s 86ms/step - loss: 0.0711 - accuracy: 0.9756 - val_loss: 1.6675 - val_accuracy: 0.6646\nEpoch 42/100\n24/24 [==============================] - 2s 88ms/step - loss: 0.0574 - accuracy: 0.9805 - val_loss: 1.7029 - val_accuracy: 0.6715\nEpoch 43/100\n24/24 [==============================] - 2s 88ms/step - loss: 0.0407 - accuracy: 0.9837 - val_loss: 1.8963 - val_accuracy: 0.6492\nEpoch 44/100\n24/24 [==============================] - 2s 88ms/step - loss: 0.0541 - accuracy: 0.9853 - val_loss: 1.6952 - val_accuracy: 0.6653\nEpoch 45/100\n24/24 [==============================] - 2s 85ms/step - loss: 0.0544 - accuracy: 0.9821 - val_loss: 1.8007 - val_accuracy: 0.6611\nEpoch 46/100\n24/24 [==============================] - 2s 86ms/step - loss: 0.0475 - accuracy: 0.9837 - val_loss: 1.8165 - val_accuracy: 0.6771\nEpoch 47/100\n24/24 [==============================] - 2s 86ms/step - loss: 0.0359 - accuracy: 0.9870 - val_loss: 1.9907 - val_accuracy: 0.6667\nEpoch 48/100\n24/24 [==============================] - 2s 86ms/step - loss: 0.0472 - accuracy: 0.9837 - val_loss: 1.8935 - val_accuracy: 0.6834\nEpoch 49/100\n24/24 [==============================] - 2s 85ms/step - loss: 0.0402 - accuracy: 0.9853 - val_loss: 1.8822 - val_accuracy: 0.6813\nEpoch 50/100\n24/24 [==============================] - 2s 87ms/step - loss: 0.0252 - accuracy: 0.9919 - val_loss: 1.9208 - val_accuracy: 0.6841\nEpoch 51/100\n24/24 [==============================] - 2s 85ms/step - loss: 0.0355 - accuracy: 0.9919 - val_loss: 2.1268 - val_accuracy: 0.6736\nEpoch 52/100\n24/24 [==============================] - 2s 86ms/step - loss: 0.0638 - accuracy: 0.9805 - val_loss: 1.7206 - val_accuracy: 0.6841\nEpoch 53/100\n24/24 [==============================] - 2s 85ms/step - loss: 0.0363 - accuracy: 0.9853 - val_loss: 2.0022 - val_accuracy: 0.6757\nEpoch 54/100\n24/24 [==============================] - 2s 87ms/step - loss: 0.0508 - accuracy: 0.9870 - val_loss: 1.6246 - val_accuracy: 0.6813\nEpoch 55/100\n24/24 [==============================] - 2s 87ms/step - loss: 0.0557 - accuracy: 0.9853 - val_loss: 1.7035 - val_accuracy: 0.6750\nEpoch 56/100\n24/24 [==============================] - 2s 85ms/step - loss: 0.0314 - accuracy: 0.9870 - val_loss: 1.8431 - val_accuracy: 0.6653\nEpoch 57/100\n24/24 [==============================] - 2s 86ms/step - loss: 0.0114 - accuracy: 0.9984 - val_loss: 2.0390 - val_accuracy: 0.6715\nEpoch 58/100\n24/24 [==============================] - 2s 86ms/step - loss: 0.0363 - accuracy: 0.9902 - val_loss: 2.1789 - val_accuracy: 0.6569\nEpoch 59/100\n24/24 [==============================] - 2s 87ms/step - loss: 0.0557 - accuracy: 0.9805 - val_loss: 2.1027 - val_accuracy: 0.6569\nEpoch 60/100\n24/24 [==============================] - 2s 86ms/step - loss: 0.0452 - accuracy: 0.9837 - val_loss: 2.2392 - val_accuracy: 0.6464\nEpoch 61/100\n24/24 [==============================] - 2s 86ms/step - loss: 0.0194 - accuracy: 0.9935 - val_loss: 1.8819 - val_accuracy: 0.6743\nEpoch 62/100\n24/24 [==============================] - 2s 90ms/step - loss: 0.0161 - accuracy: 0.9935 - val_loss: 2.2172 - val_accuracy: 0.6646\nEpoch 63/100\n24/24 [==============================] - 2s 91ms/step - loss: 0.0369 - accuracy: 0.9902 - val_loss: 2.0856 - val_accuracy: 0.6646\nEpoch 64/100\n24/24 [==============================] - 2s 90ms/step - loss: 0.0173 - accuracy: 0.9967 - val_loss: 1.8497 - val_accuracy: 0.6960\nEpoch 65/100\n24/24 [==============================] - 2s 90ms/step - loss: 0.0168 - accuracy: 0.9951 - val_loss: 1.9339 - val_accuracy: 0.6848\nEpoch 66/100\n24/24 [==============================] - 2s 87ms/step - loss: 0.0335 - accuracy: 0.9853 - val_loss: 2.2940 - val_accuracy: 0.6618\nEpoch 67/100\n24/24 [==============================] - 2s 86ms/step - loss: 0.0179 - accuracy: 0.9967 - val_loss: 1.8837 - val_accuracy: 0.6904\nEpoch 68/100\n24/24 [==============================] - 2s 86ms/step - loss: 0.0358 - accuracy: 0.9821 - val_loss: 2.1568 - val_accuracy: 0.6743\nEpoch 69/100\n24/24 [==============================] - 2s 86ms/step - loss: 0.0574 - accuracy: 0.9853 - val_loss: 1.8123 - val_accuracy: 0.6785\nEpoch 70/100\n24/24 [==============================] - 2s 86ms/step - loss: 0.0505 - accuracy: 0.9805 - val_loss: 1.7294 - val_accuracy: 0.6785\nEpoch 71/100\n24/24 [==============================] - 2s 85ms/step - loss: 0.0270 - accuracy: 0.9919 - val_loss: 1.8488 - val_accuracy: 0.6827\nEpoch 72/100\n24/24 [==============================] - 2s 86ms/step - loss: 0.0208 - accuracy: 0.9919 - val_loss: 1.7225 - val_accuracy: 0.7029\nEpoch 73/100\n24/24 [==============================] - 2s 91ms/step - loss: 0.0318 - accuracy: 0.9919 - val_loss: 1.9426 - val_accuracy: 0.6869\nEpoch 74/100\n24/24 [==============================] - 2s 85ms/step - loss: 0.0592 - accuracy: 0.9870 - val_loss: 1.8550 - val_accuracy: 0.6778\nEpoch 75/100\n24/24 [==============================] - 2s 87ms/step - loss: 0.0588 - accuracy: 0.9837 - val_loss: 1.7540 - val_accuracy: 0.6869\nEpoch 76/100\n24/24 [==============================] - 2s 85ms/step - loss: 0.0309 - accuracy: 0.9919 - val_loss: 1.6724 - val_accuracy: 0.6932\nEpoch 77/100\n24/24 [==============================] - 2s 92ms/step - loss: 0.0125 - accuracy: 0.9967 - val_loss: 1.8125 - val_accuracy: 0.6876\nEpoch 78/100\n24/24 [==============================] - 2s 92ms/step - loss: 0.0174 - accuracy: 0.9967 - val_loss: 1.8712 - val_accuracy: 0.6960\nEpoch 79/100\n24/24 [==============================] - 2s 94ms/step - loss: 0.0160 - accuracy: 0.9967 - val_loss: 2.0498 - val_accuracy: 0.6939\nEpoch 80/100\n24/24 [==============================] - 2s 92ms/step - loss: 0.0104 - accuracy: 0.9967 - val_loss: 2.1411 - val_accuracy: 0.6904\nEpoch 81/100\n24/24 [==============================] - 2s 93ms/step - loss: 0.0244 - accuracy: 0.9902 - val_loss: 2.6735 - val_accuracy: 0.6660\nEpoch 82/100\n24/24 [==============================] - 2s 93ms/step - loss: 0.0251 - accuracy: 0.9919 - val_loss: 2.0774 - val_accuracy: 0.6806\nEpoch 83/100\n24/24 [==============================] - 2s 92ms/step - loss: 0.0150 - accuracy: 0.9951 - val_loss: 2.4486 - val_accuracy: 0.6576\nEpoch 84/100\n24/24 [==============================] - 2s 94ms/step - loss: 0.0415 - accuracy: 0.9870 - val_loss: 1.9965 - val_accuracy: 0.6799\nEpoch 85/100\n24/24 [==============================] - 2s 92ms/step - loss: 0.0295 - accuracy: 0.9902 - val_loss: 2.4069 - val_accuracy: 0.6715\nEpoch 86/100\n24/24 [==============================] - 2s 94ms/step - loss: 0.0226 - accuracy: 0.9902 - val_loss: 2.1404 - val_accuracy: 0.6722\nEpoch 87/100\n24/24 [==============================] - 2s 92ms/step - loss: 0.0250 - accuracy: 0.9886 - val_loss: 2.2166 - val_accuracy: 0.6757\nEpoch 88/100\n24/24 [==============================] - 2s 89ms/step - loss: 0.0191 - accuracy: 0.9951 - val_loss: 2.6331 - val_accuracy: 0.6618\nEpoch 89/100\n24/24 [==============================] - 2s 86ms/step - loss: 0.0388 - accuracy: 0.9853 - val_loss: 2.1696 - val_accuracy: 0.6702\nEpoch 90/100\n24/24 [==============================] - 2s 86ms/step - loss: 0.0273 - accuracy: 0.9886 - val_loss: 2.5431 - val_accuracy: 0.6688\nEpoch 91/100\n24/24 [==============================] - 2s 85ms/step - loss: 0.0347 - accuracy: 0.9853 - val_loss: 2.1395 - val_accuracy: 0.6834\nEpoch 92/100\n24/24 [==============================] - 2s 86ms/step - loss: 0.0260 - accuracy: 0.9935 - val_loss: 2.0329 - val_accuracy: 0.6611\nEpoch 93/100\n24/24 [==============================] - 2s 87ms/step - loss: 0.0344 - accuracy: 0.9870 - val_loss: 2.1650 - val_accuracy: 0.6918\nEpoch 94/100\n24/24 [==============================] - 2s 86ms/step - loss: 0.0292 - accuracy: 0.9886 - val_loss: 2.2857 - val_accuracy: 0.6918\nEpoch 95/100\n24/24 [==============================] - 2s 85ms/step - loss: 0.0157 - accuracy: 0.9935 - val_loss: 2.2874 - val_accuracy: 0.6925\nEpoch 96/100\n24/24 [==============================] - 2s 101ms/step - loss: 0.0389 - accuracy: 0.9853 - val_loss: 2.0920 - val_accuracy: 0.6862\nEpoch 97/100\n24/24 [==============================] - 2s 88ms/step - loss: 0.0214 - accuracy: 0.9935 - val_loss: 1.8901 - val_accuracy: 0.6974\nEpoch 98/100\n24/24 [==============================] - 2s 86ms/step - loss: 0.0136 - accuracy: 0.9967 - val_loss: 1.9854 - val_accuracy: 0.7043\nEpoch 99/100\n24/24 [==============================] - 2s 85ms/step - loss: 0.0246 - accuracy: 0.9886 - val_loss: 3.0963 - val_accuracy: 0.6541\nEpoch 100/100\n24/24 [==============================] - 2s 86ms/step - loss: 0.0669 - accuracy: 0.9739 - val_loss: 2.4064 - val_accuracy: 0.6660\n"
    },
    {
     "output_type": "execute_result",
     "data": {
      "text/plain": "<tensorflow.python.keras.callbacks.History at 0x2cfc5f35588>"
     },
     "metadata": {},
     "execution_count": 97
    }
   ],
   "source": [
    "model.fit(xtrain, ytrain1,\n",
    "          batch_size = 26,\n",
    "          epochs = 100,\n",
    "          verbose = 1,\n",
    "          validation_split = 0.70,\n",
    "          callbacks = [checkpoint])"
   ]
  },
  {
   "cell_type": "code",
   "execution_count": null,
   "metadata": {},
   "outputs": [],
   "source": [
    "# best_model = build_model((28, 28, 1))\n",
    "# #best_model.build(input_shape=(28, 28, 1))\n",
    "# best_model.load_weights('best_model.h5')\n",
    "# best_model.compile(optimizer = OPTIMIZER , loss = 'categorical_crossentropy')\n",
    "\n",
    "# predictions = best_model.predict(test)\n",
    "# predictions"
   ]
  },
  {
   "cell_type": "code",
   "execution_count": 75,
   "metadata": {},
   "outputs": [
    {
     "output_type": "execute_result",
     "data": {
      "text/plain": "       digit\n0          6\n1          8\n2          8\n3          0\n4          3\n...      ...\n20475      4\n20476      1\n20477      6\n20478      3\n20479      2\n\n[20480 rows x 1 columns]",
      "text/html": "<div>\n<style scoped>\n    .dataframe tbody tr th:only-of-type {\n        vertical-align: middle;\n    }\n\n    .dataframe tbody tr th {\n        vertical-align: top;\n    }\n\n    .dataframe thead th {\n        text-align: right;\n    }\n</style>\n<table border=\"1\" class=\"dataframe\">\n  <thead>\n    <tr style=\"text-align: right;\">\n      <th></th>\n      <th>digit</th>\n    </tr>\n  </thead>\n  <tbody>\n    <tr>\n      <th>0</th>\n      <td>6</td>\n    </tr>\n    <tr>\n      <th>1</th>\n      <td>8</td>\n    </tr>\n    <tr>\n      <th>2</th>\n      <td>8</td>\n    </tr>\n    <tr>\n      <th>3</th>\n      <td>0</td>\n    </tr>\n    <tr>\n      <th>4</th>\n      <td>3</td>\n    </tr>\n    <tr>\n      <th>...</th>\n      <td>...</td>\n    </tr>\n    <tr>\n      <th>20475</th>\n      <td>4</td>\n    </tr>\n    <tr>\n      <th>20476</th>\n      <td>1</td>\n    </tr>\n    <tr>\n      <th>20477</th>\n      <td>6</td>\n    </tr>\n    <tr>\n      <th>20478</th>\n      <td>3</td>\n    </tr>\n    <tr>\n      <th>20479</th>\n      <td>2</td>\n    </tr>\n  </tbody>\n</table>\n<p>20480 rows × 1 columns</p>\n</div>"
     },
     "metadata": {},
     "execution_count": 75
    }
   ],
   "source": [
    "y_pred = model.predict(test, batch_size=26)\n",
    "# digit  디코딩\n",
    "decoding = np.argmax(y_pred, axis=1).reshape(-1,1)\n",
    "decoding = pd.DataFrame(decoding, columns = ['digit'])\n",
    "decoding"
   ]
  },
  {
   "cell_type": "code",
   "execution_count": 76,
   "metadata": {},
   "outputs": [],
   "source": [
    "model.load_weights('best_model.h5')\n",
    "y_pred = model.predict(test, batch_size=26)\n",
    "# digit  디코딩\n",
    "decoding = np.argmax(y_pred, axis=1).reshape(-1,1)\n",
    "decoding = pd.DataFrame(decoding, columns = ['digit'])\n",
    "decoding"
   ]
  },
  {
   "cell_type": "code",
   "execution_count": null,
   "metadata": {},
   "outputs": [],
   "source": [
    "sub = pd.read_csv('data/submission.csv')\n",
    "sub = sub.drop(['digit'], axis = 1)\n",
    "sub = pd.concat([sub, decoding], axis = 1)\n",
    "sub.to_csv('sub.csv', index = False, encoding = 'utf-8')\n",
    "sub"
   ]
  }
 ]
}