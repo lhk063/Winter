{
 "metadata": {
  "language_info": {
   "codemirror_mode": {
    "name": "ipython",
    "version": 3
   },
   "file_extension": ".py",
   "mimetype": "text/x-python",
   "name": "python",
   "nbconvert_exporter": "python",
   "pygments_lexer": "ipython3",
   "version": "3.7.6-final"
  },
  "orig_nbformat": 2,
  "kernelspec": {
   "name": "python_defaultSpec_1598692853630",
   "display_name": "Python 3.7.6 64-bit ('base': conda)"
  }
 },
 "nbformat": 4,
 "nbformat_minor": 2,
 "cells": [
  {
   "cell_type": "code",
   "execution_count": 1,
   "metadata": {},
   "outputs": [],
   "source": [
    "import tensorflow as tf\n",
    "import numpy as np\n",
    "import pandas as pd\n",
    "from tensorflow.keras import datasets, layers, models, optimizers"
   ]
  },
  {
   "cell_type": "code",
   "execution_count": 2,
   "metadata": {},
   "outputs": [],
   "source": [
    "(X_train, y_train), (X_test, y_test) = datasets.mnist.load_data()"
   ]
  },
  {
   "cell_type": "code",
   "execution_count": 3,
   "metadata": {},
   "outputs": [],
   "source": [
    "# 크기 조정\n",
    "X_train = X_train.reshape((60000, 28, 28, 1))\n",
    "X_test = X_test.reshape((10000, 28, 28, 1))"
   ]
  },
  {
   "cell_type": "code",
   "execution_count": 4,
   "metadata": {},
   "outputs": [],
   "source": [
    "# 정규화\n",
    "X_train, X_test = X_train / 255, X_test / 255"
   ]
  },
  {
   "cell_type": "code",
   "execution_count": 5,
   "metadata": {},
   "outputs": [],
   "source": [
    "# 형식 변환\n",
    "X_train = X_train.astype('float32')\n",
    "X_test = X_test.astype('float32')"
   ]
  },
  {
   "cell_type": "code",
   "execution_count": 6,
   "metadata": {},
   "outputs": [],
   "source": [
    "y_train = tf.keras.utils.to_categorical(y_train, 10)\n",
    "y_test = tf.keras.utils.to_categorical(y_test, 10)"
   ]
  },
  {
   "cell_type": "code",
   "execution_count": 7,
   "metadata": {},
   "outputs": [
    {
     "output_type": "execute_result",
     "data": {
      "text/plain": "array([[0., 0., 0., ..., 0., 0., 0.],\n       [1., 0., 0., ..., 0., 0., 0.],\n       [0., 0., 0., ..., 0., 0., 0.],\n       ...,\n       [0., 0., 0., ..., 0., 0., 0.],\n       [0., 0., 0., ..., 0., 0., 0.],\n       [0., 0., 0., ..., 0., 1., 0.]], dtype=float32)"
     },
     "metadata": {},
     "execution_count": 7
    }
   ],
   "source": [
    "y_train"
   ]
  },
  {
   "cell_type": "code",
   "execution_count": null,
   "metadata": {},
   "outputs": [],
   "source": []
  },
  {
   "cell_type": "code",
   "execution_count": null,
   "metadata": {},
   "outputs": [],
   "source": []
  },
  {
   "cell_type": "code",
   "execution_count": 8,
   "metadata": {},
   "outputs": [],
   "source": [
    "OPTIMIZER = tf.keras.optimizers.Adam()\n",
    "EPOCHS = 5\n",
    "BATCH_SIZE = 128\n",
    "VERBOSE = 1\n",
    "VALIDATION_SPLIT = 0.95\n",
    "\n",
    "IMG_ROWS, IMG_COLS = 28,28\n",
    "INPUT_SHAPE = (IMG_ROWS, IMG_COLS, 1)\n",
    "NB_CLASSES = 10"
   ]
  },
  {
   "cell_type": "code",
   "execution_count": 9,
   "metadata": {},
   "outputs": [],
   "source": [
    "def build(input_shape, classes):\n",
    "    model = models.Sequential()\n",
    "    model.add(layers.Convolution2D(20, (5, 5), activation = 'relu', input_shape = input_shape))\n",
    "    model.add(layers.MaxPooling2D(pool_size = (2, 2), strides = (2, 2)))\n",
    "    model.add(layers.Convolution2D(50, (5, 5), activation = 'relu'))\n",
    "    model.add(layers.MaxPooling2D(pool_size = (2, 2), strides = (2, 2)))\n",
    "    model.add(layers.Flatten())\n",
    "    model.add(layers.Dense(500, activation = 'relu'))\n",
    "    model.add(layers.Dense(classes, activation = 'softmax'))\n",
    "    \n",
    "    return model\n"
   ]
  },
  {
   "cell_type": "code",
   "execution_count": 8,
   "metadata": {},
   "outputs": [],
   "source": []
  },
  {
   "cell_type": "code",
   "execution_count": 10,
   "metadata": {
    "tags": []
   },
   "outputs": [
    {
     "output_type": "stream",
     "name": "stdout",
     "text": "Model: \"sequential\"\n_________________________________________________________________\nLayer (type)                 Output Shape              Param #   \n=================================================================\nconv2d (Conv2D)              (None, 24, 24, 20)        520       \n_________________________________________________________________\nmax_pooling2d (MaxPooling2D) (None, 12, 12, 20)        0         \n_________________________________________________________________\nconv2d_1 (Conv2D)            (None, 8, 8, 50)          25050     \n_________________________________________________________________\nmax_pooling2d_1 (MaxPooling2 (None, 4, 4, 50)          0         \n_________________________________________________________________\nflatten (Flatten)            (None, 800)               0         \n_________________________________________________________________\ndense (Dense)                (None, 500)               400500    \n_________________________________________________________________\ndense_1 (Dense)              (None, 10)                5010      \n=================================================================\nTotal params: 431,080\nTrainable params: 431,080\nNon-trainable params: 0\n_________________________________________________________________\nEpoch 1/5\n24/24 [==============================] - 4s 182ms/step - loss: 1.1600 - accuracy: 0.6803 - val_loss: 0.5959 - val_accuracy: 0.8047\nEpoch 2/5\n24/24 [==============================] - 4s 164ms/step - loss: 0.3519 - accuracy: 0.8950 - val_loss: 0.3176 - val_accuracy: 0.9016\nEpoch 3/5\n24/24 [==============================] - 4s 164ms/step - loss: 0.2148 - accuracy: 0.9403 - val_loss: 0.2814 - val_accuracy: 0.9112\nEpoch 4/5\n24/24 [==============================] - 4s 176ms/step - loss: 0.1637 - accuracy: 0.9580 - val_loss: 0.1734 - val_accuracy: 0.9471\nEpoch 5/5\n24/24 [==============================] - 4s 168ms/step - loss: 0.1176 - accuracy: 0.9667 - val_loss: 0.1664 - val_accuracy: 0.9480\n313/313 [==============================] - 1s 3ms/step - loss: 0.1421 - accuracy: 0.9546\n\nTest score: 0.14209707081317902\nTest accuracy 0.9545999765396118\n"
    }
   ],
   "source": [
    "model = build(input_shape = (28, 28, 1), classes = 10)\n",
    "model.compile(optimizer = OPTIMIZER, loss = 'categorical_crossentropy', metrics = [\"accuracy\"])\n",
    "model.summary()\n",
    "\n",
    "callbacks = [tf.keras.callbacks.TensorBoard(log_dir = './logs')]\n",
    "\n",
    "history = model.fit(X_train, y_train,\n",
    "                    batch_size = BATCH_SIZE,\n",
    "                    epochs = 5,\n",
    "                    verbose = 1,\n",
    "                    validation_split = 0.95,\n",
    "                    callbacks = callbacks)\n",
    "\n",
    "score = model.evaluate(X_test, y_test, verbose = 1)\n",
    "\n",
    "print(\"\\nTest score:\", score[0])\n",
    "print('Test accuracy', score[1])\n"
   ]
  },
  {
   "cell_type": "code",
   "execution_count": 11,
   "metadata": {},
   "outputs": [],
   "source": [
    "train = pd.read_csv('data/train.csv')"
   ]
  },
  {
   "cell_type": "code",
   "execution_count": 12,
   "metadata": {},
   "outputs": [
    {
     "output_type": "execute_result",
     "data": {
      "text/plain": "        id  digit letter  0  1  2  3  4  5  6  ...  774  775  776  777  778  \\\n0        1      5      L  1  1  1  4  3  0  0  ...    2    1    0    1    2   \n1        2      0      B  0  4  0  0  4  1  1  ...    0    3    0    1    4   \n2        3      4      L  1  1  2  2  1  1  1  ...    3    3    3    0    2   \n3        4      9      D  1  2  0  2  0  4  0  ...    3    3    2    0    1   \n4        5      6      A  3  0  2  4  0  3  0  ...    4    4    3    2    1   \n...    ...    ...    ... .. .. .. .. .. .. ..  ...  ...  ...  ...  ...  ...   \n2043  2044      6      V  2  4  3  4  2  4  4  ...    0    2    2    0    0   \n2044  2045      1      L  3  2  2  1  1  4  0  ...    2    3    4    2    1   \n2045  2046      9      A  4  0  4  0  2  4  4  ...    2    3    1    1    3   \n2046  2047      0      Z  2  3  3  0  3  0  4  ...    2    3    1    1    0   \n2047  2048      5      Z  4  2  2  1  3  0  0  ...    4    2    4    0    4   \n\n      779  780  781  782  783  \n0       4    4    4    3    4  \n1       1    4    2    1    2  \n2       0    3    0    2    2  \n3       4    0    0    1    1  \n4       3    4    3    1    2  \n...   ...  ...  ...  ...  ...  \n2043    1    3    1    4    0  \n2044    2    3    4    1    1  \n2045    4    2    2    0    0  \n2046    4    1    4    3    1  \n2047    3    2    4    3    4  \n\n[2048 rows x 787 columns]",
      "text/html": "<div>\n<style scoped>\n    .dataframe tbody tr th:only-of-type {\n        vertical-align: middle;\n    }\n\n    .dataframe tbody tr th {\n        vertical-align: top;\n    }\n\n    .dataframe thead th {\n        text-align: right;\n    }\n</style>\n<table border=\"1\" class=\"dataframe\">\n  <thead>\n    <tr style=\"text-align: right;\">\n      <th></th>\n      <th>id</th>\n      <th>digit</th>\n      <th>letter</th>\n      <th>0</th>\n      <th>1</th>\n      <th>2</th>\n      <th>3</th>\n      <th>4</th>\n      <th>5</th>\n      <th>6</th>\n      <th>...</th>\n      <th>774</th>\n      <th>775</th>\n      <th>776</th>\n      <th>777</th>\n      <th>778</th>\n      <th>779</th>\n      <th>780</th>\n      <th>781</th>\n      <th>782</th>\n      <th>783</th>\n    </tr>\n  </thead>\n  <tbody>\n    <tr>\n      <th>0</th>\n      <td>1</td>\n      <td>5</td>\n      <td>L</td>\n      <td>1</td>\n      <td>1</td>\n      <td>1</td>\n      <td>4</td>\n      <td>3</td>\n      <td>0</td>\n      <td>0</td>\n      <td>...</td>\n      <td>2</td>\n      <td>1</td>\n      <td>0</td>\n      <td>1</td>\n      <td>2</td>\n      <td>4</td>\n      <td>4</td>\n      <td>4</td>\n      <td>3</td>\n      <td>4</td>\n    </tr>\n    <tr>\n      <th>1</th>\n      <td>2</td>\n      <td>0</td>\n      <td>B</td>\n      <td>0</td>\n      <td>4</td>\n      <td>0</td>\n      <td>0</td>\n      <td>4</td>\n      <td>1</td>\n      <td>1</td>\n      <td>...</td>\n      <td>0</td>\n      <td>3</td>\n      <td>0</td>\n      <td>1</td>\n      <td>4</td>\n      <td>1</td>\n      <td>4</td>\n      <td>2</td>\n      <td>1</td>\n      <td>2</td>\n    </tr>\n    <tr>\n      <th>2</th>\n      <td>3</td>\n      <td>4</td>\n      <td>L</td>\n      <td>1</td>\n      <td>1</td>\n      <td>2</td>\n      <td>2</td>\n      <td>1</td>\n      <td>1</td>\n      <td>1</td>\n      <td>...</td>\n      <td>3</td>\n      <td>3</td>\n      <td>3</td>\n      <td>0</td>\n      <td>2</td>\n      <td>0</td>\n      <td>3</td>\n      <td>0</td>\n      <td>2</td>\n      <td>2</td>\n    </tr>\n    <tr>\n      <th>3</th>\n      <td>4</td>\n      <td>9</td>\n      <td>D</td>\n      <td>1</td>\n      <td>2</td>\n      <td>0</td>\n      <td>2</td>\n      <td>0</td>\n      <td>4</td>\n      <td>0</td>\n      <td>...</td>\n      <td>3</td>\n      <td>3</td>\n      <td>2</td>\n      <td>0</td>\n      <td>1</td>\n      <td>4</td>\n      <td>0</td>\n      <td>0</td>\n      <td>1</td>\n      <td>1</td>\n    </tr>\n    <tr>\n      <th>4</th>\n      <td>5</td>\n      <td>6</td>\n      <td>A</td>\n      <td>3</td>\n      <td>0</td>\n      <td>2</td>\n      <td>4</td>\n      <td>0</td>\n      <td>3</td>\n      <td>0</td>\n      <td>...</td>\n      <td>4</td>\n      <td>4</td>\n      <td>3</td>\n      <td>2</td>\n      <td>1</td>\n      <td>3</td>\n      <td>4</td>\n      <td>3</td>\n      <td>1</td>\n      <td>2</td>\n    </tr>\n    <tr>\n      <th>...</th>\n      <td>...</td>\n      <td>...</td>\n      <td>...</td>\n      <td>...</td>\n      <td>...</td>\n      <td>...</td>\n      <td>...</td>\n      <td>...</td>\n      <td>...</td>\n      <td>...</td>\n      <td>...</td>\n      <td>...</td>\n      <td>...</td>\n      <td>...</td>\n      <td>...</td>\n      <td>...</td>\n      <td>...</td>\n      <td>...</td>\n      <td>...</td>\n      <td>...</td>\n      <td>...</td>\n    </tr>\n    <tr>\n      <th>2043</th>\n      <td>2044</td>\n      <td>6</td>\n      <td>V</td>\n      <td>2</td>\n      <td>4</td>\n      <td>3</td>\n      <td>4</td>\n      <td>2</td>\n      <td>4</td>\n      <td>4</td>\n      <td>...</td>\n      <td>0</td>\n      <td>2</td>\n      <td>2</td>\n      <td>0</td>\n      <td>0</td>\n      <td>1</td>\n      <td>3</td>\n      <td>1</td>\n      <td>4</td>\n      <td>0</td>\n    </tr>\n    <tr>\n      <th>2044</th>\n      <td>2045</td>\n      <td>1</td>\n      <td>L</td>\n      <td>3</td>\n      <td>2</td>\n      <td>2</td>\n      <td>1</td>\n      <td>1</td>\n      <td>4</td>\n      <td>0</td>\n      <td>...</td>\n      <td>2</td>\n      <td>3</td>\n      <td>4</td>\n      <td>2</td>\n      <td>1</td>\n      <td>2</td>\n      <td>3</td>\n      <td>4</td>\n      <td>1</td>\n      <td>1</td>\n    </tr>\n    <tr>\n      <th>2045</th>\n      <td>2046</td>\n      <td>9</td>\n      <td>A</td>\n      <td>4</td>\n      <td>0</td>\n      <td>4</td>\n      <td>0</td>\n      <td>2</td>\n      <td>4</td>\n      <td>4</td>\n      <td>...</td>\n      <td>2</td>\n      <td>3</td>\n      <td>1</td>\n      <td>1</td>\n      <td>3</td>\n      <td>4</td>\n      <td>2</td>\n      <td>2</td>\n      <td>0</td>\n      <td>0</td>\n    </tr>\n    <tr>\n      <th>2046</th>\n      <td>2047</td>\n      <td>0</td>\n      <td>Z</td>\n      <td>2</td>\n      <td>3</td>\n      <td>3</td>\n      <td>0</td>\n      <td>3</td>\n      <td>0</td>\n      <td>4</td>\n      <td>...</td>\n      <td>2</td>\n      <td>3</td>\n      <td>1</td>\n      <td>1</td>\n      <td>0</td>\n      <td>4</td>\n      <td>1</td>\n      <td>4</td>\n      <td>3</td>\n      <td>1</td>\n    </tr>\n    <tr>\n      <th>2047</th>\n      <td>2048</td>\n      <td>5</td>\n      <td>Z</td>\n      <td>4</td>\n      <td>2</td>\n      <td>2</td>\n      <td>1</td>\n      <td>3</td>\n      <td>0</td>\n      <td>0</td>\n      <td>...</td>\n      <td>4</td>\n      <td>2</td>\n      <td>4</td>\n      <td>0</td>\n      <td>4</td>\n      <td>3</td>\n      <td>2</td>\n      <td>4</td>\n      <td>3</td>\n      <td>4</td>\n    </tr>\n  </tbody>\n</table>\n<p>2048 rows × 787 columns</p>\n</div>"
     },
     "metadata": {},
     "execution_count": 12
    }
   ],
   "source": [
    "train"
   ]
  },
  {
   "cell_type": "code",
   "execution_count": 13,
   "metadata": {},
   "outputs": [
    {
     "output_type": "execute_result",
     "data": {
      "text/plain": "        id  digit letter  0  1  2  3  4  5  6  ...  774  775  776  777  778  \\\n0        1      5      L  1  1  1  4  3  0  0  ...    2    1    0    1    2   \n1        2      0      B  0  4  0  0  4  1  1  ...    0    3    0    1    4   \n2        3      4      L  1  1  2  2  1  1  1  ...    3    3    3    0    2   \n3        4      9      D  1  2  0  2  0  4  0  ...    3    3    2    0    1   \n4        5      6      A  3  0  2  4  0  3  0  ...    4    4    3    2    1   \n...    ...    ...    ... .. .. .. .. .. .. ..  ...  ...  ...  ...  ...  ...   \n2043  2044      6      V  2  4  3  4  2  4  4  ...    0    2    2    0    0   \n2044  2045      1      L  3  2  2  1  1  4  0  ...    2    3    4    2    1   \n2045  2046      9      A  4  0  4  0  2  4  4  ...    2    3    1    1    3   \n2046  2047      0      Z  2  3  3  0  3  0  4  ...    2    3    1    1    0   \n2047  2048      5      Z  4  2  2  1  3  0  0  ...    4    2    4    0    4   \n\n      779  780  781  782  783  \n0       4    4    4    3    4  \n1       1    4    2    1    2  \n2       0    3    0    2    2  \n3       4    0    0    1    1  \n4       3    4    3    1    2  \n...   ...  ...  ...  ...  ...  \n2043    1    3    1    4    0  \n2044    2    3    4    1    1  \n2045    4    2    2    0    0  \n2046    4    1    4    3    1  \n2047    3    2    4    3    4  \n\n[2048 rows x 787 columns]",
      "text/html": "<div>\n<style scoped>\n    .dataframe tbody tr th:only-of-type {\n        vertical-align: middle;\n    }\n\n    .dataframe tbody tr th {\n        vertical-align: top;\n    }\n\n    .dataframe thead th {\n        text-align: right;\n    }\n</style>\n<table border=\"1\" class=\"dataframe\">\n  <thead>\n    <tr style=\"text-align: right;\">\n      <th></th>\n      <th>id</th>\n      <th>digit</th>\n      <th>letter</th>\n      <th>0</th>\n      <th>1</th>\n      <th>2</th>\n      <th>3</th>\n      <th>4</th>\n      <th>5</th>\n      <th>6</th>\n      <th>...</th>\n      <th>774</th>\n      <th>775</th>\n      <th>776</th>\n      <th>777</th>\n      <th>778</th>\n      <th>779</th>\n      <th>780</th>\n      <th>781</th>\n      <th>782</th>\n      <th>783</th>\n    </tr>\n  </thead>\n  <tbody>\n    <tr>\n      <th>0</th>\n      <td>1</td>\n      <td>5</td>\n      <td>L</td>\n      <td>1</td>\n      <td>1</td>\n      <td>1</td>\n      <td>4</td>\n      <td>3</td>\n      <td>0</td>\n      <td>0</td>\n      <td>...</td>\n      <td>2</td>\n      <td>1</td>\n      <td>0</td>\n      <td>1</td>\n      <td>2</td>\n      <td>4</td>\n      <td>4</td>\n      <td>4</td>\n      <td>3</td>\n      <td>4</td>\n    </tr>\n    <tr>\n      <th>1</th>\n      <td>2</td>\n      <td>0</td>\n      <td>B</td>\n      <td>0</td>\n      <td>4</td>\n      <td>0</td>\n      <td>0</td>\n      <td>4</td>\n      <td>1</td>\n      <td>1</td>\n      <td>...</td>\n      <td>0</td>\n      <td>3</td>\n      <td>0</td>\n      <td>1</td>\n      <td>4</td>\n      <td>1</td>\n      <td>4</td>\n      <td>2</td>\n      <td>1</td>\n      <td>2</td>\n    </tr>\n    <tr>\n      <th>2</th>\n      <td>3</td>\n      <td>4</td>\n      <td>L</td>\n      <td>1</td>\n      <td>1</td>\n      <td>2</td>\n      <td>2</td>\n      <td>1</td>\n      <td>1</td>\n      <td>1</td>\n      <td>...</td>\n      <td>3</td>\n      <td>3</td>\n      <td>3</td>\n      <td>0</td>\n      <td>2</td>\n      <td>0</td>\n      <td>3</td>\n      <td>0</td>\n      <td>2</td>\n      <td>2</td>\n    </tr>\n    <tr>\n      <th>3</th>\n      <td>4</td>\n      <td>9</td>\n      <td>D</td>\n      <td>1</td>\n      <td>2</td>\n      <td>0</td>\n      <td>2</td>\n      <td>0</td>\n      <td>4</td>\n      <td>0</td>\n      <td>...</td>\n      <td>3</td>\n      <td>3</td>\n      <td>2</td>\n      <td>0</td>\n      <td>1</td>\n      <td>4</td>\n      <td>0</td>\n      <td>0</td>\n      <td>1</td>\n      <td>1</td>\n    </tr>\n    <tr>\n      <th>4</th>\n      <td>5</td>\n      <td>6</td>\n      <td>A</td>\n      <td>3</td>\n      <td>0</td>\n      <td>2</td>\n      <td>4</td>\n      <td>0</td>\n      <td>3</td>\n      <td>0</td>\n      <td>...</td>\n      <td>4</td>\n      <td>4</td>\n      <td>3</td>\n      <td>2</td>\n      <td>1</td>\n      <td>3</td>\n      <td>4</td>\n      <td>3</td>\n      <td>1</td>\n      <td>2</td>\n    </tr>\n    <tr>\n      <th>...</th>\n      <td>...</td>\n      <td>...</td>\n      <td>...</td>\n      <td>...</td>\n      <td>...</td>\n      <td>...</td>\n      <td>...</td>\n      <td>...</td>\n      <td>...</td>\n      <td>...</td>\n      <td>...</td>\n      <td>...</td>\n      <td>...</td>\n      <td>...</td>\n      <td>...</td>\n      <td>...</td>\n      <td>...</td>\n      <td>...</td>\n      <td>...</td>\n      <td>...</td>\n      <td>...</td>\n    </tr>\n    <tr>\n      <th>2043</th>\n      <td>2044</td>\n      <td>6</td>\n      <td>V</td>\n      <td>2</td>\n      <td>4</td>\n      <td>3</td>\n      <td>4</td>\n      <td>2</td>\n      <td>4</td>\n      <td>4</td>\n      <td>...</td>\n      <td>0</td>\n      <td>2</td>\n      <td>2</td>\n      <td>0</td>\n      <td>0</td>\n      <td>1</td>\n      <td>3</td>\n      <td>1</td>\n      <td>4</td>\n      <td>0</td>\n    </tr>\n    <tr>\n      <th>2044</th>\n      <td>2045</td>\n      <td>1</td>\n      <td>L</td>\n      <td>3</td>\n      <td>2</td>\n      <td>2</td>\n      <td>1</td>\n      <td>1</td>\n      <td>4</td>\n      <td>0</td>\n      <td>...</td>\n      <td>2</td>\n      <td>3</td>\n      <td>4</td>\n      <td>2</td>\n      <td>1</td>\n      <td>2</td>\n      <td>3</td>\n      <td>4</td>\n      <td>1</td>\n      <td>1</td>\n    </tr>\n    <tr>\n      <th>2045</th>\n      <td>2046</td>\n      <td>9</td>\n      <td>A</td>\n      <td>4</td>\n      <td>0</td>\n      <td>4</td>\n      <td>0</td>\n      <td>2</td>\n      <td>4</td>\n      <td>4</td>\n      <td>...</td>\n      <td>2</td>\n      <td>3</td>\n      <td>1</td>\n      <td>1</td>\n      <td>3</td>\n      <td>4</td>\n      <td>2</td>\n      <td>2</td>\n      <td>0</td>\n      <td>0</td>\n    </tr>\n    <tr>\n      <th>2046</th>\n      <td>2047</td>\n      <td>0</td>\n      <td>Z</td>\n      <td>2</td>\n      <td>3</td>\n      <td>3</td>\n      <td>0</td>\n      <td>3</td>\n      <td>0</td>\n      <td>4</td>\n      <td>...</td>\n      <td>2</td>\n      <td>3</td>\n      <td>1</td>\n      <td>1</td>\n      <td>0</td>\n      <td>4</td>\n      <td>1</td>\n      <td>4</td>\n      <td>3</td>\n      <td>1</td>\n    </tr>\n    <tr>\n      <th>2047</th>\n      <td>2048</td>\n      <td>5</td>\n      <td>Z</td>\n      <td>4</td>\n      <td>2</td>\n      <td>2</td>\n      <td>1</td>\n      <td>3</td>\n      <td>0</td>\n      <td>0</td>\n      <td>...</td>\n      <td>4</td>\n      <td>2</td>\n      <td>4</td>\n      <td>0</td>\n      <td>4</td>\n      <td>3</td>\n      <td>2</td>\n      <td>4</td>\n      <td>3</td>\n      <td>4</td>\n    </tr>\n  </tbody>\n</table>\n<p>2048 rows × 787 columns</p>\n</div>"
     },
     "metadata": {},
     "execution_count": 13
    }
   ],
   "source": [
    "aa = train.copy()\n",
    "aa"
   ]
  },
  {
   "cell_type": "code",
   "execution_count": null,
   "metadata": {},
   "outputs": [],
   "source": []
  },
  {
   "cell_type": "code",
   "execution_count": 14,
   "metadata": {},
   "outputs": [
    {
     "output_type": "execute_result",
     "data": {
      "text/plain": "      digit\n0         5\n1         0\n2         4\n3         9\n4         6\n...     ...\n2043      6\n2044      1\n2045      9\n2046      0\n2047      5\n\n[2048 rows x 1 columns]",
      "text/html": "<div>\n<style scoped>\n    .dataframe tbody tr th:only-of-type {\n        vertical-align: middle;\n    }\n\n    .dataframe tbody tr th {\n        vertical-align: top;\n    }\n\n    .dataframe thead th {\n        text-align: right;\n    }\n</style>\n<table border=\"1\" class=\"dataframe\">\n  <thead>\n    <tr style=\"text-align: right;\">\n      <th></th>\n      <th>digit</th>\n    </tr>\n  </thead>\n  <tbody>\n    <tr>\n      <th>0</th>\n      <td>5</td>\n    </tr>\n    <tr>\n      <th>1</th>\n      <td>0</td>\n    </tr>\n    <tr>\n      <th>2</th>\n      <td>4</td>\n    </tr>\n    <tr>\n      <th>3</th>\n      <td>9</td>\n    </tr>\n    <tr>\n      <th>4</th>\n      <td>6</td>\n    </tr>\n    <tr>\n      <th>...</th>\n      <td>...</td>\n    </tr>\n    <tr>\n      <th>2043</th>\n      <td>6</td>\n    </tr>\n    <tr>\n      <th>2044</th>\n      <td>1</td>\n    </tr>\n    <tr>\n      <th>2045</th>\n      <td>9</td>\n    </tr>\n    <tr>\n      <th>2046</th>\n      <td>0</td>\n    </tr>\n    <tr>\n      <th>2047</th>\n      <td>5</td>\n    </tr>\n  </tbody>\n</table>\n<p>2048 rows × 1 columns</p>\n</div>"
     },
     "metadata": {},
     "execution_count": 14
    }
   ],
   "source": [
    "ytrain = aa['digit']\n",
    "ytrain = ytrain.to_frame()\n",
    "ytrain"
   ]
  },
  {
   "cell_type": "code",
   "execution_count": 15,
   "metadata": {},
   "outputs": [
    {
     "output_type": "execute_result",
     "data": {
      "text/plain": "      0  1  2  3  4  5  6  7  8  9  ...  774  775  776  777  778  779  780  \\\n0     1  1  1  4  3  0  0  4  4  3  ...    2    1    0    1    2    4    4   \n1     0  4  0  0  4  1  1  1  4  2  ...    0    3    0    1    4    1    4   \n2     1  1  2  2  1  1  1  0  2  1  ...    3    3    3    0    2    0    3   \n3     1  2  0  2  0  4  0  3  4  3  ...    3    3    2    0    1    4    0   \n4     3  0  2  4  0  3  0  4  2  4  ...    4    4    3    2    1    3    4   \n...  .. .. .. .. .. .. .. .. .. ..  ...  ...  ...  ...  ...  ...  ...  ...   \n2043  2  4  3  4  2  4  4  1  2  1  ...    0    2    2    0    0    1    3   \n2044  3  2  2  1  1  4  0  1  4  2  ...    2    3    4    2    1    2    3   \n2045  4  0  4  0  2  4  4  4  3  4  ...    2    3    1    1    3    4    2   \n2046  2  3  3  0  3  0  4  3  0  1  ...    2    3    1    1    0    4    1   \n2047  4  2  2  1  3  0  0  0  3  2  ...    4    2    4    0    4    3    2   \n\n      781  782  783  \n0       4    3    4  \n1       2    1    2  \n2       0    2    2  \n3       0    1    1  \n4       3    1    2  \n...   ...  ...  ...  \n2043    1    4    0  \n2044    4    1    1  \n2045    2    0    0  \n2046    4    3    1  \n2047    4    3    4  \n\n[2048 rows x 784 columns]",
      "text/html": "<div>\n<style scoped>\n    .dataframe tbody tr th:only-of-type {\n        vertical-align: middle;\n    }\n\n    .dataframe tbody tr th {\n        vertical-align: top;\n    }\n\n    .dataframe thead th {\n        text-align: right;\n    }\n</style>\n<table border=\"1\" class=\"dataframe\">\n  <thead>\n    <tr style=\"text-align: right;\">\n      <th></th>\n      <th>0</th>\n      <th>1</th>\n      <th>2</th>\n      <th>3</th>\n      <th>4</th>\n      <th>5</th>\n      <th>6</th>\n      <th>7</th>\n      <th>8</th>\n      <th>9</th>\n      <th>...</th>\n      <th>774</th>\n      <th>775</th>\n      <th>776</th>\n      <th>777</th>\n      <th>778</th>\n      <th>779</th>\n      <th>780</th>\n      <th>781</th>\n      <th>782</th>\n      <th>783</th>\n    </tr>\n  </thead>\n  <tbody>\n    <tr>\n      <th>0</th>\n      <td>1</td>\n      <td>1</td>\n      <td>1</td>\n      <td>4</td>\n      <td>3</td>\n      <td>0</td>\n      <td>0</td>\n      <td>4</td>\n      <td>4</td>\n      <td>3</td>\n      <td>...</td>\n      <td>2</td>\n      <td>1</td>\n      <td>0</td>\n      <td>1</td>\n      <td>2</td>\n      <td>4</td>\n      <td>4</td>\n      <td>4</td>\n      <td>3</td>\n      <td>4</td>\n    </tr>\n    <tr>\n      <th>1</th>\n      <td>0</td>\n      <td>4</td>\n      <td>0</td>\n      <td>0</td>\n      <td>4</td>\n      <td>1</td>\n      <td>1</td>\n      <td>1</td>\n      <td>4</td>\n      <td>2</td>\n      <td>...</td>\n      <td>0</td>\n      <td>3</td>\n      <td>0</td>\n      <td>1</td>\n      <td>4</td>\n      <td>1</td>\n      <td>4</td>\n      <td>2</td>\n      <td>1</td>\n      <td>2</td>\n    </tr>\n    <tr>\n      <th>2</th>\n      <td>1</td>\n      <td>1</td>\n      <td>2</td>\n      <td>2</td>\n      <td>1</td>\n      <td>1</td>\n      <td>1</td>\n      <td>0</td>\n      <td>2</td>\n      <td>1</td>\n      <td>...</td>\n      <td>3</td>\n      <td>3</td>\n      <td>3</td>\n      <td>0</td>\n      <td>2</td>\n      <td>0</td>\n      <td>3</td>\n      <td>0</td>\n      <td>2</td>\n      <td>2</td>\n    </tr>\n    <tr>\n      <th>3</th>\n      <td>1</td>\n      <td>2</td>\n      <td>0</td>\n      <td>2</td>\n      <td>0</td>\n      <td>4</td>\n      <td>0</td>\n      <td>3</td>\n      <td>4</td>\n      <td>3</td>\n      <td>...</td>\n      <td>3</td>\n      <td>3</td>\n      <td>2</td>\n      <td>0</td>\n      <td>1</td>\n      <td>4</td>\n      <td>0</td>\n      <td>0</td>\n      <td>1</td>\n      <td>1</td>\n    </tr>\n    <tr>\n      <th>4</th>\n      <td>3</td>\n      <td>0</td>\n      <td>2</td>\n      <td>4</td>\n      <td>0</td>\n      <td>3</td>\n      <td>0</td>\n      <td>4</td>\n      <td>2</td>\n      <td>4</td>\n      <td>...</td>\n      <td>4</td>\n      <td>4</td>\n      <td>3</td>\n      <td>2</td>\n      <td>1</td>\n      <td>3</td>\n      <td>4</td>\n      <td>3</td>\n      <td>1</td>\n      <td>2</td>\n    </tr>\n    <tr>\n      <th>...</th>\n      <td>...</td>\n      <td>...</td>\n      <td>...</td>\n      <td>...</td>\n      <td>...</td>\n      <td>...</td>\n      <td>...</td>\n      <td>...</td>\n      <td>...</td>\n      <td>...</td>\n      <td>...</td>\n      <td>...</td>\n      <td>...</td>\n      <td>...</td>\n      <td>...</td>\n      <td>...</td>\n      <td>...</td>\n      <td>...</td>\n      <td>...</td>\n      <td>...</td>\n      <td>...</td>\n    </tr>\n    <tr>\n      <th>2043</th>\n      <td>2</td>\n      <td>4</td>\n      <td>3</td>\n      <td>4</td>\n      <td>2</td>\n      <td>4</td>\n      <td>4</td>\n      <td>1</td>\n      <td>2</td>\n      <td>1</td>\n      <td>...</td>\n      <td>0</td>\n      <td>2</td>\n      <td>2</td>\n      <td>0</td>\n      <td>0</td>\n      <td>1</td>\n      <td>3</td>\n      <td>1</td>\n      <td>4</td>\n      <td>0</td>\n    </tr>\n    <tr>\n      <th>2044</th>\n      <td>3</td>\n      <td>2</td>\n      <td>2</td>\n      <td>1</td>\n      <td>1</td>\n      <td>4</td>\n      <td>0</td>\n      <td>1</td>\n      <td>4</td>\n      <td>2</td>\n      <td>...</td>\n      <td>2</td>\n      <td>3</td>\n      <td>4</td>\n      <td>2</td>\n      <td>1</td>\n      <td>2</td>\n      <td>3</td>\n      <td>4</td>\n      <td>1</td>\n      <td>1</td>\n    </tr>\n    <tr>\n      <th>2045</th>\n      <td>4</td>\n      <td>0</td>\n      <td>4</td>\n      <td>0</td>\n      <td>2</td>\n      <td>4</td>\n      <td>4</td>\n      <td>4</td>\n      <td>3</td>\n      <td>4</td>\n      <td>...</td>\n      <td>2</td>\n      <td>3</td>\n      <td>1</td>\n      <td>1</td>\n      <td>3</td>\n      <td>4</td>\n      <td>2</td>\n      <td>2</td>\n      <td>0</td>\n      <td>0</td>\n    </tr>\n    <tr>\n      <th>2046</th>\n      <td>2</td>\n      <td>3</td>\n      <td>3</td>\n      <td>0</td>\n      <td>3</td>\n      <td>0</td>\n      <td>4</td>\n      <td>3</td>\n      <td>0</td>\n      <td>1</td>\n      <td>...</td>\n      <td>2</td>\n      <td>3</td>\n      <td>1</td>\n      <td>1</td>\n      <td>0</td>\n      <td>4</td>\n      <td>1</td>\n      <td>4</td>\n      <td>3</td>\n      <td>1</td>\n    </tr>\n    <tr>\n      <th>2047</th>\n      <td>4</td>\n      <td>2</td>\n      <td>2</td>\n      <td>1</td>\n      <td>3</td>\n      <td>0</td>\n      <td>0</td>\n      <td>0</td>\n      <td>3</td>\n      <td>2</td>\n      <td>...</td>\n      <td>4</td>\n      <td>2</td>\n      <td>4</td>\n      <td>0</td>\n      <td>4</td>\n      <td>3</td>\n      <td>2</td>\n      <td>4</td>\n      <td>3</td>\n      <td>4</td>\n    </tr>\n  </tbody>\n</table>\n<p>2048 rows × 784 columns</p>\n</div>"
     },
     "metadata": {},
     "execution_count": 15
    }
   ],
   "source": [
    "xtrain = aa.drop(['id', 'digit', 'letter'], axis = 1)\n",
    "xtrain"
   ]
  },
  {
   "cell_type": "code",
   "execution_count": 16,
   "metadata": {},
   "outputs": [],
   "source": [
    "from sklearn.preprocessing import OneHotEncoder\n",
    "encoder = OneHotEncoder()"
   ]
  },
  {
   "cell_type": "code",
   "execution_count": 17,
   "metadata": {},
   "outputs": [
    {
     "output_type": "execute_result",
     "data": {
      "text/plain": "array([[0., 0., 0., ..., 0., 0., 0.],\n       [1., 0., 0., ..., 0., 0., 0.],\n       [0., 0., 0., ..., 0., 0., 0.],\n       ...,\n       [0., 0., 0., ..., 0., 0., 1.],\n       [1., 0., 0., ..., 0., 0., 0.],\n       [0., 0., 0., ..., 0., 0., 0.]])"
     },
     "metadata": {},
     "execution_count": 17
    }
   ],
   "source": [
    "ytrain1 = encoder.fit_transform(ytrain)\n",
    "ytrain1 = ytrain1.toarray()\n",
    "ytrain1"
   ]
  },
  {
   "cell_type": "code",
   "execution_count": 18,
   "metadata": {},
   "outputs": [
    {
     "output_type": "execute_result",
     "data": {
      "text/plain": "      digit\n0         5\n1         0\n2         4\n3         9\n4         6\n...     ...\n2043      6\n2044      1\n2045      9\n2046      0\n2047      5\n\n[2048 rows x 1 columns]",
      "text/html": "<div>\n<style scoped>\n    .dataframe tbody tr th:only-of-type {\n        vertical-align: middle;\n    }\n\n    .dataframe tbody tr th {\n        vertical-align: top;\n    }\n\n    .dataframe thead th {\n        text-align: right;\n    }\n</style>\n<table border=\"1\" class=\"dataframe\">\n  <thead>\n    <tr style=\"text-align: right;\">\n      <th></th>\n      <th>digit</th>\n    </tr>\n  </thead>\n  <tbody>\n    <tr>\n      <th>0</th>\n      <td>5</td>\n    </tr>\n    <tr>\n      <th>1</th>\n      <td>0</td>\n    </tr>\n    <tr>\n      <th>2</th>\n      <td>4</td>\n    </tr>\n    <tr>\n      <th>3</th>\n      <td>9</td>\n    </tr>\n    <tr>\n      <th>4</th>\n      <td>6</td>\n    </tr>\n    <tr>\n      <th>...</th>\n      <td>...</td>\n    </tr>\n    <tr>\n      <th>2043</th>\n      <td>6</td>\n    </tr>\n    <tr>\n      <th>2044</th>\n      <td>1</td>\n    </tr>\n    <tr>\n      <th>2045</th>\n      <td>9</td>\n    </tr>\n    <tr>\n      <th>2046</th>\n      <td>0</td>\n    </tr>\n    <tr>\n      <th>2047</th>\n      <td>5</td>\n    </tr>\n  </tbody>\n</table>\n<p>2048 rows × 1 columns</p>\n</div>"
     },
     "metadata": {},
     "execution_count": 18
    }
   ],
   "source": [
    "# digit  디코딩\n",
    "decoding = np.argmax(ytrain1, axis=1).reshape(-1,1)\n",
    "decoding = pd.DataFrame(decoding, columns = ['digit'])\n",
    "decoding"
   ]
  },
  {
   "cell_type": "code",
   "execution_count": 19,
   "metadata": {},
   "outputs": [
    {
     "output_type": "execute_result",
     "data": {
      "text/plain": "             0         1         2         3         4         5         6  \\\n0     0.003922  0.003922  0.003922  0.015686  0.011765  0.000000  0.000000   \n1     0.000000  0.015686  0.000000  0.000000  0.015686  0.003922  0.003922   \n2     0.003922  0.003922  0.007843  0.007843  0.003922  0.003922  0.003922   \n3     0.003922  0.007843  0.000000  0.007843  0.000000  0.015686  0.000000   \n4     0.011765  0.000000  0.007843  0.015686  0.000000  0.011765  0.000000   \n...        ...       ...       ...       ...       ...       ...       ...   \n2043  0.007843  0.015686  0.011765  0.015686  0.007843  0.015686  0.015686   \n2044  0.011765  0.007843  0.007843  0.003922  0.003922  0.015686  0.000000   \n2045  0.015686  0.000000  0.015686  0.000000  0.007843  0.015686  0.015686   \n2046  0.007843  0.011765  0.011765  0.000000  0.011765  0.000000  0.015686   \n2047  0.015686  0.007843  0.007843  0.003922  0.011765  0.000000  0.000000   \n\n             7         8         9  ...       774       775       776  \\\n0     0.015686  0.015686  0.011765  ...  0.007843  0.003922  0.000000   \n1     0.003922  0.015686  0.007843  ...  0.000000  0.011765  0.000000   \n2     0.000000  0.007843  0.003922  ...  0.011765  0.011765  0.011765   \n3     0.011765  0.015686  0.011765  ...  0.011765  0.011765  0.007843   \n4     0.015686  0.007843  0.015686  ...  0.015686  0.015686  0.011765   \n...        ...       ...       ...  ...       ...       ...       ...   \n2043  0.003922  0.007843  0.003922  ...  0.000000  0.007843  0.007843   \n2044  0.003922  0.015686  0.007843  ...  0.007843  0.011765  0.015686   \n2045  0.015686  0.011765  0.015686  ...  0.007843  0.011765  0.003922   \n2046  0.011765  0.000000  0.003922  ...  0.007843  0.011765  0.003922   \n2047  0.000000  0.011765  0.007843  ...  0.015686  0.007843  0.015686   \n\n           777       778       779       780       781       782       783  \n0     0.003922  0.007843  0.015686  0.015686  0.015686  0.011765  0.015686  \n1     0.003922  0.015686  0.003922  0.015686  0.007843  0.003922  0.007843  \n2     0.000000  0.007843  0.000000  0.011765  0.000000  0.007843  0.007843  \n3     0.000000  0.003922  0.015686  0.000000  0.000000  0.003922  0.003922  \n4     0.007843  0.003922  0.011765  0.015686  0.011765  0.003922  0.007843  \n...        ...       ...       ...       ...       ...       ...       ...  \n2043  0.000000  0.000000  0.003922  0.011765  0.003922  0.015686  0.000000  \n2044  0.007843  0.003922  0.007843  0.011765  0.015686  0.003922  0.003922  \n2045  0.003922  0.011765  0.015686  0.007843  0.007843  0.000000  0.000000  \n2046  0.003922  0.000000  0.015686  0.003922  0.015686  0.011765  0.003922  \n2047  0.000000  0.015686  0.011765  0.007843  0.015686  0.011765  0.015686  \n\n[2048 rows x 784 columns]",
      "text/html": "<div>\n<style scoped>\n    .dataframe tbody tr th:only-of-type {\n        vertical-align: middle;\n    }\n\n    .dataframe tbody tr th {\n        vertical-align: top;\n    }\n\n    .dataframe thead th {\n        text-align: right;\n    }\n</style>\n<table border=\"1\" class=\"dataframe\">\n  <thead>\n    <tr style=\"text-align: right;\">\n      <th></th>\n      <th>0</th>\n      <th>1</th>\n      <th>2</th>\n      <th>3</th>\n      <th>4</th>\n      <th>5</th>\n      <th>6</th>\n      <th>7</th>\n      <th>8</th>\n      <th>9</th>\n      <th>...</th>\n      <th>774</th>\n      <th>775</th>\n      <th>776</th>\n      <th>777</th>\n      <th>778</th>\n      <th>779</th>\n      <th>780</th>\n      <th>781</th>\n      <th>782</th>\n      <th>783</th>\n    </tr>\n  </thead>\n  <tbody>\n    <tr>\n      <th>0</th>\n      <td>0.003922</td>\n      <td>0.003922</td>\n      <td>0.003922</td>\n      <td>0.015686</td>\n      <td>0.011765</td>\n      <td>0.000000</td>\n      <td>0.000000</td>\n      <td>0.015686</td>\n      <td>0.015686</td>\n      <td>0.011765</td>\n      <td>...</td>\n      <td>0.007843</td>\n      <td>0.003922</td>\n      <td>0.000000</td>\n      <td>0.003922</td>\n      <td>0.007843</td>\n      <td>0.015686</td>\n      <td>0.015686</td>\n      <td>0.015686</td>\n      <td>0.011765</td>\n      <td>0.015686</td>\n    </tr>\n    <tr>\n      <th>1</th>\n      <td>0.000000</td>\n      <td>0.015686</td>\n      <td>0.000000</td>\n      <td>0.000000</td>\n      <td>0.015686</td>\n      <td>0.003922</td>\n      <td>0.003922</td>\n      <td>0.003922</td>\n      <td>0.015686</td>\n      <td>0.007843</td>\n      <td>...</td>\n      <td>0.000000</td>\n      <td>0.011765</td>\n      <td>0.000000</td>\n      <td>0.003922</td>\n      <td>0.015686</td>\n      <td>0.003922</td>\n      <td>0.015686</td>\n      <td>0.007843</td>\n      <td>0.003922</td>\n      <td>0.007843</td>\n    </tr>\n    <tr>\n      <th>2</th>\n      <td>0.003922</td>\n      <td>0.003922</td>\n      <td>0.007843</td>\n      <td>0.007843</td>\n      <td>0.003922</td>\n      <td>0.003922</td>\n      <td>0.003922</td>\n      <td>0.000000</td>\n      <td>0.007843</td>\n      <td>0.003922</td>\n      <td>...</td>\n      <td>0.011765</td>\n      <td>0.011765</td>\n      <td>0.011765</td>\n      <td>0.000000</td>\n      <td>0.007843</td>\n      <td>0.000000</td>\n      <td>0.011765</td>\n      <td>0.000000</td>\n      <td>0.007843</td>\n      <td>0.007843</td>\n    </tr>\n    <tr>\n      <th>3</th>\n      <td>0.003922</td>\n      <td>0.007843</td>\n      <td>0.000000</td>\n      <td>0.007843</td>\n      <td>0.000000</td>\n      <td>0.015686</td>\n      <td>0.000000</td>\n      <td>0.011765</td>\n      <td>0.015686</td>\n      <td>0.011765</td>\n      <td>...</td>\n      <td>0.011765</td>\n      <td>0.011765</td>\n      <td>0.007843</td>\n      <td>0.000000</td>\n      <td>0.003922</td>\n      <td>0.015686</td>\n      <td>0.000000</td>\n      <td>0.000000</td>\n      <td>0.003922</td>\n      <td>0.003922</td>\n    </tr>\n    <tr>\n      <th>4</th>\n      <td>0.011765</td>\n      <td>0.000000</td>\n      <td>0.007843</td>\n      <td>0.015686</td>\n      <td>0.000000</td>\n      <td>0.011765</td>\n      <td>0.000000</td>\n      <td>0.015686</td>\n      <td>0.007843</td>\n      <td>0.015686</td>\n      <td>...</td>\n      <td>0.015686</td>\n      <td>0.015686</td>\n      <td>0.011765</td>\n      <td>0.007843</td>\n      <td>0.003922</td>\n      <td>0.011765</td>\n      <td>0.015686</td>\n      <td>0.011765</td>\n      <td>0.003922</td>\n      <td>0.007843</td>\n    </tr>\n    <tr>\n      <th>...</th>\n      <td>...</td>\n      <td>...</td>\n      <td>...</td>\n      <td>...</td>\n      <td>...</td>\n      <td>...</td>\n      <td>...</td>\n      <td>...</td>\n      <td>...</td>\n      <td>...</td>\n      <td>...</td>\n      <td>...</td>\n      <td>...</td>\n      <td>...</td>\n      <td>...</td>\n      <td>...</td>\n      <td>...</td>\n      <td>...</td>\n      <td>...</td>\n      <td>...</td>\n      <td>...</td>\n    </tr>\n    <tr>\n      <th>2043</th>\n      <td>0.007843</td>\n      <td>0.015686</td>\n      <td>0.011765</td>\n      <td>0.015686</td>\n      <td>0.007843</td>\n      <td>0.015686</td>\n      <td>0.015686</td>\n      <td>0.003922</td>\n      <td>0.007843</td>\n      <td>0.003922</td>\n      <td>...</td>\n      <td>0.000000</td>\n      <td>0.007843</td>\n      <td>0.007843</td>\n      <td>0.000000</td>\n      <td>0.000000</td>\n      <td>0.003922</td>\n      <td>0.011765</td>\n      <td>0.003922</td>\n      <td>0.015686</td>\n      <td>0.000000</td>\n    </tr>\n    <tr>\n      <th>2044</th>\n      <td>0.011765</td>\n      <td>0.007843</td>\n      <td>0.007843</td>\n      <td>0.003922</td>\n      <td>0.003922</td>\n      <td>0.015686</td>\n      <td>0.000000</td>\n      <td>0.003922</td>\n      <td>0.015686</td>\n      <td>0.007843</td>\n      <td>...</td>\n      <td>0.007843</td>\n      <td>0.011765</td>\n      <td>0.015686</td>\n      <td>0.007843</td>\n      <td>0.003922</td>\n      <td>0.007843</td>\n      <td>0.011765</td>\n      <td>0.015686</td>\n      <td>0.003922</td>\n      <td>0.003922</td>\n    </tr>\n    <tr>\n      <th>2045</th>\n      <td>0.015686</td>\n      <td>0.000000</td>\n      <td>0.015686</td>\n      <td>0.000000</td>\n      <td>0.007843</td>\n      <td>0.015686</td>\n      <td>0.015686</td>\n      <td>0.015686</td>\n      <td>0.011765</td>\n      <td>0.015686</td>\n      <td>...</td>\n      <td>0.007843</td>\n      <td>0.011765</td>\n      <td>0.003922</td>\n      <td>0.003922</td>\n      <td>0.011765</td>\n      <td>0.015686</td>\n      <td>0.007843</td>\n      <td>0.007843</td>\n      <td>0.000000</td>\n      <td>0.000000</td>\n    </tr>\n    <tr>\n      <th>2046</th>\n      <td>0.007843</td>\n      <td>0.011765</td>\n      <td>0.011765</td>\n      <td>0.000000</td>\n      <td>0.011765</td>\n      <td>0.000000</td>\n      <td>0.015686</td>\n      <td>0.011765</td>\n      <td>0.000000</td>\n      <td>0.003922</td>\n      <td>...</td>\n      <td>0.007843</td>\n      <td>0.011765</td>\n      <td>0.003922</td>\n      <td>0.003922</td>\n      <td>0.000000</td>\n      <td>0.015686</td>\n      <td>0.003922</td>\n      <td>0.015686</td>\n      <td>0.011765</td>\n      <td>0.003922</td>\n    </tr>\n    <tr>\n      <th>2047</th>\n      <td>0.015686</td>\n      <td>0.007843</td>\n      <td>0.007843</td>\n      <td>0.003922</td>\n      <td>0.011765</td>\n      <td>0.000000</td>\n      <td>0.000000</td>\n      <td>0.000000</td>\n      <td>0.011765</td>\n      <td>0.007843</td>\n      <td>...</td>\n      <td>0.015686</td>\n      <td>0.007843</td>\n      <td>0.015686</td>\n      <td>0.000000</td>\n      <td>0.015686</td>\n      <td>0.011765</td>\n      <td>0.007843</td>\n      <td>0.015686</td>\n      <td>0.011765</td>\n      <td>0.015686</td>\n    </tr>\n  </tbody>\n</table>\n<p>2048 rows × 784 columns</p>\n</div>"
     },
     "metadata": {},
     "execution_count": 19
    }
   ],
   "source": [
    "xtrain /= 255\n",
    "xtrain"
   ]
  },
  {
   "cell_type": "code",
   "execution_count": 20,
   "metadata": {},
   "outputs": [],
   "source": [
    "xtrain = np.array(xtrain)"
   ]
  },
  {
   "cell_type": "code",
   "execution_count": 21,
   "metadata": {
    "tags": []
   },
   "outputs": [
    {
     "output_type": "stream",
     "name": "stdout",
     "text": "(2048, 784)\n(2048, 10)\n"
    }
   ],
   "source": [
    "print(xtrain.shape)\n",
    "print(ytrain1.shape)"
   ]
  },
  {
   "cell_type": "code",
   "execution_count": null,
   "metadata": {},
   "outputs": [],
   "source": []
  },
  {
   "cell_type": "code",
   "execution_count": 22,
   "metadata": {},
   "outputs": [],
   "source": [
    "xtrain = xtrain.reshape((2048, 28, 28, 1))\n",
    "xtrain = xtrain.astype('float32')\n",
    "ytrain1 = ytrain1.astype('float32')\n",
    "# ytrain1 = tf.keras.utils.to_categorical(ytrain1, 10)"
   ]
  },
  {
   "cell_type": "code",
   "execution_count": 23,
   "metadata": {},
   "outputs": [
    {
     "output_type": "execute_result",
     "data": {
      "text/plain": "(60000, 28, 28, 1)"
     },
     "metadata": {},
     "execution_count": 23
    }
   ],
   "source": [
    "X_train.shape"
   ]
  },
  {
   "cell_type": "code",
   "execution_count": 24,
   "metadata": {},
   "outputs": [
    {
     "output_type": "execute_result",
     "data": {
      "text/plain": "(60000, 10)"
     },
     "metadata": {},
     "execution_count": 24
    }
   ],
   "source": [
    "y_train.shape"
   ]
  },
  {
   "cell_type": "code",
   "execution_count": 25,
   "metadata": {},
   "outputs": [
    {
     "output_type": "execute_result",
     "data": {
      "text/plain": "(2048, 28, 28, 1)"
     },
     "metadata": {},
     "execution_count": 25
    }
   ],
   "source": [
    "xtrain.shape"
   ]
  },
  {
   "cell_type": "code",
   "execution_count": 26,
   "metadata": {},
   "outputs": [
    {
     "output_type": "execute_result",
     "data": {
      "text/plain": "(2048, 10)"
     },
     "metadata": {},
     "execution_count": 26
    }
   ],
   "source": [
    "ytrain1.shape"
   ]
  },
  {
   "cell_type": "code",
   "execution_count": 49,
   "metadata": {},
   "outputs": [],
   "source": [
    "from tensorflow.keras.callbacks import EarlyStopping, ModelCheckpoint\n",
    "checkpoint = tf.keras.callbacks.ModelCheckpoint('best_model.h5', monitor='loss', save_weights_only=True, save_best_only=True)"
   ]
  },
  {
   "cell_type": "code",
   "execution_count": 47,
   "metadata": {},
   "outputs": [],
   "source": [
    "OPTIMIZER = tf.keras.optimizers.Adam(learning_rate = 0.001)\n",
    "EPOCHS = 5\n",
    "BATCH_SIZE = 128\n",
    "VERBOSE = 1\n",
    "VALIDATION_SPLIT = 0.95\n",
    "\n",
    "IMG_ROWS, IMG_COLS = 28,28\n",
    "INPUT_SHAPE = (IMG_ROWS, IMG_COLS, 1)\n",
    "NB_CLASSES = 10"
   ]
  },
  {
   "cell_type": "code",
   "execution_count": 50,
   "metadata": {
    "tags": []
   },
   "outputs": [
    {
     "output_type": "stream",
     "name": "stdout",
     "text": "Model: \"sequential_13\"\n_________________________________________________________________\nLayer (type)                 Output Shape              Param #   \n=================================================================\nconv2d_26 (Conv2D)           (None, 24, 24, 20)        520       \n_________________________________________________________________\nmax_pooling2d_26 (MaxPooling (None, 12, 12, 20)        0         \n_________________________________________________________________\nconv2d_27 (Conv2D)           (None, 8, 8, 50)          25050     \n_________________________________________________________________\nmax_pooling2d_27 (MaxPooling (None, 4, 4, 50)          0         \n_________________________________________________________________\nflatten_13 (Flatten)         (None, 800)               0         \n_________________________________________________________________\ndense_26 (Dense)             (None, 500)               400500    \n_________________________________________________________________\ndense_27 (Dense)             (None, 10)                5010      \n=================================================================\nTotal params: 431,080\nTrainable params: 431,080\nNon-trainable params: 0\n_________________________________________________________________\nEpoch 1/30\n24/24 [==============================] - 0s 18ms/step - loss: 2.3102 - accuracy: 0.0945 - val_loss: 2.2805 - val_accuracy: 0.1506\nEpoch 2/30\n24/24 [==============================] - 0s 19ms/step - loss: 2.1665 - accuracy: 0.2020 - val_loss: 2.0525 - val_accuracy: 0.2566\nEpoch 3/30\n24/24 [==============================] - 1s 23ms/step - loss: 1.9244 - accuracy: 0.2980 - val_loss: 1.8946 - val_accuracy: 0.2971\nEpoch 4/30\n24/24 [==============================] - 0s 18ms/step - loss: 1.6832 - accuracy: 0.4186 - val_loss: 1.8335 - val_accuracy: 0.3236\nEpoch 5/30\n24/24 [==============================] - 0s 17ms/step - loss: 1.4357 - accuracy: 0.5033 - val_loss: 1.7540 - val_accuracy: 0.3856\nEpoch 6/30\n24/24 [==============================] - 0s 17ms/step - loss: 1.1947 - accuracy: 0.5993 - val_loss: 1.8279 - val_accuracy: 0.3780\nEpoch 7/30\n24/24 [==============================] - 0s 19ms/step - loss: 1.0335 - accuracy: 0.6515 - val_loss: 1.8146 - val_accuracy: 0.3954\nEpoch 8/30\n24/24 [==============================] - 1s 21ms/step - loss: 0.8263 - accuracy: 0.7248 - val_loss: 1.9253 - val_accuracy: 0.3835\nEpoch 9/30\n24/24 [==============================] - 0s 18ms/step - loss: 0.6577 - accuracy: 0.7899 - val_loss: 2.0282 - val_accuracy: 0.3821\nEpoch 10/30\n24/24 [==============================] - 0s 21ms/step - loss: 0.5212 - accuracy: 0.8420 - val_loss: 2.1276 - val_accuracy: 0.3877\nEpoch 11/30\n24/24 [==============================] - 0s 17ms/step - loss: 0.3872 - accuracy: 0.9023 - val_loss: 2.4260 - val_accuracy: 0.3752\nEpoch 12/30\n24/24 [==============================] - 0s 16ms/step - loss: 0.3010 - accuracy: 0.9300 - val_loss: 2.6238 - val_accuracy: 0.3773\nEpoch 13/30\n24/24 [==============================] - 0s 19ms/step - loss: 0.2362 - accuracy: 0.9381 - val_loss: 2.6389 - val_accuracy: 0.3933\nEpoch 14/30\n24/24 [==============================] - 0s 18ms/step - loss: 0.1628 - accuracy: 0.9658 - val_loss: 2.9450 - val_accuracy: 0.3689\nEpoch 15/30\n24/24 [==============================] - 0s 19ms/step - loss: 0.1104 - accuracy: 0.9772 - val_loss: 3.0840 - val_accuracy: 0.3794\nEpoch 16/30\n24/24 [==============================] - 0s 18ms/step - loss: 0.0808 - accuracy: 0.9837 - val_loss: 3.2307 - val_accuracy: 0.3808\nEpoch 17/30\n24/24 [==============================] - 0s 20ms/step - loss: 0.0547 - accuracy: 0.9935 - val_loss: 3.4076 - val_accuracy: 0.3605\nEpoch 18/30\n24/24 [==============================] - 0s 17ms/step - loss: 0.0428 - accuracy: 0.9967 - val_loss: 3.5358 - val_accuracy: 0.3661\nEpoch 19/30\n24/24 [==============================] - 0s 17ms/step - loss: 0.0256 - accuracy: 1.0000 - val_loss: 3.6659 - val_accuracy: 0.3703\nEpoch 20/30\n24/24 [==============================] - 0s 19ms/step - loss: 0.0214 - accuracy: 1.0000 - val_loss: 3.8029 - val_accuracy: 0.3696\nEpoch 21/30\n24/24 [==============================] - 1s 21ms/step - loss: 0.0132 - accuracy: 1.0000 - val_loss: 3.8412 - val_accuracy: 0.3724\nEpoch 22/30\n24/24 [==============================] - 1s 21ms/step - loss: 0.0113 - accuracy: 1.0000 - val_loss: 3.9831 - val_accuracy: 0.3710\nEpoch 23/30\n24/24 [==============================] - 0s 16ms/step - loss: 0.0115 - accuracy: 0.9984 - val_loss: 4.0238 - val_accuracy: 0.3717\nEpoch 24/30\n24/24 [==============================] - 0s 20ms/step - loss: 0.0184 - accuracy: 0.9984 - val_loss: 4.1721 - val_accuracy: 0.3675\nEpoch 25/30\n24/24 [==============================] - 0s 14ms/step - loss: 0.0137 - accuracy: 0.9984 - val_loss: 4.0457 - val_accuracy: 0.3780\nEpoch 26/30\n24/24 [==============================] - 0s 14ms/step - loss: 0.0129 - accuracy: 0.9984 - val_loss: 4.1969 - val_accuracy: 0.3661\nEpoch 27/30\n24/24 [==============================] - 0s 19ms/step - loss: 0.0088 - accuracy: 0.9984 - val_loss: 4.2154 - val_accuracy: 0.3703\nEpoch 28/30\n24/24 [==============================] - 0s 16ms/step - loss: 0.0057 - accuracy: 1.0000 - val_loss: 4.2407 - val_accuracy: 0.3717\nEpoch 29/30\n24/24 [==============================] - 0s 19ms/step - loss: 0.0050 - accuracy: 1.0000 - val_loss: 4.3300 - val_accuracy: 0.3703\nEpoch 30/30\n24/24 [==============================] - 0s 18ms/step - loss: 0.0039 - accuracy: 1.0000 - val_loss: 4.3704 - val_accuracy: 0.3703\n"
    }
   ],
   "source": [
    "model = build(input_shape = (28, 28, 1), classes = 10)\n",
    "model.compile(optimizer = OPTIMIZER, loss = 'categorical_crossentropy', metrics = [\"accuracy\"])\n",
    "model.summary()\n",
    "\n",
    "# callbacks = [tf.keras.callbacks.TensorBoard(log_dir = './logs')]\n",
    "\n",
    "history = model.fit(xtrain, ytrain1,\n",
    "                    batch_size = 26,\n",
    "                    epochs = 30,\n",
    "                    verbose = 1,\n",
    "                    validation_split = 0.70,\n",
    "                    callbacks = [checkpoint])\n",
    "\n",
    "# score = model.evaluate(X_test, y_test, verbose = 1)\n",
    "\n",
    "# print(\"\\nTest score:\", score[0])\n",
    "# print('Test accuracy', score[1])"
   ]
  },
  {
   "cell_type": "code",
   "execution_count": 36,
   "metadata": {},
   "outputs": [
    {
     "output_type": "execute_result",
     "data": {
      "text/plain": "(10000, 28, 28, 1)"
     },
     "metadata": {},
     "execution_count": 36
    }
   ],
   "source": [
    "X_test.shape"
   ]
  },
  {
   "cell_type": "code",
   "execution_count": 38,
   "metadata": {},
   "outputs": [
    {
     "output_type": "execute_result",
     "data": {
      "text/plain": "(10000, 10)"
     },
     "metadata": {},
     "execution_count": 38
    }
   ],
   "source": [
    "y_test.shape"
   ]
  },
  {
   "cell_type": "code",
   "execution_count": 67,
   "metadata": {},
   "outputs": [],
   "source": [
    "test = pd.read_csv('data/test.csv')\n",
    "test = test.drop(['id', 'letter'], axis = 1)\n",
    "test /= 255\n",
    "test = np.array(test)\n",
    "test = test.reshape((20480, 28, 28, 1))\n",
    "test = test.astype('float32')"
   ]
  },
  {
   "cell_type": "code",
   "execution_count": 68,
   "metadata": {},
   "outputs": [
    {
     "output_type": "execute_result",
     "data": {
      "text/plain": "(20480, 28, 28, 1)"
     },
     "metadata": {},
     "execution_count": 68
    }
   ],
   "source": [
    "test.shape"
   ]
  },
  {
   "cell_type": "code",
   "execution_count": 69,
   "metadata": {},
   "outputs": [],
   "source": [
    "y_pred = model.predict(test, batch_size=1)"
   ]
  },
  {
   "cell_type": "code",
   "execution_count": 74,
   "metadata": {},
   "outputs": [
    {
     "output_type": "execute_result",
     "data": {
      "text/plain": "array([[3.12465991e-11, 3.86841387e-01, 5.22083402e-01, ...,\n        8.86976644e-02, 1.25228090e-03, 2.25476018e-04],\n       [2.79132023e-10, 4.93204221e-02, 1.85056170e-09, ...,\n        8.31396461e-01, 2.59505015e-07, 5.75554091e-03],\n       [1.83736178e-04, 9.53978233e-05, 2.95781288e-02, ...,\n        1.52375098e-04, 9.45560168e-04, 1.49499596e-04],\n       ...,\n       [5.03934547e-03, 2.86367641e-09, 9.02133354e-04, ...,\n        5.53388779e-10, 7.44770878e-05, 2.27033747e-09],\n       [7.66225408e-13, 4.25599664e-02, 1.01680607e-05, ...,\n        4.41376433e-05, 8.85134041e-01, 3.39897213e-08],\n       [5.94068078e-05, 1.98072980e-09, 5.08116186e-02, ...,\n        1.17005765e-08, 4.11414774e-04, 8.13944666e-07]], dtype=float32)"
     },
     "metadata": {},
     "execution_count": 74
    }
   ],
   "source": [
    "y_pred"
   ]
  },
  {
   "cell_type": "code",
   "execution_count": 72,
   "metadata": {},
   "outputs": [
    {
     "output_type": "execute_result",
     "data": {
      "text/plain": "array([[7.9678824e-09, 9.8644554e+01, 1.3313127e+02, ..., 2.2617905e+01,\n        3.1933162e-01, 5.7496384e-02],\n       [7.1178668e-08, 1.2576708e+01, 4.7189323e-07, ..., 2.1200610e+02,\n        6.6173779e-05, 1.4676629e+00],\n       [4.6852726e-02, 2.4326446e-02, 7.5424228e+00, ..., 3.8855650e-02,\n        2.4111785e-01, 3.8122397e-02],\n       ...,\n       [1.2850331e+00, 7.3023750e-07, 2.3004401e-01, ..., 1.4111414e-07,\n        1.8991657e-02, 5.7893607e-07],\n       [1.9538748e-10, 1.0852792e+01, 2.5928556e-03, ..., 1.1255099e-02,\n        2.2570918e+02, 8.6673790e-06],\n       [1.5148736e-02, 5.0508612e-07, 1.2956963e+01, ..., 2.9836469e-06,\n        1.0491077e-01, 2.0755589e-04]], dtype=float32)"
     },
     "metadata": {},
     "execution_count": 72
    }
   ],
   "source": [
    "aa = y_pred * 255\n",
    "aa "
   ]
  },
  {
   "cell_type": "code",
   "execution_count": 75,
   "metadata": {},
   "outputs": [
    {
     "output_type": "execute_result",
     "data": {
      "text/plain": "       digit\n0          2\n1          7\n2          3\n3          0\n4          3\n...      ...\n20475      4\n20476      2\n20477      6\n20478      8\n20479      6\n\n[20480 rows x 1 columns]",
      "text/html": "<div>\n<style scoped>\n    .dataframe tbody tr th:only-of-type {\n        vertical-align: middle;\n    }\n\n    .dataframe tbody tr th {\n        vertical-align: top;\n    }\n\n    .dataframe thead th {\n        text-align: right;\n    }\n</style>\n<table border=\"1\" class=\"dataframe\">\n  <thead>\n    <tr style=\"text-align: right;\">\n      <th></th>\n      <th>digit</th>\n    </tr>\n  </thead>\n  <tbody>\n    <tr>\n      <th>0</th>\n      <td>2</td>\n    </tr>\n    <tr>\n      <th>1</th>\n      <td>7</td>\n    </tr>\n    <tr>\n      <th>2</th>\n      <td>3</td>\n    </tr>\n    <tr>\n      <th>3</th>\n      <td>0</td>\n    </tr>\n    <tr>\n      <th>4</th>\n      <td>3</td>\n    </tr>\n    <tr>\n      <th>...</th>\n      <td>...</td>\n    </tr>\n    <tr>\n      <th>20475</th>\n      <td>4</td>\n    </tr>\n    <tr>\n      <th>20476</th>\n      <td>2</td>\n    </tr>\n    <tr>\n      <th>20477</th>\n      <td>6</td>\n    </tr>\n    <tr>\n      <th>20478</th>\n      <td>8</td>\n    </tr>\n    <tr>\n      <th>20479</th>\n      <td>6</td>\n    </tr>\n  </tbody>\n</table>\n<p>20480 rows × 1 columns</p>\n</div>"
     },
     "metadata": {},
     "execution_count": 75
    }
   ],
   "source": [
    "# digit  디코딩\n",
    "decoding = np.argmax(y_pred, axis=1).reshape(-1,1)\n",
    "decoding = pd.DataFrame(decoding, columns = ['digit'])\n",
    "decoding"
   ]
  },
  {
   "cell_type": "code",
   "execution_count": 76,
   "metadata": {},
   "outputs": [
    {
     "output_type": "execute_result",
     "data": {
      "text/plain": "array([2, 7, 3, 0, 6, 8, 1, 4, 9, 5], dtype=int64)"
     },
     "metadata": {},
     "execution_count": 76
    }
   ],
   "source": [
    "decoding['digit'].unique()"
   ]
  },
  {
   "cell_type": "code",
   "execution_count": 77,
   "metadata": {},
   "outputs": [
    {
     "output_type": "execute_result",
     "data": {
      "text/plain": "          id  digit\n0       2049      0\n1       2050      0\n2       2051      0\n3       2052      0\n4       2053      0\n...      ...    ...\n20475  22524      0\n20476  22525      0\n20477  22526      0\n20478  22527      0\n20479  22528      0\n\n[20480 rows x 2 columns]",
      "text/html": "<div>\n<style scoped>\n    .dataframe tbody tr th:only-of-type {\n        vertical-align: middle;\n    }\n\n    .dataframe tbody tr th {\n        vertical-align: top;\n    }\n\n    .dataframe thead th {\n        text-align: right;\n    }\n</style>\n<table border=\"1\" class=\"dataframe\">\n  <thead>\n    <tr style=\"text-align: right;\">\n      <th></th>\n      <th>id</th>\n      <th>digit</th>\n    </tr>\n  </thead>\n  <tbody>\n    <tr>\n      <th>0</th>\n      <td>2049</td>\n      <td>0</td>\n    </tr>\n    <tr>\n      <th>1</th>\n      <td>2050</td>\n      <td>0</td>\n    </tr>\n    <tr>\n      <th>2</th>\n      <td>2051</td>\n      <td>0</td>\n    </tr>\n    <tr>\n      <th>3</th>\n      <td>2052</td>\n      <td>0</td>\n    </tr>\n    <tr>\n      <th>4</th>\n      <td>2053</td>\n      <td>0</td>\n    </tr>\n    <tr>\n      <th>...</th>\n      <td>...</td>\n      <td>...</td>\n    </tr>\n    <tr>\n      <th>20475</th>\n      <td>22524</td>\n      <td>0</td>\n    </tr>\n    <tr>\n      <th>20476</th>\n      <td>22525</td>\n      <td>0</td>\n    </tr>\n    <tr>\n      <th>20477</th>\n      <td>22526</td>\n      <td>0</td>\n    </tr>\n    <tr>\n      <th>20478</th>\n      <td>22527</td>\n      <td>0</td>\n    </tr>\n    <tr>\n      <th>20479</th>\n      <td>22528</td>\n      <td>0</td>\n    </tr>\n  </tbody>\n</table>\n<p>20480 rows × 2 columns</p>\n</div>"
     },
     "metadata": {},
     "execution_count": 77
    }
   ],
   "source": [
    "sub = pd.read_csv('data/submission.csv')\n",
    "sub"
   ]
  },
  {
   "cell_type": "code",
   "execution_count": 85,
   "metadata": {},
   "outputs": [
    {
     "output_type": "execute_result",
     "data": {
      "text/plain": "          id  digit\n0       2049      0\n1       2050      0\n2       2051      0\n3       2052      0\n4       2053      0\n...      ...    ...\n20475  22524      0\n20476  22525      0\n20477  22526      0\n20478  22527      0\n20479  22528      0\n\n[20480 rows x 2 columns]",
      "text/html": "<div>\n<style scoped>\n    .dataframe tbody tr th:only-of-type {\n        vertical-align: middle;\n    }\n\n    .dataframe tbody tr th {\n        vertical-align: top;\n    }\n\n    .dataframe thead th {\n        text-align: right;\n    }\n</style>\n<table border=\"1\" class=\"dataframe\">\n  <thead>\n    <tr style=\"text-align: right;\">\n      <th></th>\n      <th>id</th>\n      <th>digit</th>\n    </tr>\n  </thead>\n  <tbody>\n    <tr>\n      <th>0</th>\n      <td>2049</td>\n      <td>0</td>\n    </tr>\n    <tr>\n      <th>1</th>\n      <td>2050</td>\n      <td>0</td>\n    </tr>\n    <tr>\n      <th>2</th>\n      <td>2051</td>\n      <td>0</td>\n    </tr>\n    <tr>\n      <th>3</th>\n      <td>2052</td>\n      <td>0</td>\n    </tr>\n    <tr>\n      <th>4</th>\n      <td>2053</td>\n      <td>0</td>\n    </tr>\n    <tr>\n      <th>...</th>\n      <td>...</td>\n      <td>...</td>\n    </tr>\n    <tr>\n      <th>20475</th>\n      <td>22524</td>\n      <td>0</td>\n    </tr>\n    <tr>\n      <th>20476</th>\n      <td>22525</td>\n      <td>0</td>\n    </tr>\n    <tr>\n      <th>20477</th>\n      <td>22526</td>\n      <td>0</td>\n    </tr>\n    <tr>\n      <th>20478</th>\n      <td>22527</td>\n      <td>0</td>\n    </tr>\n    <tr>\n      <th>20479</th>\n      <td>22528</td>\n      <td>0</td>\n    </tr>\n  </tbody>\n</table>\n<p>20480 rows × 2 columns</p>\n</div>"
     },
     "metadata": {},
     "execution_count": 85
    }
   ],
   "source": [
    "sub"
   ]
  },
  {
   "cell_type": "code",
   "execution_count": 86,
   "metadata": {},
   "outputs": [
    {
     "output_type": "execute_result",
     "data": {
      "text/plain": "          id  digit\n0       2049      2\n1       2050      7\n2       2051      3\n3       2052      0\n4       2053      3\n...      ...    ...\n20475  22524      4\n20476  22525      2\n20477  22526      6\n20478  22527      8\n20479  22528      6\n\n[20480 rows x 2 columns]",
      "text/html": "<div>\n<style scoped>\n    .dataframe tbody tr th:only-of-type {\n        vertical-align: middle;\n    }\n\n    .dataframe tbody tr th {\n        vertical-align: top;\n    }\n\n    .dataframe thead th {\n        text-align: right;\n    }\n</style>\n<table border=\"1\" class=\"dataframe\">\n  <thead>\n    <tr style=\"text-align: right;\">\n      <th></th>\n      <th>id</th>\n      <th>digit</th>\n    </tr>\n  </thead>\n  <tbody>\n    <tr>\n      <th>0</th>\n      <td>2049</td>\n      <td>2</td>\n    </tr>\n    <tr>\n      <th>1</th>\n      <td>2050</td>\n      <td>7</td>\n    </tr>\n    <tr>\n      <th>2</th>\n      <td>2051</td>\n      <td>3</td>\n    </tr>\n    <tr>\n      <th>3</th>\n      <td>2052</td>\n      <td>0</td>\n    </tr>\n    <tr>\n      <th>4</th>\n      <td>2053</td>\n      <td>3</td>\n    </tr>\n    <tr>\n      <th>...</th>\n      <td>...</td>\n      <td>...</td>\n    </tr>\n    <tr>\n      <th>20475</th>\n      <td>22524</td>\n      <td>4</td>\n    </tr>\n    <tr>\n      <th>20476</th>\n      <td>22525</td>\n      <td>2</td>\n    </tr>\n    <tr>\n      <th>20477</th>\n      <td>22526</td>\n      <td>6</td>\n    </tr>\n    <tr>\n      <th>20478</th>\n      <td>22527</td>\n      <td>8</td>\n    </tr>\n    <tr>\n      <th>20479</th>\n      <td>22528</td>\n      <td>6</td>\n    </tr>\n  </tbody>\n</table>\n<p>20480 rows × 2 columns</p>\n</div>"
     },
     "metadata": {},
     "execution_count": 86
    }
   ],
   "source": [
    "sub = sub.drop(['digit'], axis = 1)\n",
    "sub = pd.concat([sub, decoding], axis = 1)\n",
    "sub"
   ]
  },
  {
   "cell_type": "code",
   "execution_count": 87,
   "metadata": {},
   "outputs": [],
   "source": [
    "sub.to_csv('sub.csv', index = False, encoding = 'utf-8')"
   ]
  },
  {
   "cell_type": "code",
   "execution_count": null,
   "metadata": {},
   "outputs": [],
   "source": []
  }
 ]
}