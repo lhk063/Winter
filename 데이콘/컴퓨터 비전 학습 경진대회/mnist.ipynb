{
 "metadata": {
  "language_info": {
   "codemirror_mode": {
    "name": "ipython",
    "version": 3
   },
   "file_extension": ".py",
   "mimetype": "text/x-python",
   "name": "python",
   "nbconvert_exporter": "python",
   "pygments_lexer": "ipython3",
   "version": "3.7.6-final"
  },
  "orig_nbformat": 2,
  "kernelspec": {
   "name": "python_defaultSpec_1598659054236",
   "display_name": "Python 3.7.6 64-bit ('PC': virtualenv)"
  }
 },
 "nbformat": 4,
 "nbformat_minor": 2,
 "cells": [
  {
   "cell_type": "code",
   "execution_count": 1,
   "metadata": {},
   "outputs": [],
   "source": [
    "import pandas as pd\n",
    "import numpy as np\n",
    "import tensorflow as tf\n",
    "from tensorflow import keras"
   ]
  },
  {
   "cell_type": "code",
   "execution_count": 2,
   "metadata": {},
   "outputs": [],
   "source": [
    "train = pd.read_csv('data/train.csv')\n",
    "test = pd.read_csv('data/test.csv')\n",
    "sub = pd.read_csv('data/submission.csv')"
   ]
  },
  {
   "cell_type": "code",
   "execution_count": 33,
   "metadata": {},
   "outputs": [],
   "source": [
    "train_copy = train.copy()"
   ]
  },
  {
   "cell_type": "code",
   "execution_count": 20,
   "metadata": {},
   "outputs": [],
   "source": [
    "object_column = ['letter']\n",
    "train[object_column] = train[object_column].apply(lambda x : x.astype('category').cat.codes)"
   ]
  },
  {
   "cell_type": "code",
   "execution_count": 22,
   "metadata": {},
   "outputs": [
    {
     "output_type": "execute_result",
     "data": {
      "text/plain": "0       5\n1       0\n2       4\n3       9\n4       6\n       ..\n2043    6\n2044    1\n2045    9\n2046    0\n2047    5\nName: digit, Length: 2048, dtype: int64"
     },
     "metadata": {},
     "execution_count": 22
    }
   ],
   "source": [
    "label = train['digit']\n",
    "label"
   ]
  },
  {
   "cell_type": "code",
   "execution_count": 32,
   "metadata": {},
   "outputs": [
    {
     "output_type": "execute_result",
     "data": {
      "text/plain": "0       11\n1        1\n2       11\n3        3\n4        0\n        ..\n2043    21\n2044    11\n2045     0\n2046    25\n2047    25\nName: letter, Length: 2048, dtype: int8"
     },
     "metadata": {},
     "execution_count": 32
    }
   ],
   "source": [
    "letter = train['letter']\n",
    "letter"
   ]
  },
  {
   "cell_type": "code",
   "execution_count": 38,
   "metadata": {},
   "outputs": [
    {
     "output_type": "execute_result",
     "data": {
      "text/plain": "      0  1  2  3  4  5  6  7  8  9  ...  774  775  776  777  778  779  780  \\\n0     1  1  1  4  3  0  0  4  4  3  ...    2    1    0    1    2    4    4   \n1     0  4  0  0  4  1  1  1  4  2  ...    0    3    0    1    4    1    4   \n2     1  1  2  2  1  1  1  0  2  1  ...    3    3    3    0    2    0    3   \n3     1  2  0  2  0  4  0  3  4  3  ...    3    3    2    0    1    4    0   \n4     3  0  2  4  0  3  0  4  2  4  ...    4    4    3    2    1    3    4   \n...  .. .. .. .. .. .. .. .. .. ..  ...  ...  ...  ...  ...  ...  ...  ...   \n2043  2  4  3  4  2  4  4  1  2  1  ...    0    2    2    0    0    1    3   \n2044  3  2  2  1  1  4  0  1  4  2  ...    2    3    4    2    1    2    3   \n2045  4  0  4  0  2  4  4  4  3  4  ...    2    3    1    1    3    4    2   \n2046  2  3  3  0  3  0  4  3  0  1  ...    2    3    1    1    0    4    1   \n2047  4  2  2  1  3  0  0  0  3  2  ...    4    2    4    0    4    3    2   \n\n      781  782  783  \n0       4    3    4  \n1       2    1    2  \n2       0    2    2  \n3       0    1    1  \n4       3    1    2  \n...   ...  ...  ...  \n2043    1    4    0  \n2044    4    1    1  \n2045    2    0    0  \n2046    4    3    1  \n2047    4    3    4  \n\n[2048 rows x 784 columns]",
      "text/html": "<div>\n<style scoped>\n    .dataframe tbody tr th:only-of-type {\n        vertical-align: middle;\n    }\n\n    .dataframe tbody tr th {\n        vertical-align: top;\n    }\n\n    .dataframe thead th {\n        text-align: right;\n    }\n</style>\n<table border=\"1\" class=\"dataframe\">\n  <thead>\n    <tr style=\"text-align: right;\">\n      <th></th>\n      <th>0</th>\n      <th>1</th>\n      <th>2</th>\n      <th>3</th>\n      <th>4</th>\n      <th>5</th>\n      <th>6</th>\n      <th>7</th>\n      <th>8</th>\n      <th>9</th>\n      <th>...</th>\n      <th>774</th>\n      <th>775</th>\n      <th>776</th>\n      <th>777</th>\n      <th>778</th>\n      <th>779</th>\n      <th>780</th>\n      <th>781</th>\n      <th>782</th>\n      <th>783</th>\n    </tr>\n  </thead>\n  <tbody>\n    <tr>\n      <th>0</th>\n      <td>1</td>\n      <td>1</td>\n      <td>1</td>\n      <td>4</td>\n      <td>3</td>\n      <td>0</td>\n      <td>0</td>\n      <td>4</td>\n      <td>4</td>\n      <td>3</td>\n      <td>...</td>\n      <td>2</td>\n      <td>1</td>\n      <td>0</td>\n      <td>1</td>\n      <td>2</td>\n      <td>4</td>\n      <td>4</td>\n      <td>4</td>\n      <td>3</td>\n      <td>4</td>\n    </tr>\n    <tr>\n      <th>1</th>\n      <td>0</td>\n      <td>4</td>\n      <td>0</td>\n      <td>0</td>\n      <td>4</td>\n      <td>1</td>\n      <td>1</td>\n      <td>1</td>\n      <td>4</td>\n      <td>2</td>\n      <td>...</td>\n      <td>0</td>\n      <td>3</td>\n      <td>0</td>\n      <td>1</td>\n      <td>4</td>\n      <td>1</td>\n      <td>4</td>\n      <td>2</td>\n      <td>1</td>\n      <td>2</td>\n    </tr>\n    <tr>\n      <th>2</th>\n      <td>1</td>\n      <td>1</td>\n      <td>2</td>\n      <td>2</td>\n      <td>1</td>\n      <td>1</td>\n      <td>1</td>\n      <td>0</td>\n      <td>2</td>\n      <td>1</td>\n      <td>...</td>\n      <td>3</td>\n      <td>3</td>\n      <td>3</td>\n      <td>0</td>\n      <td>2</td>\n      <td>0</td>\n      <td>3</td>\n      <td>0</td>\n      <td>2</td>\n      <td>2</td>\n    </tr>\n    <tr>\n      <th>3</th>\n      <td>1</td>\n      <td>2</td>\n      <td>0</td>\n      <td>2</td>\n      <td>0</td>\n      <td>4</td>\n      <td>0</td>\n      <td>3</td>\n      <td>4</td>\n      <td>3</td>\n      <td>...</td>\n      <td>3</td>\n      <td>3</td>\n      <td>2</td>\n      <td>0</td>\n      <td>1</td>\n      <td>4</td>\n      <td>0</td>\n      <td>0</td>\n      <td>1</td>\n      <td>1</td>\n    </tr>\n    <tr>\n      <th>4</th>\n      <td>3</td>\n      <td>0</td>\n      <td>2</td>\n      <td>4</td>\n      <td>0</td>\n      <td>3</td>\n      <td>0</td>\n      <td>4</td>\n      <td>2</td>\n      <td>4</td>\n      <td>...</td>\n      <td>4</td>\n      <td>4</td>\n      <td>3</td>\n      <td>2</td>\n      <td>1</td>\n      <td>3</td>\n      <td>4</td>\n      <td>3</td>\n      <td>1</td>\n      <td>2</td>\n    </tr>\n    <tr>\n      <th>...</th>\n      <td>...</td>\n      <td>...</td>\n      <td>...</td>\n      <td>...</td>\n      <td>...</td>\n      <td>...</td>\n      <td>...</td>\n      <td>...</td>\n      <td>...</td>\n      <td>...</td>\n      <td>...</td>\n      <td>...</td>\n      <td>...</td>\n      <td>...</td>\n      <td>...</td>\n      <td>...</td>\n      <td>...</td>\n      <td>...</td>\n      <td>...</td>\n      <td>...</td>\n      <td>...</td>\n    </tr>\n    <tr>\n      <th>2043</th>\n      <td>2</td>\n      <td>4</td>\n      <td>3</td>\n      <td>4</td>\n      <td>2</td>\n      <td>4</td>\n      <td>4</td>\n      <td>1</td>\n      <td>2</td>\n      <td>1</td>\n      <td>...</td>\n      <td>0</td>\n      <td>2</td>\n      <td>2</td>\n      <td>0</td>\n      <td>0</td>\n      <td>1</td>\n      <td>3</td>\n      <td>1</td>\n      <td>4</td>\n      <td>0</td>\n    </tr>\n    <tr>\n      <th>2044</th>\n      <td>3</td>\n      <td>2</td>\n      <td>2</td>\n      <td>1</td>\n      <td>1</td>\n      <td>4</td>\n      <td>0</td>\n      <td>1</td>\n      <td>4</td>\n      <td>2</td>\n      <td>...</td>\n      <td>2</td>\n      <td>3</td>\n      <td>4</td>\n      <td>2</td>\n      <td>1</td>\n      <td>2</td>\n      <td>3</td>\n      <td>4</td>\n      <td>1</td>\n      <td>1</td>\n    </tr>\n    <tr>\n      <th>2045</th>\n      <td>4</td>\n      <td>0</td>\n      <td>4</td>\n      <td>0</td>\n      <td>2</td>\n      <td>4</td>\n      <td>4</td>\n      <td>4</td>\n      <td>3</td>\n      <td>4</td>\n      <td>...</td>\n      <td>2</td>\n      <td>3</td>\n      <td>1</td>\n      <td>1</td>\n      <td>3</td>\n      <td>4</td>\n      <td>2</td>\n      <td>2</td>\n      <td>0</td>\n      <td>0</td>\n    </tr>\n    <tr>\n      <th>2046</th>\n      <td>2</td>\n      <td>3</td>\n      <td>3</td>\n      <td>0</td>\n      <td>3</td>\n      <td>0</td>\n      <td>4</td>\n      <td>3</td>\n      <td>0</td>\n      <td>1</td>\n      <td>...</td>\n      <td>2</td>\n      <td>3</td>\n      <td>1</td>\n      <td>1</td>\n      <td>0</td>\n      <td>4</td>\n      <td>1</td>\n      <td>4</td>\n      <td>3</td>\n      <td>1</td>\n    </tr>\n    <tr>\n      <th>2047</th>\n      <td>4</td>\n      <td>2</td>\n      <td>2</td>\n      <td>1</td>\n      <td>3</td>\n      <td>0</td>\n      <td>0</td>\n      <td>0</td>\n      <td>3</td>\n      <td>2</td>\n      <td>...</td>\n      <td>4</td>\n      <td>2</td>\n      <td>4</td>\n      <td>0</td>\n      <td>4</td>\n      <td>3</td>\n      <td>2</td>\n      <td>4</td>\n      <td>3</td>\n      <td>4</td>\n    </tr>\n  </tbody>\n</table>\n<p>2048 rows × 784 columns</p>\n</div>"
     },
     "metadata": {},
     "execution_count": 38
    }
   ],
   "source": [
    "train_copy = train_copy.drop(['id', 'digit', 'letter'], axis = 1)\n",
    "train_copy"
   ]
  },
  {
   "cell_type": "code",
   "execution_count": 59,
   "metadata": {},
   "outputs": [],
   "source": [
    "train_array = np.array(train_copy)\n",
    "label_array = np.array(label)\n",
    "letter_array = np.array(letter) "
   ]
  },
  {
   "cell_type": "code",
   "execution_count": 47,
   "metadata": {},
   "outputs": [
    {
     "output_type": "execute_result",
     "data": {
      "text/plain": "array([[1, 1, 1, ..., 4, 3, 4],\n       [0, 4, 0, ..., 2, 1, 2],\n       [1, 1, 2, ..., 0, 2, 2],\n       ...,\n       [4, 0, 4, ..., 2, 0, 0],\n       [2, 3, 3, ..., 4, 3, 1],\n       [4, 2, 2, ..., 4, 3, 4]], dtype=int64)"
     },
     "metadata": {},
     "execution_count": 47
    }
   ],
   "source": [
    "train_array"
   ]
  },
  {
   "cell_type": "code",
   "execution_count": 62,
   "metadata": {},
   "outputs": [
    {
     "output_type": "execute_result",
     "data": {
      "text/plain": "array([      0  1  2  3  4  5  6  7  8  9  ...  774  775  776  777  778  779  780  \\\n0     1  1  1  4  3  0  0  4  4  3  ...    2    1    0    1    2    4    4   \n1     0  4  0  0  4  1  1  1  4  2  ...    0    3    0    1    4    1    4   \n2     1  1  2  2  1  1  1  0  2  1  ...    3    3    3    0    2    0    3   \n3     1  2  0  2  0  4  0  3  4  3  ...    3    3    2    0    1    4    0   \n4     3  0  2  4  0  3  0  4  2  4  ...    4    4    3    2    1    3    4   \n...  .. .. .. .. .. .. .. .. .. ..  ...  ...  ...  ...  ...  ...  ...  ...   \n2043  2  4  3  4  2  4  4  1  2  1  ...    0    2    2    0    0    1    3   \n2044  3  2  2  1  1  4  0  1  4  2  ...    2    3    4    2    1    2    3   \n2045  4  0  4  0  2  4  4  4  3  4  ...    2    3    1    1    3    4    2   \n2046  2  3  3  0  3  0  4  3  0  1  ...    2    3    1    1    0    4    1   \n2047  4  2  2  1  3  0  0  0  3  2  ...    4    2    4    0    4    3    2   \n\n      781  782  783  \n0       4    3    4  \n1       2    1    2  \n2       0    2    2  \n3       0    1    1  \n4       3    1    2  \n...   ...  ...  ...  \n2043    1    4    0  \n2044    4    1    1  \n2045    2    0    0  \n2046    4    3    1  \n2047    4    3    4  \n\n[2048 rows x 784 columns],\n       0       11\n1        1\n2       11\n3        3\n4        0\n        ..\n2043    21\n2044    11\n2045     0\n2046    25\n2047    25\nName: letter, Length: 2048, dtype: int8], dtype=object)"
     },
     "metadata": {},
     "execution_count": 62
    }
   ],
   "source": [
    "aa = np.array([train_copy, letter])\n",
    "aa"
   ]
  },
  {
   "cell_type": "code",
   "execution_count": 68,
   "metadata": {},
   "outputs": [
    {
     "output_type": "execute_result",
     "data": {
      "text/plain": "26"
     },
     "metadata": {},
     "execution_count": 68
    }
   ],
   "source": [
    "letter.nunique()"
   ]
  },
  {
   "cell_type": "code",
   "execution_count": 52,
   "metadata": {},
   "outputs": [
    {
     "output_type": "execute_result",
     "data": {
      "text/plain": "2048"
     },
     "metadata": {},
     "execution_count": 52
    }
   ],
   "source": [
    "label_array.shape[0]"
   ]
  },
  {
   "cell_type": "code",
   "execution_count": 45,
   "metadata": {},
   "outputs": [
    {
     "output_type": "execute_result",
     "data": {
      "text/plain": "(2048, 784)"
     },
     "metadata": {},
     "execution_count": 45
    }
   ],
   "source": [
    "train_array.shape"
   ]
  },
  {
   "cell_type": "code",
   "execution_count": null,
   "metadata": {},
   "outputs": [],
   "source": [
    "X_train = np.array(t)"
   ]
  },
  {
   "cell_type": "code",
   "execution_count": 29,
   "metadata": {},
   "outputs": [
    {
     "output_type": "execute_result",
     "data": {
      "text/plain": "         count         mean         std  min     25%     50%      75%     max\nid      2048.0  1024.500000  591.350996  1.0  512.75  1024.5  1536.25  2048.0\ndigit   2048.0     4.440918    2.819159  0.0    2.00     4.0     7.00     9.0\nletter  2048.0    12.722168    7.453517  0.0    6.00    13.0    19.00    25.0\n0       2048.0     2.031250    1.420762  0.0    1.00     2.0     3.00     4.0\n1       2048.0     1.959961    1.399057  0.0    1.00     2.0     3.00     4.0\n...        ...          ...         ...  ...     ...     ...      ...     ...\n779     2048.0     2.043457    1.407484  0.0    1.00     2.0     3.00     4.0\n780     2048.0     2.035156    1.399886  0.0    1.00     2.0     3.00     4.0\n781     2048.0     1.981445    1.409247  0.0    1.00     2.0     3.00     4.0\n782     2048.0     1.993164    1.392264  0.0    1.00     2.0     3.00     4.0\n783     2048.0     1.975586    1.398719  0.0    1.00     2.0     3.00     4.0\n\n[787 rows x 8 columns]",
      "text/html": "<div>\n<style scoped>\n    .dataframe tbody tr th:only-of-type {\n        vertical-align: middle;\n    }\n\n    .dataframe tbody tr th {\n        vertical-align: top;\n    }\n\n    .dataframe thead th {\n        text-align: right;\n    }\n</style>\n<table border=\"1\" class=\"dataframe\">\n  <thead>\n    <tr style=\"text-align: right;\">\n      <th></th>\n      <th>count</th>\n      <th>mean</th>\n      <th>std</th>\n      <th>min</th>\n      <th>25%</th>\n      <th>50%</th>\n      <th>75%</th>\n      <th>max</th>\n    </tr>\n  </thead>\n  <tbody>\n    <tr>\n      <th>id</th>\n      <td>2048.0</td>\n      <td>1024.500000</td>\n      <td>591.350996</td>\n      <td>1.0</td>\n      <td>512.75</td>\n      <td>1024.5</td>\n      <td>1536.25</td>\n      <td>2048.0</td>\n    </tr>\n    <tr>\n      <th>digit</th>\n      <td>2048.0</td>\n      <td>4.440918</td>\n      <td>2.819159</td>\n      <td>0.0</td>\n      <td>2.00</td>\n      <td>4.0</td>\n      <td>7.00</td>\n      <td>9.0</td>\n    </tr>\n    <tr>\n      <th>letter</th>\n      <td>2048.0</td>\n      <td>12.722168</td>\n      <td>7.453517</td>\n      <td>0.0</td>\n      <td>6.00</td>\n      <td>13.0</td>\n      <td>19.00</td>\n      <td>25.0</td>\n    </tr>\n    <tr>\n      <th>0</th>\n      <td>2048.0</td>\n      <td>2.031250</td>\n      <td>1.420762</td>\n      <td>0.0</td>\n      <td>1.00</td>\n      <td>2.0</td>\n      <td>3.00</td>\n      <td>4.0</td>\n    </tr>\n    <tr>\n      <th>1</th>\n      <td>2048.0</td>\n      <td>1.959961</td>\n      <td>1.399057</td>\n      <td>0.0</td>\n      <td>1.00</td>\n      <td>2.0</td>\n      <td>3.00</td>\n      <td>4.0</td>\n    </tr>\n    <tr>\n      <th>...</th>\n      <td>...</td>\n      <td>...</td>\n      <td>...</td>\n      <td>...</td>\n      <td>...</td>\n      <td>...</td>\n      <td>...</td>\n      <td>...</td>\n    </tr>\n    <tr>\n      <th>779</th>\n      <td>2048.0</td>\n      <td>2.043457</td>\n      <td>1.407484</td>\n      <td>0.0</td>\n      <td>1.00</td>\n      <td>2.0</td>\n      <td>3.00</td>\n      <td>4.0</td>\n    </tr>\n    <tr>\n      <th>780</th>\n      <td>2048.0</td>\n      <td>2.035156</td>\n      <td>1.399886</td>\n      <td>0.0</td>\n      <td>1.00</td>\n      <td>2.0</td>\n      <td>3.00</td>\n      <td>4.0</td>\n    </tr>\n    <tr>\n      <th>781</th>\n      <td>2048.0</td>\n      <td>1.981445</td>\n      <td>1.409247</td>\n      <td>0.0</td>\n      <td>1.00</td>\n      <td>2.0</td>\n      <td>3.00</td>\n      <td>4.0</td>\n    </tr>\n    <tr>\n      <th>782</th>\n      <td>2048.0</td>\n      <td>1.993164</td>\n      <td>1.392264</td>\n      <td>0.0</td>\n      <td>1.00</td>\n      <td>2.0</td>\n      <td>3.00</td>\n      <td>4.0</td>\n    </tr>\n    <tr>\n      <th>783</th>\n      <td>2048.0</td>\n      <td>1.975586</td>\n      <td>1.398719</td>\n      <td>0.0</td>\n      <td>1.00</td>\n      <td>2.0</td>\n      <td>3.00</td>\n      <td>4.0</td>\n    </tr>\n  </tbody>\n</table>\n<p>787 rows × 8 columns</p>\n</div>"
     },
     "metadata": {},
     "execution_count": 29
    }
   ],
   "source": [
    "aa = train.describe().T\n",
    "aa"
   ]
  },
  {
   "cell_type": "code",
   "execution_count": 31,
   "metadata": {},
   "outputs": [
    {
     "output_type": "execute_result",
     "data": {
      "text/plain": "array([2048.,    9.,   25.,    4.,    6.,   20.,   10.,   21.,   58.,\n         22.,   50.,  104.,  108.,   72.,   66.,   63.,  105.,   61.,\n         18.,   17.,  124.,  101.,  125.,  123.,  126.,  163.,  145.,\n        142.,  181.,  166.,  172.,  208.,  209.,  213.,  243.,  225.,\n        232.,  201.,  202.,  164.,  165.,  137.,  109.,   32.,  131.,\n        168.,  255.,  235.,  246.,  252.,  253.,  221.,  226.,  130.,\n         62.,  136.,  230.,  244.,  254.,  240.,  198.,   56.,  139.,\n        251.,  250.,  247.,  176.,   96.,   65.,  178.,  234.,  186.,\n         44.,  128.,  167.,  249.,  216.,  122.,  190.,  129.,   13.,\n        127.,   64.,  239.,  236.,   29.,  211.,   36.,  199.,   43.,\n         31.,  223.,   28.,  238.,  140.,  188.,  233.,   54.,  174.,\n        157.,   40.,  171.,  113.,   19.,   67.,  149.,  245.,  248.,\n        229.,  237.,  242.,  203.,  217.,  100.,   16.,  144.,  187.,\n        183.,  184.,  197.,  215.,  169.,  150.,  219.,  147.,  155.,\n        138.,   86.,    8.,  102.,   41.,   95.,   80.,   15.,    5.])"
     },
     "metadata": {},
     "execution_count": 31
    }
   ],
   "source": [
    "aa['max'].unique()"
   ]
  },
  {
   "cell_type": "code",
   "execution_count": 4,
   "metadata": {},
   "outputs": [
    {
     "output_type": "execute_result",
     "data": {
      "text/plain": "784"
     },
     "metadata": {},
     "execution_count": 4
    }
   ],
   "source": [
    "28*28"
   ]
  },
  {
   "cell_type": "code",
   "execution_count": 5,
   "metadata": {},
   "outputs": [
    {
     "output_type": "execute_result",
     "data": {
      "text/plain": "          id letter  0  1  2  3  4  5  6  7  ...  774  775  776  777  778  \\\n0       2049      L  0  4  0  2  4  2  3  1  ...    2    0    4    2    2   \n1       2050      C  4  1  4  0  1  1  0  2  ...    0    3    2    4    2   \n2       2051      S  0  4  0  1  3  2  3  0  ...    1    3    2    0    3   \n3       2052      K  2  1  3  3  3  4  3  0  ...    3    0    3    2    4   \n4       2053      W  1  0  1  1  2  2  1  4  ...    4    3    1    4    0   \n...      ...    ... .. .. .. .. .. .. .. ..  ...  ...  ...  ...  ...  ...   \n20475  22524      P  1  2  1  1  0  0  0  2  ...    0    1    3    0    3   \n20476  22525      S  4  1  1  4  0  0  1  1  ...    1    3    1    0    0   \n20477  22526      B  4  2  1  3  2  1  3  0  ...    3    2    3    4    1   \n20478  22527      K  1  1  2  3  4  0  4  3  ...    2    0    0    4    3   \n20479  22528      S  2  1  0  3  0  3  3  1  ...    0    3    0    1    4   \n\n       779  780  781  782  783  \n0        4    3    4    1    4  \n1        4    2    2    1    2  \n2        2    3    0    1    4  \n3        1    0    4    4    4  \n4        2    1    2    3    4  \n...    ...  ...  ...  ...  ...  \n20475    0    4    3    1    4  \n20476    1    3    1    2    0  \n20477    0    3    3    1    1  \n20478    3    3    4    4    2  \n20479    2    0    2    2    0  \n\n[20480 rows x 786 columns]",
      "text/html": "<div>\n<style scoped>\n    .dataframe tbody tr th:only-of-type {\n        vertical-align: middle;\n    }\n\n    .dataframe tbody tr th {\n        vertical-align: top;\n    }\n\n    .dataframe thead th {\n        text-align: right;\n    }\n</style>\n<table border=\"1\" class=\"dataframe\">\n  <thead>\n    <tr style=\"text-align: right;\">\n      <th></th>\n      <th>id</th>\n      <th>letter</th>\n      <th>0</th>\n      <th>1</th>\n      <th>2</th>\n      <th>3</th>\n      <th>4</th>\n      <th>5</th>\n      <th>6</th>\n      <th>7</th>\n      <th>...</th>\n      <th>774</th>\n      <th>775</th>\n      <th>776</th>\n      <th>777</th>\n      <th>778</th>\n      <th>779</th>\n      <th>780</th>\n      <th>781</th>\n      <th>782</th>\n      <th>783</th>\n    </tr>\n  </thead>\n  <tbody>\n    <tr>\n      <th>0</th>\n      <td>2049</td>\n      <td>L</td>\n      <td>0</td>\n      <td>4</td>\n      <td>0</td>\n      <td>2</td>\n      <td>4</td>\n      <td>2</td>\n      <td>3</td>\n      <td>1</td>\n      <td>...</td>\n      <td>2</td>\n      <td>0</td>\n      <td>4</td>\n      <td>2</td>\n      <td>2</td>\n      <td>4</td>\n      <td>3</td>\n      <td>4</td>\n      <td>1</td>\n      <td>4</td>\n    </tr>\n    <tr>\n      <th>1</th>\n      <td>2050</td>\n      <td>C</td>\n      <td>4</td>\n      <td>1</td>\n      <td>4</td>\n      <td>0</td>\n      <td>1</td>\n      <td>1</td>\n      <td>0</td>\n      <td>2</td>\n      <td>...</td>\n      <td>0</td>\n      <td>3</td>\n      <td>2</td>\n      <td>4</td>\n      <td>2</td>\n      <td>4</td>\n      <td>2</td>\n      <td>2</td>\n      <td>1</td>\n      <td>2</td>\n    </tr>\n    <tr>\n      <th>2</th>\n      <td>2051</td>\n      <td>S</td>\n      <td>0</td>\n      <td>4</td>\n      <td>0</td>\n      <td>1</td>\n      <td>3</td>\n      <td>2</td>\n      <td>3</td>\n      <td>0</td>\n      <td>...</td>\n      <td>1</td>\n      <td>3</td>\n      <td>2</td>\n      <td>0</td>\n      <td>3</td>\n      <td>2</td>\n      <td>3</td>\n      <td>0</td>\n      <td>1</td>\n      <td>4</td>\n    </tr>\n    <tr>\n      <th>3</th>\n      <td>2052</td>\n      <td>K</td>\n      <td>2</td>\n      <td>1</td>\n      <td>3</td>\n      <td>3</td>\n      <td>3</td>\n      <td>4</td>\n      <td>3</td>\n      <td>0</td>\n      <td>...</td>\n      <td>3</td>\n      <td>0</td>\n      <td>3</td>\n      <td>2</td>\n      <td>4</td>\n      <td>1</td>\n      <td>0</td>\n      <td>4</td>\n      <td>4</td>\n      <td>4</td>\n    </tr>\n    <tr>\n      <th>4</th>\n      <td>2053</td>\n      <td>W</td>\n      <td>1</td>\n      <td>0</td>\n      <td>1</td>\n      <td>1</td>\n      <td>2</td>\n      <td>2</td>\n      <td>1</td>\n      <td>4</td>\n      <td>...</td>\n      <td>4</td>\n      <td>3</td>\n      <td>1</td>\n      <td>4</td>\n      <td>0</td>\n      <td>2</td>\n      <td>1</td>\n      <td>2</td>\n      <td>3</td>\n      <td>4</td>\n    </tr>\n    <tr>\n      <th>...</th>\n      <td>...</td>\n      <td>...</td>\n      <td>...</td>\n      <td>...</td>\n      <td>...</td>\n      <td>...</td>\n      <td>...</td>\n      <td>...</td>\n      <td>...</td>\n      <td>...</td>\n      <td>...</td>\n      <td>...</td>\n      <td>...</td>\n      <td>...</td>\n      <td>...</td>\n      <td>...</td>\n      <td>...</td>\n      <td>...</td>\n      <td>...</td>\n      <td>...</td>\n      <td>...</td>\n    </tr>\n    <tr>\n      <th>20475</th>\n      <td>22524</td>\n      <td>P</td>\n      <td>1</td>\n      <td>2</td>\n      <td>1</td>\n      <td>1</td>\n      <td>0</td>\n      <td>0</td>\n      <td>0</td>\n      <td>2</td>\n      <td>...</td>\n      <td>0</td>\n      <td>1</td>\n      <td>3</td>\n      <td>0</td>\n      <td>3</td>\n      <td>0</td>\n      <td>4</td>\n      <td>3</td>\n      <td>1</td>\n      <td>4</td>\n    </tr>\n    <tr>\n      <th>20476</th>\n      <td>22525</td>\n      <td>S</td>\n      <td>4</td>\n      <td>1</td>\n      <td>1</td>\n      <td>4</td>\n      <td>0</td>\n      <td>0</td>\n      <td>1</td>\n      <td>1</td>\n      <td>...</td>\n      <td>1</td>\n      <td>3</td>\n      <td>1</td>\n      <td>0</td>\n      <td>0</td>\n      <td>1</td>\n      <td>3</td>\n      <td>1</td>\n      <td>2</td>\n      <td>0</td>\n    </tr>\n    <tr>\n      <th>20477</th>\n      <td>22526</td>\n      <td>B</td>\n      <td>4</td>\n      <td>2</td>\n      <td>1</td>\n      <td>3</td>\n      <td>2</td>\n      <td>1</td>\n      <td>3</td>\n      <td>0</td>\n      <td>...</td>\n      <td>3</td>\n      <td>2</td>\n      <td>3</td>\n      <td>4</td>\n      <td>1</td>\n      <td>0</td>\n      <td>3</td>\n      <td>3</td>\n      <td>1</td>\n      <td>1</td>\n    </tr>\n    <tr>\n      <th>20478</th>\n      <td>22527</td>\n      <td>K</td>\n      <td>1</td>\n      <td>1</td>\n      <td>2</td>\n      <td>3</td>\n      <td>4</td>\n      <td>0</td>\n      <td>4</td>\n      <td>3</td>\n      <td>...</td>\n      <td>2</td>\n      <td>0</td>\n      <td>0</td>\n      <td>4</td>\n      <td>3</td>\n      <td>3</td>\n      <td>3</td>\n      <td>4</td>\n      <td>4</td>\n      <td>2</td>\n    </tr>\n    <tr>\n      <th>20479</th>\n      <td>22528</td>\n      <td>S</td>\n      <td>2</td>\n      <td>1</td>\n      <td>0</td>\n      <td>3</td>\n      <td>0</td>\n      <td>3</td>\n      <td>3</td>\n      <td>1</td>\n      <td>...</td>\n      <td>0</td>\n      <td>3</td>\n      <td>0</td>\n      <td>1</td>\n      <td>4</td>\n      <td>2</td>\n      <td>0</td>\n      <td>2</td>\n      <td>2</td>\n      <td>0</td>\n    </tr>\n  </tbody>\n</table>\n<p>20480 rows × 786 columns</p>\n</div>"
     },
     "metadata": {},
     "execution_count": 5
    }
   ],
   "source": [
    "test"
   ]
  },
  {
   "cell_type": "code",
   "execution_count": 6,
   "metadata": {},
   "outputs": [
    {
     "output_type": "execute_result",
     "data": {
      "text/plain": "          id  digit\n0       2049      0\n1       2050      0\n2       2051      0\n3       2052      0\n4       2053      0\n...      ...    ...\n20475  22524      0\n20476  22525      0\n20477  22526      0\n20478  22527      0\n20479  22528      0\n\n[20480 rows x 2 columns]",
      "text/html": "<div>\n<style scoped>\n    .dataframe tbody tr th:only-of-type {\n        vertical-align: middle;\n    }\n\n    .dataframe tbody tr th {\n        vertical-align: top;\n    }\n\n    .dataframe thead th {\n        text-align: right;\n    }\n</style>\n<table border=\"1\" class=\"dataframe\">\n  <thead>\n    <tr style=\"text-align: right;\">\n      <th></th>\n      <th>id</th>\n      <th>digit</th>\n    </tr>\n  </thead>\n  <tbody>\n    <tr>\n      <th>0</th>\n      <td>2049</td>\n      <td>0</td>\n    </tr>\n    <tr>\n      <th>1</th>\n      <td>2050</td>\n      <td>0</td>\n    </tr>\n    <tr>\n      <th>2</th>\n      <td>2051</td>\n      <td>0</td>\n    </tr>\n    <tr>\n      <th>3</th>\n      <td>2052</td>\n      <td>0</td>\n    </tr>\n    <tr>\n      <th>4</th>\n      <td>2053</td>\n      <td>0</td>\n    </tr>\n    <tr>\n      <th>...</th>\n      <td>...</td>\n      <td>...</td>\n    </tr>\n    <tr>\n      <th>20475</th>\n      <td>22524</td>\n      <td>0</td>\n    </tr>\n    <tr>\n      <th>20476</th>\n      <td>22525</td>\n      <td>0</td>\n    </tr>\n    <tr>\n      <th>20477</th>\n      <td>22526</td>\n      <td>0</td>\n    </tr>\n    <tr>\n      <th>20478</th>\n      <td>22527</td>\n      <td>0</td>\n    </tr>\n    <tr>\n      <th>20479</th>\n      <td>22528</td>\n      <td>0</td>\n    </tr>\n  </tbody>\n</table>\n<p>20480 rows × 2 columns</p>\n</div>"
     },
     "metadata": {},
     "execution_count": 6
    }
   ],
   "source": [
    "sub"
   ]
  },
  {
   "cell_type": "code",
   "execution_count": 7,
   "metadata": {},
   "outputs": [
    {
     "output_type": "execute_result",
     "data": {
      "text/plain": "'2.2.0'"
     },
     "metadata": {},
     "execution_count": 7
    }
   ],
   "source": [
    "tf.__version__"
   ]
  },
  {
   "cell_type": "code",
   "execution_count": 8,
   "metadata": {},
   "outputs": [],
   "source": [
    "mnist = keras.datasets.mnist\n",
    "(X_train, Y_train),(X_test, Y_test) = mnist.load_data()"
   ]
  },
  {
   "cell_type": "code",
   "execution_count": 9,
   "metadata": {},
   "outputs": [
    {
     "output_type": "execute_result",
     "data": {
      "text/plain": "(60000, 28, 28)"
     },
     "metadata": {},
     "execution_count": 9
    }
   ],
   "source": [
    "X_train.shape"
   ]
  },
  {
   "cell_type": "code",
   "execution_count": 10,
   "metadata": {},
   "outputs": [
    {
     "output_type": "execute_result",
     "data": {
      "text/plain": "array([[1, 5, 'L', ..., 4, 3, 4],\n       [2, 0, 'B', ..., 2, 1, 2],\n       [3, 4, 'L', ..., 0, 2, 2],\n       ...,\n       [2046, 9, 'A', ..., 2, 0, 0],\n       [2047, 0, 'Z', ..., 4, 3, 1],\n       [2048, 5, 'Z', ..., 4, 3, 4]], dtype=object)"
     },
     "metadata": {},
     "execution_count": 10
    }
   ],
   "source": [
    "train.values"
   ]
  },
  {
   "cell_type": "code",
   "execution_count": 11,
   "metadata": {},
   "outputs": [
    {
     "output_type": "execute_result",
     "data": {
      "text/plain": "array([1, 5, 'L', 4, 3, 0, 2, 16, 73, 51, 21, 108, 176, 249, 190, 128,\n       133, 188, 207, 107, 96, 119, 137, 28, 31, 123, 62, 46, 126, 66, 6,\n       65, 127, 67, 120, 44, 22, 106, 112, 102, 130, 114, 19, 143, 200,\n       150, 24, 10, 240, 220, 166, 217, 142, 116, 68, 129, 37, 131, 105,\n       18, 69, 132, 76, 23, 86, 172, 181, 125, 235, 237, 70, 101, 98, 30,\n       7], dtype=object)"
     },
     "metadata": {},
     "execution_count": 11
    }
   ],
   "source": [
    "train.iloc[0].unique()"
   ]
  },
  {
   "cell_type": "code",
   "execution_count": 12,
   "metadata": {},
   "outputs": [
    {
     "output_type": "execute_result",
     "data": {
      "text/plain": "array([2, 0, 'B', 4, 1, 3, 11, 56, 21, 123, 81, 14, 18, 126, 108, 22, 111,\n       129, 113, 35, 133, 157, 101, 25, 143, 192, 130, 44, 189, 234, 147,\n       102, 236, 253, 183, 248, 255, 186, 92, 146, 251, 238, 74, 63, 239,\n       174, 137, 125, 119, 69, 6, 136, 213, 131, 128, 127, 122, 48, 110,\n       73, 41, 46, 86, 116, 34, 10, 105, 167, 115, 42, 5, 15, 114, 88, 89,\n       154, 72, 141, 170, 117, 148, 59, 144, 235, 184, 175, 177, 132, 53,\n       197, 67, 145, 212, 218, 164, 26, 220, 84, 199, 249, 227, 155, 104,\n       79, 254, 242, 216, 190, 160, 142, 103, 90, 99, 65, 250, 245, 240,\n       228, 211, 168, 140, 58, 100, 83, 151, 139, 124, 17, 45, 64, 60, 28],\n      dtype=object)"
     },
     "metadata": {},
     "execution_count": 12
    }
   ],
   "source": [
    "train.iloc[1].unique()"
   ]
  },
  {
   "cell_type": "code",
   "execution_count": 13,
   "metadata": {},
   "outputs": [
    {
     "output_type": "execute_result",
     "data": {
      "text/plain": "(60000, 28, 28)"
     },
     "metadata": {},
     "execution_count": 13
    }
   ],
   "source": [
    "X_train.shape"
   ]
  },
  {
   "cell_type": "code",
   "execution_count": 14,
   "metadata": {},
   "outputs": [],
   "source": [
    "aa = X_train.reshape(60000, 28 * 28)"
   ]
  },
  {
   "cell_type": "code",
   "execution_count": 15,
   "metadata": {},
   "outputs": [
    {
     "output_type": "execute_result",
     "data": {
      "text/plain": "(60000, 784)"
     },
     "metadata": {},
     "execution_count": 15
    }
   ],
   "source": [
    "aa.shape"
   ]
  },
  {
   "cell_type": "code",
   "execution_count": 17,
   "metadata": {},
   "outputs": [
    {
     "output_type": "execute_result",
     "data": {
      "text/plain": "(10000, 28, 28)"
     },
     "metadata": {},
     "execution_count": 17
    }
   ],
   "source": [
    "X_test.shape"
   ]
  },
  {
   "cell_type": "code",
   "execution_count": 19,
   "metadata": {},
   "outputs": [
    {
     "output_type": "execute_result",
     "data": {
      "text/plain": "(60000,)"
     },
     "metadata": {},
     "execution_count": 19
    }
   ],
   "source": [
    "Y_train.shape"
   ]
  },
  {
   "cell_type": "code",
   "execution_count": 70,
   "metadata": {},
   "outputs": [],
   "source": [
    "from tensorflow.keras import datasets\n",
    "(X_train, y_train), (X_test, y_test) = datasets.mnist.load_data()"
   ]
  },
  {
   "cell_type": "code",
   "execution_count": null,
   "metadata": {},
   "outputs": [],
   "source": [
    "X_train = X_train.reshape((60000,))"
   ]
  }
 ]
}