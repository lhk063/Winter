{
 "metadata": {
  "language_info": {
   "codemirror_mode": {
    "name": "ipython",
    "version": 3
   },
   "file_extension": ".py",
   "mimetype": "text/x-python",
   "name": "python",
   "nbconvert_exporter": "python",
   "pygments_lexer": "ipython3",
   "version": "3.7.6-final"
  },
  "orig_nbformat": 2,
  "kernelspec": {
   "name": "python3",
   "display_name": "Python 3",
   "language": "python"
  }
 },
 "nbformat": 4,
 "nbformat_minor": 2,
 "cells": [
  {
   "source": [
    "# Quantile Regression\n",
    "[참고자료 LINK](https://medium.com/analytics-vidhya/a-tutorial-on-quantile-regression-quantile-random-forests-and-quantile-gbm-d3c651af7516)\n",
    "\n",
    "3년(Day 0~ Day1094) 동안의 기상 데이터, 발전량(TARGET) 데이터\n",
    "- Hour - 시간  \n",
    "- Minute - 분  \n",
    "- DHI - 수평면 산란일사량(Diffuse Horizontal Irradiance (W/m2))  \n",
    "- DNI - 직접광(Direct Normal Irradiance (W/m2))  \n",
    "- WS - 풍속(Wind Speed (m/s))  \n",
    "- RH - 상대습도(Relative Humidity (%))  \n",
    "- T - 기온(Temperature (Degree C))  \n",
    "- Target - 태양광 발전량 (kW)  \n"
   ],
   "cell_type": "markdown",
   "metadata": {}
  },
  {
   "cell_type": "code",
   "execution_count": null,
   "metadata": {},
   "outputs": [],
   "source": [
    "import statsmodels.regression.quantile_regression\n",
    "quantiles = [0.10, 0.20, 0.30, 0.40, 0.50, 0.60, 0.70, 0.80, 0.90]"
   ]
  }
 ]
}