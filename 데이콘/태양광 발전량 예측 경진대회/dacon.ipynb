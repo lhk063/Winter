{
 "metadata": {
  "language_info": {
   "codemirror_mode": {
    "name": "ipython",
    "version": 3
   },
   "file_extension": ".py",
   "mimetype": "text/x-python",
   "name": "python",
   "nbconvert_exporter": "python",
   "pygments_lexer": "ipython3",
   "version": "3.7.6-final"
  },
  "orig_nbformat": 2,
  "kernelspec": {
   "name": "python3",
   "display_name": "Python 3",
   "language": "python"
  }
 },
 "nbformat": 4,
 "nbformat_minor": 2,
 "cells": [
  {
   "source": [
    "# Quantile Regression\n",
    "[참고자료 LINK](https://medium.com/analytics-vidhya/a-tutorial-on-quantile-regression-quantile-random-forests-and-quantile-gbm-d3c651af7516)\n",
    "\n",
    "3년(Day 0~ Day1094) 동안의 기상 데이터, 발전량(TARGET) 데이터\n",
    "- Hour - 시간  \n",
    "- Minute - 분  \n",
    "- DHI - 수평면 산란일사량(Diffuse Horizontal Irradiance (W/m2))  \n",
    "- DNI - 직접광(Direct Normal Irradiance (W/m2))  \n",
    "- WS - 풍속(Wind Speed (m/s))  \n",
    "- RH - 상대습도(Relative Humidity (%))  \n",
    "- T - 기온(Temperature (Degree C))  \n",
    "- Target - 태양광 발전량 (kW)  \n"
   ],
   "cell_type": "markdown",
   "metadata": {}
  },
  {
   "cell_type": "code",
   "execution_count": 2,
   "metadata": {},
   "outputs": [],
   "source": [
    "import pandas as pd\n",
    "import numpy as np"
   ]
  },
  {
   "cell_type": "code",
   "execution_count": 3,
   "metadata": {},
   "outputs": [
    {
     "output_type": "execute_result",
     "data": {
      "text/plain": [
       "        Day  Hour  Minute  DHI  DNI   WS     RH   T  TARGET\n",
       "0         0     0       0    0    0  1.5  69.08 -12     0.0\n",
       "1         0     0      30    0    0  1.5  69.06 -12     0.0\n",
       "2         0     1       0    0    0  1.6  71.78 -12     0.0\n",
       "3         0     1      30    0    0  1.6  71.75 -12     0.0\n",
       "4         0     2       0    0    0  1.6  75.20 -12     0.0\n",
       "...     ...   ...     ...  ...  ...  ...    ...  ..     ...\n",
       "52555  1094    21      30    0    0  2.4  70.70  -4     0.0\n",
       "52556  1094    22       0    0    0  2.4  66.79  -4     0.0\n",
       "52557  1094    22      30    0    0  2.2  66.78  -4     0.0\n",
       "52558  1094    23       0    0    0  2.1  67.72  -4     0.0\n",
       "52559  1094    23      30    0    0  2.1  67.70  -4     0.0\n",
       "\n",
       "[52560 rows x 9 columns]"
      ],
      "text/html": "<div>\n<style scoped>\n    .dataframe tbody tr th:only-of-type {\n        vertical-align: middle;\n    }\n\n    .dataframe tbody tr th {\n        vertical-align: top;\n    }\n\n    .dataframe thead th {\n        text-align: right;\n    }\n</style>\n<table border=\"1\" class=\"dataframe\">\n  <thead>\n    <tr style=\"text-align: right;\">\n      <th></th>\n      <th>Day</th>\n      <th>Hour</th>\n      <th>Minute</th>\n      <th>DHI</th>\n      <th>DNI</th>\n      <th>WS</th>\n      <th>RH</th>\n      <th>T</th>\n      <th>TARGET</th>\n    </tr>\n  </thead>\n  <tbody>\n    <tr>\n      <th>0</th>\n      <td>0</td>\n      <td>0</td>\n      <td>0</td>\n      <td>0</td>\n      <td>0</td>\n      <td>1.5</td>\n      <td>69.08</td>\n      <td>-12</td>\n      <td>0.0</td>\n    </tr>\n    <tr>\n      <th>1</th>\n      <td>0</td>\n      <td>0</td>\n      <td>30</td>\n      <td>0</td>\n      <td>0</td>\n      <td>1.5</td>\n      <td>69.06</td>\n      <td>-12</td>\n      <td>0.0</td>\n    </tr>\n    <tr>\n      <th>2</th>\n      <td>0</td>\n      <td>1</td>\n      <td>0</td>\n      <td>0</td>\n      <td>0</td>\n      <td>1.6</td>\n      <td>71.78</td>\n      <td>-12</td>\n      <td>0.0</td>\n    </tr>\n    <tr>\n      <th>3</th>\n      <td>0</td>\n      <td>1</td>\n      <td>30</td>\n      <td>0</td>\n      <td>0</td>\n      <td>1.6</td>\n      <td>71.75</td>\n      <td>-12</td>\n      <td>0.0</td>\n    </tr>\n    <tr>\n      <th>4</th>\n      <td>0</td>\n      <td>2</td>\n      <td>0</td>\n      <td>0</td>\n      <td>0</td>\n      <td>1.6</td>\n      <td>75.20</td>\n      <td>-12</td>\n      <td>0.0</td>\n    </tr>\n    <tr>\n      <th>...</th>\n      <td>...</td>\n      <td>...</td>\n      <td>...</td>\n      <td>...</td>\n      <td>...</td>\n      <td>...</td>\n      <td>...</td>\n      <td>...</td>\n      <td>...</td>\n    </tr>\n    <tr>\n      <th>52555</th>\n      <td>1094</td>\n      <td>21</td>\n      <td>30</td>\n      <td>0</td>\n      <td>0</td>\n      <td>2.4</td>\n      <td>70.70</td>\n      <td>-4</td>\n      <td>0.0</td>\n    </tr>\n    <tr>\n      <th>52556</th>\n      <td>1094</td>\n      <td>22</td>\n      <td>0</td>\n      <td>0</td>\n      <td>0</td>\n      <td>2.4</td>\n      <td>66.79</td>\n      <td>-4</td>\n      <td>0.0</td>\n    </tr>\n    <tr>\n      <th>52557</th>\n      <td>1094</td>\n      <td>22</td>\n      <td>30</td>\n      <td>0</td>\n      <td>0</td>\n      <td>2.2</td>\n      <td>66.78</td>\n      <td>-4</td>\n      <td>0.0</td>\n    </tr>\n    <tr>\n      <th>52558</th>\n      <td>1094</td>\n      <td>23</td>\n      <td>0</td>\n      <td>0</td>\n      <td>0</td>\n      <td>2.1</td>\n      <td>67.72</td>\n      <td>-4</td>\n      <td>0.0</td>\n    </tr>\n    <tr>\n      <th>52559</th>\n      <td>1094</td>\n      <td>23</td>\n      <td>30</td>\n      <td>0</td>\n      <td>0</td>\n      <td>2.1</td>\n      <td>67.70</td>\n      <td>-4</td>\n      <td>0.0</td>\n    </tr>\n  </tbody>\n</table>\n<p>52560 rows × 9 columns</p>\n</div>"
     },
     "metadata": {},
     "execution_count": 3
    }
   ],
   "source": [
    "solar = pd.read_csv('data/train/train.csv')\n",
    "xtrain = pd.read_csv('data/train/train.csv', usecols = ['DHI', 'DNI', 'T', 'RH', 'TARGET'])\n",
    "ytrain = pd.read_csv('data/train/train.csv', usecols = ['TARGET'])\n",
    "solar"
   ]
  },
  {
   "cell_type": "code",
   "execution_count": 4,
   "metadata": {},
   "outputs": [
    {
     "output_type": "execute_result",
     "data": {
      "text/plain": [
       "       DHI  DNI     RH   T\n",
       "0        0    0  69.08 -12\n",
       "1        0    0  69.06 -12\n",
       "2        0    0  71.78 -12\n",
       "3        0    0  71.75 -12\n",
       "4        0    0  75.20 -12\n",
       "...    ...  ...    ...  ..\n",
       "52555    0    0  70.70  -4\n",
       "52556    0    0  66.79  -4\n",
       "52557    0    0  66.78  -4\n",
       "52558    0    0  67.72  -4\n",
       "52559    0    0  67.70  -4\n",
       "\n",
       "[52560 rows x 4 columns]"
      ],
      "text/html": "<div>\n<style scoped>\n    .dataframe tbody tr th:only-of-type {\n        vertical-align: middle;\n    }\n\n    .dataframe tbody tr th {\n        vertical-align: top;\n    }\n\n    .dataframe thead th {\n        text-align: right;\n    }\n</style>\n<table border=\"1\" class=\"dataframe\">\n  <thead>\n    <tr style=\"text-align: right;\">\n      <th></th>\n      <th>DHI</th>\n      <th>DNI</th>\n      <th>RH</th>\n      <th>T</th>\n    </tr>\n  </thead>\n  <tbody>\n    <tr>\n      <th>0</th>\n      <td>0</td>\n      <td>0</td>\n      <td>69.08</td>\n      <td>-12</td>\n    </tr>\n    <tr>\n      <th>1</th>\n      <td>0</td>\n      <td>0</td>\n      <td>69.06</td>\n      <td>-12</td>\n    </tr>\n    <tr>\n      <th>2</th>\n      <td>0</td>\n      <td>0</td>\n      <td>71.78</td>\n      <td>-12</td>\n    </tr>\n    <tr>\n      <th>3</th>\n      <td>0</td>\n      <td>0</td>\n      <td>71.75</td>\n      <td>-12</td>\n    </tr>\n    <tr>\n      <th>4</th>\n      <td>0</td>\n      <td>0</td>\n      <td>75.20</td>\n      <td>-12</td>\n    </tr>\n    <tr>\n      <th>...</th>\n      <td>...</td>\n      <td>...</td>\n      <td>...</td>\n      <td>...</td>\n    </tr>\n    <tr>\n      <th>52555</th>\n      <td>0</td>\n      <td>0</td>\n      <td>70.70</td>\n      <td>-4</td>\n    </tr>\n    <tr>\n      <th>52556</th>\n      <td>0</td>\n      <td>0</td>\n      <td>66.79</td>\n      <td>-4</td>\n    </tr>\n    <tr>\n      <th>52557</th>\n      <td>0</td>\n      <td>0</td>\n      <td>66.78</td>\n      <td>-4</td>\n    </tr>\n    <tr>\n      <th>52558</th>\n      <td>0</td>\n      <td>0</td>\n      <td>67.72</td>\n      <td>-4</td>\n    </tr>\n    <tr>\n      <th>52559</th>\n      <td>0</td>\n      <td>0</td>\n      <td>67.70</td>\n      <td>-4</td>\n    </tr>\n  </tbody>\n</table>\n<p>52560 rows × 4 columns</p>\n</div>"
     },
     "metadata": {},
     "execution_count": 4
    }
   ],
   "source": [
    "xtrain"
   ]
  },
  {
   "cell_type": "code",
   "execution_count": null,
   "metadata": {},
   "outputs": [],
   "source": [
    "import statsmodels.regression.quantile_regression\n",
    "quantiles = [0.10, 0.20, 0.30, 0.40, 0.50, 0.60, 0.70, 0.80, 0.90]"
   ]
  }
 ]
}