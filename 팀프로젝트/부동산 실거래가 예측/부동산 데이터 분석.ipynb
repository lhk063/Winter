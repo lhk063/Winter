{
 "cells": [
  {
   "cell_type": "markdown",
   "metadata": {},
   "source": [
    "# 모듈"
   ]
  },
  {
   "cell_type": "code",
   "execution_count": 2,
   "metadata": {
    "ExecuteTime": {
     "end_time": "2020-06-07T02:03:17.514399Z",
     "start_time": "2020-06-07T02:03:17.146500Z"
    }
   },
   "outputs": [],
   "source": [
    "import sys\n",
    "import numpy as np\n",
    "import pandas as pd"
   ]
  },
  {
   "cell_type": "code",
   "execution_count": 217,
   "metadata": {
    "ExecuteTime": {
     "end_time": "2020-06-07T12:18:00.321911Z",
     "start_time": "2020-06-07T12:18:00.317922Z"
    }
   },
   "outputs": [
    {
     "data": {
      "text/plain": [
       "'from matplotlib import font_manager, rc\\nfont_name = font_manager.FontProperties(fname=\"C:\\\\Windows\\\\Fonts\\\\LSANSI.TTF\").get_name()\\nrc(\\'font\\', family=font_name)\\nfont_list = fm.findSystemFonts(fontpaths=None, fontext=\\'ttf\\')\\nfont_list[:]'"
      ]
     },
     "execution_count": 217,
     "metadata": {},
     "output_type": "execute_result"
    }
   ],
   "source": [
    "'''from matplotlib import font_manager, rc\n",
    "font_name = font_manager.FontProperties(fname=\"C:\\\\Windows\\\\Fonts\\\\LSANSI.TTF\").get_name()\n",
    "rc('font', family=font_name)\n",
    "font_list = fm.findSystemFonts(fontpaths=None, fontext='ttf')\n",
    "font_list[:]'''"
   ]
  },
  {
   "cell_type": "markdown",
   "metadata": {},
   "source": [
    "# 전처리"
   ]
  },
  {
   "cell_type": "markdown",
   "metadata": {},
   "source": [
    "## 매매 파일 정리"
   ]
  },
  {
   "cell_type": "code",
   "execution_count": 3,
   "metadata": {
    "ExecuteTime": {
     "end_time": "2020-06-06T13:11:40.661709Z",
     "start_time": "2020-06-06T13:11:40.657720Z"
    }
   },
   "outputs": [
    {
     "output_type": "execute_result",
     "data": {
      "text/plain": "                   시군구      번지   본번  부번             단지명  전용면적(㎡)    계약년월  계약일  \\\n0        서울특별시 강남구 개포동   655-2  655   2  개포2차현대아파트(220)    77.75  200606    1   \n1        서울특별시 강남구 개포동   655-2  655   2  개포2차현대아파트(220)    77.75  200610   20   \n2        서울특별시 강남구 개포동   655-2  655   2  개포2차현대아파트(220)    77.75  200610   30   \n3        서울특별시 강남구 개포동   655-2  655   2  개포2차현대아파트(220)    77.75  200612    9   \n4        서울특별시 강남구 개포동   658-1  658   1  개포6차우성아파트1동~8동    79.97  200605    9   \n...                ...     ...  ...  ..             ...      ...     ...  ...   \n1082712  서울특별시 중랑구 중화동  274-75  274  75         한영(102)    58.87  202003   17   \n1082713  서울특별시 중랑구 중화동  274-77  274  77         한영(104)    70.96  202001   28   \n1082714  서울특별시 중랑구 중화동  274-77  274  77         한영(104)    66.24  202002    3   \n1082715  서울특별시 중랑구 중화동  274-77  274  77         한영(104)   106.21  202003   11   \n1082716  서울특별시 중랑구 중화동    11-7   11   7     현대휴앤미(102동)    64.48  201907   15   \n\n        거래금액(만원)  층  건축년도          도로명  \n0         60,000  4  1988      언주로 103  \n1         72,250  5  1988      언주로 103  \n2         73,500  8  1988      언주로 103  \n3         76,500  5  1988      언주로 103  \n4         88,000  3  1987        언주로 3  \n...          ... ..   ...          ...  \n1082712   28,800  6  2003   동일로144길 74  \n1082713   31,200  4  2003   동일로144길 74  \n1082714   28,500  5  2003   동일로144길 74  \n1082715   45,400  6  2003   동일로144길 74  \n1082716   32,800  3  2007  봉화산로27가길 19  \n\n[1080782 rows x 12 columns]",
      "text/html": "<div>\n<style scoped>\n    .dataframe tbody tr th:only-of-type {\n        vertical-align: middle;\n    }\n\n    .dataframe tbody tr th {\n        vertical-align: top;\n    }\n\n    .dataframe thead th {\n        text-align: right;\n    }\n</style>\n<table border=\"1\" class=\"dataframe\">\n  <thead>\n    <tr style=\"text-align: right;\">\n      <th></th>\n      <th>시군구</th>\n      <th>번지</th>\n      <th>본번</th>\n      <th>부번</th>\n      <th>단지명</th>\n      <th>전용면적(㎡)</th>\n      <th>계약년월</th>\n      <th>계약일</th>\n      <th>거래금액(만원)</th>\n      <th>층</th>\n      <th>건축년도</th>\n      <th>도로명</th>\n    </tr>\n  </thead>\n  <tbody>\n    <tr>\n      <th>0</th>\n      <td>서울특별시 강남구 개포동</td>\n      <td>655-2</td>\n      <td>655</td>\n      <td>2</td>\n      <td>개포2차현대아파트(220)</td>\n      <td>77.75</td>\n      <td>200606</td>\n      <td>1</td>\n      <td>60,000</td>\n      <td>4</td>\n      <td>1988</td>\n      <td>언주로 103</td>\n    </tr>\n    <tr>\n      <th>1</th>\n      <td>서울특별시 강남구 개포동</td>\n      <td>655-2</td>\n      <td>655</td>\n      <td>2</td>\n      <td>개포2차현대아파트(220)</td>\n      <td>77.75</td>\n      <td>200610</td>\n      <td>20</td>\n      <td>72,250</td>\n      <td>5</td>\n      <td>1988</td>\n      <td>언주로 103</td>\n    </tr>\n    <tr>\n      <th>2</th>\n      <td>서울특별시 강남구 개포동</td>\n      <td>655-2</td>\n      <td>655</td>\n      <td>2</td>\n      <td>개포2차현대아파트(220)</td>\n      <td>77.75</td>\n      <td>200610</td>\n      <td>30</td>\n      <td>73,500</td>\n      <td>8</td>\n      <td>1988</td>\n      <td>언주로 103</td>\n    </tr>\n    <tr>\n      <th>3</th>\n      <td>서울특별시 강남구 개포동</td>\n      <td>655-2</td>\n      <td>655</td>\n      <td>2</td>\n      <td>개포2차현대아파트(220)</td>\n      <td>77.75</td>\n      <td>200612</td>\n      <td>9</td>\n      <td>76,500</td>\n      <td>5</td>\n      <td>1988</td>\n      <td>언주로 103</td>\n    </tr>\n    <tr>\n      <th>4</th>\n      <td>서울특별시 강남구 개포동</td>\n      <td>658-1</td>\n      <td>658</td>\n      <td>1</td>\n      <td>개포6차우성아파트1동~8동</td>\n      <td>79.97</td>\n      <td>200605</td>\n      <td>9</td>\n      <td>88,000</td>\n      <td>3</td>\n      <td>1987</td>\n      <td>언주로 3</td>\n    </tr>\n    <tr>\n      <th>...</th>\n      <td>...</td>\n      <td>...</td>\n      <td>...</td>\n      <td>...</td>\n      <td>...</td>\n      <td>...</td>\n      <td>...</td>\n      <td>...</td>\n      <td>...</td>\n      <td>...</td>\n      <td>...</td>\n      <td>...</td>\n    </tr>\n    <tr>\n      <th>1082712</th>\n      <td>서울특별시 중랑구 중화동</td>\n      <td>274-75</td>\n      <td>274</td>\n      <td>75</td>\n      <td>한영(102)</td>\n      <td>58.87</td>\n      <td>202003</td>\n      <td>17</td>\n      <td>28,800</td>\n      <td>6</td>\n      <td>2003</td>\n      <td>동일로144길 74</td>\n    </tr>\n    <tr>\n      <th>1082713</th>\n      <td>서울특별시 중랑구 중화동</td>\n      <td>274-77</td>\n      <td>274</td>\n      <td>77</td>\n      <td>한영(104)</td>\n      <td>70.96</td>\n      <td>202001</td>\n      <td>28</td>\n      <td>31,200</td>\n      <td>4</td>\n      <td>2003</td>\n      <td>동일로144길 74</td>\n    </tr>\n    <tr>\n      <th>1082714</th>\n      <td>서울특별시 중랑구 중화동</td>\n      <td>274-77</td>\n      <td>274</td>\n      <td>77</td>\n      <td>한영(104)</td>\n      <td>66.24</td>\n      <td>202002</td>\n      <td>3</td>\n      <td>28,500</td>\n      <td>5</td>\n      <td>2003</td>\n      <td>동일로144길 74</td>\n    </tr>\n    <tr>\n      <th>1082715</th>\n      <td>서울특별시 중랑구 중화동</td>\n      <td>274-77</td>\n      <td>274</td>\n      <td>77</td>\n      <td>한영(104)</td>\n      <td>106.21</td>\n      <td>202003</td>\n      <td>11</td>\n      <td>45,400</td>\n      <td>6</td>\n      <td>2003</td>\n      <td>동일로144길 74</td>\n    </tr>\n    <tr>\n      <th>1082716</th>\n      <td>서울특별시 중랑구 중화동</td>\n      <td>11-7</td>\n      <td>11</td>\n      <td>7</td>\n      <td>현대휴앤미(102동)</td>\n      <td>64.48</td>\n      <td>201907</td>\n      <td>15</td>\n      <td>32,800</td>\n      <td>3</td>\n      <td>2007</td>\n      <td>봉화산로27가길 19</td>\n    </tr>\n  </tbody>\n</table>\n<p>1080782 rows × 12 columns</p>\n</div>"
     },
     "metadata": {},
     "execution_count": 3
    }
   ],
   "source": [
    "mod = sys.modules[__name__]\n",
    "\n",
    "# 2007년부터 2020년까지의 매매기록을\n",
    "# sales_2007 ~ sales_2020 까지의 데이터프레임으로 각각 저장\n",
    "for i in range(2007, 2021):\n",
    "    filename = 'APT[SEOUL]매매/%d.csv' % i\n",
    "    setattr(mod, 'sales_{}'.format(i),\n",
    "            pd.read_csv(filename, encoding='cp949', header=15))\n",
    "\n",
    "real_estate = pd.concat([\n",
    "    sales_2007, sales_2008, sales_2009, sales_2010, sales_2011, sales_2012,\n",
    "    sales_2013, sales_2014, sales_2015, sales_2016, sales_2017, sales_2018,\n",
    "    sales_2019, sales_2020\n",
    "],\n",
    "                   ignore_index=True)\n",
    "real_estate = real_estate.query(\"도로명 != ' '\") # 도로명 주소 미보유 삭제\n",
    "real_estate"
   ]
  },
  {
   "cell_type": "code",
   "execution_count": 22,
   "metadata": {},
   "outputs": [
    {
     "output_type": "execute_result",
     "data": {
      "text/plain": "[200605,\n 200606,\n 200607,\n 200608,\n 200609,\n 200610,\n 200611,\n 200612,\n 200701,\n 200702,\n 200703,\n 200704,\n 200705,\n 200706,\n 200707,\n 200708,\n 200709,\n 200710,\n 200711,\n 200712,\n 200801,\n 200802,\n 200803,\n 200804,\n 200805,\n 200806,\n 200807,\n 200808,\n 200809,\n 200810,\n 200811,\n 200812,\n 200901,\n 200902,\n 200903,\n 200904,\n 200905,\n 200906,\n 200907,\n 200908,\n 200909,\n 200910,\n 200911,\n 200912,\n 201001,\n 201002,\n 201003,\n 201004,\n 201005,\n 201006,\n 201007,\n 201008,\n 201009,\n 201010,\n 201011,\n 201012,\n 201101,\n 201102,\n 201103,\n 201104,\n 201105,\n 201106,\n 201107,\n 201108,\n 201109,\n 201110,\n 201111,\n 201112,\n 201201,\n 201202,\n 201203,\n 201204,\n 201205,\n 201206,\n 201207,\n 201208,\n 201209,\n 201210,\n 201211,\n 201212,\n 201301,\n 201302,\n 201303,\n 201304,\n 201305,\n 201306,\n 201307,\n 201308,\n 201309,\n 201310,\n 201311,\n 201312,\n 201401,\n 201402,\n 201403,\n 201404,\n 201405,\n 201406,\n 201407,\n 201408,\n 201409,\n 201410,\n 201411,\n 201412,\n 201501,\n 201502,\n 201503,\n 201504,\n 201505,\n 201506,\n 201507,\n 201508,\n 201509,\n 201510,\n 201511,\n 201512,\n 201601,\n 201602,\n 201603,\n 201604,\n 201605,\n 201606,\n 201607,\n 201608,\n 201609,\n 201610,\n 201611,\n 201612,\n 201701,\n 201702,\n 201703,\n 201704,\n 201705,\n 201706,\n 201707,\n 201708,\n 201709,\n 201710,\n 201711,\n 201712,\n 201801,\n 201802,\n 201803,\n 201804,\n 201805,\n 201806,\n 201807,\n 201808,\n 201809,\n 201810,\n 201811,\n 201812,\n 201901,\n 201902,\n 201903,\n 201904,\n 201905,\n 201906,\n 201907,\n 201908,\n 201909,\n 201910,\n 201911,\n 201912,\n 202001,\n 202002,\n 202003,\n 202004,\n 202005]"
     },
     "metadata": {},
     "execution_count": 22
    }
   ],
   "source": [
    "sorted(real_estate['계약년월'].unique())"
   ]
  },
  {
   "cell_type": "code",
   "execution_count": 4,
   "metadata": {},
   "outputs": [
    {
     "output_type": "execute_result",
     "data": {
      "text/plain": "                   시군구      번지   본번  부번             단지명  전용면적(㎡)    계약년월  계약일  \\\n0        서울특별시 강남구 개포동   655-2  655   2  개포2차현대아파트(220)    77.75  200606    1   \n1        서울특별시 강남구 개포동   655-2  655   2  개포2차현대아파트(220)    77.75  200610   20   \n2        서울특별시 강남구 개포동   655-2  655   2  개포2차현대아파트(220)    77.75  200610   30   \n3        서울특별시 강남구 개포동   655-2  655   2  개포2차현대아파트(220)    77.75  200612    9   \n4        서울특별시 강남구 개포동   658-1  658   1  개포6차우성아파트1동~8동    79.97  200605    9   \n...                ...     ...  ...  ..             ...      ...     ...  ...   \n1082712  서울특별시 중랑구 중화동  274-75  274  75         한영(102)    58.87  202003   17   \n1082713  서울특별시 중랑구 중화동  274-77  274  77         한영(104)    70.96  202001   28   \n1082714  서울특별시 중랑구 중화동  274-77  274  77         한영(104)    66.24  202002    3   \n1082715  서울특별시 중랑구 중화동  274-77  274  77         한영(104)   106.21  202003   11   \n1082716  서울특별시 중랑구 중화동    11-7   11   7     현대휴앤미(102동)    64.48  201907   15   \n\n        거래금액(만원)  층  건축년도          도로명      시    구    동  \n0         60,000  4  1988      언주로 103  서울특별시  강남구  개포동  \n1         72,250  5  1988      언주로 103  서울특별시  강남구  개포동  \n2         73,500  8  1988      언주로 103  서울특별시  강남구  개포동  \n3         76,500  5  1988      언주로 103  서울특별시  강남구  개포동  \n4         88,000  3  1987        언주로 3  서울특별시  강남구  개포동  \n...          ... ..   ...          ...    ...  ...  ...  \n1082712   28,800  6  2003   동일로144길 74  서울특별시  중랑구  중화동  \n1082713   31,200  4  2003   동일로144길 74  서울특별시  중랑구  중화동  \n1082714   28,500  5  2003   동일로144길 74  서울특별시  중랑구  중화동  \n1082715   45,400  6  2003   동일로144길 74  서울특별시  중랑구  중화동  \n1082716   32,800  3  2007  봉화산로27가길 19  서울특별시  중랑구  중화동  \n\n[1080782 rows x 15 columns]",
      "text/html": "<div>\n<style scoped>\n    .dataframe tbody tr th:only-of-type {\n        vertical-align: middle;\n    }\n\n    .dataframe tbody tr th {\n        vertical-align: top;\n    }\n\n    .dataframe thead th {\n        text-align: right;\n    }\n</style>\n<table border=\"1\" class=\"dataframe\">\n  <thead>\n    <tr style=\"text-align: right;\">\n      <th></th>\n      <th>시군구</th>\n      <th>번지</th>\n      <th>본번</th>\n      <th>부번</th>\n      <th>단지명</th>\n      <th>전용면적(㎡)</th>\n      <th>계약년월</th>\n      <th>계약일</th>\n      <th>거래금액(만원)</th>\n      <th>층</th>\n      <th>건축년도</th>\n      <th>도로명</th>\n      <th>시</th>\n      <th>구</th>\n      <th>동</th>\n    </tr>\n  </thead>\n  <tbody>\n    <tr>\n      <th>0</th>\n      <td>서울특별시 강남구 개포동</td>\n      <td>655-2</td>\n      <td>655</td>\n      <td>2</td>\n      <td>개포2차현대아파트(220)</td>\n      <td>77.75</td>\n      <td>200606</td>\n      <td>1</td>\n      <td>60,000</td>\n      <td>4</td>\n      <td>1988</td>\n      <td>언주로 103</td>\n      <td>서울특별시</td>\n      <td>강남구</td>\n      <td>개포동</td>\n    </tr>\n    <tr>\n      <th>1</th>\n      <td>서울특별시 강남구 개포동</td>\n      <td>655-2</td>\n      <td>655</td>\n      <td>2</td>\n      <td>개포2차현대아파트(220)</td>\n      <td>77.75</td>\n      <td>200610</td>\n      <td>20</td>\n      <td>72,250</td>\n      <td>5</td>\n      <td>1988</td>\n      <td>언주로 103</td>\n      <td>서울특별시</td>\n      <td>강남구</td>\n      <td>개포동</td>\n    </tr>\n    <tr>\n      <th>2</th>\n      <td>서울특별시 강남구 개포동</td>\n      <td>655-2</td>\n      <td>655</td>\n      <td>2</td>\n      <td>개포2차현대아파트(220)</td>\n      <td>77.75</td>\n      <td>200610</td>\n      <td>30</td>\n      <td>73,500</td>\n      <td>8</td>\n      <td>1988</td>\n      <td>언주로 103</td>\n      <td>서울특별시</td>\n      <td>강남구</td>\n      <td>개포동</td>\n    </tr>\n    <tr>\n      <th>3</th>\n      <td>서울특별시 강남구 개포동</td>\n      <td>655-2</td>\n      <td>655</td>\n      <td>2</td>\n      <td>개포2차현대아파트(220)</td>\n      <td>77.75</td>\n      <td>200612</td>\n      <td>9</td>\n      <td>76,500</td>\n      <td>5</td>\n      <td>1988</td>\n      <td>언주로 103</td>\n      <td>서울특별시</td>\n      <td>강남구</td>\n      <td>개포동</td>\n    </tr>\n    <tr>\n      <th>4</th>\n      <td>서울특별시 강남구 개포동</td>\n      <td>658-1</td>\n      <td>658</td>\n      <td>1</td>\n      <td>개포6차우성아파트1동~8동</td>\n      <td>79.97</td>\n      <td>200605</td>\n      <td>9</td>\n      <td>88,000</td>\n      <td>3</td>\n      <td>1987</td>\n      <td>언주로 3</td>\n      <td>서울특별시</td>\n      <td>강남구</td>\n      <td>개포동</td>\n    </tr>\n    <tr>\n      <th>...</th>\n      <td>...</td>\n      <td>...</td>\n      <td>...</td>\n      <td>...</td>\n      <td>...</td>\n      <td>...</td>\n      <td>...</td>\n      <td>...</td>\n      <td>...</td>\n      <td>...</td>\n      <td>...</td>\n      <td>...</td>\n      <td>...</td>\n      <td>...</td>\n      <td>...</td>\n    </tr>\n    <tr>\n      <th>1082712</th>\n      <td>서울특별시 중랑구 중화동</td>\n      <td>274-75</td>\n      <td>274</td>\n      <td>75</td>\n      <td>한영(102)</td>\n      <td>58.87</td>\n      <td>202003</td>\n      <td>17</td>\n      <td>28,800</td>\n      <td>6</td>\n      <td>2003</td>\n      <td>동일로144길 74</td>\n      <td>서울특별시</td>\n      <td>중랑구</td>\n      <td>중화동</td>\n    </tr>\n    <tr>\n      <th>1082713</th>\n      <td>서울특별시 중랑구 중화동</td>\n      <td>274-77</td>\n      <td>274</td>\n      <td>77</td>\n      <td>한영(104)</td>\n      <td>70.96</td>\n      <td>202001</td>\n      <td>28</td>\n      <td>31,200</td>\n      <td>4</td>\n      <td>2003</td>\n      <td>동일로144길 74</td>\n      <td>서울특별시</td>\n      <td>중랑구</td>\n      <td>중화동</td>\n    </tr>\n    <tr>\n      <th>1082714</th>\n      <td>서울특별시 중랑구 중화동</td>\n      <td>274-77</td>\n      <td>274</td>\n      <td>77</td>\n      <td>한영(104)</td>\n      <td>66.24</td>\n      <td>202002</td>\n      <td>3</td>\n      <td>28,500</td>\n      <td>5</td>\n      <td>2003</td>\n      <td>동일로144길 74</td>\n      <td>서울특별시</td>\n      <td>중랑구</td>\n      <td>중화동</td>\n    </tr>\n    <tr>\n      <th>1082715</th>\n      <td>서울특별시 중랑구 중화동</td>\n      <td>274-77</td>\n      <td>274</td>\n      <td>77</td>\n      <td>한영(104)</td>\n      <td>106.21</td>\n      <td>202003</td>\n      <td>11</td>\n      <td>45,400</td>\n      <td>6</td>\n      <td>2003</td>\n      <td>동일로144길 74</td>\n      <td>서울특별시</td>\n      <td>중랑구</td>\n      <td>중화동</td>\n    </tr>\n    <tr>\n      <th>1082716</th>\n      <td>서울특별시 중랑구 중화동</td>\n      <td>11-7</td>\n      <td>11</td>\n      <td>7</td>\n      <td>현대휴앤미(102동)</td>\n      <td>64.48</td>\n      <td>201907</td>\n      <td>15</td>\n      <td>32,800</td>\n      <td>3</td>\n      <td>2007</td>\n      <td>봉화산로27가길 19</td>\n      <td>서울특별시</td>\n      <td>중랑구</td>\n      <td>중화동</td>\n    </tr>\n  </tbody>\n</table>\n<p>1080782 rows × 15 columns</p>\n</div>"
     },
     "metadata": {},
     "execution_count": 4
    }
   ],
   "source": [
    "real_estate['시'],real_estate['구'],real_estate['동'] = real_estate['시군구'].str.split(' ',2).str\n",
    "real_estate"
   ]
  },
  {
   "cell_type": "code",
   "execution_count": 14,
   "metadata": {
    "tags": []
   },
   "outputs": [
    {
     "output_type": "stream",
     "name": "stdout",
     "text": "강남구 데이터 프레임 저장 완료\n강동구 데이터 프레임 저장 완료\n강북구 데이터 프레임 저장 완료\n강서구 데이터 프레임 저장 완료\n관악구 데이터 프레임 저장 완료\n광진구 데이터 프레임 저장 완료\n구로구 데이터 프레임 저장 완료\n금천구 데이터 프레임 저장 완료\n노원구 데이터 프레임 저장 완료\n도봉구 데이터 프레임 저장 완료\n동대문구 데이터 프레임 저장 완료\n동작구 데이터 프레임 저장 완료\n마포구 데이터 프레임 저장 완료\n서대문구 데이터 프레임 저장 완료\n서초구 데이터 프레임 저장 완료\n성동구 데이터 프레임 저장 완료\n성북구 데이터 프레임 저장 완료\n송파구 데이터 프레임 저장 완료\n양천구 데이터 프레임 저장 완료\n영등포구 데이터 프레임 저장 완료\n용산구 데이터 프레임 저장 완료\n은평구 데이터 프레임 저장 완료\n종로구 데이터 프레임 저장 완료\n중구 데이터 프레임 저장 완료\n중랑구 데이터 프레임 저장 완료\n"
    }
   ],
   "source": [
    "# 지역 월간 거래량\n",
    "\n",
    "Trading_Volume = pd.DataFrame(sorted(real_estate['계약년월'].unique()), columns=['계약년월'])\n",
    "\n",
    "for state in real_estate['구'].unique():\n",
    "\n",
    "    state_dataframe = real_estate[real_estate.구 == state]\n",
    "    state_dataframe = state_dataframe.groupby('계약년월')['구'].count().to_frame().reset_index()\n",
    "    state_dataframe = state_dataframe.rename(columns={'구':state})\n",
    "    Trading_Volume = pd.merge(Trading_Volume, state_dataframe, how = 'left', on = ['계약년월'] )\n",
    "    print('{} 데이터 프레임 저장 완료'.format(state))\n",
    "\n"
   ]
  },
  {
   "cell_type": "code",
   "execution_count": 26,
   "metadata": {},
   "outputs": [],
   "source": [
    "TV = Trading_Volume.copy()"
   ]
  },
  {
   "cell_type": "code",
   "execution_count": 34,
   "metadata": {},
   "outputs": [
    {
     "output_type": "execute_result",
     "data": {
      "text/plain": "       계약년월  강남구  강동구  강북구  강서구  관악구    광진구  구로구    금천구   노원구  ...  성동구  성북구  \\\n0    200605  399  470  173  618  369  271.0  488  154.0   924  ...  336  326   \n1    200606  229  228  145  415  212  153.0  274   94.0   666  ...  198  223   \n2    200607  154  184  139  377  185  132.0  333  116.0   679  ...  218  309   \n3    200608  280  350  200  514  294  214.0  459  164.0  1128  ...  264  365   \n4    200609  669  809  395  911  600  358.0  824  255.0  2015  ...  506  772   \n..      ...  ...  ...  ...  ...  ...    ...  ...    ...   ...  ...  ...  ...   \n164  202001  132  333  312  422  235   63.0  443  125.0   816  ...  206  444   \n165  202002  237  394  261  461  298  115.0  575  186.0  1158  ...  284  519   \n166  202003  135  163  159  249  179   51.0  310  177.0   625  ...  150  238   \n167  202004  123  117   95  172  131   31.0  215   52.0   348  ...   67  161   \n168  202005    2    2    3    7    4    NaN   14    NaN     4  ...    3    6   \n\n       송파구  양천구  영등포구  용산구  은평구   종로구   중구  중랑구  \n0    437.0  456   392  268  145  49.0   56  226  \n1    193.0  223   264  111  128  35.0   46  177  \n2    171.0  285   241  104  122  35.0   39  166  \n3    275.0  335   293  129  174  52.0   77  274  \n4    779.0  619   519  238  307  79.0  110  402  \n..     ...  ...   ...  ...  ...   ...  ...  ...  \n164  219.0  238   305  102  311  63.0   83  237  \n165  360.0  311   344   80  356  57.0   91  364  \n166  147.0  163   146   36  203  42.0   61  208  \n167  102.0  100   106   29  154  24.0   32  128  \n168    NaN    4     3    1    3   NaN    2    8  \n\n[169 rows x 26 columns]",
      "text/html": "<div>\n<style scoped>\n    .dataframe tbody tr th:only-of-type {\n        vertical-align: middle;\n    }\n\n    .dataframe tbody tr th {\n        vertical-align: top;\n    }\n\n    .dataframe thead th {\n        text-align: right;\n    }\n</style>\n<table border=\"1\" class=\"dataframe\">\n  <thead>\n    <tr style=\"text-align: right;\">\n      <th></th>\n      <th>계약년월</th>\n      <th>강남구</th>\n      <th>강동구</th>\n      <th>강북구</th>\n      <th>강서구</th>\n      <th>관악구</th>\n      <th>광진구</th>\n      <th>구로구</th>\n      <th>금천구</th>\n      <th>노원구</th>\n      <th>...</th>\n      <th>성동구</th>\n      <th>성북구</th>\n      <th>송파구</th>\n      <th>양천구</th>\n      <th>영등포구</th>\n      <th>용산구</th>\n      <th>은평구</th>\n      <th>종로구</th>\n      <th>중구</th>\n      <th>중랑구</th>\n    </tr>\n  </thead>\n  <tbody>\n    <tr>\n      <th>0</th>\n      <td>200605</td>\n      <td>399</td>\n      <td>470</td>\n      <td>173</td>\n      <td>618</td>\n      <td>369</td>\n      <td>271.0</td>\n      <td>488</td>\n      <td>154.0</td>\n      <td>924</td>\n      <td>...</td>\n      <td>336</td>\n      <td>326</td>\n      <td>437.0</td>\n      <td>456</td>\n      <td>392</td>\n      <td>268</td>\n      <td>145</td>\n      <td>49.0</td>\n      <td>56</td>\n      <td>226</td>\n    </tr>\n    <tr>\n      <th>1</th>\n      <td>200606</td>\n      <td>229</td>\n      <td>228</td>\n      <td>145</td>\n      <td>415</td>\n      <td>212</td>\n      <td>153.0</td>\n      <td>274</td>\n      <td>94.0</td>\n      <td>666</td>\n      <td>...</td>\n      <td>198</td>\n      <td>223</td>\n      <td>193.0</td>\n      <td>223</td>\n      <td>264</td>\n      <td>111</td>\n      <td>128</td>\n      <td>35.0</td>\n      <td>46</td>\n      <td>177</td>\n    </tr>\n    <tr>\n      <th>2</th>\n      <td>200607</td>\n      <td>154</td>\n      <td>184</td>\n      <td>139</td>\n      <td>377</td>\n      <td>185</td>\n      <td>132.0</td>\n      <td>333</td>\n      <td>116.0</td>\n      <td>679</td>\n      <td>...</td>\n      <td>218</td>\n      <td>309</td>\n      <td>171.0</td>\n      <td>285</td>\n      <td>241</td>\n      <td>104</td>\n      <td>122</td>\n      <td>35.0</td>\n      <td>39</td>\n      <td>166</td>\n    </tr>\n    <tr>\n      <th>3</th>\n      <td>200608</td>\n      <td>280</td>\n      <td>350</td>\n      <td>200</td>\n      <td>514</td>\n      <td>294</td>\n      <td>214.0</td>\n      <td>459</td>\n      <td>164.0</td>\n      <td>1128</td>\n      <td>...</td>\n      <td>264</td>\n      <td>365</td>\n      <td>275.0</td>\n      <td>335</td>\n      <td>293</td>\n      <td>129</td>\n      <td>174</td>\n      <td>52.0</td>\n      <td>77</td>\n      <td>274</td>\n    </tr>\n    <tr>\n      <th>4</th>\n      <td>200609</td>\n      <td>669</td>\n      <td>809</td>\n      <td>395</td>\n      <td>911</td>\n      <td>600</td>\n      <td>358.0</td>\n      <td>824</td>\n      <td>255.0</td>\n      <td>2015</td>\n      <td>...</td>\n      <td>506</td>\n      <td>772</td>\n      <td>779.0</td>\n      <td>619</td>\n      <td>519</td>\n      <td>238</td>\n      <td>307</td>\n      <td>79.0</td>\n      <td>110</td>\n      <td>402</td>\n    </tr>\n    <tr>\n      <th>...</th>\n      <td>...</td>\n      <td>...</td>\n      <td>...</td>\n      <td>...</td>\n      <td>...</td>\n      <td>...</td>\n      <td>...</td>\n      <td>...</td>\n      <td>...</td>\n      <td>...</td>\n      <td>...</td>\n      <td>...</td>\n      <td>...</td>\n      <td>...</td>\n      <td>...</td>\n      <td>...</td>\n      <td>...</td>\n      <td>...</td>\n      <td>...</td>\n      <td>...</td>\n      <td>...</td>\n    </tr>\n    <tr>\n      <th>164</th>\n      <td>202001</td>\n      <td>132</td>\n      <td>333</td>\n      <td>312</td>\n      <td>422</td>\n      <td>235</td>\n      <td>63.0</td>\n      <td>443</td>\n      <td>125.0</td>\n      <td>816</td>\n      <td>...</td>\n      <td>206</td>\n      <td>444</td>\n      <td>219.0</td>\n      <td>238</td>\n      <td>305</td>\n      <td>102</td>\n      <td>311</td>\n      <td>63.0</td>\n      <td>83</td>\n      <td>237</td>\n    </tr>\n    <tr>\n      <th>165</th>\n      <td>202002</td>\n      <td>237</td>\n      <td>394</td>\n      <td>261</td>\n      <td>461</td>\n      <td>298</td>\n      <td>115.0</td>\n      <td>575</td>\n      <td>186.0</td>\n      <td>1158</td>\n      <td>...</td>\n      <td>284</td>\n      <td>519</td>\n      <td>360.0</td>\n      <td>311</td>\n      <td>344</td>\n      <td>80</td>\n      <td>356</td>\n      <td>57.0</td>\n      <td>91</td>\n      <td>364</td>\n    </tr>\n    <tr>\n      <th>166</th>\n      <td>202003</td>\n      <td>135</td>\n      <td>163</td>\n      <td>159</td>\n      <td>249</td>\n      <td>179</td>\n      <td>51.0</td>\n      <td>310</td>\n      <td>177.0</td>\n      <td>625</td>\n      <td>...</td>\n      <td>150</td>\n      <td>238</td>\n      <td>147.0</td>\n      <td>163</td>\n      <td>146</td>\n      <td>36</td>\n      <td>203</td>\n      <td>42.0</td>\n      <td>61</td>\n      <td>208</td>\n    </tr>\n    <tr>\n      <th>167</th>\n      <td>202004</td>\n      <td>123</td>\n      <td>117</td>\n      <td>95</td>\n      <td>172</td>\n      <td>131</td>\n      <td>31.0</td>\n      <td>215</td>\n      <td>52.0</td>\n      <td>348</td>\n      <td>...</td>\n      <td>67</td>\n      <td>161</td>\n      <td>102.0</td>\n      <td>100</td>\n      <td>106</td>\n      <td>29</td>\n      <td>154</td>\n      <td>24.0</td>\n      <td>32</td>\n      <td>128</td>\n    </tr>\n    <tr>\n      <th>168</th>\n      <td>202005</td>\n      <td>2</td>\n      <td>2</td>\n      <td>3</td>\n      <td>7</td>\n      <td>4</td>\n      <td>NaN</td>\n      <td>14</td>\n      <td>NaN</td>\n      <td>4</td>\n      <td>...</td>\n      <td>3</td>\n      <td>6</td>\n      <td>NaN</td>\n      <td>4</td>\n      <td>3</td>\n      <td>1</td>\n      <td>3</td>\n      <td>NaN</td>\n      <td>2</td>\n      <td>8</td>\n    </tr>\n  </tbody>\n</table>\n<p>169 rows × 26 columns</p>\n</div>"
     },
     "metadata": {},
     "execution_count": 34
    }
   ],
   "source": [
    "Trading_Volume"
   ]
  },
  {
   "cell_type": "code",
   "execution_count": 19,
   "metadata": {
    "tags": []
   },
   "outputs": [
    {
     "output_type": "stream",
     "name": "stdout",
     "text": "<class 'pandas.core.frame.DataFrame'>\nInt64Index: 169 entries, 0 to 168\nData columns (total 26 columns):\n계약년월    169 non-null int64\n강남구     169 non-null int64\n강동구     169 non-null int64\n강북구     169 non-null int64\n강서구     169 non-null int64\n관악구     169 non-null int64\n광진구     168 non-null float64\n구로구     169 non-null int64\n금천구     168 non-null float64\n노원구     169 non-null int64\n도봉구     169 non-null int64\n동대문구    169 non-null int64\n동작구     169 non-null int64\n마포구     169 non-null int64\n서대문구    169 non-null int64\n서초구     169 non-null int64\n성동구     169 non-null int64\n성북구     169 non-null int64\n송파구     168 non-null float64\n양천구     169 non-null int64\n영등포구    169 non-null int64\n용산구     169 non-null int64\n은평구     169 non-null int64\n종로구     168 non-null float64\n중구      169 non-null int64\n중랑구     169 non-null int64\ndtypes: float64(4), int64(22)\nmemory usage: 35.6 KB\n"
    }
   ],
   "source": [
    "Trading_Volume.info(null_counts= True)"
   ]
  },
  {
   "cell_type": "code",
   "execution_count": 35,
   "metadata": {},
   "outputs": [
    {
     "output_type": "execute_result",
     "data": {
      "text/plain": "       계약년월  강남구  강동구  강북구  강서구  관악구    광진구  구로구    금천구   노원구  ...  성동구  성북구  \\\n0    200605  399  470  173  618  369  271.0  488  154.0   924  ...  336  326   \n1    200606  229  228  145  415  212  153.0  274   94.0   666  ...  198  223   \n2    200607  154  184  139  377  185  132.0  333  116.0   679  ...  218  309   \n3    200608  280  350  200  514  294  214.0  459  164.0  1128  ...  264  365   \n4    200609  669  809  395  911  600  358.0  824  255.0  2015  ...  506  772   \n..      ...  ...  ...  ...  ...  ...    ...  ...    ...   ...  ...  ...  ...   \n163  201912  377  488  246  663  283  132.0  508  133.0  1039  ...  426  633   \n164  202001  132  333  312  422  235   63.0  443  125.0   816  ...  206  444   \n165  202002  237  394  261  461  298  115.0  575  186.0  1158  ...  284  519   \n166  202003  135  163  159  249  179   51.0  310  177.0   625  ...  150  238   \n167  202004  123  117   95  172  131   31.0  215   52.0   348  ...   67  161   \n\n       송파구  양천구  영등포구  용산구  은평구   종로구   중구  중랑구  \n0    437.0  456   392  268  145  49.0   56  226  \n1    193.0  223   264  111  128  35.0   46  177  \n2    171.0  285   241  104  122  35.0   39  166  \n3    275.0  335   293  129  174  52.0   77  274  \n4    779.0  619   519  238  307  79.0  110  402  \n..     ...  ...   ...  ...  ...   ...  ...  ...  \n163  469.0  367   432  166  339  82.0  171  429  \n164  219.0  238   305  102  311  63.0   83  237  \n165  360.0  311   344   80  356  57.0   91  364  \n166  147.0  163   146   36  203  42.0   61  208  \n167  102.0  100   106   29  154  24.0   32  128  \n\n[168 rows x 26 columns]",
      "text/html": "<div>\n<style scoped>\n    .dataframe tbody tr th:only-of-type {\n        vertical-align: middle;\n    }\n\n    .dataframe tbody tr th {\n        vertical-align: top;\n    }\n\n    .dataframe thead th {\n        text-align: right;\n    }\n</style>\n<table border=\"1\" class=\"dataframe\">\n  <thead>\n    <tr style=\"text-align: right;\">\n      <th></th>\n      <th>계약년월</th>\n      <th>강남구</th>\n      <th>강동구</th>\n      <th>강북구</th>\n      <th>강서구</th>\n      <th>관악구</th>\n      <th>광진구</th>\n      <th>구로구</th>\n      <th>금천구</th>\n      <th>노원구</th>\n      <th>...</th>\n      <th>성동구</th>\n      <th>성북구</th>\n      <th>송파구</th>\n      <th>양천구</th>\n      <th>영등포구</th>\n      <th>용산구</th>\n      <th>은평구</th>\n      <th>종로구</th>\n      <th>중구</th>\n      <th>중랑구</th>\n    </tr>\n  </thead>\n  <tbody>\n    <tr>\n      <th>0</th>\n      <td>200605</td>\n      <td>399</td>\n      <td>470</td>\n      <td>173</td>\n      <td>618</td>\n      <td>369</td>\n      <td>271.0</td>\n      <td>488</td>\n      <td>154.0</td>\n      <td>924</td>\n      <td>...</td>\n      <td>336</td>\n      <td>326</td>\n      <td>437.0</td>\n      <td>456</td>\n      <td>392</td>\n      <td>268</td>\n      <td>145</td>\n      <td>49.0</td>\n      <td>56</td>\n      <td>226</td>\n    </tr>\n    <tr>\n      <th>1</th>\n      <td>200606</td>\n      <td>229</td>\n      <td>228</td>\n      <td>145</td>\n      <td>415</td>\n      <td>212</td>\n      <td>153.0</td>\n      <td>274</td>\n      <td>94.0</td>\n      <td>666</td>\n      <td>...</td>\n      <td>198</td>\n      <td>223</td>\n      <td>193.0</td>\n      <td>223</td>\n      <td>264</td>\n      <td>111</td>\n      <td>128</td>\n      <td>35.0</td>\n      <td>46</td>\n      <td>177</td>\n    </tr>\n    <tr>\n      <th>2</th>\n      <td>200607</td>\n      <td>154</td>\n      <td>184</td>\n      <td>139</td>\n      <td>377</td>\n      <td>185</td>\n      <td>132.0</td>\n      <td>333</td>\n      <td>116.0</td>\n      <td>679</td>\n      <td>...</td>\n      <td>218</td>\n      <td>309</td>\n      <td>171.0</td>\n      <td>285</td>\n      <td>241</td>\n      <td>104</td>\n      <td>122</td>\n      <td>35.0</td>\n      <td>39</td>\n      <td>166</td>\n    </tr>\n    <tr>\n      <th>3</th>\n      <td>200608</td>\n      <td>280</td>\n      <td>350</td>\n      <td>200</td>\n      <td>514</td>\n      <td>294</td>\n      <td>214.0</td>\n      <td>459</td>\n      <td>164.0</td>\n      <td>1128</td>\n      <td>...</td>\n      <td>264</td>\n      <td>365</td>\n      <td>275.0</td>\n      <td>335</td>\n      <td>293</td>\n      <td>129</td>\n      <td>174</td>\n      <td>52.0</td>\n      <td>77</td>\n      <td>274</td>\n    </tr>\n    <tr>\n      <th>4</th>\n      <td>200609</td>\n      <td>669</td>\n      <td>809</td>\n      <td>395</td>\n      <td>911</td>\n      <td>600</td>\n      <td>358.0</td>\n      <td>824</td>\n      <td>255.0</td>\n      <td>2015</td>\n      <td>...</td>\n      <td>506</td>\n      <td>772</td>\n      <td>779.0</td>\n      <td>619</td>\n      <td>519</td>\n      <td>238</td>\n      <td>307</td>\n      <td>79.0</td>\n      <td>110</td>\n      <td>402</td>\n    </tr>\n    <tr>\n      <th>...</th>\n      <td>...</td>\n      <td>...</td>\n      <td>...</td>\n      <td>...</td>\n      <td>...</td>\n      <td>...</td>\n      <td>...</td>\n      <td>...</td>\n      <td>...</td>\n      <td>...</td>\n      <td>...</td>\n      <td>...</td>\n      <td>...</td>\n      <td>...</td>\n      <td>...</td>\n      <td>...</td>\n      <td>...</td>\n      <td>...</td>\n      <td>...</td>\n      <td>...</td>\n      <td>...</td>\n    </tr>\n    <tr>\n      <th>163</th>\n      <td>201912</td>\n      <td>377</td>\n      <td>488</td>\n      <td>246</td>\n      <td>663</td>\n      <td>283</td>\n      <td>132.0</td>\n      <td>508</td>\n      <td>133.0</td>\n      <td>1039</td>\n      <td>...</td>\n      <td>426</td>\n      <td>633</td>\n      <td>469.0</td>\n      <td>367</td>\n      <td>432</td>\n      <td>166</td>\n      <td>339</td>\n      <td>82.0</td>\n      <td>171</td>\n      <td>429</td>\n    </tr>\n    <tr>\n      <th>164</th>\n      <td>202001</td>\n      <td>132</td>\n      <td>333</td>\n      <td>312</td>\n      <td>422</td>\n      <td>235</td>\n      <td>63.0</td>\n      <td>443</td>\n      <td>125.0</td>\n      <td>816</td>\n      <td>...</td>\n      <td>206</td>\n      <td>444</td>\n      <td>219.0</td>\n      <td>238</td>\n      <td>305</td>\n      <td>102</td>\n      <td>311</td>\n      <td>63.0</td>\n      <td>83</td>\n      <td>237</td>\n    </tr>\n    <tr>\n      <th>165</th>\n      <td>202002</td>\n      <td>237</td>\n      <td>394</td>\n      <td>261</td>\n      <td>461</td>\n      <td>298</td>\n      <td>115.0</td>\n      <td>575</td>\n      <td>186.0</td>\n      <td>1158</td>\n      <td>...</td>\n      <td>284</td>\n      <td>519</td>\n      <td>360.0</td>\n      <td>311</td>\n      <td>344</td>\n      <td>80</td>\n      <td>356</td>\n      <td>57.0</td>\n      <td>91</td>\n      <td>364</td>\n    </tr>\n    <tr>\n      <th>166</th>\n      <td>202003</td>\n      <td>135</td>\n      <td>163</td>\n      <td>159</td>\n      <td>249</td>\n      <td>179</td>\n      <td>51.0</td>\n      <td>310</td>\n      <td>177.0</td>\n      <td>625</td>\n      <td>...</td>\n      <td>150</td>\n      <td>238</td>\n      <td>147.0</td>\n      <td>163</td>\n      <td>146</td>\n      <td>36</td>\n      <td>203</td>\n      <td>42.0</td>\n      <td>61</td>\n      <td>208</td>\n    </tr>\n    <tr>\n      <th>167</th>\n      <td>202004</td>\n      <td>123</td>\n      <td>117</td>\n      <td>95</td>\n      <td>172</td>\n      <td>131</td>\n      <td>31.0</td>\n      <td>215</td>\n      <td>52.0</td>\n      <td>348</td>\n      <td>...</td>\n      <td>67</td>\n      <td>161</td>\n      <td>102.0</td>\n      <td>100</td>\n      <td>106</td>\n      <td>29</td>\n      <td>154</td>\n      <td>24.0</td>\n      <td>32</td>\n      <td>128</td>\n    </tr>\n  </tbody>\n</table>\n<p>168 rows × 26 columns</p>\n</div>"
     },
     "metadata": {},
     "execution_count": 35
    }
   ],
   "source": [
    "# 202005 데이터 누락\n",
    "TV = TV.dropna(axis=0)\n",
    "TV"
   ]
  },
  {
   "cell_type": "code",
   "execution_count": 48,
   "metadata": {
    "tags": []
   },
   "outputs": [
    {
     "output_type": "stream",
     "name": "stdout",
     "text": "Variable          Type         Data/Info\n----------------------------------------\nTV                DataFrame           계약년월  강남구  강동구  강북<...>\\n[168 rows x 26 columns]\nTrading_Volume    DataFrame           계약년월  강남구  강동구  강북<...>\\n[169 rows x 26 columns]\nate_dataframe     DataFrame                       시군구   <...>n[8320 rows x 15 columns]\nfilename          str          APT[SEOUL]매매/2020.csv\ni                 int          2020\nmod               module       <module '__main__'>\nnp                module       <module 'numpy' from 'C:\\<...>ges\\\\numpy\\\\__init__.py'>\nos                module       <module 'os' from 'C:\\\\Us<...>\\\\anaconda3\\\\lib\\\\os.py'>\npd                module       <module 'pandas' from 'C:<...>es\\\\pandas\\\\__init__.py'>\nreal_estate       DataFrame                       시군구   <...>080782 rows x 15 columns]\nsales_2007        DataFrame                      시군구    <...>103447 rows x 12 columns]\nsales_2008        DataFrame                     시군구     <...>[73613 rows x 12 columns]\nsales_2009        DataFrame                     시군구     <...>[47070 rows x 12 columns]\nsales_2010        DataFrame                     시군구     <...>[66469 rows x 12 columns]\nsales_2011        DataFrame                     시군구     <...>[51811 rows x 12 columns]\nsales_2012        DataFrame                     시군구     <...>[46346 rows x 12 columns]\nsales_2013        DataFrame                     시군구     <...>[48207 rows x 12 columns]\nsales_2014        DataFrame                     시군구     <...>[76373 rows x 12 columns]\nsales_2015        DataFrame                      시군구    <...>103038 rows x 12 columns]\nsales_2016        DataFrame                      시군구    <...>102615 rows x 12 columns]\nsales_2017        DataFrame                      시군구    <...>108292 rows x 12 columns]\nsales_2018        DataFrame                      시군구    <...>112986 rows x 12 columns]\nsales_2019        DataFrame                     시군구     <...>[54214 rows x 12 columns]\nsales_2020        DataFrame                     시군구     <...>[88236 rows x 12 columns]\nstate             str          중랑구\nstate_dataframe   DataFrame           계약년월  종로구\\n0    20<...>n\\n[168 rows x 2 columns]\nsys               module       <module 'sys' (built-in)>\ntime              DataFrame           계약년월\\n0    200605\\<...>n\\n[169 rows x 1 columns]\n"
    }
   ],
   "source": [
    "%whos"
   ]
  },
  {
   "cell_type": "code",
   "execution_count": 49,
   "metadata": {},
   "outputs": [],
   "source": []
  },
  {
   "cell_type": "code",
   "execution_count": null,
   "metadata": {},
   "outputs": [],
   "source": []
  }
 ],
 "metadata": {
  "kernelspec": {
   "display_name": "Python 3",
   "language": "python",
   "name": "python3"
  },
  "language_info": {
   "codemirror_mode": {
    "name": "ipython",
    "version": 3
   },
   "file_extension": ".py",
   "mimetype": "text/x-python",
   "name": "python",
   "nbconvert_exporter": "python",
   "pygments_lexer": "ipython3",
   "version": "3.7.6"
  },
  "toc": {
   "base_numbering": 1,
   "nav_menu": {},
   "number_sections": true,
   "sideBar": true,
   "skip_h1_title": false,
   "title_cell": "Table of Contents",
   "title_sidebar": "Contents",
   "toc_cell": false,
   "toc_position": {},
   "toc_section_display": true,
   "toc_window_display": false
  }
 },
 "nbformat": 4,
 "nbformat_minor": 4
}